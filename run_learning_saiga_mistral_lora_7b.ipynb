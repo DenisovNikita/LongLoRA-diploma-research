{
 "cells": [
  {
   "cell_type": "code",
   "execution_count": 1,
   "id": "4a0c201d-69d9-4b24-96b9-94258692de1c",
   "metadata": {
    "execution": {
     "iopub.execute_input": "2024-05-07T19:56:35.986568Z",
     "iopub.status.busy": "2024-05-07T19:56:35.985737Z",
     "iopub.status.idle": "2024-05-07T19:56:36.042613Z",
     "shell.execute_reply": "2024-05-07T19:56:36.041782Z",
     "shell.execute_reply.started": "2024-05-07T19:56:35.986515Z"
    }
   },
   "outputs": [
    {
     "name": "stdout",
     "output_type": "stream",
     "text": [
      "README.md\n",
      "adapter_config.json\n",
      "adapter_model.bin\n",
      "added_tokens.json\n",
      "runs\n",
      "special_tokens_map.json\n",
      "tokenizer.json\n",
      "tokenizer.model\n",
      "tokenizer_config.json\n",
      "trainer_state.json\n",
      "training_args.bin\n"
     ]
    }
   ],
   "source": [
    "! ls checkpoints"
   ]
  },
  {
   "cell_type": "code",
   "execution_count": null,
   "id": "3378eafa-9597-4d69-a533-60524935cdb7",
   "metadata": {},
   "outputs": [],
   "source": []
  }
 ],
 "metadata": {
  "kernelspec": {
   "display_name": "DataSphere Kernel",
   "language": "python",
   "name": "python3"
  },
  "language_info": {
   "codemirror_mode": {
    "name": "ipython",
    "version": 3
   },
   "file_extension": ".py",
   "mimetype": "text/x-python",
   "name": "python",
   "nbconvert_exporter": "python",
   "pygments_lexer": "ipython3",
   "version": "3.10.12"
  }
 },
 "nbformat": 4,
 "nbformat_minor": 5
}
