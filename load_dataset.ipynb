{
 "cells": [
  {
   "cell_type": "code",
   "execution_count": 1,
   "id": "96202bab-36ef-4601-81e9-c93f36151c54",
   "metadata": {
    "execution": {
     "iopub.execute_input": "2024-05-06T23:01:59.983324Z",
     "iopub.status.busy": "2024-05-06T23:01:59.982374Z",
     "iopub.status.idle": "2024-05-06T23:07:32.379635Z",
     "shell.execute_reply": "2024-05-06T23:07:32.378883Z",
     "shell.execute_reply.started": "2024-05-06T23:01:59.983267Z"
    }
   },
   "outputs": [],
   "source": [
    "#pragma dataset init diplomas --size 3Gb\n",
    "\n",
    "import requests\n",
    "from urllib.parse import urlencode\n",
    "from io import BytesIO\n",
    "from zipfile import ZipFile\n",
    "\n",
    "base_url = 'https://cloud-api.yandex.net/v1/disk/public/resources/download?'\n",
    "public_key = 'https://disk.yandex.ru/d/bpi2jRR5Mq6e-Q'\n",
    "\n",
    "final_url = base_url + urlencode(dict(public_key=public_key))\n",
    "response = requests.get(final_url)\n",
    "download_url = response.json()['href']\n",
    "response = requests.get(download_url)\n",
    "\n",
    "dist_path = '/home/jupyter/mnt/datasets/diplomas/'\n",
    "zipfile = ZipFile(BytesIO(response.content))\n",
    "zipfile.extractall(path=dist_path)"
   ]
  },
  {
   "cell_type": "code",
   "execution_count": 2,
   "id": "74e76be3-6975-456a-9dc3-ace21b3fc2a8",
   "metadata": {
    "execution": {
     "iopub.execute_input": "2024-05-06T23:07:32.381469Z",
     "iopub.status.busy": "2024-05-06T23:07:32.380826Z",
     "iopub.status.idle": "2024-05-06T23:07:32.398751Z",
     "shell.execute_reply": "2024-05-06T23:07:32.397699Z",
     "shell.execute_reply.started": "2024-05-06T23:07:32.381434Z"
    }
   },
   "outputs": [
    {
     "name": "stdout",
     "output_type": "stream",
     "text": [
      "kek\n"
     ]
    }
   ],
   "source": [
    "print(\"kek\")"
   ]
  },
  {
   "cell_type": "code",
   "execution_count": null,
   "id": "5a51a902-c510-4b2e-a7de-7438ebfd8e5d",
   "metadata": {},
   "outputs": [],
   "source": []
  }
 ],
 "metadata": {
  "kernelspec": {
   "display_name": "DataSphere Kernel",
   "language": "python",
   "name": "python3"
  },
  "language_info": {
   "codemirror_mode": {
    "name": "ipython",
    "version": 3
   },
   "file_extension": ".py",
   "mimetype": "text/x-python",
   "name": "python",
   "nbconvert_exporter": "python",
   "pygments_lexer": "ipython3",
   "version": "3.10.12"
  }
 },
 "nbformat": 4,
 "nbformat_minor": 5
}
