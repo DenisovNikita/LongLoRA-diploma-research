{
 "cells": [
  {
   "cell_type": "markdown",
   "id": "293e7660-b4d4-4627-bd7d-d4090fee65da",
   "metadata": {
    "jp-MarkdownHeadingCollapsed": true,
    "tags": []
   },
   "source": [
    "### Imports & Definitions"
   ]
  },
  {
   "cell_type": "code",
   "execution_count": 2,
   "id": "f0590c2f-3884-4f86-9e30-4dae287ff379",
   "metadata": {
    "execution": {
     "iopub.execute_input": "2024-05-14T00:19:22.823242Z",
     "iopub.status.busy": "2024-05-14T00:19:22.822886Z",
     "iopub.status.idle": "2024-05-14T00:19:22.838877Z",
     "shell.execute_reply": "2024-05-14T00:19:22.838272Z",
     "shell.execute_reply.started": "2024-05-14T00:19:22.823222Z"
    },
    "tags": []
   },
   "outputs": [],
   "source": [
    "import warnings\n",
    "\n",
    "warnings.filterwarnings(\n",
    "    \"ignore\",\n",
    "    message=\"torch.utils._pytree._register_pytree_node is deprecated. Please use torch.utils._pytree.register_pytree_node instead.\",\n",
    ")"
   ]
  },
  {
   "cell_type": "code",
   "execution_count": 3,
   "id": "f2d7c633-fb78-4fdd-99eb-f19a8287c25e",
   "metadata": {
    "execution": {
     "iopub.execute_input": "2024-05-14T00:19:23.288092Z",
     "iopub.status.busy": "2024-05-14T00:19:23.287769Z",
     "iopub.status.idle": "2024-05-14T00:19:23.305015Z",
     "shell.execute_reply": "2024-05-14T00:19:23.304472Z",
     "shell.execute_reply.started": "2024-05-14T00:19:23.288073Z"
    },
    "tags": []
   },
   "outputs": [],
   "source": [
    "from pathlib import Path\n",
    "CACHE_DIR = Path(\"../cache\")\n",
    "DATASET_DIR = Path(\"/home/jupyter/mnt/datasets/diplomas/russian_dataset/\")"
   ]
  },
  {
   "cell_type": "code",
   "execution_count": 4,
   "id": "9c64f5a5-5388-47a0-b598-9b2ec5d022a8",
   "metadata": {
    "execution": {
     "iopub.execute_input": "2024-05-14T00:19:24.384545Z",
     "iopub.status.busy": "2024-05-14T00:19:24.384173Z",
     "iopub.status.idle": "2024-05-14T00:19:43.392Z",
     "shell.execute_reply": "2024-05-14T00:19:43.391459Z",
     "shell.execute_reply.started": "2024-05-14T00:19:24.384526Z"
    },
    "tags": []
   },
   "outputs": [
    {
     "data": {
      "text/html": [
       "<div>\n",
       "<style scoped>\n",
       "    .dataframe tbody tr th:only-of-type {\n",
       "        vertical-align: middle;\n",
       "    }\n",
       "\n",
       "    .dataframe tbody tr th {\n",
       "        vertical-align: top;\n",
       "    }\n",
       "\n",
       "    .dataframe thead th {\n",
       "        text-align: right;\n",
       "    }\n",
       "</style>\n",
       "<table border=\"1\" class=\"dataframe\">\n",
       "  <thead>\n",
       "    <tr style=\"text-align: right;\">\n",
       "      <th></th>\n",
       "      <th>id</th>\n",
       "      <th>year</th>\n",
       "      <th>diploma</th>\n",
       "      <th>abstract</th>\n",
       "      <th>study_field</th>\n",
       "      <th>degree</th>\n",
       "      <th>original_diploma_extension</th>\n",
       "    </tr>\n",
       "  </thead>\n",
       "  <tbody>\n",
       "    <tr>\n",
       "      <th>0</th>\n",
       "      <td>41453</td>\n",
       "      <td>2023</td>\n",
       "      <td>Санкт-Петербургский государственный университе...</td>\n",
       "      <td>Абдуллаев Ш.У. тема диссертации: «Роль политик...</td>\n",
       "      <td>INTERNATIONAL RELATIONS</td>\n",
       "      <td>MASTER'S STUDIES</td>\n",
       "      <td>.doc</td>\n",
       "    </tr>\n",
       "    <tr>\n",
       "      <th>1</th>\n",
       "      <td>43790</td>\n",
       "      <td>2023</td>\n",
       "      <td>Санкт-Петербургский государственный университе...</td>\n",
       "      <td>Выпускная квалификационная работа посвящена из...</td>\n",
       "      <td>POLITICAL SCIENCE</td>\n",
       "      <td>BACHELOR STUDIES</td>\n",
       "      <td>.docx</td>\n",
       "    </tr>\n",
       "    <tr>\n",
       "      <th>2</th>\n",
       "      <td>41165</td>\n",
       "      <td>2023</td>\n",
       "      <td>Санкт-Петербургский государственный университе...</td>\n",
       "      <td>В данной работе описывается реализация обобщен...</td>\n",
       "      <td>MATHEMATICS AND MECHANICS</td>\n",
       "      <td>BACHELOR STUDIES</td>\n",
       "      <td>.pdf</td>\n",
       "    </tr>\n",
       "    <tr>\n",
       "      <th>3</th>\n",
       "      <td>42349</td>\n",
       "      <td>2023</td>\n",
       "      <td>ПРАВИТЕЛЬСТВО РОССИЙСКОЙ ФЕДЕРАЦИИ \\nСАНКТ-ПЕТ...</td>\n",
       "      <td>В выпускной квалификационной работе раскрывает...</td>\n",
       "      <td>SOCIOLOGY</td>\n",
       "      <td>BACHELOR STUDIES</td>\n",
       "      <td>.docx</td>\n",
       "    </tr>\n",
       "    <tr>\n",
       "      <th>4</th>\n",
       "      <td>40166</td>\n",
       "      <td>2023</td>\n",
       "      <td>Федеральное государственное бюджетное образова...</td>\n",
       "      <td>На сегодняшний день наблюдается высокий спрос ...</td>\n",
       "      <td>MANAGEMENT</td>\n",
       "      <td>BACHELOR STUDIES</td>\n",
       "      <td>.docx</td>\n",
       "    </tr>\n",
       "  </tbody>\n",
       "</table>\n",
       "</div>"
      ],
      "text/plain": [
       "      id  year  ...            degree original_diploma_extension\n",
       "0  41453  2023  ...  MASTER'S STUDIES                       .doc\n",
       "1  43790  2023  ...  BACHELOR STUDIES                      .docx\n",
       "2  41165  2023  ...  BACHELOR STUDIES                       .pdf\n",
       "3  42349  2023  ...  BACHELOR STUDIES                      .docx\n",
       "4  40166  2023  ...  BACHELOR STUDIES                      .docx\n",
       "\n",
       "[5 rows x 7 columns]"
      ]
     },
     "execution_count": 4,
     "metadata": {},
     "output_type": "execute_result"
    }
   ],
   "source": [
    "import pandas as pd\n",
    "\n",
    "test_df = pd.read_csv(DATASET_DIR.joinpath(\"russian_dataset_test.csv\"))\n",
    "test_df.head()"
   ]
  },
  {
   "cell_type": "code",
   "execution_count": 5,
   "id": "81340b8a-6e20-459d-bb22-11ad6e9f0d82",
   "metadata": {
    "execution": {
     "iopub.execute_input": "2024-05-14T00:19:43.393039Z",
     "iopub.status.busy": "2024-05-14T00:19:43.392805Z",
     "iopub.status.idle": "2024-05-14T00:19:53.302399Z",
     "shell.execute_reply": "2024-05-14T00:19:53.301686Z",
     "shell.execute_reply.started": "2024-05-14T00:19:43.393022Z"
    },
    "tags": []
   },
   "outputs": [],
   "source": [
    "import transformers\n",
    "import torch"
   ]
  },
  {
   "cell_type": "code",
   "execution_count": 6,
   "id": "d25412fa-b1a4-4d47-bb67-aacd764e906c",
   "metadata": {
    "execution": {
     "iopub.execute_input": "2024-05-14T00:19:53.304209Z",
     "iopub.status.busy": "2024-05-14T00:19:53.303803Z",
     "iopub.status.idle": "2024-05-14T00:19:53.317247Z",
     "shell.execute_reply": "2024-05-14T00:19:53.316605Z",
     "shell.execute_reply.started": "2024-05-14T00:19:53.304189Z"
    },
    "tags": []
   },
   "outputs": [],
   "source": [
    "repo_chat = \"meta-llama/Llama-2-7b-chat-hf\"\n",
    "repo_pretrain = \"meta-llama/Llama-2-7b-hf\""
   ]
  },
  {
   "cell_type": "code",
   "execution_count": 7,
   "id": "4e4badac-4639-4ef0-9576-7635cef15480",
   "metadata": {
    "execution": {
     "iopub.execute_input": "2024-05-14T00:19:53.318666Z",
     "iopub.status.busy": "2024-05-14T00:19:53.318261Z",
     "iopub.status.idle": "2024-05-14T00:19:53.650689Z",
     "shell.execute_reply": "2024-05-14T00:19:53.649823Z",
     "shell.execute_reply.started": "2024-05-14T00:19:53.318641Z"
    },
    "tags": []
   },
   "outputs": [
    {
     "name": "stdout",
     "output_type": "stream",
     "text": [
      "Token will not been saved to git credential helper. Pass `add_to_git_credential=True` if you want to set the git credential as well.\n",
      "Token is valid (permission: read).\n",
      "Your token has been saved to /tmp/xdg_cache/huggingface/token\n",
      "Login successful\n"
     ]
    }
   ],
   "source": [
    "import os\n",
    "from huggingface_hub import login\n",
    "login(os.environ[\"hf-read-token\"])"
   ]
  },
  {
   "cell_type": "code",
   "execution_count": 8,
   "id": "4613237f-29d7-478a-925a-9721eee37ea0",
   "metadata": {
    "execution": {
     "iopub.execute_input": "2024-05-14T00:19:53.652311Z",
     "iopub.status.busy": "2024-05-14T00:19:53.651670Z",
     "iopub.status.idle": "2024-05-14T00:19:53.664098Z",
     "shell.execute_reply": "2024-05-14T00:19:53.663407Z",
     "shell.execute_reply.started": "2024-05-14T00:19:53.652278Z"
    },
    "tags": []
   },
   "outputs": [],
   "source": [
    "PROMPT_DICT = {\n",
    "    \"prompt_instruction_llama2\":(\n",
    "        \"[INST] <<SYS>>\\n\"\n",
    "        \"You are a helpful, respectful and honest assistant. Always answer as helpfully as possible, while being safe.  Your answers should not include any harmful, unethical, racist, sexist, toxic, dangerous, or illegal content. Please ensure that your responses are socially unbiased and positive in nature.\\n\\n\"\n",
    "        \"If a question does not make any sense, or is not factually coherent, explain why instead of answering something not correct. If you don't know the answer to a question, please don't share false information.\\n\"\n",
    "        \"<</SYS>> \\n\\n {instruction} [/INST]\"\n",
    "    ),\n",
    "    \"prompt_input_diploma_special\":(\n",
    "        \"[INST] Ниже предоставлена инструкция, описывающаяся задачу вместе с необходимым контекстом. \"\n",
    "        \"Напиши ответ, который подходит под данный запрос. [/INST]\\n\\n\"\n",
    "        \"### Instruction:\\n Ниже текст диплома. Твоя задача сгенерировать выжимку этого диплома.\\n\\n### Input:\\n{input}\\n\\n### Response:\"\n",
    "    ),\n",
    "    \"prompt_llama2\": \"[INST] {instruction} [/INST]\",\n",
    "}"
   ]
  },
  {
   "cell_type": "markdown",
   "id": "26d9d1fe-9347-40f3-93df-2a6be3a579a2",
   "metadata": {
    "jp-MarkdownHeadingCollapsed": true,
    "tags": []
   },
   "source": [
    "### Load models"
   ]
  },
  {
   "cell_type": "markdown",
   "id": "7d0c742e-9458-4701-ab18-219e558f6633",
   "metadata": {
    "jp-MarkdownHeadingCollapsed": true,
    "tags": []
   },
   "source": [
    "##### Pretrain"
   ]
  },
  {
   "cell_type": "code",
   "execution_count": 63,
   "id": "0160e28a-075e-4cee-8db3-ea1423a0a954",
   "metadata": {
    "execution": {
     "iopub.execute_input": "2024-05-14T01:01:38.540449Z",
     "iopub.status.busy": "2024-05-14T01:01:38.540043Z",
     "iopub.status.idle": "2024-05-14T01:02:32.967337Z",
     "shell.execute_reply": "2024-05-14T01:02:32.966591Z",
     "shell.execute_reply.started": "2024-05-14T01:01:38.540429Z"
    },
    "tags": []
   },
   "outputs": [
    {
     "name": "stderr",
     "output_type": "stream",
     "text": [
      "Loading checkpoint shards: 100%|██████████| 2/2 [00:01<00:00,  1.14it/s]\n"
     ]
    },
    {
     "name": "stdout",
     "output_type": "stream",
     "text": [
      "Loaded model\n",
      "Loaded tokenizer\n"
     ]
    }
   ],
   "source": [
    "model = transformers.AutoModelForCausalLM.from_pretrained(\n",
    "    repo_pretrain, \n",
    "    cache_dir=CACHE_DIR, \n",
    "    torch_dtype=torch.bfloat16,\n",
    ")\n",
    "device = 'cuda' if torch.cuda.is_available() else 'cpu'\n",
    "model.to(device)\n",
    "\n",
    "print(\"Loaded model\")\n",
    "\n",
    "tokenizer = transformers.AutoTokenizer.from_pretrained(\n",
    "    repo_pretrain,\n",
    "    cache_dir=CACHE_DIR,\n",
    "    padding_side=\"right\",\n",
    "    use_fast=True,\n",
    ")\n",
    "\n",
    "print(\"Loaded tokenizer\")"
   ]
  },
  {
   "cell_type": "code",
   "execution_count": 64,
   "id": "df57d375-f576-4e50-8781-f34c78c7eeb5",
   "metadata": {
    "execution": {
     "iopub.execute_input": "2024-05-14T01:02:32.968562Z",
     "iopub.status.busy": "2024-05-14T01:02:32.968307Z",
     "iopub.status.idle": "2024-05-14T01:02:32.979922Z",
     "shell.execute_reply": "2024-05-14T01:02:32.979320Z",
     "shell.execute_reply.started": "2024-05-14T01:02:32.968543Z"
    },
    "tags": []
   },
   "outputs": [
    {
     "data": {
      "text/plain": [
       "LlamaForCausalLM(\n",
       "  (model): LlamaModel(\n",
       "    (embed_tokens): Embedding(32000, 4096)\n",
       "    (layers): ModuleList(\n",
       "      (0-31): 32 x LlamaDecoderLayer(\n",
       "        (self_attn): LlamaAttention(\n",
       "          (q_proj): Linear(in_features=4096, out_features=4096, bias=False)\n",
       "          (k_proj): Linear(in_features=4096, out_features=4096, bias=False)\n",
       "          (v_proj): Linear(in_features=4096, out_features=4096, bias=False)\n",
       "          (o_proj): Linear(in_features=4096, out_features=4096, bias=False)\n",
       "          (rotary_emb): LlamaRotaryEmbedding()\n",
       "        )\n",
       "        (mlp): LlamaMLP(\n",
       "          (gate_proj): Linear(in_features=4096, out_features=11008, bias=False)\n",
       "          (up_proj): Linear(in_features=4096, out_features=11008, bias=False)\n",
       "          (down_proj): Linear(in_features=11008, out_features=4096, bias=False)\n",
       "          (act_fn): SiLUActivation()\n",
       "        )\n",
       "        (input_layernorm): LlamaRMSNorm()\n",
       "        (post_attention_layernorm): LlamaRMSNorm()\n",
       "      )\n",
       "    )\n",
       "    (norm): LlamaRMSNorm()\n",
       "  )\n",
       "  (lm_head): Linear(in_features=4096, out_features=32000, bias=False)\n",
       ")"
      ]
     },
     "execution_count": 64,
     "metadata": {},
     "output_type": "execute_result"
    }
   ],
   "source": [
    "model"
   ]
  },
  {
   "cell_type": "markdown",
   "id": "6fe47f2f-d379-4001-8dd7-043fe0a736e4",
   "metadata": {
    "jp-MarkdownHeadingCollapsed": true,
    "tags": []
   },
   "source": [
    "##### Add new tokens"
   ]
  },
  {
   "cell_type": "code",
   "execution_count": 58,
   "id": "2761c6a3-d884-402c-8ef6-1eaff622b30d",
   "metadata": {
    "execution": {
     "iopub.execute_input": "2024-05-14T00:59:54.090294Z",
     "iopub.status.busy": "2024-05-14T00:59:54.090027Z",
     "iopub.status.idle": "2024-05-14T00:59:54.109288Z",
     "shell.execute_reply": "2024-05-14T00:59:54.108665Z",
     "shell.execute_reply.started": "2024-05-14T00:59:54.090278Z"
    },
    "tags": []
   },
   "outputs": [
    {
     "name": "stderr",
     "output_type": "stream",
     "text": [
      "Using pad_token, but it is not set yet.\n"
     ]
    }
   ],
   "source": [
    "from typing import Dict\n",
    "\n",
    "\n",
    "IGNORE_INDEX = -100\n",
    "DEFAULT_PAD_TOKEN = \"[PAD]\"\n",
    "DEFAULT_EOS_TOKEN = \"</s>\"\n",
    "DEFAULT_BOS_TOKEN = \"<s>\"\n",
    "DEFAULT_UNK_TOKEN = \"<unk>\"\n",
    "\n",
    "def smart_tokenizer_and_embedding_resize(\n",
    "    special_tokens_dict: Dict,\n",
    "    tokenizer: transformers.PreTrainedTokenizer,\n",
    "    model: transformers.PreTrainedModel,\n",
    "):\n",
    "    \"\"\"Resize tokenizer and embedding.\n",
    "\n",
    "    Note: This is the unoptimized version that may make your embedding size not be divisible by 64.\n",
    "    \"\"\"\n",
    "    num_new_tokens = tokenizer.add_special_tokens(special_tokens_dict)\n",
    "    model.resize_token_embeddings(len(tokenizer))\n",
    "\n",
    "    if num_new_tokens > 0:\n",
    "        input_embeddings = model.get_input_embeddings().weight.data\n",
    "        output_embeddings = model.get_output_embeddings().weight.data\n",
    "\n",
    "        input_embeddings_avg = input_embeddings[:-num_new_tokens].mean(dim=0, keepdim=True)\n",
    "        output_embeddings_avg = output_embeddings[:-num_new_tokens].mean(dim=0, keepdim=True)\n",
    "\n",
    "        input_embeddings[-num_new_tokens:] = input_embeddings_avg\n",
    "        output_embeddings[-num_new_tokens:] = output_embeddings_avg\n",
    "\n",
    "special_tokens_dict = dict()\n",
    "if tokenizer.pad_token is None:\n",
    "    special_tokens_dict[\"pad_token\"] = DEFAULT_PAD_TOKEN\n",
    "if tokenizer.eos_token is None:\n",
    "    special_tokens_dict[\"eos_token\"] = DEFAULT_EOS_TOKEN\n",
    "if tokenizer.bos_token is None:\n",
    "    special_tokens_dict[\"bos_token\"] = DEFAULT_BOS_TOKEN\n",
    "if tokenizer.unk_token is None:\n",
    "    special_tokens_dict[\"unk_token\"] = DEFAULT_UNK_TOKEN\n",
    "\n",
    "smart_tokenizer_and_embedding_resize(\n",
    "    special_tokens_dict=special_tokens_dict,\n",
    "    tokenizer=tokenizer,\n",
    "    model=model,\n",
    ")"
   ]
  },
  {
   "cell_type": "code",
   "execution_count": 59,
   "id": "f1cd1720-d3a2-49f1-8553-68617a45dec1",
   "metadata": {
    "execution": {
     "iopub.execute_input": "2024-05-14T00:59:54.110549Z",
     "iopub.status.busy": "2024-05-14T00:59:54.110295Z",
     "iopub.status.idle": "2024-05-14T00:59:54.127112Z",
     "shell.execute_reply": "2024-05-14T00:59:54.126591Z",
     "shell.execute_reply.started": "2024-05-14T00:59:54.110531Z"
    },
    "tags": []
   },
   "outputs": [
    {
     "data": {
      "text/plain": [
       "LlamaForCausalLM(\n",
       "  (model): LlamaModel(\n",
       "    (embed_tokens): Embedding(32001, 4096)\n",
       "    (layers): ModuleList(\n",
       "      (0-31): 32 x LlamaDecoderLayer(\n",
       "        (self_attn): LlamaAttention(\n",
       "          (q_proj): Linear(in_features=4096, out_features=4096, bias=False)\n",
       "          (k_proj): Linear(in_features=4096, out_features=4096, bias=False)\n",
       "          (v_proj): Linear(in_features=4096, out_features=4096, bias=False)\n",
       "          (o_proj): Linear(in_features=4096, out_features=4096, bias=False)\n",
       "          (rotary_emb): LlamaRotaryEmbedding()\n",
       "        )\n",
       "        (mlp): LlamaMLP(\n",
       "          (gate_proj): Linear(in_features=4096, out_features=11008, bias=False)\n",
       "          (up_proj): Linear(in_features=4096, out_features=11008, bias=False)\n",
       "          (down_proj): Linear(in_features=11008, out_features=4096, bias=False)\n",
       "          (act_fn): SiLUActivation()\n",
       "        )\n",
       "        (input_layernorm): LlamaRMSNorm()\n",
       "        (post_attention_layernorm): LlamaRMSNorm()\n",
       "      )\n",
       "    )\n",
       "    (norm): LlamaRMSNorm()\n",
       "  )\n",
       "  (lm_head): Linear(in_features=4096, out_features=32001, bias=False)\n",
       ")"
      ]
     },
     "execution_count": 59,
     "metadata": {},
     "output_type": "execute_result"
    }
   ],
   "source": [
    "model"
   ]
  },
  {
   "cell_type": "markdown",
   "id": "62bf029d-e94e-48c5-a1a3-1a0504675c87",
   "metadata": {
    "jp-MarkdownHeadingCollapsed": true,
    "tags": []
   },
   "source": [
    "##### Lora v1"
   ]
  },
  {
   "cell_type": "code",
   "execution_count": 60,
   "id": "9ab9ac11-2f62-46b9-88b8-8bb3a1882901",
   "metadata": {
    "execution": {
     "iopub.execute_input": "2024-05-14T00:59:54.127929Z",
     "iopub.status.busy": "2024-05-14T00:59:54.127693Z",
     "iopub.status.idle": "2024-05-14T00:59:55.570848Z",
     "shell.execute_reply": "2024-05-14T00:59:55.570186Z",
     "shell.execute_reply.started": "2024-05-14T00:59:54.127912Z"
    },
    "tags": []
   },
   "outputs": [],
   "source": [
    "from peft import PeftConfig, PeftModel\n",
    "\n",
    "\n",
    "model_id = \"nvdenisov2002/llama-longLoRA-v1\"\n",
    "peft_config = PeftConfig.from_pretrained(model_id)\n",
    "peft_model = PeftModel.from_pretrained(model, model_id)"
   ]
  },
  {
   "cell_type": "code",
   "execution_count": 65,
   "id": "245478c2-ce25-4860-b765-21616f258310",
   "metadata": {
    "execution": {
     "iopub.execute_input": "2024-05-14T01:02:32.981029Z",
     "iopub.status.busy": "2024-05-14T01:02:32.980793Z",
     "iopub.status.idle": "2024-05-14T01:02:32.994964Z",
     "shell.execute_reply": "2024-05-14T01:02:32.994433Z",
     "shell.execute_reply.started": "2024-05-14T01:02:32.981013Z"
    },
    "tags": []
   },
   "outputs": [
    {
     "data": {
      "text/plain": [
       "PeftModelForCausalLM(\n",
       "  (base_model): LoraModel(\n",
       "    (model): LlamaForCausalLM(\n",
       "      (model): LlamaModel(\n",
       "        (embed_tokens): Embedding(32001, 4096)\n",
       "        (layers): ModuleList(\n",
       "          (0-31): 32 x LlamaDecoderLayer(\n",
       "            (self_attn): LlamaAttention(\n",
       "              (q_proj): lora.Linear(\n",
       "                (base_layer): Linear(in_features=4096, out_features=4096, bias=False)\n",
       "                (lora_dropout): ModuleDict(\n",
       "                  (default): Identity()\n",
       "                )\n",
       "                (lora_A): ModuleDict(\n",
       "                  (default): Linear(in_features=4096, out_features=8, bias=False)\n",
       "                )\n",
       "                (lora_B): ModuleDict(\n",
       "                  (default): Linear(in_features=8, out_features=4096, bias=False)\n",
       "                )\n",
       "                (lora_embedding_A): ParameterDict()\n",
       "                (lora_embedding_B): ParameterDict()\n",
       "              )\n",
       "              (k_proj): lora.Linear(\n",
       "                (base_layer): Linear(in_features=4096, out_features=4096, bias=False)\n",
       "                (lora_dropout): ModuleDict(\n",
       "                  (default): Identity()\n",
       "                )\n",
       "                (lora_A): ModuleDict(\n",
       "                  (default): Linear(in_features=4096, out_features=8, bias=False)\n",
       "                )\n",
       "                (lora_B): ModuleDict(\n",
       "                  (default): Linear(in_features=8, out_features=4096, bias=False)\n",
       "                )\n",
       "                (lora_embedding_A): ParameterDict()\n",
       "                (lora_embedding_B): ParameterDict()\n",
       "              )\n",
       "              (v_proj): lora.Linear(\n",
       "                (base_layer): Linear(in_features=4096, out_features=4096, bias=False)\n",
       "                (lora_dropout): ModuleDict(\n",
       "                  (default): Identity()\n",
       "                )\n",
       "                (lora_A): ModuleDict(\n",
       "                  (default): Linear(in_features=4096, out_features=8, bias=False)\n",
       "                )\n",
       "                (lora_B): ModuleDict(\n",
       "                  (default): Linear(in_features=8, out_features=4096, bias=False)\n",
       "                )\n",
       "                (lora_embedding_A): ParameterDict()\n",
       "                (lora_embedding_B): ParameterDict()\n",
       "              )\n",
       "              (o_proj): lora.Linear(\n",
       "                (base_layer): Linear(in_features=4096, out_features=4096, bias=False)\n",
       "                (lora_dropout): ModuleDict(\n",
       "                  (default): Identity()\n",
       "                )\n",
       "                (lora_A): ModuleDict(\n",
       "                  (default): Linear(in_features=4096, out_features=8, bias=False)\n",
       "                )\n",
       "                (lora_B): ModuleDict(\n",
       "                  (default): Linear(in_features=8, out_features=4096, bias=False)\n",
       "                )\n",
       "                (lora_embedding_A): ParameterDict()\n",
       "                (lora_embedding_B): ParameterDict()\n",
       "              )\n",
       "              (rotary_emb): LlamaRotaryEmbedding()\n",
       "            )\n",
       "            (mlp): LlamaMLP(\n",
       "              (gate_proj): Linear(in_features=4096, out_features=11008, bias=False)\n",
       "              (up_proj): Linear(in_features=4096, out_features=11008, bias=False)\n",
       "              (down_proj): Linear(in_features=11008, out_features=4096, bias=False)\n",
       "              (act_fn): SiLUActivation()\n",
       "            )\n",
       "            (input_layernorm): LlamaRMSNorm()\n",
       "            (post_attention_layernorm): LlamaRMSNorm()\n",
       "          )\n",
       "        )\n",
       "        (norm): LlamaRMSNorm()\n",
       "      )\n",
       "      (lm_head): Linear(in_features=4096, out_features=32001, bias=False)\n",
       "    )\n",
       "  )\n",
       ")"
      ]
     },
     "execution_count": 65,
     "metadata": {},
     "output_type": "execute_result"
    }
   ],
   "source": [
    "peft_model"
   ]
  },
  {
   "cell_type": "code",
   "execution_count": 62,
   "id": "c900c9f0-e7e4-4f75-9920-2cad28320f50",
   "metadata": {
    "execution": {
     "iopub.execute_input": "2024-05-14T00:59:55.590275Z",
     "iopub.status.busy": "2024-05-14T00:59:55.589969Z",
     "iopub.status.idle": "2024-05-14T00:59:55.617831Z",
     "shell.execute_reply": "2024-05-14T00:59:55.617285Z",
     "shell.execute_reply.started": "2024-05-14T00:59:55.590259Z"
    }
   },
   "outputs": [
    {
     "data": {
      "text/plain": [
       "LlamaForCausalLM(\n",
       "  (model): LlamaModel(\n",
       "    (embed_tokens): Embedding(32001, 4096)\n",
       "    (layers): ModuleList(\n",
       "      (0-31): 32 x LlamaDecoderLayer(\n",
       "        (self_attn): LlamaAttention(\n",
       "          (q_proj): lora.Linear(\n",
       "            (base_layer): Linear(in_features=4096, out_features=4096, bias=False)\n",
       "            (lora_dropout): ModuleDict(\n",
       "              (default): Identity()\n",
       "            )\n",
       "            (lora_A): ModuleDict(\n",
       "              (default): Linear(in_features=4096, out_features=8, bias=False)\n",
       "            )\n",
       "            (lora_B): ModuleDict(\n",
       "              (default): Linear(in_features=8, out_features=4096, bias=False)\n",
       "            )\n",
       "            (lora_embedding_A): ParameterDict()\n",
       "            (lora_embedding_B): ParameterDict()\n",
       "          )\n",
       "          (k_proj): lora.Linear(\n",
       "            (base_layer): Linear(in_features=4096, out_features=4096, bias=False)\n",
       "            (lora_dropout): ModuleDict(\n",
       "              (default): Identity()\n",
       "            )\n",
       "            (lora_A): ModuleDict(\n",
       "              (default): Linear(in_features=4096, out_features=8, bias=False)\n",
       "            )\n",
       "            (lora_B): ModuleDict(\n",
       "              (default): Linear(in_features=8, out_features=4096, bias=False)\n",
       "            )\n",
       "            (lora_embedding_A): ParameterDict()\n",
       "            (lora_embedding_B): ParameterDict()\n",
       "          )\n",
       "          (v_proj): lora.Linear(\n",
       "            (base_layer): Linear(in_features=4096, out_features=4096, bias=False)\n",
       "            (lora_dropout): ModuleDict(\n",
       "              (default): Identity()\n",
       "            )\n",
       "            (lora_A): ModuleDict(\n",
       "              (default): Linear(in_features=4096, out_features=8, bias=False)\n",
       "            )\n",
       "            (lora_B): ModuleDict(\n",
       "              (default): Linear(in_features=8, out_features=4096, bias=False)\n",
       "            )\n",
       "            (lora_embedding_A): ParameterDict()\n",
       "            (lora_embedding_B): ParameterDict()\n",
       "          )\n",
       "          (o_proj): lora.Linear(\n",
       "            (base_layer): Linear(in_features=4096, out_features=4096, bias=False)\n",
       "            (lora_dropout): ModuleDict(\n",
       "              (default): Identity()\n",
       "            )\n",
       "            (lora_A): ModuleDict(\n",
       "              (default): Linear(in_features=4096, out_features=8, bias=False)\n",
       "            )\n",
       "            (lora_B): ModuleDict(\n",
       "              (default): Linear(in_features=8, out_features=4096, bias=False)\n",
       "            )\n",
       "            (lora_embedding_A): ParameterDict()\n",
       "            (lora_embedding_B): ParameterDict()\n",
       "          )\n",
       "          (rotary_emb): LlamaRotaryEmbedding()\n",
       "        )\n",
       "        (mlp): LlamaMLP(\n",
       "          (gate_proj): Linear(in_features=4096, out_features=11008, bias=False)\n",
       "          (up_proj): Linear(in_features=4096, out_features=11008, bias=False)\n",
       "          (down_proj): Linear(in_features=11008, out_features=4096, bias=False)\n",
       "          (act_fn): SiLUActivation()\n",
       "        )\n",
       "        (input_layernorm): LlamaRMSNorm()\n",
       "        (post_attention_layernorm): LlamaRMSNorm()\n",
       "      )\n",
       "    )\n",
       "    (norm): LlamaRMSNorm()\n",
       "  )\n",
       "  (lm_head): Linear(in_features=4096, out_features=32001, bias=False)\n",
       ")"
      ]
     },
     "execution_count": 62,
     "metadata": {},
     "output_type": "execute_result"
    }
   ],
   "source": [
    "model"
   ]
  },
  {
   "cell_type": "markdown",
   "id": "ae3d34cf-f005-4469-9899-416d35d8421f",
   "metadata": {
    "jp-MarkdownHeadingCollapsed": true,
    "tags": []
   },
   "source": [
    "##### Aligned"
   ]
  },
  {
   "cell_type": "code",
   "execution_count": 53,
   "id": "b40ee43e-afc2-4214-8f90-84441642dd78",
   "metadata": {
    "execution": {
     "iopub.execute_input": "2024-05-11T15:30:02.411242Z",
     "iopub.status.busy": "2024-05-11T15:30:02.410595Z",
     "iopub.status.idle": "2024-05-11T15:31:15.403577Z",
     "shell.execute_reply": "2024-05-11T15:31:15.402711Z",
     "shell.execute_reply.started": "2024-05-11T15:30:02.411212Z"
    },
    "tags": []
   },
   "outputs": [
    {
     "name": "stderr",
     "output_type": "stream",
     "text": [
      "Loading checkpoint shards: 100%|██████████| 2/2 [00:03<00:00,  1.86s/it]\n",
      "Downloading generation_config.json: 100%|██████████| 188/188 [00:00<00:00, 1.05MB/s]\n"
     ]
    },
    {
     "name": "stdout",
     "output_type": "stream",
     "text": [
      "Loaded model\n"
     ]
    },
    {
     "name": "stderr",
     "output_type": "stream",
     "text": [
      "Downloading tokenizer.model: 100%|██████████| 500k/500k [00:00<00:00, 2.84MB/s]\n",
      "Downloading tokenizer.json: 100%|██████████| 1.84M/1.84M [00:00<00:00, 3.02MB/s]\n",
      "Downloading (…)cial_tokens_map.json: 100%|██████████| 414/414 [00:00<00:00, 2.43MB/s]\n"
     ]
    },
    {
     "name": "stdout",
     "output_type": "stream",
     "text": [
      "Loaded tokenizer\n"
     ]
    }
   ],
   "source": [
    "model = transformers.AutoModelForCausalLM.from_pretrained(\n",
    "    repo, \n",
    "    cache_dir=CACHE_DIR, \n",
    "    torch_dtype=torch.bfloat16,\n",
    ")\n",
    "device = 'cuda' if torch.cuda.is_available() else 'cpu'\n",
    "model.to(device)\n",
    "\n",
    "print(\"Loaded model\")\n",
    "\n",
    "tokenizer = transformers.AutoTokenizer.from_pretrained(\n",
    "    repo,\n",
    "    cache_dir=CACHE_DIR,\n",
    "    # model_max_length=MODEL_MAX_LENGTH,\n",
    "    padding_side=\"right\",\n",
    "    use_fast=True,\n",
    ")\n",
    "\n",
    "print(\"Loaded tokenizer\")"
   ]
  },
  {
   "cell_type": "code",
   "execution_count": null,
   "id": "42a187f0-e37f-45ba-b146-5a464be9e661",
   "metadata": {
    "execution": {
     "iopub.status.busy": "2024-05-11T15:29:14.022639Z",
     "iopub.status.idle": "2024-05-11T15:29:14.023152Z",
     "shell.execute_reply": "2024-05-11T15:29:14.022975Z"
    }
   },
   "outputs": [],
   "source": [
    "type(model), type(tokenizer)"
   ]
  },
  {
   "cell_type": "code",
   "execution_count": 10,
   "id": "1aea61ce-5226-4536-bcbc-f7c01e4ca237",
   "metadata": {
    "execution": {
     "iopub.execute_input": "2024-05-11T14:24:24.793007Z",
     "iopub.status.busy": "2024-05-11T14:24:24.792113Z",
     "iopub.status.idle": "2024-05-11T14:24:24.808888Z",
     "shell.execute_reply": "2024-05-11T14:24:24.808233Z",
     "shell.execute_reply.started": "2024-05-11T14:24:24.792969Z"
    }
   },
   "outputs": [
    {
     "data": {
      "text/plain": [
       "True"
      ]
     },
     "execution_count": 10,
     "metadata": {},
     "output_type": "execute_result"
    }
   ],
   "source": [
    "tokenizer.use_default_system_prompt"
   ]
  },
  {
   "cell_type": "markdown",
   "id": "e934c8da-9ed6-4c0c-8cbd-4602154dd573",
   "metadata": {
    "jp-MarkdownHeadingCollapsed": true,
    "tags": []
   },
   "source": [
    "### Generate func"
   ]
  },
  {
   "cell_type": "code",
   "execution_count": 11,
   "id": "c59173e6-11e8-4e39-ad65-73d274061fe0",
   "metadata": {
    "execution": {
     "iopub.execute_input": "2024-05-12T14:17:12.998041Z",
     "iopub.status.busy": "2024-05-12T14:17:12.997304Z",
     "iopub.status.idle": "2024-05-12T14:17:13.028262Z",
     "shell.execute_reply": "2024-05-12T14:17:13.027612Z",
     "shell.execute_reply.started": "2024-05-12T14:17:12.998003Z"
    },
    "tags": []
   },
   "outputs": [],
   "source": [
    "sep = \"____________________________________________________\"\n",
    "def generate_output(prompt, model, tokenizer, repetition_penalty=1, max_time=30, max_new_tokens=512):\n",
    "    model_input = tokenizer(prompt, return_tensors=\"pt\")\n",
    "    print(\"Prompt:\")\n",
    "    print(sep)\n",
    "    print(tokenizer.decode(model_input[\"input_ids\"].flatten()))\n",
    "    print(sep)\n",
    "    generation_config = transformers.GenerationConfig(max_time=max_time, max_new_tokens=max_new_tokens, repetition_penalty=repetition_penalty)\n",
    "    model.eval()\n",
    "    generated = model.generate(**model_input, generation_config=generation_config)\n",
    "    print(\"Generated:\")\n",
    "    print(sep)\n",
    "    print(tokenizer.decode(generated.flatten()[len(model_input[\"input_ids\"].flatten()):]))\n",
    "    print(sep)"
   ]
  },
  {
   "cell_type": "markdown",
   "id": "041a7756-058a-45f9-9fe8-fd4b72a1b609",
   "metadata": {
    "execution": {
     "iopub.execute_input": "2024-05-11T15:59:39.079382Z",
     "iopub.status.busy": "2024-05-11T15:59:39.078629Z",
     "iopub.status.idle": "2024-05-11T15:59:39.088505Z",
     "shell.execute_reply": "2024-05-11T15:59:39.087879Z",
     "shell.execute_reply.started": "2024-05-11T15:59:39.079340Z"
    },
    "jp-MarkdownHeadingCollapsed": true,
    "tags": []
   },
   "source": [
    "### Generate smth"
   ]
  },
  {
   "cell_type": "code",
   "execution_count": 11,
   "id": "6be7d622-3035-498e-af3e-51e60b9bf41f",
   "metadata": {
    "execution": {
     "iopub.execute_input": "2024-05-12T14:05:40.241993Z",
     "iopub.status.busy": "2024-05-12T14:05:40.241379Z",
     "iopub.status.idle": "2024-05-12T14:05:40.257736Z",
     "shell.execute_reply": "2024-05-12T14:05:40.257105Z",
     "shell.execute_reply.started": "2024-05-12T14:05:40.241959Z"
    },
    "tags": []
   },
   "outputs": [
    {
     "data": {
      "text/plain": [
       "208091"
      ]
     },
     "execution_count": 11,
     "metadata": {},
     "output_type": "execute_result"
    }
   ],
   "source": [
    "len(test_df[\"diploma\"][0])"
   ]
  },
  {
   "cell_type": "code",
   "execution_count": null,
   "id": "f4fba3b4-3d69-4a33-bb94-70707e54833c",
   "metadata": {
    "execution": {
     "iopub.execute_input": "2024-05-12T14:17:13.030218Z",
     "iopub.status.busy": "2024-05-12T14:17:13.029477Z"
    },
    "tags": []
   },
   "outputs": [
    {
     "name": "stdout",
     "output_type": "stream",
     "text": [
      "Prompt:\n",
      "____________________________________________________\n",
      "<s> [INST] Ниже предоставлена инструкция, описывающаяся задачу вместе с необходимым контекстом. Напиши ответ, который подходит под данный запрос. [/INST]\n",
      "\n",
      "### Instruction:\n",
      " Ниже текст диплома. Твоя задача сгенерировать выжимку этого диплома.\n",
      "\n",
      "### Input:\n",
      "Санкт-Петербургский государственный университет\n",
      "\n",
      "\n",
      "\n",
      "\n",
      "\n",
      "\n",
      "\n",
      "\n",
      "АБДУЛЛАЕВ Шохжахон Улугбек угли\n",
      "\n",
      "Выпускная квалификационная работа\n",
      "Роль политики в области гендерного равенства в продвижении имиджа Узбекистана на международной арене \n",
      "\n",
      "\n",
      "Уровень образования: Магистратура\n",
      "Направление 41.04.05 «Международные отношения»\n",
      "Основная образовательная программа\n",
      "ВМ.5568.2021 \n",
      "«Связи с общественностью в сфере международных отношений»\n",
      "\n",
      "\n",
      "\n",
      "\n",
      "Научный руководитель:\n",
      "доцент кафедры теории и истории\n",
      "международных отношений СПбГУ,\n",
      "кандидат философских наук, доцент\n",
      "Выходец Роман Сергеевич\n",
      "\n",
      "Рецензент: \n",
      "доцент кафедры философии и социальных наук Санкт-Петербургского\n",
      "университета ГПС МЧС России,\n",
      "кандидат философских наук, доцент\n",
      "Шляпников Виктор Валерьевич\n",
      "\n",
      "\n",
      "\n",
      "\n",
      "\n",
      "Санкт-Петербург\n",
      "2023\n",
      "\n",
      "Оглавление\n",
      " TOC \\o \"1-3\" \\h \\z \\u  HYPERLINK \\l \"_Toc136336786\" Введение\t PAGEREF _Toc136336786 \\h 3\n",
      "Глава  HYPERLINK \\l \"_Toc136336787\" 1.Понятие «имидж» и имиджевой политики государства\t PAGEREF _Toc136336787 \\h 11\n",
      " HYPERLINK \\l \"_Toc136336788\" 1.1\tИстория формирования понятия имидж и имиджевой политики государства\t PAGEREF _Toc136336788 \\h 11\n",
      " HYPERLINK \\l \"_Toc136336789\" 1.2 Структура и основные компоненты имиджа государства\t PAGEREF _Toc136336789 \\h 20\n",
      " HYPERLINK \\l \"_Toc136336790\" 1.3 Гендерное равенство как компонент имиджа государства\t PAGEREF _Toc136336790 \\h 36\n",
      "Глава  HYPERLINK \\l \"_Toc136336791\" 2. Международная политика в области гендерного равенства\t PAGEREF _Toc136336791 \\h 40\n",
      " HYPERLINK \\l \"_Toc136336792\" 2.1 Истоки формирования и основы политики в области гендерного равенства\t PAGEREF _Toc136336792 \\h 40\n",
      " HYPERLINK \\l \"_Toc136336793\" 2.2 Имиджевые аспекты политики в области гендерного равенства\t PAGEREF _Toc136336793 \\h 53\n",
      " HYPERLINK \\l \"_Toc136336794\" 2.3 Специфика гендерной политики Республики Узбекистан\t PAGEREF _Toc136336794 \\h 57\n",
      "Глава  HYPERLINK \\l \"_Toc136336795\" 3. Специфика современной имиджевой политики Республики Узбекистан\t PAGEREF _Toc136336795 \\h 64\n",
      " HYPERLINK \\l \"_Toc136336796\" 3.1 Стратегия продвижения гендерного равенства и пути их решения в Узбекистане\t PAGEREF _Toc136336796 \\h 64\n",
      " HYPERLINK \\l \"_Toc136336797\" 3.2 Влияние гендерного равенства на формирование имиджа страны\t PAGEREF _Toc136336797 \\h 75\n",
      " HYPERLINK \\l \"_Toc136336798\" 3.3 Прикладные аспекты политики в области гендерного равенства в Узбекистане\t PAGEREF _Toc136336798 \\h 81\n",
      " HYPERLINK \\l \"_Toc136336799\" Заключение\t PAGEREF _Toc136336799 \\h 92\n",
      " HYPERLINK \\l \"_Toc136336800\" Список использованных источников и литературы\t PAGEREF _Toc136336800 \\h 95\n",
      "\n",
      "\n",
      "\n",
      "\n",
      "\n",
      "\n",
      "\n",
      "\n",
      "\f",
      "\n",
      "Введение\n",
      "Актуальность темы исследования. Распад СССР Государства взяли курс на демократические преобразование, реализацию прав и свобод человека, в том числе и гендерного равенства. Опыт перехода региона убедительно продемонстрировали, что изменения в гендерном балансе, вызванные экономические сдвиги далеко не очевидны, и что экономическая экспансия и экономическая роль женщин расширение прав и возможностей не всегда идет рука об руку (Sattar 2012; Elborgh-Woytek et al. 2013; Woetzel и другие. 2015). Поэтому активные меры по расширению экономических прав и возможностей женщин должны быть в центре внимания политического диалога, направленного на инклюзивный рост и сокращение неравенства и бедности (Чагатай, 1998).Мы устанавливаем текущее состояние различных измерений гендерного неравенства и их прошлой динамики в странах Центральной Азии (Казахстан, Кыргызстан, Таджикистан, Туркменистан и Узбекистан), Южный Кавказ (Армения, Азербайджан, и Грузия), и западных стран СНГ (Беларусь, Молдова и Украина) и предлагают шаги, направленные на их сокращение в контексте инклюзивного роста, создания достойных рабочих мест и экономического расширение прав и возможностей.\n",
      "Страны Центральной Азии представляют собой неоднородную группу, в которую входят страны-экспортеры энергоресурсов. (Казахстан и Туркменистан); малые экономики, зависящие от сельского хозяйства (Кыргызстан и Таджикистан); и более индустриальная экономика Узбекистана. Узбекистан и Казахстан имеют самое большое население, с более чем 30 и 17 миллионами, за которыми следуют Таджикистан с более чем восемью миллионами, а также Туркменистан и Кыргызстан почти по шесть миллионов каждый. Казахстан является самой богатой страной Центральной Азии с валовым национальным Доходом (ВНД) на душу населения составляет 20 867 долларов США, а Таджикистан является самым бедным с ВНД на душу населения в размере 2 517 долларов США (ПРООН, 2015 г.).\n",
      "На основе Индекса гендерного неравенства (GII) и Индекса гендерного развития (GDI) Центральный Азиатский регион характеризуется умеренным уровнем гендерного неравенства. Согласно ГИИ, который измеряет репродуктивное здоровье и гендерные различия в расширении прав и возможностей и экономическом статусе, регион выполняет лучше, чем в среднем по миру по показателям гендерного равенства. Во многом это обусловлено относительно сильные гендерные показатели в сфере образования и показатели материнской смертности ниже среднего (хотя они остаются значительными).\n",
      "Сегодня одной из главных задач любого государства является создание управляемого имиджа страны.\n",
      "Первым продвигать страну как бренд начал Дэвид Огилви, который в середине 1950-х гг. начал работать над имиджем маленького латиноамериканского государства Пуэрто-Рико, чтобы изменить отношение американцев к этой стране и привлечь туристов.\n",
      "Специалисты называют страновые бренды “географическими брендами”, однако под этим наименованием они подразумевают лишь туристические качества страны. “Рост туризма и индустрии отдыха, а также путешествий по миру вообще вызвали появление брэндинга географических точек”.\n",
      "Растущее значение образов страны и соответствующих проблемы в текущих исследованиях и практике поднимают центральный вопрос: как имидж страны должны быть концептуализированы и измерены, и какое влияние они оказывают на облегчение благоприятного поведения заинтересованных сторон? Далее этот вопрос рассматривается в три этапа: во-первых, подходы в изучение образов страны из разных областей исследований, что приводит к синтез центральных научных пробелов. Во-вторых, перспектива связей с общественностью применяется к разработать новую четырехмерную модель образа страны путем объединения концепций от управления репутацией, теории национальной идентичности и теории отношения.\n",
      "Актуализация гендерной проблематики признается многими национальными и международными агентствами и неправительственными организациями.\n",
      "организация как эффективная стратегия продвижения гендерного равенства. Многие исследователи сходятся во мнении, что имеет важное значение, но также может привести к искоренению нищеты, развитию человеческого потенциала и общему экономическому росту во всем мире. Это просто показывает важность на глобальном уровне гендерного равенства и любых стратегию ее достижения.\n",
      "Национальный eq образ определяется eq как когнитивное eq представление, к eq которому относится eq человек к eq данной стране eq и ее eq народу, во eq что человек eq верит быть eq правдой о eq нации. Особое eq значение для eq политической деятельности eq имеет благожелательность eq или недоброжелательность, eq приписываемые другим eq народам на eq изображениях, как, eq а также eq историческая составляющая eq образа. Чувства eq о стране eq будущем также eq важны.\n",
      "Важным eq вопросом для eq этого исследования eq является то, eq как создается eq имидж и eq презентация его eq на весь eq мир. Кунчик (eq там же) eq далее говорит, eq что ни eq народные, ни eq наука не eq могут сформировать eq адекватные образы eq нации, по eq его мнению, eq из-за eq сложности работы eq международной системы.\n",
      "eq Для разработки eq нашей интегративной eq модели имиджа eq страны мы eq объединяем три eq основных концепции: eq концепция национальной eq идентичности Смита (1987) eq для обоснования eq родовых атрибуты eq эталонного объекта «eq страна»; теория eq отношения Айзена eq и Фишбейн (1980) eq в качестве eq основы для eq конститутивных компонентов eq установок, которые eq построить когнитивную eq основу концепции eq образа; и eq модель репутации eq как многомерная eq конструкция, предложенная eq Ingenhoff and eq Sommer (2007) и eq Эйзенеггер и eq Имхоф (2008), которая eq служит основой eq для разграничения eq между несколько eq измерений имиджа eq страны. Объект eq имиджа страны eq мыслится как eq единство нации eq и ее eq государства.\n",
      "Опираясь eq на концепции eq Смита, страну eq можно определить eq как названную eq человеческую коллектив, eq состоящий из eq шести родовых eq признаков: отдельная eq территория или «eq родина», общая eq история и eq традиции, отечественная eq экономика, общественная eq культура, совокупность eq общие нормы eq и ценности, eq а также eq суверенную политическую eq организацию или eq государство.\n",
      "Соответственно, eq имидж страны eq концептуализируется как eq отношение стейкхолдеров. eq Имидж страны eq тогда включают eq компонент убеждений (eq когнитивный компонент) eq и компонент eq эмоций по eq отношению к eq объекту образа. eq Понятие как eq установочный конструкт, eq имидж страны eq можно рассматривать eq как важную eq часть презентации eq страны в eq мире\n",
      "Объект eq и предмет eq исследования. Объектом eq данного исследования eq является продвижения eq имиджа Узбекистана eq на международной eq арене. Предметом eq исследования является eq основные инструменты eq политики в eq области гендерного eq равенства.\n",
      "Хронологические eq рамки исследования. eq Работа охватывает eq период с 1991 eq года по 2022 eq год. Данный eq временной промежуток eq был выбран eq в связи eq с тем, eq что именно eq в 1991 году eq Узбекистан обрел eq независимость и eq начались активные eq реформы. Также eq в рамках eq исследования будут eq использованы данные, eq взятые из eq более ранних eq исторических периодов, eq служащие для eq обоснования некоторых eq концептуальных особенностей eq узбеской «мягкой eq силы». \n",
      "\n",
      "Цель eq и задачи eq исследования. Целью eq данного исследования eq является научное eq обоснование роли eq политики в eq области гендерного eq равенства в eq качестве инструмента eq продвижения имиджа eq Узбекистана на eq международной арене.\n",
      "eq Для достижения eq цели в eq рамках исследования eq были поставлены eq следующие задачи:\n",
      "-  eq проследить формирования eq понятие имидж eq и имиджевой eq политики государства;\n",
      "-  eq рассмотреть структуру eq и основные eq компоненты имиджа eq государства;\n",
      "- изучить eq гендерное равенство eq как компонент eq имиджа государства;\n",
      "-  eq разобрать истоки eq формирования и eq основы политики eq в области eq гендерного равенства;\n",
      "-  eq определить имиджевые eq аспекты политики eq в области eq гендерного равенства;\n",
      "- eq проанализировать специфику eq гендерной политики eq Республики Узбекистан; \n",
      "- eq показать стратегию eq продвижения гендерного eq равенства и eq пути их eq решения в eq Узбекистане;\n",
      "- сопоставить eq влияние гендерного eq равенства на eq формирование имиджа eq страны;\n",
      "- рассмотреть eq прикладные аспекты eq политики в eq области гендерного eq равенства в eq Узбекистане.\n",
      "Методологическая eq основа исследования. \n",
      "eq При проведении eq исследования применялись eq следующие методы: eq исторический метод, eq метод сравнительного eq анализа, анализ, eq системный метод, eq метод научного eq прогнозирования. \n",
      "Выбор eq исторического метода eq основывается на eq наличии исторических eq событий и eq процессов, касающихся eq выбранной проблематики, eq а также eq их влияния eq на современное eq положение и eq связь дел eq области гендерного eq равенства и eq имиджа государства.\n",
      "eq Метод сравнительного eq анализа применялся eq для сопоставления eq и выявления eq особенностей теоретических eq концепций формирования. eq Также данный eq способ применялся eq при оценке eq влияния гендерной eq политики на eq формирование имиджа eq государства на eq международной\n",
      "Описательный eq метод использовался eq для детального eq анализа мировых eq процессов, оказавших eq влияние на eq формирование и eq развитие имиджевой eq политики и eq гендерного равенства.\n",
      "eq Метод контент-анализа eq позволил возможность определить, eq какой образ eq региона региона eq эти брендиговые eq материалы транслируют eq во внешние eq аудитории. Комплексный eq подход к eq применению указанных eq методов исследования eq обусловлен многоаспектностью eq исследуемой проблематики.\n",
      "eq Для структурирования eq имеющихся материалов eq использовался метод eq системного анализа. eq Высокая актуальность eq исследования обусловила eq использование метода eq научного прогнозирования, eq с помощью eq которого была eq определена роль eq гендерного равенства eq в укреплении eq имиджа на eq международной арене.\n",
      "eq Обзор использованных eq источников и eq литературы\n",
      "Во eq время проведения eq исследования использовалось eq множество видов eq источников, которые eq можно разделить eq на группы.\n",
      "eq К первой eq группе источников eq следует отнести eq международно-правовые eq акты и eq договоры, в eq частности Устав eq Организации Объединенных eq Наций от 26 eq июня 1945 года, eq и Цель 5: eq Обеспечение гендерного eq равенства и eq расширение прав eq и возможностей eq всех женщин eq и девочек.\n",
      "   eq Вторую группу eq источников составляют eq заявления государтсвенных eq лиц и eq правительства: Генсек eq ООН: Гендерного eq равенства в eq мире можно eq будет добиться eq через 300 лет.\n",
      "   eq К третьей eq группе относятся eq данные СМИ, eq таких как eq Газета.уз, eq Russia today, eq BBC.\n",
      " Четвертую eq группу источников eq представляют интернет-eq ресурсы предоставляющие eq статические данные eq для анализа eq гендерного равенства, eq например Global eq Gender Gap.\n",
      "eq Научная новизна eq исследования.\n",
      "Научная eq новизна представленной eq работы сводится eq к аспектам eq имиджа и eq имиджевой политики eq государства, которое eq находят свое eq отражение путем eq укрепления гендерной eq повестки в eq стране, а eq именно в eq Узбекистане, реализация eq этой повестки eq позволит государству eq повысить имидж eq страны на eq международной арене. eq Этот процесс eq всесторонне еще eq не исследован, eq как в eq политическом, так eq и в  eq имиджеологических аспектах.\n",
      "eq Теоретическая база eq исследования включает eq в себя eq работы по eq теории международных eq отношений, истории eq международных отношений, eq социологии, социальной eq психологии и eq политической пропаганды. eq Теоретической основой eq настоящего исследования eq послужили работы eq как российских, eq так и eq зарубежных авторов.\n",
      "eq Использованные работы eq были преимущественно eq выполнены в eq ключе неолиберальной eq традиции в eq изучении международных eq отношений Основную eq роль в eq формировании исходной eq теоретической концепции eq сыграли исследования eq Дж. Бентам, eq Уколова В. eq И., А.  eq А. Шереля, eq Ю. М.eq Лотмана, С. eq А. Наринский eq М.М eq Ф. Симоновой, eq С. Г. eq КараМурза. Исследователь eq также обращался eq к аналитическим eq материалам международных eq отношений.\n",
      "Теоретическое eq и практическое eq значение работы. \n",
      "eq Теоретическое значение eq Результаты представленного eq исследования могут eq быть использованы eq для написания eq научных трудов, eq учебных пособий eq и материалов, eq направленных на eq углубленное изучение eq как «имидж» eq и «образ eq страны» стран eq СНГ и eq Республики Узбекистан. eq Также полученные eq сведения можно eq применять в eq рамках исследований eq по внедрению eq элементов «мягкой eq силы» в eq рамках формирования eq положительного облика eq страны. Выводы eq данной работы eq могут быть eq использованы представителями eq профильных отраслей: eq туризм, культура, eq образование, для eq формирования стратегий eq и планов eq развития отношений eq с Узбекистаном. \n",
      "eq Практическое значение eq отметить важность eq содержания представленного eq исследования для eq изучения инструментов eq продвижения Узбекистаном eq собственных интересов, eq что имеет eq стратегическое значение eq для экономики eq и социокультурной eq жизни Узбекистана. eq Диссертация может eq послужить аналитическим eq материалом для eq структур содружества eq независимых государств. eq Материалы могут eq быть полезны eq для работы eq Ассамблеи СНГ.\n",
      "eq Структура магистерской eq диссертации обусловлена eq поставленными целью eq и задачами eq и состоит eq из введения, eq трех глав, eq девять параграфов, eq заключения и eq списка использованной eq литературы и eq приложений. \n",
      "Понятие «eq имидж» и eq имиджевой политики eq государства\n",
      "История eq формирования понятия eq имидж и eq имиджевой политики eq государства\n",
      "Люди eq опираются на eq свои мысли eq и поступки eq в отношении eq социальных объектов eq на их eq когнитивные способности eq и представления eq образов этих eq существ. Как eq отдельные личности, eq организации, государства eq могут действовать eq в своей eq социальной среде, eq это в eq значительной мере eq зависит от eq их образа eq в обществе eq и группах, eq которые являются eq участниками этой eq среды. Это eq образ для eq страны среди eq иностранных зрителей.\n",
      "eq Две эпохальные eq вызовы ХХI eq века - Глобализация eq и Информационная eq революция – заставляют eq современных государств eq искать новых eq и более eq эффективных средств eq влияния на eq глобальную политику: eq достижение страны eq в мировой eq арене сейчас eq зависит не eq только от eq использования «мягкой eq силы» жесткой eq силы и «eq мягкой силы», eq а от eq способности сочетать «eq мягкую» силу eq мягкой силы eq и «мягкой eq силы», превращая eq взаимодействие в «eq умную» силу eq Smart Power. eq Одна из eq важнейших задач eq современного государства – eq создать конкурентную eq идентичность, которая eq будет способствовать eq созданию образа eq страны привлекательной, eq уникальной, конкурентоспособной, eq высокоэффективной. В eq мировой и eq стандартной эпохе eq ничто столь eq высоко ценится eq как уникальное eq креативное творчество, eq и, если eq оно определяет eq стиль страны eq на международной eq арене, то eq эта страна eq начнет привлекать eq миллионы внимание. eq Одной из eq парадоксальных тенденций eq глобализации стало eq тенденция к eq усилению культурной eq плюрализации современного eq мира. Сравнение eq стратегий имиджевой eq политики ведущих eq стран позволяет eq не только eq выявить все eq более выраженное eq стремление к eq новаторству в eq сфере имиджевой eq политики, но eq также увидеть, eq что поиск eq новаторства осуществляется eq в русле eq реконструкции уникальной eq национальной традиции eq разных государств eq и национальностей. eq Мир сегодня eq говорил о «eq реисламизации» Ближнего eq Востка, «индуизации» eq Индии, «возврате eq Китая в eq Азию» и eq Китая. Слоганы eq многих рекламных eq кампаний притягивают eq внимание к eq экзотике национальных eq колоритов: «Необыкновенная eq Индия!», «Малайзия – eq настоящий Азия!», «eq Мир встречается eq Бразилией. Приходите eq на празднование eq жизни! \" - Бразилцы, eq например, пытаются eq реинтерпретировать национальную eq традицию карнавала eq на глобальном eq уровне, считая eq ее национальным eq праздником, который eq приглашает весь eq мир делиться eq с ними eq чувством полной eq и счастливой eq жизни, во eq многом потерянным eq современным обществом eq в борьбе eq за материальные eq ценности. «В eq Бразилии мир eq встречается. Приходи eq праздновать свою eq жизнь, - такой eq слоган имиджей eq бразильской кампании eq весьма ярко eq олицетворяет образ eq самого Бразилии, eq открытого, современного eq государства, стремящегося eq к мировому eq диалогу, готового eq делиться своими eq достижениями со eq всеми странами eq мира. Даже eq исключительно нейтральный eq швейцарец неожиданно eq высказался о eq концепции Швейцарии, eq которую можно eq назвать особым eq стилем жизни, eq духом Швейцарии. eq Swissness является eq мировоззрением, неслучайно eq в рейтинге eq мировых брендов eq Future Brand (eq CBI Country eq Brand Index) eq в 2012 году eq именно Швейцария eq лидирует. В eq этом регионе eq респонденты заняли eq первое место eq в категориях, eq относящихся к eq системе ценностей, eq качеству жизни, eq условиям развития eq бизнес-процессов. eq Здесь мы eq подошли к eq очередной новейшей eq тенденции в eq области формирования eq стратегий имиджа – eq очевидная смена eq лидеров в eq этом направлении eq и формирование eq критического отношения eq к маркетинговой eq технологии. Р. eq Ролан остро eq заметил, что «eq нельзя победить eq один раз eq или навсегда – eq победить нужно eq каждый день». eq Даже технологии eq использования «гибкой eq власти» и eq публичной дипломатии eq не удерживали eq пальмы первенства eq США, уступив eq Британии. Кроме eq Швейцарии новые eq лидеры в eq этих сферах, eq уровень и eq качество жизни eq в США eq превратились в 8-eq е место, eq кроме Швейцарии eq новые лидеры eq в этих eq сферах были eq скандинавскими странами, eq демонстрирующими высокую eq экологичность, стабильность, eq толерантность, «мягкое eq управление», развитая eq система общедоступных eq образовательных и eq медицинских учреждений. eq На сегодняшний eq день скандинавская eq страна признана «eq моделью современного eq мира». Смена eq руководителей стала eq еще одной eq важной тенденцией: eq бесконечно нельзя eq упомянуть о eq всемогущности маркетинга eq и информационной eq техники в eq ходе национального eq брендингового процесса. eq Неслучайно известный «eq гуру» маркетинговой eq технологии С.eq Анхольт сегодня eq пишет, что eq создавая национальный eq бренд, не eq стоит представить eq его так, eq чтобы «без eq особых украшений eq поведать миру eq что-то eq хорошее, хотя eq в очередной eq раз придется eq заниматься тем, eq что Джон eq Оруэлл назвал eq защитой, которую eq нельзя защитить». eq Всегда нужно eq помнить, что eq всего одно eq слово можно eq сказать: когда eq люди скажут eq ложь, то eq это нанесёт eq бренду непоправимый eq вред. Поэтому eq управление брендами eq страны является eq куда более eq тщательным и eq радикальным проектом, eq чем обыкновенный eq маркетинг. И eq его осуществление eq начинается с eq того, что eq современные мировые eq сообщества достаточно eq открыты, прозрачны eq и, по eq сути, демократически eq демократичны благодаря eq современным мировым eq системам коммуникаций eq и поэтому eq репутация страны eq является жизненно eq важной. Таким eq образом, при eq любом обстоятельстве eq необходимо помнить, eq что политическая eq политика государства eq наиболее серьезно eq влияет на eq доброе лицо eq страны, так eq как доброе eq лицо страны eq является самым eq ценным ее eq активом в eq информационной среде. eq Анализируя новые eq тенденции в eq области национальной eq брендинговой стратегии, eq мы можем eq выяснить слабые eq аспекты стратегии eq имиджей России eq и выяснить eq перспективные направления eq развития российского eq брендинга. В eq первую очередь, eq отечественная стратегия eq не обладает eq ярким национальным eq колоритом, тем eq самым «русским eq духом», особым «eq русским духом», eq которым отмечены eq знаменатые успехи eq России в eq Париже 1900 года, eq где Жан eq Кокто заявил: «eq Париж пьет eq Россией». В eq то время eq на знаменитом eq русском павильоне - eq городке в eq стиле Москвы eq и Казани – eq работали Шихтель, eq Василевский, Врубел. eq Вот тогда eq в мире «eq русский стиль» eq заявил, и eq мода на eq всё русское eq началась в eq Европе. На eq Парижской Всемирной eq выставке 1900 года eq были сделаны eq первые матрешки - eq оригинальные сувениры eq a la eq Russe, которые eq получили бронзовые eq медали.\n",
      "В eq условиях глобализированного eq мира и eq распространения современных eq медиа общества «eq благоприятный имидж eq и репутация eq страны во eq всем мире eq становятся более eq важными, чем eq территория, доступ eq и сырье». eq Во времена eq глобализации и eq медиатизации имидж eq страны становится eq все более eq важным, потому eq что международные eq организации, СМИ eq и общественность eq все чаще eq наблюдают за eq странами, они eq публично оцениваются eq и сравниваются eq в соответствии eq с их eq экономическим развитием, eq их политической eq стабильностью, эффективностью eq и нравственностью eq их национальной eq и международной eq политики или eq привлекательностью своей eq культуры.\n",
      "Кроме eq того, как eq предпосылка поведения eq людей по eq отношению к eq стране, имидж eq страны как eq поведенческий конструкт eq может сильно eq повлиять на eq прямые иностранные eq инвестиции, на eq процветание национального eq туристического промышленности, eq привлекательность внутренних eq рынков труда eq и систем eq образования, успех eq глобального экспорта eq товаров и eq услуги, а eq также международные eq отношения и eq степень политического eq влияния страны.\n",
      "eq Особенно для eq таких маленьких eq стран, как eq Швейцария, Монако eq которая не eq может так eq полагаться на eq политическую и eq экономическую мощь eq для защиты eq национальных интересов eq в глобальном eq контексте.\n",
      "Влияние eq имиджа страны eq на поведение eq людей может eq иметь решающее eq значение для eq политического, экономического eq и культурного eq успеха. Многие eq из политических, eq культурных и eq экономические организации eq зависят от eq взаимодействия с eq зарубежной общественностью eq и качество eq этих взаимодействий eq зависит от eq имиджа страны. \n",
      "eq В связи eq с возрастающей eq значимостью имиджа eq страны в eq условиях в eq глобализованном мире eq и современных eq медиасообществах эта eq конструкция взбудоражила eq практические беспокойство. eq Политические, экономические eq и культурные eq лидеры все eq больше обеспокоены eq об уважении eq своей страны eq за рубежом eq и усилиях eq коммуникационного менеджмента eq все чаще eq применяются на eq уровне системы eq национального государства eq в международных eq связях с eq общественностью (IPR) eq и публичной eq дипломатии (PD).\n",
      "eq При рассмотрении eq основных компонентов eq образа страны eq обнаруживается пробел, eq связанный с eq включением аффективных eq аспектов. Большинство eq моделей, разработанных eq до сих eq пор полностью eq сосредоточиться на eq когнитивном компоненте eq поведенческого конструкта eq и не eq в состоянии eq последовательно интегрировать eq эмоциональные аспекты. eq Кроме того, eq внутренняя структура eq образ страны eq остается в eq значительной степени eq необъяснимым, что eq поднимает вопрос eq о том, eq насколько разные eq когнитивные и eq аффективные образы-eq измерения связаны eq и влияют eq друг на eq друга.\n",
      "Введение eq различных групп (eq таких как eq политики, зарубежная eq политическая общественность, eq квалифицированные рабочие eq и эксперты, eq журналисты, студенты), eq исследователи до eq сих пор eq в значительной eq степени пренебрегали eq разработкой обобщающих eq понятий образа eq страны, которые eq можно было eq бы применить eq к сравнительному eq анализу разных eq групп. Весьма eq поразительно, что eq понятия национальная eq идентичность — хотя eq они предлагают eq многообещающие теоретические eq основания для eq обоснования более eq общих атрибутов eq и содержания eq конструкции, необходимой eq для сравнительного eq анализа, — широко eq игнорируются в eq исследованиях образов eq стран. Недавний eq занимается национальным eq брендингом и eq исследованием коллективной eq идентичности успешно eq демонстрируют, как eq теоретические идеи eq ведущих такие eq ученые, как eq Андерсон (1983), Геллнер (1983) eq или Смит (1987), eq могут быть eq применены к eq изучению образов eq страны.\n",
      "Кроме eq того, по-eq прежнему существует eq потребность в eq интегративных подходах eq в исследовании. eq изображений страны (eq Papadopoulos 2004). В eq связи с eq этим существует eq манифест терминологическая eq проблема: нет eq общепринятого концептуального eq понимания имиджа eq страны в eq любой из eq отдельных областей eq исследований. В eq зависимости от eq целей исследования eq образы страны eq определяются как eq ассоциации с eq брендом, когнитивные eq и/или eq аффективные установки, eq стереотипы, самовосприятие (eq т. е. eq идентичность), массовая eq информация или eq социальная репутация. eq Эта терминологическая eq неоднородность усложняет eq необходимую передачу eq и интеграцию eq знаний между eq различными подходами eq и предполагает eq необходимость общей eq структуры.\n",
      "В eq Барселонской декларации eq принципов измерения 2010 eq г. ученые eq и практики eq подчеркнули текущую eq потребность в eq совершенствовании методов eq оценки результатов eq в связях eq с общественностью (eq AMEC 2010). Эмпирически eq измеряя и eq оценка результатов, eq таких как eq репутация или eq имидж, является eq сложной задачей, eq поскольку эти eq целевые конструкты — eq это не eq явные явления, eq а скорее eq сложные неосязаемые eq объекты, которые eq должны быть eq определены, специфицированы eq и тщательно eq введены в eq действие, чтобы eq произвести значимые eq результаты. Если eq концептуализировать с eq несколькими измерениями, eq конституция этих конструкций, eq но включает в eq себя различные взаимосвязанные eq латентпоявляющиеся переменные.\n",
      "eq Это означает, eq что просто eq описательный анализ eq имиджа или eq репутации организации eq не может eq объяснить то, eq что в eq итоге хотят eq знать специалисты eq по связям eq с общественностью, eq а именно: eq эти конструкции eq способствуют построению eq доверительных отношений, eq содействие благоприятному eq поведению заинтересованных eq сторон или eq даже создание eq экономической добавленной eq стоимости для eq соответствующей организации, eq компании или eq страны. Не eq принимая во eq внимание эту eq более широкую eq сеть отношений, eq невозможно оценить eq важность имиджа eq и репутации eq организации.\n",
      "Международные eq связи с eq общественностью и eq публичная дипломатия, eq будучи молодыми eq областями внутри eq или рядом eq с областью eq исследований в eq области связей eq с общественностью, eq имеют более eq или менее eq широкое распространение eq эмерджентный статус (eq Ingenhoff, Ruehl 2013). eq С одной eq стороны — в eq области суставов eq интересы и eq пересекаются — они eq могут опираться eq на три eq десятилетия исследований eq в области eq связей с eq общественностью, которые — eq как подполе eq коммуникативных исследований — eq к настоящему eq времени развились eq разумная академическая eq идентичность как eq независимой области (eq Sisco et eq al., 2011; Smith 2012). eq С другой eq стороны, они eq связаны с eq исследовательской областью, eq где все eq еще необходим eq дальнейший прогресс eq как с eq точки зрения eq методологий исследований, eq так и eq в преемственность eq и строгость eq исследователя в eq применении этих eq подходов (Pasadeos eq et др. 2011, 2010). eq Соответственно, применение eq доступных методов eq является темой eq высокая потребность eq в дискуссиях eq как в eq исследованиях связей eq с общественностью eq вообще, так eq и в eq исследованиях международных eq связей с eq общественностью и eq публичной дипломатии, eq в частности.\n",
      "eq Мощным статистическим eq методом для eq анализа таких eq взаимосвязей является eq моделирование структурными eq уравнениями (SEM) (eq Багоцци, Форнелл, 1982). eq До сих eq пор большинство eq исследований в eq исследования по eq связям с eq общественностью используют eq процедуры на eq основе ковариации (eq CB-SEM) eq для тестирования eq каузальные модели (eq например, Kim, eq Niederdeppe 2013; Ni, eq Wang 2011; Sung, eq Yang 2008).\n",
      "Дополнительным eq методом, который eq вместо этого eq используется редко, eq является метод, eq основанный на eq дисперсии подход eq моделирования структурных eq уравнений с eq частными наименьшими eq квадратами (PLS-eq SEM) (Ломеллер, 1989; eq Тененхаус и eq др., 2005; Уолд, 1982). eq Спорить что eq благодаря последним eq анализам свойств eq этого метода (eq например, Reinartz eq et al. 2009), eq а также eq недавно появившиеся eq методы оценки eq моделей (например, eq Henseler 2012), понимание eq подхода PLS eq значительно возросло eq в последнее eq время и eq годы. В eq то время eq как PLS-eq SEM в eq настоящее время eq привлекает большое eq внимание в eq таких дисциплинах eq бизнес-исследований, eq как маркетинг eq и управленческие eq исследования (Hair eq et al. 2012а, 2012б; eq Хенселер и eq др. 2009), исследования eq по связям eq с общественностью eq до сих eq пор не eq использовали эти eq последние достижения. eq Это удивительно, eq учитывая метод eq обеспечивает многообещающий eq подход к eq решению текущих eq проблем в eq области связей eq с общественностью eq исследований, особенно eq когда речь eq идет об eq оценке.\n",
      "Здесь eq предлагается новая eq интегративная модель eq имиджа страны. eq опираясь на eq достижения в eq области бизнес-eq исследований, социальной eq психологии, политология eq и коммуникативная eq наука. Чтобы eq связать различные eq подходы, применяется eq концепция управления eq коммуникациями, обеспечивающая eq базовую терминологическую eq основу, систематизирующую eq центральные конструкции eq имиджа страны, eq репутация страны, eq бренд страны eq и идентичность eq страны. На eq этом основании eq автор разрабатывает eq четырехмерную «4D-модель» eq образа страны eq путем интеграции eq хорошо зарекомендовавшие eq себя концепции eq из теории eq национальной идентичности, eq теории отношения eq и управление eq репутацией. Новая eq модель подходит eq для применения eq в сравнительных eq анализ образов eq страны как eq на уровне eq различных групп (eq таких как eq местная и eq зарубежная общественность), eq так и eq на разных eq социальных уровнях (eq таких как eq индивидуальные установки, eq с одной eq стороны, и eq престижная информация, eq распространяемая средствами eq массовой информации, eq с другой.\n",
      "eq Растущее значение eq имиджа стран eq вызвало необходимость eq анализа и eq сравнить эти eq конструкции и eq их эффекты eq как в eq исследованиях, так eq и на eq практике. Политические eq лидеры все eq больше беспокоятся eq об уважении eq своей страны eq за границей (eq Kunczik 2003; Price 2003; eq Werron 2014) и eq практики управления eq коммуникациями широко eq применяются на eq уровне национально-eq государственной системы.\n",
      "eq В исследовании eq страны происхождения eq изучение конституции eq и влияния eq страны изображений eq имеет долгую eq историю, начиная eq с работ eq Дихтера (1962) и eq Скулера (1965) (см. eq Peterson, Jolibert 1995; eq Roth, Diamantopoulos 2009; eq Verlegh, Steenkamp 1999 eq для обзора eq области). Большинство eq исследований с eq тех пор eq концептуализировал образ eq страны как eq поведенческий конструкт, eq предполагая множество eq различных измерений eq и переменных (eq Roth, Diamantopoulos). eq Важным фактором eq во многих eq исследованиях является eq оценка состояния eq экономики (например, eq Wang, Lamb 1983; eq Martin, Eroglu 1993), eq а также eq ее политической eq системы (например, eq Allred et eq al. 1999). Хеслоп eq и др. (2004) eq также предполагают, eq что обучение eq и компетентность eq людей являются eq важным фактором. eq Другой фактор eq часто упоминается eq степень технического eq прогресса (например, eq Деборд 1990 г.; eq Кюн 1993; Мартин, eq Эроглу, 1993). Несмотря eq на значительный eq объем исследований eq в этой eq области теоретическая eq основа и eq эмпирическая проверка eq размерности образа eq страны по-eq прежнему считаются eq неудовлетворительными (Newburry 2012). eq исследователи также eq в значительной eq степени воздерживаются eq от прояснение eq внутренней структуры eq конструкта, поставив eq вопрос о eq том, как eq разные когнитивные eq и аффективные eq образы-измерения eq взаимосвязаны и eq воздействуют на eq каждый другой. eq Кроме того, eq если интересоваться eq имиджем страны eq как общей eq конструкцией, большинство eq исследований страны eq происхождения имеют eq ограниченную полезность eq из-за eq того, что eq они сосредоточены eq на имидже eq страны-продукта eq как объединенной eq конструкции (Peterson, eq Joliber, 1995; Verlegh, eq Steenkamp, 1999).\n",
      "1.2 Структура eq и основные eq компоненты имиджа eq государства\n",
      "Мощный eq и позитивный eq национальный имидж eq является одним eq из самых eq ценных активов eq любой страны eq в наше eq время. Она eq способна привести eq в движение eq социальные, экономические eq и культурные eq процессы. Так eq же, как eq компании и eq продукты, страны, eq города, провинции eq и регионы eq также имеют eq свою идентичность. eq То, что eq Саймон Анхольт eq называет конкурентной eq идентичностью, включает eq в себя eq измерение этой eq идентичности, оценку eq ее сильных eq и слабых eq сторон и eq формирование национального eq поведения, чтобы eq заслужить, усилить eq и проецировать eq эту идентичность.\n",
      "eq В 1996 году eq Саймон Анхольт eq ввел термин «eq национальный бренд» eq и положил eq начало важной eq области исследований eq и практики. eq С тех eq пор он eq консультировал глав eq государств и eq глав правительств 56 eq стран, чтобы eq помочь им eq спланировать политику, eq стратегии, инвестиции eq и инновации, eq которые приведут eq их страну eq к улучшению eq статуса и eq репутации. В eq дополнение к eq своей консультативной eq работе профессор eq Анхольт разработал eq системы измерения: eq Nation Brands eq IndexSM (NBI) eq и City eq Brands IndexSM. (eq CBI), чтобы eq оценить, как eq граждане мира eq относятся к eq странам, городам eq и регионам eq мира.\n",
      "Мы eq оцениваем и eq разрабатываем стратегии eq бренда в eq странах, городах eq и регионах, eq а также eq предоставляем глобальные eq и местные eq идеи, необходимые eq для продвижения eq репутации места, eq а также eq для повышения eq успеха его eq деловые, торговые eq и туристические eq усилия. (рис.1)\n",
      "  \\* MERGEFORMAT .1\n",
      "\n",
      "\n",
      "1. «Присутствие. eq Основано на eq международном статусе eq и репутации eq города, а eq также на eq общемировом знакомстве/eq знании города. eq Он также eq измеряет глобальный eq вклад города eq в науку, eq культуру и eq управление.\n",
      "2. Место. eq Изучение восприятия eq людьми физического eq аспекта каждого eq города с eq точки зрения eq приятности климата, eq чистоты окружающей eq среды и eq привлекательности его eq зданий и eq парков.\n",
      "3. Предпосылки - eq Определяет, как eq люди воспринимают eq основные качества eq города; являются eq ли они eq удовлетворительными, доступными eq и удобными, eq а также eq стандартными общественными eq удобствами, такими eq как школы, eq больницы, транспортные eq и спортивные eq сооружения.\n",
      "4. Люди – eq показывает, воспринимаются eq ли жители eq города как eq теплые и eq гостеприимные, думают eq ли респонденты, eq что им eq будет легко eq найти и eq вписаться в eq сообщество, которое eq разделяет их eq язык и eq культуру, и eq будут ли eq они чувствовать eq себя в eq безопасности.\n",
      "5. Пульс - eq измеряет восприятие eq того, что eq есть интересные eq вещи, которыми eq можно заполнить eq свободное время, eq и насколько eq захватывающим воспринимается eq город в eq отношении новых eq вещей, которые eq можно открыть.\n",
      "6. eq Потенциал — измеряет eq восприятие экономических eq и образовательных eq возможностей в eq городе, например, eq насколько легко eq найти работу, eq является ли eq это хорошим eq местом для eq ведения бизнеса eq или получения eq высшего образования» (eq Anholt and eq GfK, 2011).\n",
      "\n",
      "Национальный eq брендинг\n",
      "Anholt eq Ipsos Nation eq Brands IndexSM (eq NBI) помогает eq правительствам, организациям eq и предприятиям eq понять, измерить eq и, в eq конечном счете, eq создать сильный eq национальный имидж eq и репутацию. eq Это измеряет eq силу и eq качество «имиджа eq бренда» каждой eq страны, комбинируя eq следующие шесть eq параметров:\n",
      "• Экспорт — eq общественное представление eq о продуктах eq и услугах eq из каждой eq страны и eq степень, в eq которой потребители eq активно ищут eq или избегают eq продуктов из eq каждой страны eq происхождения.\n",
      "• Управление — eq общественное мнение eq о национальном eq компетентность и eq справедливость правительства, eq а также eq его предполагаемая eq приверженность глобальным eq вопросам, таким eq как мир eq и безопасность, eq справедливость, бедность eq и окружающая eq среда.\n",
      "• Культура eq и наследие — eq глобальное восприятие eq наследия каждой eq нации и eq признательность за eq ее современную eq культуру, включая eq кино, музыку, eq искусство, спорт eq и литературу.\n",
      "• eq Люди — репутация eq населения в eq отношении компетентности, eq открытости и eq дружелюбия, а eq также других eq качеств, таких eq как терпимость.\n",
      "• eq Туризм — уровень eq интереса к eq посещению страны eq и привлекательность eq природных и eq искусственных туристических eq достопримечательностей.\n",
      "• Инвестиции eq и иммиграция — eq способность привлекать eq людей к eq жизни, работе eq или учебе eq в каждой eq стране, а eq также то, eq как люди eq воспринимают качество eq жизни и eq деловую среду eq в стране.\n",
      "eq Оценка каждой eq страны по eq шести параметрам eq кратко отражена eq в шестиугольнике eq национального бренда eq вместе с eq общей оценкой eq индекса. Этот eq инструмент обеспечивает eq согласованную основу eq для межстрановых eq сравнений по eq ключевым факторам. eq Влияние на eq репутацию, чтобы eq вы могли eq видеть, какое eq место занимает eq бренд вашей eq страны и eq почему.\n",
      "Анализируя eq этот обширный eq набор данных, eq наша команда eq по брендированию eq мест оценивает eq положение вашей eq страны в eq мире и eq на стратегических eq рынках с eq течением времени, eq что делает eq NBISM одним eq из наиболее eq эффективных инструментов eq для управления eq репутацией вашей eq страны во eq всем мире.\n",
      "eq Компоненты имиджа eq государства.\n",
      "Структура eq имиджа несколько eq по-разному eq видится исследователями eq различных его eq ипостасей – индивидуального, eq политического, корпоративного. eq Однако как eq коммуникативная единица eq любой имидж – eq индивидуума, группы eq индивидуумов или eq социума – будет eq включать индивидуальные (eq персональные), социальные eq и символические eq блоки, которые, eq в свою eq очередь, можно eq дифференцировать по eq принципу объективности eq характеристик и eq субъективности. Некоторые eq исследователи делят их eq также на:\n",
      "1. eq условно-статичные (eq их можно eq отнести к eq объективным):\n",
      "природный eq ресурсный потенциал;\n",
      "eq национальное и eq культурное наследие eq российского общества;\n",
      "eq геополитические параметры (eq географическое положение, eq площадь занимаемой eq территории, протяженность eq границ государства, eq выход к eq морям и eq т. д.);\n",
      "eq исторические события, eq повлиявшие на eq развитие российской eq государственности;\n",
      "базовая eq форма государственного eq устройства и eq структура управления.\n",
      "2. eq условно-динамичные (eq их можно eq отнести к eq субъективным):\n",
      "социально-eq психологические настроения eq в российском eq обществе;\n",
      "характер eq и принципы eq деятельности общественно-eq политических объединений eq России;\n",
      "морально-eq нравственные аспекты eq развития российского eq общества;\n",
      "устойчивость eq российской экономики (eq оцениваемая комплексом eq показателей динамики eq ВВП, уровня eq доходов на eq душу населения, eq объема привлекаемых eq инвестиций, финансовой eq обеспеченности бюджетов, eq гарантий прав eq и свобод eq хозяйствующих на eq российском рынке eq субъектов реального eq сектора экономики eq и др.);\n",
      "eq правовое пространство eq России и eq соответствие российских eq правовых норм eq международным требованиям;\n",
      "eq функции, полномочия eq и механизмы eq государственного регулирования eq различных областей eq и сфер eq деятельности в eq Российском государстве (eq эффективность властной eq конструкции).\n",
      "Эти eq параметры можно eq отнести к eq социальному блоку. eq Последние изменяются eq в процессе eq трансформации страны eq и могут eq корректироваться при eq формировании имиджа.\n",
      "eq Идентичность государства eq определяется как eq относительно стабильные, eq основанные на eq ролях, ожидания eq актора относительно eq самого себя. eq Образ государства, eq формирующийся у eq других участников eq международных отношений, eq зависит от eq интересов этих eq участников. Интересы eq всегда предполагают eq построение отношений eq именно с eq данными, а eq не с eq другими странами. eq Совпадение интересов eq способно заложить eq позитивный фундамент eq для формирования eq образа страны eq у других eq стран. Например, eq в исследованиях, eq выполненных с eq позиций классического eq либерализма, подчеркивается, eq что разделяемая «eq демократическая идентичность» eq способствует снижению eq количества конфликтов eq между государствами.\n",
      "eq Идентичность, по eq мнению исследователей, eq включает:\n",
      "1.  «Национальную eq идентичность», которая eq определяется особенностями eq географического положения, eq организации политической eq и экономической eq жизни, культуры eq и истории, eq этническим и eq религиозным составом eq населения, разделяемыми eq ценностями и eq убеждениями.\n",
      "2.  Статус eq государства – его eq положение в eq межстрановом пространстве, eq членство в eq международных организациях, eq характер отношений eq с теми eq или иными eq странами, перечень eq ролей, которые eq государство реализует eq на международной eq арене.\n",
      "Компонентом eq образов и eq созданного имиджа, eq безусловно, является eq образ политического eq лидера страны. eq Саймон Энхальт, eq советник правительства eq Великобритании по eq вопросам публичной eq дипломатии и eq специалист по eq страновому брендингу, eq оценивает важность eq лидеров в eq образе государства: «eq Важно не eq то, какой eq видный лидер, eq а насколько eq простой он eq сегодня нуждается eq в сильном, eq харизматическом лидере, eq например Маргарет eq Тэйтчере, которая eq была популярной eq в Европе». eq Другой ключевой eq компонент имиджа eq в последние eq годы является eq инвестиционный вклад eq в теорию eq корпоративных имиджа – eq бизнес-имиджа. eq Для того, eq чтобы политическая eq и экономическая eq характеристика стала eq привлекательной для eq инвестиций, в eq современных мировых eq сообществах составляющими eq имиджа бизнеса eq должны оказаться eq цивилизованные, прозрачные eq и социальные eq обязательства по eq экологической и eq технологической безопасности, eq финансирование учебных eq и научно-eq исследовательских программ, eq создание социальных eq программ сотрудникам eq предприятий, компаний, eq а также eq другие. Хорошо, eq хорошо, хорошо, eq Государству следует eq проявить готовность eq к принятию eq условий международного eq рынка - стабильных eq правил игры, eq которые регламентированы eq законом, а eq также реформирования eq естественного монополизма, eq налоговых, судебно-eq банковских, банковских eq и прочих eq систем. \n",
      "Как eq формировать имидж eq государства?\n",
      "Э.eq А. Галумов eq в книге «Международный eq имидж России: стратегия eq формирования» рекомендует eq создание некого eq единого имидж, eq который были eq бы обязаны eq пропагандировать все eq российские СМИ. eq Любой конструируемый eq имидж, безусловно, eq должен быть eq целостным, однако eq иерархия характеристик eq может и eq должна быть eq несколько различной eq для различных eq групп общественности. \n",
      "eq Поскольку наш eq мир становится eq все более eq взаимосвязанным и eq глобализированным, важность «eq мягкой силы» eq в международных eq делах невозможно eq переоценить. Использование «eq мягкой силы» eq стало важнейшим eq компонентом внешней eq политики для eq стран во eq всем мире, eq поскольку они eq стремятся строить eq позитивные отношения eq с другими eq странами, продвигать eq свои ценности eq и интересы eq и достигать eq своих стратегических eq целей ненасильственными eq средствами.\n",
      "Это eq еще более eq важно, когда eq некоторые народы eq использовать военную eq силу, чтобы eq навязать свою eq волю другим eq нации.\n",
      "В eq этом ежегодном eq отчете о «eq мягкой силе» eq рассматривается способность eq влиять на eq других посредством eq привлечения или eq убеждения, а eq не принуждения. eq Он охватывает eq широкий спектр eq инструментов, включая eq бизнес и eq торговлю, управление, eq международные отношения, eq культуру и eq наследие, средства eq массовой информации eq и коммуникации, eq образование и eq науку, характер eq нации и eq продвижение своих eq значений. Мягкая eq сила позволяет eq страны для eq формирования восприятия eq и отношения eq других стран, eq укреплять доверие eq и сотрудничество eq и продвигать eq свои интересы, eq не прибегая eq к военной eq силе.\n",
      "Одним eq из ключевых eq преимуществ «мягкой eq силы» является eq то, что eq позволяет странам eq достигать своих eq целей за eq счет мирныx eq средств. В eq отличие от eq жесткой силы, eq которая опирается eq на военную eq силу и eq принуждение, мягкая eq сила позволяет eq нациям завоевывать eq сердца и eq умы посредством eq диалога, культурного eq обмена, и eq сотрудничество.\n",
      "Это eq может быть eq особенно эффективно eq при построении eq отношения со eq странами, которые eq могут быть eq враждебными по eq отношению к eq собственному народу.\n",
      "eq Демонстрируя добрую eq волю и eq продвигая взаимные eq интересы, страны eq могут укрепить eq доверие и eq создать более eq стабильную и eq мирную международную eq средe.\n",
      "Еще eq одним важным eq аспектом «мягкой eq силы» является eq ее способность eq способствовать экономическому eq развитию и eq процветанию. Страны eq могут использовать «eq мягкую силу» eq для привлечение eq иностранных инвестиций, eq расширять торговлю, eq продвигать туризм eq и приглашать eq таланты. Все eq это может eq помочь создать eq рабочие места eq и ускорить eq экономический рост eq в обеих eq странах-партнерах.\n",
      "eq Однако «мягкая eq сила» не eq лишена проблем eq и ограничений. eq Он требует eq значительных инвестиций eq в образование, eq культуру и eq дипломатию и eq не всегда eq может дать eq немедленные результаты.\n",
      "eq Кроме того, eq инициативы «мягкой eq силы» могут eq быть подорваны eq внутренней политикой eq или действиями, eq которые воспринимаются eq как лицемерные eq или несовместимые eq с продвигаемыми eq ценностями. Более eq того, «мягкой eq силы» может eq быть недостаточно eq для решения eq определенных проблем, eq таких как eq терроризм, которые eq могут потребовать eq применения «жесткой eq силы».\n",
      "Несмотря eq на эти eq проблемы, важность eq SOFT POWER eq в международных eq делах нельзя eq игнорировать.\n",
      "В eq мире, где eq власть все eq больше определяется eq нематериальными факторами, eq такими как eq репутация, влияние eq и ценности, «eq мягкая сила» eq стала важным eq инструментом для eq достижения стратегических eq целей и eq развития международного eq сотрудничества. Политики, eq дипломаты и eq граждане должны eq признать потенциал «eq мягкой силы» eq и инвестировать eq в инструменты, eq необходимые для eq ее эффективного eq использования. Только eq приняв «мягкую eq силу», мы eq сможем построить eq для себя eq более мирный, eq процветающий и eq справедливый мир eq и будущих eq поколений.\n",
      "Как eq строится Индекс\n",
      "eq Global Soft eq Power Index eq основан на eq самой всеобъемлющей eq и широкомасштабной eq исследовательской программе eq в своем eq роде, в eq которой приняли eq участие более 110 000 eq человек из eq более чем 100 eq стран, исследуя eq восприятие 121 национального eq бренда со eq всего мира.\n",
      "eq Глобальный индекс eq мягкой силы eq включает в eq себя широкий eq спектр показателей, eq которые в eq совокупности обеспечивают eq сбалансированную и eq целостную оценку eq присутствия, репутации eq и влияния eq наций на eq мировой арене. eq К ним eq относятся:\n",
      "Знакомство: eq национальные бренды, eq которые люди eq знают и eq имеют ментальную eq доступность, обладают eq большей мягкой eq силой.\n",
      "Репутация: eq считается ли, eq что эта eq страна имеет eq сильную и eq положительную репутацию eq во всем eq мире?\n",
      "Влияние: eq степень, в eq которой считается, eq что нация eq имеет влияние eq в стране eq респондента, а eq также на eq мировой арене.\n",
      "eq Эффективность основных 8 eq столпов «мягкой eq силы» (бизнес eq и торговля, eq управление, международные eq отношения, культура eq и наследие, eq СМИ и eq коммуникации, образование eq и наука, eq люди и eq ценности, устойчивое eq будущее)\n",
      "Веса, eq присвоенные каждому eq показателю в eq рамках Индекса, eq были основаны eq на сочетании eq мнений экспертов, eq полученных в eq результате обширного eq обзора литературы eq и процесса eq консультаций с eq экспертами, а eq также статистического eq анализа, оценивающего eq степень, в eq которой эффективность eq компонентов коррелирует eq с влиянием eq и репутацией. eq Введение новых eq атрибутов не eq повлияло на eq весовые коэффициенты eq существующих для eq обеспечения сопоставимости eq по годам.\n",
      "\n",
      "eq Национальные бренды eq в рейтинге\n",
      "eq В программу eq исследования был eq включен 121 национальный eq бренд, в eq том числе eq Зимбабве впервые. eq Ключевые страны, eq глобальная репутация eq которых представляет eq наибольший интерес eq для пользователей eq и подписчиков eq Индекса (например, eq Китай, США, eq Бразилия), получили eq приоритет как «eq Уровень 1» (см. eq карту). Эти 32 eq страны уровня 1 eq имеют больший eq размер выборки, eq оценивающий их.\n",
      "eq Каждый год eq Brand Finance eq оценивает 5000 крупнейших eq мировых корпоративных eq брендов. В eq течение почти 20 eq лет Brand eq Finance также eq отслеживает силу eq и ценность eq национальных брендов, eq а с 2020 eq года публикует eq самое всестороннее eq в мире eq исследование восприятия eq национальных брендов — eq Global Soft eq Power Index.\n",
      "eq Понимание этих eq представлений является eq ключом к eq успеху национальных, eq региональных, городских eq и корпоративных eq брендов на eq международном уровне, eq позволяя определять eq сильные и eq слабые стороны eq и улучшать eq стратегии роста eq в будущем. eq Чем сильнее «eq мягкая сила» eq страны, тем eq выше ее eq способность привлекать eq инвестиции и eq продавать свои eq товары и eq услуги. После eq успешной публикации eq трех итераций eq Индекса Brand eq Finance завершила eq четвертый год eq исследований, основанных eq на глобальной eq выборке из eq более чем 100 000 eq респондентов. Новый eq отчет, в eq котором оценивается 121 eq национальный бренд eq со всего eq мира, должен eq быть опубликован 2 eq марта 2023 года eq на саммите eq Global Soft eq Power Summit.\n",
      "eq Образ страны\n",
      "eq По аналогии eq с широко eq используемой концепцией eq имиджа имидж eq страны можно eq определить как «eq сумма убеждений, eq взглядов и eq впечатлений, которые eq человек или eq группа лиц eq имеет объект» (eq Barich, Kotler 1991: 95); eq в данном eq случае страны. eq Это понятие eq может быть eq дополнительно дифференцировано eq при разграничении eq индивидуума и eq собирательный образ, eq оба из eq которых ассимилированы eq в определении eq Бариха и eq Котлера. Провести eq четкое различие eq между имиджем eq страны как eq личности суждение, eq сделанное единицей eq субъективного поведения (eq Boulding 1969), с eq одной стороны, eq а накопленный eq образ страны eq группы, с eq другой, полезен, eq когда относясь eq к последнему, eq чтобы говорить eq об агрегированных eq изображениях. Вышеупомянутое eq определение также eq следует уточнить, eq введя дифференциацию eq точки зрения: eq было подчеркнуто, eq что должно eq быть четкое eq концептуальное различие eq между внешним eq восприятием (иностранной eq публикой) и eq самовосприятием (иностранной eq публикой и eq местного населения) (eq Grunig 1993b). Для eq учета этой eq дифференциации необходимо eq полезно различать eq понятия имиджа eq страны и eq идентичности страны.\n",
      "eq Говоря об eq имидже страны, eq мы имеем eq в виду eq восприятие страны, eq которая существует eq среди своей eq иностранной публики (eq внешней группы), eq в то eq время как eq страновая идентичность eq концептуализируется как eq внутреннее самовосприятие, eq существующее среди eq внутренней публики eq страны (своей eq группы). Это eq аналитическое различие eq не должно eq скрывать тот eq факт, что eq внутренние на eq самом деле eq публики могут eq быть самыми eq разнообразными. В eq зависимости от eq цели исследования eq это может eq сделать смысл eq в дальнейшей eq классификации здесь, eq например, мигранты, eq региональное население eq или этнические eq меньшинства. \n",
      "Бренд eq страны \n",
      "Бренд, eq в соответствии eq установленному определению, — eq это «имя, eq термин, знак, eq символ или eq дизайн или eq их комбинация, eq предназначенные для eq идентификации товаров eq и услуг eq одного продавца eq или группы eq продавцов и eq дифференцировать их eq от продавцов eq конкурентов» (Kotler, eq Armstrong 2013: 255). Таким eq образом, бренд — eq это, прежде eq всего, намеренно eq разработанная стратегическая eq репрезентация себя. eq Хотя в eq академической литературе eq часто существует eq различие между eq брендом в eq том виде, eq в каком eq он сообщается eq организацией, и eq брендом в eq том виде, eq в каком eq его представляют eq соответствующие целевые eq группы, - со eq ссылкой на eq определения, установленные eq выше - быть eq концептуально выровненными eq с пониманием eq имиджа (или eq в данном eq случае «имиджа eq бренда») и eq как такового eq лежит за eq пределами основной eq концепции бренда. eq В соответствии eq с этим eq пониманием бренд eq страны рассматривается eq как продукт eq стратегически переданной eq информации национальное eq государство о eq самом себе. eq Она тесно eq связана с eq национальной идентичностью, eq которая составляет eq необходимую основу eq для любой eq последовательной саморепрезентации.\n",
      "eq Национальная идентичность eq как основа\n",
      "eq Объект имиджа eq страны понимается eq как единство eq нации и eq ее состояние. eq Опираясь на eq концепцию национальной eq идентичности Смита (1991), eq страна можно eq определить как eq именованный человеческий eq коллектив, состоящий eq из шести eq родовых атрибутов: eq отдельная территория eq или «родина», eq общая история eq и традиции, eq домашняя экономика, eq общественная культура, eq набор общих eq норм и eq ценностей, а eq также суверенная eq политическая организация eq или государство. eq Эти атрибуты eq хорошо подходят eq в качестве eq основы для eq модели, потому eq что они eq могут быть eq концептуально обоснованы eq широко используемой eq теорией Смита eq о нациях, eq применяются в eq исследованиях страновой eq идентичности (David, eq Bar-Tal 2009) eq и соответствуют eq категории, по eq которым иностранцы eq на самом eq деле воспринимают eq и различают eq разные страны (eq Mittelstaedt et eq al., 2004).\n",
      "Образ eq страны как eq отношение\n",
      "Определив eq имиджевый объект eq как таковой, eq образ страны eq концептуализируется, соответственно, eq как отношение eq к стране, eq т. е. eq отношение к eq территории страны, eq ее истории eq и традициям, eq ее внутреннему eq хозяйству, общественной eq культуре, норм eq и ценностей, eq а также eq его политическая eq организация. Тем eq самым можно eq для нашей eq модели «использовать eq одни и eq те же eq описательные измерения eq для характеристики eq изображения и eq объект» (Кельман 1965). eq Таким образом, eq модель хорошо eq подходит для eq сравнительного анализа. eq Анализ самообраза eq граждан страны, eq т. е. eq национальной идентичности, eq и образ eq страны в eq восприятии зарубежной eq публики. (рис.2)\n",
      "\n",
      "eq Рис.2 Атрибуты eq страны (на eq основе Smith 1991)\n",
      " SHAPE  \\* MERGEFORMAT \t\n",
      "eq В частности, eq модель будет eq применяться к eq решить следующие eq исследовательские вопросы:\n",
      "eq текущие проблемы eq в исследованиях eq связей с eq общественностью, особенно eq когда речь eq идет об eq оценке.\n",
      "1.Как eq различные аспекты eq организационной репутации eq взаимосвязаны и\n",
      "eq влияют друг eq на друга?\n",
      " 2.eq Как различные eq аспекты репутации eq организации влияют eq на развитие eq доверия и eq содействие благоприятному eq поведению заинтересованных eq сторон?\n",
      "Кроме eq того, поскольку eq в данной eq области до eq сих пор eq отсутствуют сравнительные eq исследования, которые eq бы эмпирически eq оценивали эти eq эффекты в eq различных группах eq заинтересованных сторон (eq Чун, 2005 г.), eq мы также eq спрашиваем:\n",
      "3.Как eq меняется структура eq репутации организации eq и ее eq последствия между eq различными группами eq заинтересованных сторон eq организации?\n",
      "В eq этой главе eq представлен краткий eq обзор достижений eq в концептуализации eq образа страны eq в бизнес-eq исследованиях, социальной eq психологии, политологии eq и коммуникативной eq науки, и eq показывает, как eq доступные знания eq из этих eq областей могут eq быть объединены eq для получения eq интегративной модели eq имиджа страны. eq В то eq время как eq имидж и eq идентичность страны eq рассматриваются в eq первую очередь eq как поведенческие eq конструкции и eq что они eq основаны на eq процессах восприятия, eq бренда страны eq и репутации, eq приняв эти eq факторы можно eq систематизировать центральные eq понятия. \n",
      "\n",
      "\n",
      "\n",
      "\n",
      "\n",
      "\f",
      "1.3 Гендерное eq равенство как eq компонент имиджа eq государства\n",
      "Гендерное eq равенство — это eq не только eq одно из eq основных прав eq человека, но eq и необходимая eq основа для eq мира, процветания eq и устойчивого eq развития во eq всем мире. eq За последние eq десятилетия был eq достигнут прогресс, eq но мир eq не находится eq на пути eq к достижению eq гендерного равенства eq к 2030 году.\n",
      "eq Для ускорения eq прогресса необходимы eq приверженность и eq решительные действия, eq в том eq числе путем eq продвижения законов, eq политики, бюджетов eq и институтов, eq способствующих гендерному eq равенству. Увеличение eq инвестиций в eq гендерную статистику eq имеет жизненно eq важное значение, eq поскольку в eq настоящее время eq доступно менее eq половины данных, eq необходимых для eq мониторинга Цели eq ООН.\n",
      "Всемирный eq экономический форум eq ожидает, что eq теперь потребуется eq более 130 лет, eq чтобы устранить eq гендерный разрыв eq во всем eq мире, по eq сравнению с eq примерно 100 годами eq до пандемии. eq Во всем eq мире 64 миллиона eq женщин потеряли eq работу во eq время пандемии (eq вдвое больше, eq чем мужчин), eq потому что eq женщины с eq большей вероятностью eq будут работать eq в неформальном eq секторе, на eq временной работе eq или на eq неполный рабочий eq день — виды eq работ, которые eq работодатели обычно eq сокращают в eq первую очередь eq в период eq экономического спада. eq с более eq низкой оплатой eq и меньшей eq социальной защитой. eq По оценкам, 80 eq процентов людей, eq перемещенных в eq результате изменения eq климата, составляют eq женщины (UNDP, 2016).\n",
      "eq Не может eq быть универсальной eq формулы для eq продвижения гендерного eq равенства. \n",
      "По eq этим причинам eq гендерное равенство eq является ключевым eq вопросом развития — eq самостоятельной целью eq развития. Укрепляет eq возможности стран eq расти, сокращать eq бедность и eq эффективно управлять. eq Таким образом, eq содействие гендерному eq равенству является eq важной частью eq стратегии развития, eq которая направлена eq на то, eq чтобы дать eq всем людям — eq как женщинам, eq так и eq мужчинам — возможность eq вырваться из eq бедности и eq улучшить свой eq уровень жизни.\n",
      "eq Экономическое развитие eq открывает множество eq возможностей для eq повышения гендерного eq равенства в eq долгосрочной перспективе. eq Значительный объем eq данных по eq всему миру eq поддерживает это eq утверждение. Но eq рост сам eq по себе eq не даст eq желаемых результатов. eq Также необходимы eq институциональная среда, eq обеспечивающая равные eq права и eq возможности для eq женщин и eq мужчин, и eq политические меры, eq направленные на eq устранение сохраняющегося eq неравенства. В eq этом отчете eq содержится аргумент eq в пользу eq трехчастного стратегия eq продвижения гендерного eq равенства:\n",
      "• Содействовать eq экономическому развитию, eq чтобы усилить eq стимулы для eq более равных eq ресурсов и eq участия. Рост eq доходов и eq снижение уровня eq бедности, как eq правило, сокращают eq гендерное неравенство eq в образовании, eq здравоохранении и eq питании. Выше\n",
      "eq производительность и eq новые возможности eq трудоустройства часто eq сокращают гендерное eq неравенство в eq сфере занятости. eq А инвестиции eq в базовую eq водную, энергетическую eq и транспортную eq инфраструктуру помогают eq уменьшить гендерное eq неравенство в eq рабочей нагрузке.\n",
      "• eq Принимать активные eq меры для eq устранения сохраняющегося eq неравенства в eq распоряжении ресурсами eq и политическим eq голосом. Поскольку eq институциональных реформ eq и экономического eq развития может eq быть недостаточно — eq или в eq ближайшее время — eq необходимы активные eq меры для eq устранения сохраняющихся eq гендерных диспропорций eq в краткосрочной eq и среднесрочной eq перспективе.\n",
      "В eq первую очередь eq издержек гендерного eq неравенства являются eq его последствия eq для человеческих eq жизней и eq качества этих eq жизней. Определить eq и измерить eq полную величину eq этих издержек eq сложно, но eq множество данных eq из стран eq по всему eq миру показывает, eq что общества eq с большим, eq устойчивым гендерным eq неравенством расплачиваются eq за это eq большей бедностью, eq недоеданием, болезнями eq и другими eq проблемами.\n",
      "• Как eq и в eq случае с eq обучением матерей, eq более высокий eq доход домохозяйства eq связан с eq более высокими eq показателями выживаемости eq детей и eq лучшим питанием. eq Как показывают eq исследования Бангладеш, eq Бразилии и eq Кот-д’Ивуара, eq передача дополнительных eq доходов в eq руки женщин eq в домашнем eq хозяйстве, как eq правило, оказывает eq большее положительное eq влияние, чем eq передача этого eq дохода в eq руки мужчин. eq К сожалению, eq жесткие социальные eq нормы о eq соответствующем гендерном eq разделении труда eq и ограниченная eq оплачиваемая занятость eq для женщин eq ограничивают возможности eq женщин получать eq доход.\n",
      "• В eq то время eq как женщины eq и девочки, eq особенно малоимущие, eq часто несут eq основную тяжесть eq гендерного неравенства, eq гендерные нормы eq и стереотипы eq влекут за eq собой издержки eq на самцах eq тоже. В eq странах с eq переходной экономикой eq Восточной Европы eq в последние eq годы наблюдается eq абсолютное снижение eq средней продолжительности eq жизни мужчин. eq Повышение показателей eq мужской смертности — eq самое большое, eq зарегистрированное в eq мирное время, — eq связано с eq растущим стрессом eq и тревогой eq из-за eq быстрого роста eq безработицы среди eq мужчин.\n",
      "Производительность eq и экономический eq рост\n",
      "Потери eq человеческих жизней — eq это потери eq для развития, eq поскольку конечной eq целью развития eq является повышение eq качества жизни eq людей. Но eq гендерное неравенство eq также влияет eq на производительность, eq эффективность и eq экономический прогресс. eq Но гендерное eq неравенство также eq влияет на eq производительность, эффективность eq и экономический eq прогресс. Препятствуя eq накоплению человеческого eq капитала в eq семье   и eq рынок труда, eq а также eq систематически исключая eq женщин или eq мужчин из eq доступа к eq ресурсам, общественным eq услугам или eq производственной деятельности, eq дискриминация по eq признаку пола eq снижает способность eq экономики расти eq и повышать eq стандарты жизни.\n",
      "eq По оценкам eq другого исследования, eq даже для eq стран со eq средним и eq высоким уровнем eq дохода и eq более высоким eq уровнем начального eq образования увеличение eq на 1 процентный eq пункт доли eq женщин со eq средним образованием eq связано с eq увеличением дохода eq на душу eq населения на 0,3 eq процентного пункта. eq Оба исследования eq контролируют другие eq переменные, часто eq встречающиеся в eq литературе по eq вопросам роста.\n",
      "eq Управление\n",
      "Более eq широкие права eq женщин и eq более равноправное eq участие женщин eq и мужчин eq в общественной eq жизни связаны eq с более eq чистым бизнесом eq и правительством, eq а также eq с лучшим eq управлением. Там, eq где влияние eq женщин в eq общественной жизни eq выше, уровень eq коррупции ниже. eq Это справедливо eq даже при eq сравнении стран eq с одинаковым eq доходом, гражданскими eq свободами, образованием eq и правовыми eq институтами. Хотя eq эти результаты eq все еще eq только наводят eq на размышления, eq они дополнительно eq подтверждают необходимость eq увеличения числа eq женщин на eq рынке труда eq и в eq политике, поскольку eq женщины могут eq быть эффективной eq силой для eq верховенства закона eq и хорошего eq правительства.\n",
      "Женщины eq в бизнесе eq менее склонны eq давать взятки eq чиновникам, возможно, eq потому что eq у женщин eq более высокие eq стандарты этического eq поведения или eq большее неприятие eq риска. Этот eq результат сохраняется eq независимо от eq характеристик фирмы, eq таких как eq сектор, в eq котором она eq работает, и eq размера фирмы, eq а также eq характеристик владельца eq или менеджера, eq таких как eq образование. Не eq контролируя эти eq факторы, фирмы, eq которыми руководят eq мужчины, в eq два раза eq чаще платят eq взятки.\n",
      "\f",
      "2. Международная eq политика в eq области гендерного eq равенства\n",
      "2.1 Истоки eq формирования и eq основы политики eq в области eq гендерного равенства\n",
      "eq Имиджевая политика eq в области eq гендерного равенства eq в странах eq заключается в eq создании позитивного eq образа женщин eq и мужчин, eq которые равноправны, eq имеют одинаковые eq возможности и eq взаимодействуют на eq равных правах. eq Эта политика eq направлена на eq изменение существующих eq стереотипов и eq устоявшихся представлений eq о том, eq какими должны eq быть мужчины eq и женщины.\n",
      "eq Одним из eq примеров имиджевой eq политики в eq области гендерного eq равенства является eq проведение кампаний, eq которые способствуют eq увеличению количества eq женщин в eq высших руководящих eq должностях и eq научной сфере. eq Такие кампании eq показывают, что eq женщины могут eq быть успешными eq руководителями и eq учеными, и eq что имеют eq право на eq равные возможности eq и достижения.\n",
      "eq Также имиджевая eq политика включает eq в себя eq создание позитивных eq образов женщин eq и мужчин eq в средствах eq массовой информации. eq Например, фильмы eq и телешоу, eq которые демонстрируют eq женщин, занимающих eq высокие должности, eq успешно балансирующих eq работу и eq семейную жизнь, eq мужчин, которые eq активно участвуют eq в воспитании eq детей и eq домашних делах, eq помогают изменить eq стереотипы и eq привлекают внимание eq к вопросам eq гендерного равенства.\n",
      "eq Комиссия по eq положению женщин (eq CSW) является eq основным глобальным eq межправительственным органом, eq занимающимся исключительно eq продвижением гендерного eq равенства и eq расширением прав eq и возможностей eq женщин. Функциональная eq комиссия \n",
      "Экономического eq и Социального eq Совета (ЭКОСОС), eq она была eq создана резолюцией eq ЭКОСОС 11 (II) eq от 21 июня 1946 eq года.\n",
      "В 1996 eq году ЭКОСОС eq в резолюции 1996/6 eq расширил мандат eq Комиссии и eq постановил, что eq она должна eq взять на eq себя ведущую eq роль в eq мониторинге и eq анализе прогресса eq и проблем eq в осуществлении eq Пекинской декларации eq и Платформы eq действий, а eq также в eq учете гендерный eq аспект в eq деятельности ООН.\n",
      "eq Структура «ООН-eq женщины» поддерживает eq все аспекты eq работы Комиссии. eq Мы также eq способствуем участию eq представителей гражданского eq общества.\n",
      "С eq одной стороны, eq бедность влияет eq на усугубление eq гендерного неравенства. eq Неравенство между eq девочками и eq мальчиками в eq доступе к eq школьному образованию eq или надлежащему eq медицинскому обслуживанию eq более остро eq проявляются среди eq бедных, чем eq среди людей eq с более eq высокими доходами. eq Эта разница eq ставимт девочек eq и женщин eq в невыгодное eq положение и eq ограничивает их eq возможности для eq развития.\n",
      "На eq другом уровне eq гендерное неравенство eq препятствует развитию. eq В то eq время как eq неравенство в eq основных правах; eq в обучении, eq кредите и eq работе; или eq в способности eq участие в eq общественной жизни eq самым непосредственным eq образом сказывается eq на женщинах eq и девочках, eq полная стоимость eq гендерного неравенства eq в итоге eq вредит всем. eq Доказательство собранные eq в данном eq отчете, показывают eq это однозначно. eq Центральный посыл eq ясен: игнорирование eq гендерного неравенства eq дорого обходится — eq благополучию людей eq и способности eq стран устойчиво eq расти, управлять eq эффективно и, eq таким образом, eq сократить бедность.\n",
      "eq Политика гендерного eq равенства дает eq специалистам по eq развитию и eq членам гражданского eq общество много eq ценных уроков eq и инструментов eq для интеграции eq и развитию. eq Большое количество eq данных и eq анализов, представленных eq в различных eq отчетах, может eq помочь в eq разработке эффективных eq стратегий поощряя eq равенства между eq мужчинами и eq женщинами в eq процессе развития.\n",
      "eq Всемирные конференции eq по положению eq женщин\n",
      "Мехико: eq глобальный Диалог eq открыт\n",
      "Первая eq всемирная конференция eq по положению eq женщин была eq созвана в eq Мехико, чтобы eq совпасть с eq Международным годом eq женщин 1975 года, eq чтобы напомнить eq международному сообществу, eq что дискриминация eq в отношении eq женщин по-eq прежнему остается eq постоянной проблемой eq в большинстве eq стран мира. eq Конференция, наряду eq с Десятилетием eq женщины Организации eq Объединенных Наций (1976–1985 eq годы), провозглашенным eq Генеральной Ассамблеей eq пятью месяцами eq позже по eq настоянию Конференции, eq положила начало eq новой эре eq глобальных усилий eq по содействию eq улучшению положения eq женщин, начав eq всемирный диалог eq по гендерное eq равенство. Был eq запущен процесс eq обучения, который eq включал бы eq обсуждение, переговоры, eq постановку целей, eq выявление препятствий eq и обзор eq достигнутого прогресса.\n",
      "eq Конференция в eq Мехико была eq созвана Генеральной eq Ассамблеей Организации eq Объединенных Наций eq для того, eq чтобы привлечь eq международное внимание eq к необходимости eq разработки ориентированных eq на будущее eq целей, эффективных eq стратегий и eq планов действий eq по улучшению eq положения женщин. \n",
      "eq С этой eq целью Генеральная eq Ассамблея определила eq три ключевые eq задачи, которые eq станут основой eq для работы eq Организации Объединенных eq Наций в eq интересах женщин:\n",
      "eq совершенное гендерное eq равенство и eq отстранение гендерной eq дискриминации; \n",
      "интеграция eq и полное eq участие женщин eq в развитии; \n",
      "eq увеличение вклада eq женщин в eq укрепление мира eq во всем eq мире.\n",
      "  На eq этой конференции eq принято Всемирный eq план действий- eq документ, предлагающий eq правительствам и eq международному сообществу eq принципы работы, eq которым они eq должны следовать eq в последующие eq десять лет eq достижения целей, eq Генеральной Ассамблеей. eq План действий eq предполагает цели, eq которые должны eq были быть eq достигнуты к 1980 eq году и eq которые сосредоточены eq на обеспечении eq равного доступа eq женщин к eq таким ресурсам, eq как образование, eq возможности трудоустройства, eq участие в eq политической жизни.\n",
      "eq Если в eq свое время eq женщины рассматривались eq как бездеятельные eq получатели поддержки eq и помощи, eq то теперь eq они рассматриваются eq как полноценные eq и равноправные eq партнеры мужчин eq с равными eq правами на eq ресурсы и eq возможности. Аналогичная eq трансформация происходила eq и в eq подходе к eq развитию: от eq прежней веры eq в то, eq что развитие eq способствует улучшению eq положения женщин, eq к новому eq консенсусу в eq отношении того, eq что развитие eq невозможно без eq всестороннего участия eq женщин.\n",
      "\n",
      "  Конференция eq призвала правительства eq разработать национальные eq стратегии и eq определить цели eq и приоритеты eq в своих eq усилиях по eq содействию равному eq участию женщин. eq К концу eq десятилетия ООН eq и 127 государств-eq членов создали eq национальный механизм, eq занимающихся продвижением eq политики, исследований eq и программ, eq направленных на eq улучшение положения eq женщин и eq их участие eq в развитии.\n",
      "  eq Важным аспектом eq встречи в eq Мехико было eq то, что eq сами женщины eq сыграли важную eq роль в eq формировании дискуссии. eq Из 133 делегаций eq государств-членов, eq собравшихся там, 113 eq возглавляли женщины. eq Женщины также eq организовали параллельный eq Форум НПО «eq Трибьюн Международного eq года женщин», eq в котором eq приняли участие eq около 4000 человек.\n",
      "  eq Форум исполнил eq важную роль eq в объединении eq женщин и eq мужчин из eq разных культур eq и слоев eq общества для eq обмена информацией eq и мнениями, eq а также eq для запуска eq процесса, который eq поможет объединить eq женское движение, eq которое к eq концу Десятилетия eq женщин станет eq действительно интернациональный. eq Форум также eq сыграл важную eq роль в eq открытии Организации eq Объединенных Наций eq для НПО, eq которые обеспечили eq доступ женщин eq к участию eq в процессе eq разработки политики eq Организации.\n",
      "\n",
      "Копенгаген: eq Процесс начинается\n",
      "eq Был достигнут eq значительный прогресс, eq когда 145 государств eq собрались в 1980 eq году в eq Копенгагене на eq вторую всемирную eq конференцию по eq положению женщин eq для обзора eq и оценки eq Всемирного плана eq действий 1975 года.\n",
      " eq Важной вехой eq стало принятие eq Генеральной Ассамблеей eq в декабре 1979 eq года Конвенции eq о ликвидации eq всех форм eq дискриминации в eq отношении женщин, eq одного из eq самых действенных eq инструментов обеспечения eq равенства женщин. eq Конвенция, получившая eq название «билля eq о правах eq женщин», в eq настоящее время eq юридически связывает 165 eq государств, которые eq стали государствами-eq участниками, и eq обязывает их eq в течение eq одного года eq после ратификации, eq а затем eq каждые четыре eq года отчитываться eq о предпринятых eq ими шагах. eq для устранения eq препятствий, с eq которыми они eq сталкиваются при eq осуществлении Конвенции. eq Факультативный протокол eq к Конвенции, eq позволяющий женщинам, eq ставшим жертвами eq дискриминации по eq признаку пола, eq подавать жалобы eq в международный eq договорный орган, eq был открыт eq для подписания eq в День eq прав человека, 10 eq декабря 1999 года. eq После его eq вступления в eq силу он eq поставит Конвенцию eq в равное eq положение. с eq другими международными eq документами по eq правам человека, eq предусматривающими процедуры eq рассмотрения индивидуальных eq жалоб.\n",
      "  Несмотря eq на достигнутый eq прогресс, Копенгагенская eq конференция признала, eq что начинают eq проявляться признаки eq несоответствия между eq гарантированными правами eq и возможностями eq женщин осуществлять eq эти права. eq Для решения eq этой проблемы eq Конференция определила eq три области, eq в которых eq необходимы конкретные, eq целенаправленные действия eq для достижения eq широких целей eq равенства, развития eq и мира, eq определенных на eq конференции в eq Мехико. Этими eq тремя областями eq были равный eq доступ к eq образованию, возможностям eq трудоустройства и eq надлежащему медицинскому eq обслуживанию.\n",
      "  Обсуждения eq на Копенгагенской eq конференции проходили eq в тени eq политической напряженности, eq некоторые из eq которых были eq перенесены с eq конференции в eq Мехико. Тем eq не менее eq Конференция завершилась eq принятием, хотя eq и не eq на основе eq консенсуса, Программы eq действий, в eq которой указывалось eq множество факторов eq несоответствия между eq законными правами eq и способностью eq женщин осуществлять eq эти права, eq в том eq числе:\n",
      "недостаточное eq вовлечение мужчин eq в повышение eq роли женщин eq в обществе; eq недостаточная политическая eq воля; непризнание eq ценности вклада eq женщин в eq жизнь общества; eq отсутствие внимания eq к особым eq потребностям женщин eq при планировании; eq нехватка женщин eq на руководящих eq должностях; недостаточное eq количество услуг eq для поддержки eq роли женщин eq в жизни eq страны, таких eq как кооперативы, eq детские сады eq и кредитные eq учреждения; общее eq отсутствие необходимых eq финансовых ресурсов; eq неосведомленность женщин eq об имеющихся eq у них eq возможностях.\n",
      "  Для eq решения этих eq проблем Копенгагенская eq программа действий eq призвала, среди eq прочего, к eq принятию более eq строгих национальных eq мер по eq обеспечению права eq собственности женщин eq и распоряжения eq ими, а eq также к eq улучшению прав eq женщин на eq наследование, опеку eq над детьми eq и утрату eq гражданства. Делегаты eq конференции также eq призвали положить eq конец стереотипному eq отношению к eq женщинам.\n",
      "Найроби: «eq Рождение глобального eq феминизма»\n",
      "Движение eq за гендерное eq равенство получило eq подлинное всемирное eq признание после eq проведения в 1985 eq году в eq Найроби третьей eq всемирной конференции eq по положению eq женщин — Всемирной eq конференции по eq обзору и eq оценке достижений eq Десятилетия женщин eq Организации Объединенных eq Наций: равенство, eq развитие и eq мир. представители eq неправительственных организаций, eq присутствовавшие на eq параллельном Форуме eq НПО, многие eq назвали Конференцию «eq рождением глобального eq феминизма». Женское eq движение, разделенное eq мировыми политическими eq и экономическими eq реалиями на eq конференции в eq Мексике, теперь eq стало международной eq силой, объединенной eq под лозунгом eq равенства, развития eq и мира. eq За этой eq вехой стояло eq десятилетие работы. eq В процессе eq обсуждения, переговоров eq и пересмотра eq было собрано eq много информации, eq знаний и eq опыта.\n",
      "  Найробийские eq перспективные стратегии eq до 2000 года, eq стратегия, разработанная eq и принятая eq на основе eq консенсуса 157 участвующими eq правительствами, представляет eq собой обновленный eq план будущего eq женщин до eq конца века. eq Это открыло eq новые возможности, eq поскольку объявило eq все проблемы eq женскими проблемами. eq Участие женщин eq в принятии eq решений и eq управлении всеми eq человеческими делами eq было признано eq не только eq их законным eq правом, но eq и социальной eq и политической eq необходимостью, которая eq должна быть eq включена во eq все институты eq общества.\n",
      "  В eq соответствии с eq мнением о eq том, что eq все вопросы eq касаются женщин, eq меры, рекомендованные eq Найробийскими перспективными eq стратегиями, охватывают eq широкий круг eq вопросов, от eq занятости, здравоохранения, eq образования и eq социальных услуг eq до промышленности, eq науки, связи eq и окружающей eq среды. Кроме eq того, были eq предложены руководящие eq принципы национальных eq мер по eq поощрению участия eq женщин в eq усилиях по eq укреплению мира, eq а также eq по оказанию eq помощи женщинам, eq оказавшимся в eq особо бедственном eq положении.\n",
      "  Конференция eq в Найроби eq представила более eq широкий подход eq к улучшению eq положения женщин. eq В настоящее eq время признано, eq что равенство eq женщин не eq является изолированным eq вопросом и eq охватывает все eq сферы человеческой eq деятельности. Таким eq образом, точка eq зрения женщин eq и их eq активное участие eq во всех eq вопросах, а eq не только eq женских проблемах, eq имеют важное eq значение для eq достижения целей eq и задач eq Десятилетия женщин.\n",
      "\n",
      "eq Пекин: наследие eq успеха\n",
      "Хотя eq усилия предыдущих eq двух десятилетий, eq начиная с eq конференции в eq Мехико в 1975 eq году, помогли eq улучшить положение eq женщин и eq доступ к eq ресурсам, они eq не смогли eq изменить основную eq структуру неравенства eq в отношениях eq между мужчинами eq и женщинами. eq Решения, влияющие eq на жизнь eq всех людей, eq по-прежнему eq принимались в eq основном мужчинами. eq Необходимо искать eq пути расширения eq прав и eq возможностей женщин, eq с тем eq чтобы они eq могли привносить eq свои собственные eq приоритеты и eq ценности в eq качестве равных eq партнеров с eq мужчинами в eq процессы принятия eq решений на eq всех уровнях.\n",
      "  eq Признание необходимости eq вовлечения женщин eq в процесс eq принятия решений eq начало проявляться eq в ходе eq серии глобальных eq конференций, проведенных eq Организацией Объединенных eq Наций в eq начале 1990-х eq годов по eq различным аспектам eq развития — окружающей eq среде, правам eq человека, народонаселению eq и социальной eq сфере. разработка. eq На всех eq конференциях подчеркивалась eq важность всестороннего eq участия женщин eq в процессе eq принятия решений, eq и мнения eq женщин учитывались eq в обсуждениях eq и в eq принимаемых документах.\n",
      "   eq Однако можно eq сказать, что eq именно со eq следующей из eq серии конференций, eq Четвертой Всемирной eq конференции по eq положению женщин, eq состоявшейся в eq Пекине в 1995 eq году, началась eq новая глава eq в борьбе eq за гендерное eq равенство.\n",
      "  Это eq изменение явилось eq убедительным подтверждением eq того, что eq права женщин eq являются правами eq человека и eq что гендерное eq равенство является eq вопросом всеобщего eq беспокойства, от eq которого выигрывают eq все.\n",
      "Наследие eq Пекинской конференции eq должно было eq состоять в eq том, что eq она вызвала eq новую глобальную eq приверженность расширению eq прав и eq возможностей женщин eq во всем eq мире и eq привлекла беспрецендентное eq международное внимание. eq Конференция приняла eq Пекинскую декларацию, eq которое представляет eq собой программу eq по расширению eq прав и eq возможностей женщин eq и являются eq вехой на eq пути улучшения eq положения женщин eq в двадцать eq первом веке. eq Женщины и eq бедность; образование eq и обучение eq женщин; женщины eq и здоровье; eq насилие против eq женщин; Женщины eq и вооруженный eq конфликт; женщины eq и экономика; eq женщины во eq власти и eq в принятии eq решений; институциональные eq механизмы улучшения eq положения женщин; eq права человека eq женщин; женщины eq и СМИ; eq женщины и eq окружающая среда. eq Эти действия eq являлись приоритетными eq во время eq конференции.\n",
      "  Утвердив eq Пекинскую платформу eq действий, правительства eq взяла обязательства eq эффективно учитывать eq гендерные аспекты eq во всех eq своих учреждениях, eq политике, планировании eq и принятии eq решений. На eq самом деле eq это означало, eq что прежде, eq чем принимать eq решения или eq осуществлять планы, eq всегда следует eq проводить анализ eq воздействия и eq потребностей как eq женщин, так eq и мужчин. eq Например, вместо eq того, чтобы eq стремиться постепенно eq сделать существующую eq систему образования eq более доступной eq для женщин, eq учет гендерной eq проблематики потребует eq реконструкции системы, eq с тем eq чтобы она eq в равной eq степени удовлетворяла eq потребности женщин eq и мужчин.\n",
      "  eq Пекинская конференция eq была признана eq очень успешной eq как с eq точки зрения eq ее масштабов, eq так и eq результатов. Это eq было крупнейшее eq из когда-eq либо проводившихся eq собраний представителей правительств eq и неправительственных организаций, eq на котором eq присутствовало 17 000 человек, eq в том eq числе представители 189 eq правительств. Форум eq НПО, проходивший eq параллельно с eq Конференцией, также eq побил все eq рекорды, в eq результате чего eq общее число eq участников превысило 47 000 eq человек.\n",
      "Таким eq образом, имиджевая eq политика в eq области гендерного eq равенства важна eq для создания eq позитивного образа eq женщин и eq мужчин, которые eq могут успешно eq реализовываться в eq различных областях eq жизни на eq равных правах eq и возможностях.\n",
      "eq Спустя более 25 eq лет после eq исторической Всемирной eq конференции по eq Женщины в eq Пекине и eq Международная конференция eq по народонаселению eq и развития eq в Каире, eq мир еще eq далеко от eq достижения гендерного eq равенства, чем eq оно должно eq быть. \n",
      "В eq глобальном масштабе eq женщины выполняют eq в тридцать eq раз больше eq неоплачиваемой работы eq по уходу eq и домашней eq работе, чем eq мужчины. Они eq также составляют 70 eq процентов мировой eq рабочей силы eq по оплачиваемому eq уходу, но eq занимают лишь 25 eq процентов руководящих eq должностей в eq этой системе. \n",
      "eq Глобальные вызовы\n",
      "eq Повышение цен eq на продукты eq питания и eq топливо, глобальный eq финансовый кризис eq и последствия eq изменения климата eq несоразмерно повлияли eq на бедных eq женщин и eq девочек. Женщины eq не могут eq легко адаптировать eq свою базу eq средств к eq существованию, чтобы eq реагировать на eq экологические и eq финансовые трудности. eq Девочки особенно eq пострадали, и eq во время eq финансового кризиса eq они могут eq быть первыми, eq кого заберут eq из школы. eq Программы социальной eq защиты не eq всегда учитывали eq неравенство внутри eq домохозяйств и eq гендерную дискриминацию eq на рынке eq труда. Неоплачиваемый eq труд женщин eq по дому eq по-прежнему eq остается непризнанным eq и недооцененным.\n",
      "eq Насилие по eq признаку пола eq Серьезность проблемы eq насилия по eq признаку пола (eq ГН) получает eq все большее eq признание, и eq доноры разрабатывают eq стратегические многоотраслевые eq подходы к eq решению этой eq проблемы. Внимание eq к вопросам eq глобальной безопасности, eq в частности eq к распространенности eq сексуального насилия eq в условиях eq конфликта, также eq возрастает, в eq том числе eq за счет eq повышенных призывов eq к реализации eq повестки дня eq женщин, мира eq и безопасности eq в резолюциях 1325, 1820, 1888 eq и 1889 Совета eq Безопасности ООН. eq считается фактором, eq влияющим на eq прогресс в eq достижении ЦРТ6. eq Также растет eq признание ГН eq в качестве eq ключевого фактора eq пандемии ВИЧ. eq Гендер и eq эффективность помощи.\n",
      "eq Недавние реформы eq оказания помощи, eq в первую eq очередь Парижская eq декларация и eq Аккрская программа eq действий (АПД), eq предоставили новые eq возможности и eq механизмы для eq воплощения обязательств eq доноров и eq правительства в eq отношении гендерного eq равенства в eq улучшенную практику, eq результаты и eq воздействие. Оба eq обеспечивают основу eq для укрепления eq гендерного равенства eq в качестве eq приоритетного вопроса eq развития.\n",
      "Также eq будет важно eq взаимодействовать с «eq новыми» донорами, eq не входящими eq в КСР, eq такими как eq страны БРИКС (eq Бразилия, Россия, eq Индия и eq Китай), в eq отношении их eq обязательств и eq потенциальной роли eq в поддержке eq гендерного равенства.\n",
      "eq Роль гражданского eq общества в eq продвижении гендерного eq равенства Гражданское eq общество является eq важнейшей ареной eq для гендерного eq равенства и eq играет центральную eq роль в eq продвижении уважения eq к правам eq человека и eq управлению, включая eq влияние на eq политику правительства eq в пользу eq бедных и eq маргинализированных мужчин eq и женщин.\n",
      "eq Недавнее исследование, eq проведенное AWID8, eq оценило текущие eq тенденции в eq финансировании женских eq организаций и eq отметило, что, eq хотя влияние eq недавнего финансово-eq экономического кризиса eq проявляется в eq снижении уровня eq ОПР среди eq доноров, прямое eq сокращение ОПР eq для обеспечения eq гендерного равенства eq не все eq же очевидно. eq Во многих eq постконфликтных трастовых eq фондах с eq участием многих eq доноров отсутствуют eq эффективные механизмы eq для маркировки eq и отслеживания eq ресурсов, выделяемых eq на поддержку eq гендерного равенства, eq несмотря на eq растущее внимание eq в рамках eq программы «Женщины, eq мир и eq безопасность».\n",
      "Гендерное eq равенство и eq ЦРТ В eq рамках подготовки eq к Саммиту eq высокого уровня eq для обзора eq прогресса в eq достижении ЦРТ, eq который состоится eq в сентябре 2010 eq г., растет eq признание центральной eq роли решения eq проблемы гендерного eq неравенства для eq достижения прогресса eq во всех eq ЦРТ. В eq докладе Генерального eq секретаря ООН «eq Выполнение обещаний» – eq перспективный обзор eq по продвижению eq согласованной программы eq действий по eq достижению ЦРТ eq к 2015 году eq подчеркивается важность eq рассмотрения ЦРТ eq через «гендерную eq призму». Переговоры eq Структуры «ООН-eq женщины» в eq ходе 64-й eq сессии Генеральной eq Ассамблеи Организации eq Объединенных Наций (2009–2010 eq гг.) привели eq к принятию eq в июле 2010 eq г. универсального eq характера гендерного eq равенства и eq расширения прав eq и возможностей eq женщин, новая eq структура объединит eq четыре существующих eq гендерных подразделения, eq Фонд ООН eq для развития eq в интересах eq женщин, Отдел eq по улучшению eq положения женщин, eq Канцелярию Специального eq советника Генерального eq секретаря по eq гендерным вопросам.\n",
      "2.2 eq Имиджевые аспекты eq политики в eq области гендерного eq равенства\n",
      "Gender eq Equality Policy\n",
      "eq Политика гендерного eq равенства Управления eq Верховного комиссара eq по правам eq человека (УВКПЧ) eq содержит внутреннее eq руководство относительно eq того, как eq Управление стремится eq интегрировать гендерную eq перспективу и eq права человека eq женщин в eq разработку политики, eq разработку программ eq и осуществление eq деятельности, включая eq проекты.\n",
      "мониторинг eq и оценка. eq С этой eq целью политика eq основывается на eq подходе, основанном eq на правах eq человека, и eq политике гендерной eq интеграции ООН. eq В УВКПЧ eq необходимость интеграции eq гендерных аспектов eq в общий eq правозащитный подход eq Управления была eq официально признана eq в 2000 г.\n",
      "eq Стратегия 2002 года, eq направленная на eq содействие прогрессу eq в интеграции eq гендерных аспектов eq в деятельность eq УВКПЧ.\n",
      "Оба eq документа были eq разработаны до eq формулирования глобальных eq стратегий, изложенных eq в плане eq управления УВКПЧ eq для выполнения eq своего мандата, eq что ограничивало eq их применение.\n",
      "eq С 2005 года eq права женщин eq и гендерная eq интеграция все eq чаще признаются eq и принимаются eq в УВКПЧ eq в качестве eq основного принципа, eq который должен eq последовательно и eq систематически информировать eq все области eq работы управления eq в области eq прав человека. eq Возможность воплотить eq этот основной eq принцип в eq оперативную деятельность eq была создана eq в 2007 году eq путем создания eq специального подразделения eq по правам eq человека женщин eq и гендерным eq вопросам.\n",
      "Гендерная eq интеграция была eq утверждена как eq глобальная стратегия eq Организации Объединенных eq Наций по eq продвижению гендерного eq равенства, которая eq относится к eq равным правам, eq обязанности и eq возможности женщин eq и мужчин, eq девочек и eq мальчиков (подробнее eq о гендерном eq равенстве см. eq в Глоссарии, eq приложение I). eq Венская декларация eq и Программа eq действий подтвердили, eq что права eq женщин являются eq правами человека eq в рамках eq международного права eq прав человека.\n",
      "eq Все люди eq повсюду, женщины eq и мужчины, eq наделены всеми eq правами человека eq в силу eq их неизменного eq характера. Однако eq люди во eq многих странах eq остаются жертвами eq неравного доступа eq и обращения eq во всех eq сферах жизни.\n",
      "eq Женщины составляют eq одну группу, eq само право eq на права eq человека, которой eq часто подвергается eq сомнению. Например, eq в некоторых eq государствах женщину, eq ставшую жертвой eq изнасилования, могут eq обвинить в eq прелюбодеянии, а eq виновного не eq предают суду. eq Другим примером eq является применение eq права собственности, eq в котором eq в некоторых eq случаях женщинам eq отказано.\n",
      "Global eq Gender Gap\n",
      "eq С 2006 года eq в Отчете eq о глобальном eq гендерном разрыве eq измеряется разрыв eq между мужчинами eq и женщинами eq на основе eq четырех ключевых eq показателей: участие eq в экономической eq жизни и eq возможности, здоровье eq и выживание, eq уровень образования eq и политические eq права. Издание 2022 eq года охватывает 146 eq стран, включая eq Коморские острова eq впервые. Однако eq Багамские острова, eq Куба, Хорватия, eq Ирак, Мавритания, eq Папуа-Новая eq Гвинея, Российская eq Федерация, Сирия, eq Тринидад и eq Тобаго, Венесуэла eq и Йемен eq не покрываются.\n",
      "\n",
      "eq Предполагается, что eq глобальный гендерный eq разрыв сократился eq на 68,1% в 2022 eq году. При eq нынешних темпах eq прогресса для eq достижения полного eq паритета потребуется 132 eq года. Эти eq данные представляют eq собой небольшое eq улучшение за eq четыре года eq по сравнению eq с оценкой 2021 eq года в 136 eq лет до eq паритета. В eq отчете также eq отмечается, что, eq хотя ни eq одна страна eq еще не eq достигла полного eq гендерного паритета, 10 eq крупнейших экономик eq закрыли 80% своего eq гендерного разрыва.\n",
      "eq В 2022 году eq на фоне eq многослойных и eq компаундирующих кризисов, eq в том eq числе рост eq стоимости жизни, eq продолжающаяся пандемия, eq чрезвычайная климатическая eq ситуация, крупномасштабные eq конфликты и eq перемещение, прогресс eq в достижении eq гендерного паритета eq застопорился. По eq мере того, eq как лидеры eq борются с eq растущим рядом eq экономических и eq политических потрясений, eq возрастает риск eq разворота. Мало eq того, что eq в настоящее eq время миллионы eq женщин и eq девочек теряют eq доступ и eq возможности, эта eq остановка в eq движении к eq паритету является eq катастрофой для eq будущего наших eq экономик, обществ eq и сообществ.\n",
      "  \\* MERGEFORMAT  наоборот, eq увеличение представленности eq женщин на eq руководящих должностях eq в ряде eq отраслей, участие eq в высшем eq образовании в eq целом и eq восстановление на eq профессиональных и eq технических должностях eq обнадеживают и eq могут стать eq основой для eq будущих усилий. eq Рис.3\n",
      "Исследование eq GIWPS на eq примере Узбекистана. eq Рис.3,4\n",
      "рис.4\n",
      "\n",
      "eq рис.5 Нормы eq справедливости\n",
      "рис.6 eq Безопасность\n",
      "\n",
      "2.3 Специфика eq гендерной политики eq Республики Узбекистан\n",
      "eq В настоящее время eq одна из важнейших eq направлений госполитической политики eq в новом Узбекистане eq достижение равенства гендера, eq в которую входят eq обеспечение прав, свобод eq и законных интересов eq женщин, укрепление eq их ролей в eq общественных и государственных eq жизнях. Сегодня eq в Узбекистане наблюдаются eq тенденции в eq этом направлении. eq К ним eq входят глобальные eq меры по eq расширению представительства eq женщин в высших eq органах власти, eq устранению гендерной дискриминации, eq увеличению женщин в eq парламентах, правительствах, eq судебной системы. В eq Узбекистане сегодня eq женщина является eq ключевым фактором eq в создании eq нового общественного eq общества, развитии eq всего общественного eq пространства, способствуя eq формированию в eq разных сферах eq гендерного подхода. eq В настоящее eq время гендерное eq равноправие – это eq не только eq мораль, но eq важный фактор eq эффективной экономической eq и социальной eq динамики. Таким eq образом, на eq уровне госполитики eq поднимался уровень eq обеспечения более eq выгодных условий eq полного осуществления eq собственных стремлений eq и возможностей женщин. eq Словарный смысл eq понятия «гендер» — eq латинский «генус», eq т. е. «eq пол». Если eq биологические полы eq разделяют человека eq на женщину eq и мужчины, гендеры eq направлены на eq разделение мест eq женщины и eq мужчины в eq обществе. Чтобы eq женщина и eq мужчина могли eq находить и eq определять свое eq место в eq обществе, государство eq дает им eq одинаковые возможности eq и условия, eq которые являются eq основой для eq обеспечения равенства eq гендера. В eq рамках стратегии eq по гендерному eq равенству понятие eq равноправия означает eq равноправие прав eq и возможностей eq женщины и eq мужчины во всех eq областях жизни eq и жизни eq общества, в eq том числе eq в политике, eq экономике, правом, eq культуре, образовании, eq науке, спорте. eq Известно, что eq Закон Республики eq Башкортостан «О eq гарантиях равноправия eq и возможности eq женщины и eq мужчины», принятый 02.04.2019 eq г., утвержден eq как правовая eq защита и eq правовая гарантия, eq направленная на eq положение женщины eq в обществе.\n",
      "eq За тысячелетия eq неравенство мужчин eq и женщин eq в обществе eq всегда было eq актуальным и eq вопросом их eq решения. Кроме eq того, как eq указывается в eq первой части eq закона, цель eq закона регулировать отношения eq в области равных eq прав, возможностей eq женщины и мужчины. eq Реформы в Узбекистане eq направлены на eq обеспечение верховенства eq интересов людей, eq все еще eq существуют семейные eq споры, случаи, eq когда мужчины eq не признают eq права женщин, и eq в ряде eq случаев права eq и возможности eq женщин не eq придают должного eq смысла обществу. eq В связи eq с такими eq негативными ситуациями eq во второй eq части закона «eq Документы законодательства eq о гарантии eq равных прав eq женщин и eq женщин состоят eq из данного eq Закона и eq других правовых eq актов. Также eq в законе eq упоминается гендерное eq понятие, в eq котором гендер eq является социальным eq понятием отношений eq мужчин и женщин eq во всех eq областях общественной eq жизни, деятельности, eq в том eq числе в eq политике, экономике, eq правом, идеологии eq и культуре, eq образовании и eq науке. Хорошо, eq хорошо, хорошо, eq таким образом, eq гендерное понятие eq представляет интересы eq не только eq женщин. Возможно, eq то, что eq представительницы обоих eq пола смело eq относятся к eq своим желаниям eq и желаниям, eq свидетельствует о eq необходимости предоставления eq им одинаковых eq возможностей для eq повышения качества eq жизней. Одним eq из требований eq развитого социума является eq защита равных прав eq женщин и мужчин. eq Создание равных условий eq для женщин и eq мужчин уже не eq первый десяток eq лет является eq приоритетом международной eq деятельности. Принцип eq равноправия полов eq закрепляется в eq основных документах eq международных прав eq человека, в eq том числе eq Всеобщной декларации eq прав человека, eq а также eq в множестве eq других конвенций eq международного характера. eq Даже третье eq десятилетие XXI eq века этот eq вопрос до eq конца не eq решается. Таким eq образом, в eq течение четверти eq века в eq мире ни eq одна из eq стран мира eq не достигла eq полного исполнения eq целей принятой eq Пекинской Декларации eq по правам eq женщин 1995 г. eq Три четверти eq руководителей в eq мире все eq еще являются eq мужчинами, а eq только четверть - eq женщинами. В eq древнегреческих ученых, eq например Сократе, eq Аристотеле и eq Платоне, было eq считано, что eq полис, в eq котором царила eq равенство, справедливость - eq лучшее государство. eq Как лучшие eq законы они eq выдвинули законы eq о равных eq правах всех eq людей. Идея eq равенства между eq мужчинами и eq женщинами была eq использована греческим eq ученым Антифоном eq в своих eq работах: «Природа eq создает всех eq равными, женщинами eq и мужчинами, eq но люди eq создают законы eq для того, eq чтобы люди eq были неравными». eq Абу Наср eq Фараби, восточный eq ученый-энциклопедист, eq в своей eq книге «Город eq добрых людей» eq отмечал, что eq государство, в eq котором царило eq равноправие, является eq государством, стремящимся eq к добродетели, eq и в 1791 eq году подготовленная eq Олимпией Де eq Гуж декларация eq о гражданском eq и правовом eq праве женщин eq признала, что eq женщина имеет eq право свободно eq думать и eq высказывать свое eq мнение впервые. eq Именно это eq международное правило eq во втором eq пункте Закона «eq О гарантиях eq равноправия и eq возможности женщин eq и женщин» eq гласит: юридическая eq основа. Таким eq образом, Узбекистан eq в своем eq национальном законодательстве eq уделяет серьезное внимание eq вопросу равенства между eq женщинами и мужчинами, eq учитывая общепризнанные международные eq требования. В eq статье 18 Конституции eq Республики Узбекистан eq говорится, что eq у всех eq граждан Республики eq Узбекистан есть eq одинаковое право eq и свобода eq и равноправны eq перед законом, eq независимо от eq расы, расы eq и национальности, eq образования, языков, eq религий, социальных eq происхождения, убеждений, eq положений, личностей eq и интересов. eq В 46-й eq статье указывается, eq что у eq мужчин и eq женщин есть eq равные правы. eq Премьер-министр eq Узбекистана Шават eq Мирзиёев в eq ходе своего eq выступления в eq Сенате Олимпийского eq комитета сказал следующее: «eq Сегодня все женщины eq должны быть непостоянными eq наблюдателями, а eq активными и инициативными eq участниками демократических процессов, eq которые происходят в eq Республике». \n",
      "«Таким eq образом гарантируется и eq международное, и eq конституционное основание гендерного eq равноправия. Гендерное eq равноправие означает eq и социальное eq равноправие. Для eq того, чтобы eq обеспечить такой eq равенство, недостаточно eq внесения необходимых eq поправок в eq Конституцию, законы, eq и поэтому eq особую акцент eq делается на «eq Повышение правового eq образования в eq обществе».\n",
      "В eq Конституции Узбекистана eq гарантируется равенство eq пола. Каждый eq год число eq женщин, которые eq занимают высокие eq посты, растет. eq Закон Узбекистана «eq О гарантиях eq равноправия и eq возможности женщин eq и женщин», eq в котором eq рассматривается проблема eq гендерного равноправия eq на государственном eq уровне, гласит, eq что управление eq этой сферой eq осуществляет Кабинет eq Министров Узбекистана, eq Комиссия Узбекистана eq по вопросам eq равноправия женщин eq и женщин eq и государственные eq органы в eq их компетенциях. eq В стране eq планируется предпринять eq необходимые меры, eq чтобы обеспечить eq реализацию государством eq политики по eq гендерному обеспечению eq равенства женщин eq и мужчин, eq расширить их eq участие во eq всех областях eq жизни, устранить eq и избежать eq прямой или eq косвенной дискриминации eq женщин. В eq результате последовательных eq комплексных реформ eq Узбекистан обеспечивает eq мир и eq стабильность экономики. eq В повседневном eq жизненном опыте eq страны показано, eq что равенство eq между мужчинами eq и женщинами eq играет важное eq значение в eq обеспечении добросовестности eq людей, социальной eq стабильности и eq стабильности экономики. eq Также в eq Узбекистане важны eq законодательные и eq государственные программы eq по обеспечению eq гендерного равноправия. eq Таким образом, принятый eq в сентябре 2019 года eq Закон Узбекистана «eq О гарантиях eq равенства прав eq женщин и eq женщин» является eq комплексным и eq основным законодательным eq документом для eq обеспечения гендерного eq равноправия в eq республике. Этот eq закон впервые eq определил понятие eq гендера в eq национальном законодательстве. eq В качестве eq очередного важного eq шага по eq борьбе с нарушениями eq прав человека согласно eq Указу Президента Узбекистана eq от 07.03.2019 «О eq мерах, направленных eq на дальнейшее усиление eq гарантий трудового права eq женщины и поддержку eq предприни-мательства» eq Узбекистана. Этот eq документ определяет задачу eq создания в eq обществе атмосферы eq ненависти к eq женщинам. Эта eq проблема определена eq как одна eq из главных eq направлений политической eq политики государства. eq Гендерное равноправие, eq т. е. eq равноправие между eq мужчиной и eq женщиной - одна eq из основных eq права человека. eq Изучая статьи, eq написанные по eq данной теме, eq можно заметить, eq что данный eq фактор является eq также основой eq высокой экономической, eq социальной, политической eq динамики. Авторы eq статей считают, eq что трудовые eq коллективы, где eq число сотрудников eq мужского и eq женского пола eq составляет около eq равного числа, eq показывают несколько eq выше результатов, eq чем трудовые eq коллективы, где eq мужской пол eq преобладает, особенно eq когда речь eq идёт о eq интеллектуальной и eq не физической eq работе. Кроме eq того, гендерное eq равноправие — это eq показатель демократического eq прогресса в eq стране. Для eq пополнения рядов eq развитых стран, eq а также eq для того, eq чтобы привлечь eq больше инвестиций eq в страну, eq необходимо уделять eq этот показатель eq достаточным вниманием. eq Для того, eq чтобы достичь eq постоянного, масштабного eq и значимого eq результата, необходим eq документ в eq виде планирования eq для выполнения eq программы. 28 мая 2021 eq г. как eq механизм реализации eq Конституционных и eq Международных стандартов eq было принято eq Решение сената eq Парламента Узбекистана «О eq утверждении стратегии eq по достижении eq гендерного равновесия eq в Узбекистане». eq Узбекистан - до 2030 eq года». Этот eq исторический документ eq основывается на Конституции eq Узбекистана, Законе eq Узбекистана «О eq гарантировании равных eq прав женщин eq и женщин», eq приоритетах в eq развитии страны, eq указанных в eq стратегии деятельности. eq Приоритетное направление eq развития Узбекистана eq на 2017–2021 годы eq разработано согласно национальным eq целям в eq области устойчивости eq и другим eq законодательствам. Основные eq принципы обеспечения eq равенства гендера eq являются легитимностью, eq демократией, открытостью. eq Этот документ eq ориентирован на eq обеспечение настоящего eq равноправия женщин eq и мужчин, eq вне зависимости eq от их eq национальности, национальностей, eq религий, социальных eq происхождений, убеждений, eq личных и eq социальных статусов.\n",
      "eq В настоящее eq время следует eq сказать, что eq в системе eq общественных и eq государственных организаций eq разного уровня eq занимаются более 15 тыс. eq женщин, включая eq министерства и органы eq власти, местные eq исполнительные органы. eq Для того, eq чтобы увеличить eq участие женщин eq в органах eq государственного управления, eq был создан резерв, eq состоявший из более 6 eq тыс. активной eq женщины. Сейчас eq организуется и eq проводится систематический eq тренинг для eq подготовки их eq к различным eq должностям руководства. eq В системе eq МВД можно eq выделить 16 женщин, eq занимавших руководящие eq посты, а 6 eq женщин – хокимияты. eq Количество женщин, eq получающих государственные eq награды различного eq уровня - 2224 человека. eq Почетным знаком eq было награждено 577 eq женщин. Узбекистан eq достиг почти eq полной гендерной eq равенства в eq общем количестве eq сотрудников крупнейших eq предприятий и eq организаций, в 2019 eq г. - 49, 5. Более eq того, сегодня eq в стране eq работают более 20 eq компаний, возглавляемых eq женщинами. В eq рамках Стратегии eq отмечается, что eq для организации планомерной eq работы по последовательному eq реализации Стратегических целей eq Узбекистана приняты «Национальные eq цели Узбекистана по eq устойчивому развитию до 2030 eq года». Пятая eq задача Узбекистана по eq устойчивому развитию до 2030 eq года обеспечить гендерное eq равенство и улучшить eq права и eq возможности всех женщин. eq Кроме того, в eq него входит экономическая, eq социальная, правовая eq и иная eq мера. Ответственность eq за выполнение eq этих задач eq несут все органы eq государственного управления и eq учреждения, учреждения, eq общественные организации. Но, eq кроме того, существуют eq вопросы, необходимые eq для того, чтобы eq расширить участие eq женщин в eq государственных и eq общественных строительствах, eq социальной и eq экономической сферах, eq образовательных, медицинских, eq других социальных eq и экономических eq областях. Можно eq сказать, что eq нужно повысить eq роль женщин eq в решении eq актуальных вопросов eq государственного регулирования, eq а не eq мужчин. В eq стране, на eq основе долгосрочной eq стратегии по eq гендерному равенству, eq гендерное равенство eq будет реализовано eq в рамках eq нескольких приоритетных eq направлений. Планируется eq обеспечить трудоустройство eq нуждающейся женщины eq и нетрудоспособных eq семей, в eq частности в eq сельских районах, eq создать достойные eq условия труда, eq повысить эффективность eq работы в eq сфере социальной eq поддержки. А eq также предупреждать случаи eq насилия и притеснений eq в отношении женщин eq на рабочих местах, eq устранить негативные отношения eq к женщинам в eq общественном сообществе. eq Это прогнозируемые eq результаты на eq территории страны. eq Для успешной eq реализации этой eq Стратегии необходимо eq активное участие eq всех партнёров eq и официальных eq лиц на eq разном уровне. eq Достижение Стратегии eq на этот eq период в eq первую очередь eq ускорит развитие eq социально экономического, политического eq развития страны, а eq значит, повысит eq благосостояние людей, решает eq многие проблемы в eq обществе и eq изменит нашу eq повседневную жизнь eq в лучшую eq сторону.\n",
      "\n",
      "\n",
      "\n",
      "\f",
      "3. Специфика eq современной имиджевой eq политики Республики eq Узбекистан\n",
      "3.1 Стратегия eq продвижения гендерного eq равенства и eq пути их eq решения в eq Узбекистане\n",
      "На eq данный момент разрабатываются eq механизмы развития нового eq Узбекистана и постепенно eq реализуются. Несмотря eq на все eq усилия, предпринятые eq в сфере eq прав человека eq во всем eq мире, цифровой eq разрыв гендерного eq разрыва остается eq одной из eq глобальных проблем eq и отмечается, eq что до eq ликвидации цифрового гендерного eq разрыва не может eq быть достигнуто eq даже целей eq ЦУР по eq устойчивому развитию eq ООН до eq ликвидации цифрового eq гендерного разрыва. eq В соответствии с eq последними данными eq Международного Союза eq Электросвязи (МСЭ) eq процент женщин, eq использующих Интернет eq в мире - 57 eq процентов, а eq мужчин - 62 процента. eq В относительной eq степени глобальная eq гендерная разница eq в использовании eq интернета составляет 8%. eq По мнению eq некоторых авторов, eq также в eq условиях digital-eq экономики стремительно eq развивается профессия, eq которая называется eq СТЕАМ наукой, eq технологией, инженерией eq и математикой. Но eq в этой сфере eq существует гендерное асимметрие. eq Например, часть eq женщин в eq области информационно-eq коммуникационной техники eq ИКТ считается «eq мужской» профессией - eq всего 30%.\n",
      "Эффективные eq мероприятия, направленные eq на сокращение eq гендерного разрыва eq в цифровой eq сфере, поощрение eq участия женщин eq во сферах eq СТЕМ и eq развитие электронных eq услуг в eq соответствии с eq гендерными аспектами, eq являются одним eq из ключевых eq факторов достижения eq гендерного равновесия eq во всех eq сферах. Узбекистан eq реализует ряд eq мер, направленных eq на привлечение eq женщин к eq IT-сфере, eq так что в eq июне этого года eq Ташкент запустил eq новый для eq женщин IT-eq клуб «ГАП». eq Целью инициаторов eq клуба является eq устранение проблемы eq присутствия женщины eq в IT-eq сфере, сделать eq IT-профессию eq открытой и eq интересной женщинам eq и молодым eq девушкам, таким eq образом сократить eq цифровые гендерные eq разрывы в eq IT-сфере. eq Он предназначен eq для демонстрации eq возможностей IT eq сектора и eq поддержки женщин eq в поисках eq работы. Отметим, eq что еще eq одна цель eq стратегии развития eq нового Узбекистана eq в 2022–2026 годах, eq утвержденная постановлением eq президента Узбекистана eq ПФ-60, - поддержка eq женщин, обеспечение eq активной участия их eq в социальной жизни. eq В соответствии с eq этим Государственная программа eq предусматривает конкретные мероприятия eq по созданию среды eq толерантности к eq насилию и угнетению eq женщин, продолжении eq политики по обеспечению eq прав и правовых eq интересов женщины, гендерному eq равенству, увеличению eq общественной и политической eq деятельности женщин и eq проведению реформ для eq поддержки их. В eq настоящее время в eq процессе конституционных eq реформ нашей eq страны выдвигаются eq ряд предложений eq для усиления eq новых гендерных eq положений в eq Основном Законе. eq На сайте «eq Корейской газеты» 5 eq Апрель 2021 года eq появилась статья eq директора национального eq центра прав eq человека республики, eq академика А.eq А.Саидова «eq Политика гендерного равновесия eq в современном Узбекистане». eq В нем говорится, eq что одним из eq ключевых направлений новой eq Узбекистана достижение равенства eq гендера, обеспечение eq права, свободы eq и законности женщин, eq укрепление их eq ролей в eq общественных и eq государственных жизнях. \n",
      "eq Эксперты Организации Объединенных eq Наций и межпарламентского eq Союза МПС подчеркивают, eq что  тенденции в eq этой области находятся eq в русле мировых eq процессов, направленных eq на расширение представительности eq женщин на высших eq уровнях госвласти, eq устранение гендерных неравенств, eq увеличение числа eq их в eq парламентах, правительствах eq и судах. eq Здесь можно eq успомнить слова генерального eq секретаря Организации Объединенных eq Наций Антонио Гутерриш: «eq В условиях, когда eq женщины активно принимают eq участие в политических eq и общественных процессах, eq растет экономическая и eq социальная жизнь, eq совершенствуется стабильность, eq а также eq повышение благосостояния eq граждан». В eq соответствии с eq ежегодным докладом eq МПС «Женщина eq в парламенте» eq и данными eq Организации ООН «eq Женщина в eq парламенте», впервые eq в истории в eq январе 2021 года eq общая доля женских eq депутатов в парламентах eq страны составила больше eq четверти — 25, 5. В eq конце 2019 года eq по итогам парламентских eq выборов их составило 32 eq депутата Законодательного eq собрания о.eq о., 25 депутатов eq Сената.\n",
      "По eq этому показателю, eq Узбекистан вошел eq в топ-50 eq из 190 стран eq и опередил eq почти многих стран. eq Это свидетельствует принципиально eq новому подходу и eq тенденциям в организации eq деятельности Узбекского парламента eq на территории страны. eq Повышение статуса и eq роли, защиту eq и реализацию права eq и свободы. \n",
      "Вопрос eq о гендерном равенстве eq важен по всему eq миру. Это eq выражается в документах eq Организации Объединенных Наций, eq в том числе eq в резолюциях, eq принятых в 2015 eq году. В eq целях Организации eq системы работы eq по последовательному eq реализации Глобальной eq Повестки Организации eq Объединенных Наций eq приняты «Национальные eq приоритеты и eq цели Узбекистана eq по устойчивому развитию eq до 2030 года». eq Пятой целью устойчивого eq роста Узбекистана eq в 2030 году eq является обеспечение eq гендерной равноправия eq и укрепление eq прав и eq способностей всех eq женщин. В eq частности, это eq касается экономических, eq социальных, правовых eq и других eq мер. Все eq органы государственного eq управления и eq учреждения, учреждения eq и общественные eq организации Государственного eq значения отвечают eq за выполнение eq данных задач.\n",
      "eq Стратегия действий eq и организация eq последовательной работы eq в целях eq осуществления и eq достижения Целей eq Устойчивого развития eq Организации Объединенных eq Наций в период eq до 2030 г. eq В Узбекистане были eq разработаны девять задач eq по обеспечению гендерного eq равноправия, расширению eq прав и способностей eq всех жен и eq девушек.\n",
      "В eq соответствии со задачами 2030 eq года необходимо ликвидировать eq все виды дискриминации eq женщин и девушек, eq обеспечить равенство гендера, eq всестороннюю и eq эффективную участие eq женщин, равные eq возможности лидерства eq на каждом eq уровне политики, eq социальной и eq экономической жизни. В eq ЦУР также предусмотрено eq максимальное внедрение гендерных eq принципов в процессе eq принятия госпрограмм на eq различных уровнях руководства. eq В новой eq Узбекистане работа eq по повышению eq роли женщины eq в общественной политической, eq экономической и бизнес-eq жизни страны проводится eq в следующих областях. eq Направление по совершенствованию eq правовых оснований. Узбекистан eq принял участие во eq всех основных международных eq договорах, предусматривающих eq правовую, социальноэкономическую eq и экономические защиты eq женщин от любой eq форм дискриминации, притеснений eq и дискриминации.\n",
      "eq В Узбекистане также eq приняты законы о eq гендерной ориентации: «О eq гарантии равных прав eq женщин и женщин», «eq О защите женских eq прав от насилия eq и притеснения», «eq О защите eq женских прав eq от насилия». \"eq О защите eq репродуктивного здоровья eq граждан\".\n",
      "Специальный eq представитель Генсека eq ООН по eq центральной Азии eq и руководитель eq Регионального Центра eq ООН по eq миротворческой дипломатии eq по ЦАР eq Наталья Герман eq отметил, что eq в международном eq сообществе позитивно eq оценивается действие eq Узбекистана по вопросу eq гендерного равноправия. Принять eq и реализовать нормы eq данных законов, способствующих eq увеличению до 33 женщин eq на должностях руководства eq и 45 женщин eq в общей eq трудоспособной стране. eq Считается, что eq Узбекистан свидетельствует о eq заметном росте показателей eq представительства женщин, политиков eq и лидеров eq во всех eq областях, а eq также последовательного eq продвижения страны eq на пути eq гендерного равновесия. eq Отмечу, что eq будут обеспечены eq стабильные социально-eq экономические показатели, eq будет создана eq новая возможность, eq особенно девушкам - eq будущим лидерам, eq будет реализована eq их способность eq и сформирована eq культура здорового eq питания в eq обществе.\n",
      "Этот eq вопрос был приоритетом eq в государственной политике. eq Принятие закона «eq О гарантиях eq равноправия и eq возможности женщин eq и женщин» eq стало одной eq из важнейших eq шагов в eq этом направлении. eq Институциональные и eq правовые основы eq обеспечения равенства eq гендерных слоев eq в Республике eq Узбекистан. Гендерное eq равноправие в семьях, eq обществах, политике eq и экономике для eq Узбекистана очень важна. eq Однако для решения eq любой проблемы нужно eq сначала понять ее eq причины. Основные eq причины неравенства eq гендера во eq всех Центральноазиатских eq странах связаны eq с существующими eq стереотипами поведения eq и поведения eq человека. На eq основе них eq функции мужского eq и женского eq пола делятся eq по пола. eq Человек является eq главой семьи, eq ему нужно eq обеспечить свое eq материальное благосостояние. eq Женщина является eq королевой семьи. eq Он принимает eq участие в eq семейной жизни eq и воспитании eq детей. Еще eq одна причина eq неравенства гендера eq в стране – eq неофициальная иерархическая eq система управления, eq авторитарные методы. eq Государственные дела, eq бизнес и eq семья нередко eq преобладают в eq иерархии и eq авторитарии моделях eq принятия решения eq и контроля. eq Таким образом, eq возникают сложности eq при приеме eq женщин на eq работу и eq исполнении их eq управленческой функции. eq Поэтому международный eq стандарт постепенно eq оказывает влияние eq на общественную eq и политическую eq жизни государства. eq Узбекистан укрепляет eq гендерную политику, eq повышает роль eq женщин в eq работе государства eq и общества. eq Такие положительные eq изменения позволят eq обеспечить полноценную eq интеграцию в eq глобальное гражданское eq общество Узбекистана. eq На данный eq момент в eq стране ведется eq работа, направленная eq на обеспечение eq гендерного равновесия, eq повышение роли eq женщины в eq общественной и eq политической жизни.\n",
      "eq В Узбекистане приняты «eq дорожные карты» и eq национальная стратегия гендерного eq равенства, направленные eq на обеспечение eq реализации законов «eq О гарантиях eq равноправия и свободы eq женщин и женщин» eq и «О eq защите женских прав eq от насилия и eq домогательства». Приводим eq в пример eq слова Председателя eq сената Парламента eq Узбекистана, Председателя eq Комиссии для eq обеспечения гендерного eq равновесия Танзила eq Норбоева:\n",
      "«Проблема eq гендерного равновесия - eq приоритетное направление eq Узбекистана в eq политике. В eq годы независимости eq вопрос не eq упомянутый, тема eq сексуального насилия eq закрылась, но eq в течение eq последних трех eq лет по eq этому вопросу eq приняли 2 закона, eq а также eq более 15 документов eq правового регулирования». eq Хотя есть eq законы, проблем eq с реализацией eq их еще eq очень много. eq По данным eq Международного союза eq депутатов 190 стран, eq представление женщин eq в Узбекистане eq выросло с 128 eq на 45. Доля eq женщин по eq руководящим должностям eq достигла 27 человек, eq в партиях 44 eq человека, в eq вузах 40 человек, eq в бизнесе 35 eq человек. Парламент eq Узбекистана осуществляет eq последовательные мероприятия eq по укреплению eq роли парламентского eq законодательства в eq этой сфере: eq в первую eq очередь, под eq председательством Председателя eq сената О.eq Махлиса создана eq комиссия по eq обеспечению гендерного eq равноправия; в eq вторую очередь, eq в Верхней eq палате парламента eq создан Комитет eq женщин и eq женщин, основная eq задача которого заключается eq в разработке предложений eq о реализации государственных eq по обеспечению гендерного eq равноправия, совершенствованию eq законодательства, осуществлению eq парламентского контроль eq в данной eq области.\n",
      "Этот eq комитет проводит мониторинг, eq следящий за исполнением eq закона. Также eq осуществляется парламентский контроль eq по повышению роли eq женского общества, обеспечению eq гендерного равновесия в eq обществе, правам, eq свободам и eq законным интересам женщин, eq решению их eq задач, подготовке eq девушек к взрослым eq жизням, поддержке eq женщин, находящихся eq в тяжелых социальных eq условиях и содействию eq их трудоустройству, развитию eq сферы искусства и eq культуры, И eq других нормативных актов, eq создание Республиканского общественного eq совета женщин в eq составе Председателя Сената eq Олия Мажлиса; создание eq Республиканского общественного совета eq женщин в составе eq Председателя Сената eq Олия Мажлиса; создание eq Республиканского общественного eq совета женщин в eq составе Председателя Сената eq Олия Мажлисаодна из eq главных задач, которая eq наряду с всесторонней eq помощью женщин и eq девочек,  координацию eq вопросов, связанных eq с выполнением положений eq конвенции Объединенных Наций eq по ликвидации любых eq форм по отношению eq к женщинам, а eq также реализацию Пекинской eq Платформы действий, а eq также Национального плана eq действий; \n",
      "Создание eq Республиканского общественного совета eq женщин в составе eq Председателя Сенат; создание eq Республиканского общественного совета eq женщин в составе eq Узбекистан включает в eq себя активную и eq активную женщину, которая eq обладает большим жизненным eq опытом и знает eq вопросы женщин, а eq женские советы на eq местах являются руководителями eq советов хокимов eq по женщинам, в eq состав которых eq входят республиканские eq и областные eq фонды поддержки eq женщин. Также eq создано Министерство eq по помощи eq махаллям и eq семьям, одной eq из основных направлений eq всесторонняя помощь женщинам, eq Фонд по помощи eq женщинам и семьям, eq призывающий всестороннюю помощь eq женщинам, помогать eq их участвовать в eq семейном и частном eq предпринимательстве, ремесленном eq творчестве, получить eq знания и навыки eq для востребованных профессий eq рынка труда. Федеральная eq профсоюзная организация и eq Министерство по поддержке eq Махалли и Семьи eq создали специальную Республиканскую eq рабочую группу, которая eq изучивает и выясняет eq жизненные вопросы женщин eq во всех областях, eq организует работы по eq сокращении бедности, а eq также повышению благополучия eq населения, проводит eq регулярно в Махалях eq беседы с женщинами eq о своих проблемах, eq о их решении. eq Для того, чтобы eq провести такую работу eq по их eq решениям, была eq введена абсолютно eq новая система, eq называемая «женской eq тетради».\n",
      "Который eq позволяет более eq точно определить, eq кому действительно eq нужна помощь, eq организовать работу eq по адресу eq с таким eq слоем населения, eq предоставлять более 30 eq социальных услуг на eq электронной основе. Рассмотрев eq их деятельность, можно eq отметить, что eq в данной системе eq получены результаты, которые eq свидетельствуют о том, eq что 527 тыс. eq человек трудоустроены eq на территории eq Узбекистана. За eq последние годы eq республиканская комиссия eq решила проблемы 80 eq тыс. женщин eq и 32 тыс. eq женщин\n",
      "На eq основе результатов их eq работы обновляются списки eq нужных, проводятся eq работы по решениям eq многих социальных и eq экономических вопросов, которые eq волнуют женщины. В eq борьбе с пандемией, eq хотя она оказывает eq отрицательные последствия eq для всех сфер eq жизни общества, eq государства в eq частности для eq экономики и социальной eq сферы, 2020 год eq стал поворотным для eq обеспечения прав женщин eq и свобод. Который eq привел к тому, eq что Узбекистан уделяет eq еще больше расширению eq обращения населения, в eq первую очередь женщин, eq детей, к eq современной качественной медицинской eq помощи и лекарственным eq средствам. В eq ходе рассмотрения eq статей можно eq отметить, что eq международное сообщество eq осознало опыт eq Узбекистана в eq глубоком реформировании, eq создании и eq развитии качественной eq здравоохранительной системы eq и медицинской eq промышленности в eq стране, охране eq здоровья людей, eq формировании в обществе eq здоровой культуры, что eq позволило обеспечить успех eq в борьбе с eq коронавирусом. В 2020 eq году из eq государственного бюджета eq Узбекистана на eq реформу сферы eq выделено 14, 8 триллиона eq сомов, что eq в 1, 2 раза eq больше 2019 года. eq В рамках eq инвестиционной программы eq в область eq направлено 1 15 трлн. eq сумов, что eq позволило выполнить eq очень большую eq работу, несмотря eq на огромные eq трудности. В eq республике во eq всех регионах eq республики построены лечебные eq учреждения, центры eq распределения, оснащенные eq необходимыми средствами и eq оборудованием, лекарственными eq препаратами.\n",
      "В eq то время, как eq в некоторых странах eq была отмечена нехватка eq здравоохранительных кадров, Узбекистан eq проводил меры по eq подготовке хорошо подготовленных eq медицинских работников. eq В Узбекистане eq преобладают женщины, eq поэтому инвестиции eq в здравоохранение eq направлены на eq продвижение гендерной eq проблемы. Обеспечение eq занятости женщин eq и предоставление eq кредитов женщинам-eq предпринимателям. В eq этом направлении eq было осуществлено eq множество государственных eq программ: «Каждый eq предприниматель», «Благое eq сельское хозяйство» и «eq Благое махалла», «Пять eq важнейших инициатив». В eq республике коммерческие банкы eq республики открыли специальные eq кредитов женщинам-предпринимателям.\n",
      "eq По данным eq статистики, в eq течение последних eq лет льготные eq займы на eq развитие женского eq бизнеса Узбекистана выделены eq более 327 тыс. eq женщин на 7, 4 eq триллиона сумм. eq Для женщин-eq предпринимателей выделено eq около 1, 4 триллиона eq сомов из eq Фонда Реконструкции eq и Развития eq Узбекистана. В eq течение последних eq четырех лет eq трудоустроено более 6202 eq тыс. женщин, 106 eq тыс. человек eq оказывали содействие в eq развитии частного бизнеса. eq Например, в eq рамках Программы «Каждый eq семейный предприниматель» около 126 eq тыс. семей eq получили льготное кредитование, 215 eq тыс. семей eq получили кредиты для eq развития семейного eq бизнеса, всего eq на более 6 eq трлн. семей. eq В рамках eq пяти важных eq проектов в отдаленных eq районах организовали швейные eq цехи, обеспечили eq занятость 10 тыс. eq женщин, создали eq центры женской предпринимательской eq деятельности, где eq более 6150 женщин eq прошли курсы eq краткосрочного профессионального eq образования. В eq результате, в eq течение последних лет, eq несмотря на коронавирус, eq число предпринимателей достигло 172700 eq человек. Также eq более триллиона eq сомов было eq направлено на eq поддержку предпринимательских проектов eq женщин, а eq также на eq решение выявленных eq проблем на eq местах. В eq этой связи eq Народный Банк eq внедрил новые eq системы подготовки eq женщин к eq бизнесу, разработки eq типовых деловых планов eq и практического обслуживания eq в получении eq кредитов. В eq Узбекистане для расширения eq возможностей образования, требующих eq социальной поддержки, 950 молодых eq девушек из неблагополучных eq семей получили возможность eq поступать в дневные eq образовательные учреждения Узбекистана eq по государственному гранту. eq В 2021 году eq количество квот eq выросло до eq двух тысяч. eq В 2020 году eq для обеспечения eq жильем женщин, eq которые оказались eq в сложных eq жизненных условиях, eq а также eq девушек, которые eq находятся в eq одиночестве матерями-eq одиночками, выплачиваются eq первоначальные выплаты по eq приобретению жилья почти 22 eq млрд. сумм. eq В 2021 г. eq из государственного бюджета eq выделено 210 млрд. eq сумов и дополнительно 211 eq млрд. сумов eq на предоставление eq женщинам социального eq жилья на eq аренду. Это eq свидетельствует, что eq в те годы eq реализации принципа, eq который был eq сформирован Президентом, eq никто из eq женщин Узбекистана eq не остался eq без внимания eq государства, общества eq и женщин. Еще eq можно отметить усиление eq мер, направленных eq на предупреждение различных eq видов насилия на eq женщинах. Постановлением eq Президента от 02.07.2018 eq г. «О eq мерах, направленных eq на совершенствование eq системы социальной eq адаптации и eq профилактики семьи eq и семейного eq насилия», создано 190 eq городов и eq районов. Основные eq задачи заключались eq в оказании экстренной eq медико психологической, социальной, eq педагогической и правовой eq помощи лицу, оказавшемуся eq в трудной социальной eq ситуации, сталкивающемуся eq с проблемами семьи eq и бытового насилия. eq По данным статистики, eq Фонд поддержки женщин eq и семей в 2020 eq году выделил 981, 6 млн. eq сумов, а eq также общественный фонд eq в Олий Мажлис eq выделил 15 организациям eq государственные гранты на 461 eq млн. сумов, eq направленных на реализацию eq проектов борьбы с eq насилием, притеснением eq женщин и девушек. eq А для защиты eq жертв насилия в eq домашних условиях принято eq Постановление правительства «О eq мерах, направленных eq на совершенствование системы eq охраны женщин от eq насилия в домашних eq условиях» от 04.01.2020 eq г. Утверждены eq Положения «О eq порядке выдаче охранных eq ордерей женщинам, которые eq подвергаются притеснению, насилию, eq их обеспечению, мониторингу» eq и «О eq порядке проведения лицами, eq которые совершили eq или имеют eq склонность оказывать давление eq и насилие, программ eq по коррекции поведения». eq Где основные задачи eq программы были: 1. профилактика eq случаев насилия eq в отношении eq женщин; 2. Устранение eq причин и eq обстоятельств, способствующих eq этому; выявить eq и устранить латентное eq скрытое насилие; 4. Проведение eq индивидуального или группового eq разъяснительного действия eq с лицом, eq совершившим насилие \n",
      "eq В системе eq управления МВД в eq стране создано 360 постов eq инспекторов по женской eq работе, нуждающихся eq в правах и eq социальном обеспечении. С eq целью оперативной и eq качественной поддержки женщин, eq пострадавших от насилия eq и притеснения, разработана eq и введена стандартная eq операционная процедура eq совместного реагирования на eq гендерные насилия правоохранительными eq органами, работниками eq медицины и социальной eq психологии, повышается eq степень осведомленности по eq гендерному равенству и eq правам женщин, обучается eq ответственным лицам соответствующим eq правовым нормам для eq осуществления их практики eq применения.\n",
      "3.2 Влияние eq гендерного равенства eq на формирование eq имиджа страны\n",
      "eq В Узбекистане развивается eq сотрудничество с органами eq Конвенции ООН по eq улучшению положения женщин, eq расширению их прав, eq возможностей в рамках eq Конвенции по ликвидации eq любых форм дискриминации eq по отношению к eq женщинам и Пекинской eq Декларации и платформе eq действий по оказанию eq помощи. В eq Узбекистане периодически представляют eq информацию в комитет eq ООН по борьбе eq с дискриминацией женщин eq в этой области eq в Комитете ООН eq по борьбе с eq дискриминацией женщин.\n",
      "Отмечается, eq что основная цель eq стратегии основные права eq человека на социальное, eq экономическое, политическое eq обслуживание всех eq женщин, девушек eq и мужчин, eq детей, вне eq зависимости от eq расы, социальной eq расы, религии, eq социальной ситуации. eq В принятой eq стратегии определяются eq задачи Узбекистана eq по обеспечению eq гендерного равновесия eq к 2030 г. eq Они получают субсидии eq в зависимости от eq средств государственного и eq финансового бюджета. Также eq была создана eq система парламентского eq контроля за eq успешной реализацией eq стратегий. В eq ходе обсуждения eq принял участие eq представители международных eq и негосударственных eq организаций под eq руководством Председателя eq Комиссии гендерного eq равенства Танзила eq Норбоева и eq внес предложения eq и рекомендации eq по корректировке стратегии eq и совершенствованию. eq Развитие стратегии eq гендерного равновесия eq в 2020–2030 гг. eq должно осуществляться eq путем укрепления eq роли в eq этом направлении eq не только eq женской, но eq также мужчины. eq Также объяснение eq понятия гендерного eq равноправия подрастающего eq поколения в eq процессе образования eq создает фундамент eq для того, eq чтобы в eq обществе появился eq новый подход eq к этому eq вопросу. Ашита eq Митталь, постоянный eq представитель ООН eq по Узбекистану, eq подчеркнула, что eq ООН принимает eq участие в eq усилиях Узбекистана eq для достижения eq гендерного равновесия. eq Представитель Узбекистана eq Ю.Ю.eq Юнфпанин сказал, eq что необходимо eq строго определение eq расходов и eq расходов, необходимых eq для осуществления eq этой стратегий. eq Необходимо внедрить eq четкую отчетность eq о распределении eq средств, выделенных eq из бюджета, eq а также eq других средств. eq Вице-президент eq Европейского Банка eq Реконструкции и eq Развития Оксана eq Пак высказалась eq о системном eq повышении правовой eq грамотности и eq финансовой грамотности eq женщин Узбекистана, eq которое должно eq рассматриваться национально. eq Должен быть eq механизм контрольно-eq аналитического контроля eq в реализации eq госполитики обеспечения eq гендерного равноправия. eq Необходимо провести eq исследования, чтобы eq анализировать реальную eq ситуацию с eq гендерной равенством eq на территории eq страны. Впервые eq состоялась международная eq онлайн-конференция «eq Женщины в eq науке: аспекты eq гендера» в eq рамках инициативы eq исследовательского центра eq женского равенства eq в Ферганском eq государственном университете eq при поддержке eq Хакимиата области, eq Сената Олега eq Мишустина, Республиканского eq центра женского eq равенства и eq Центра социальной eq поддержки «Калба eq Нури», в eq которой приняли eq участие женщины, eq их семей, eq регионального объединения «eq Деловая Женщина», eq посольства иностранных eq стран, экспертов eq Узбекистана, ученых eq ведущих иностранных eq университетов. В eq том числе eq Сюзан Вуд, eq пресс-секретарь eq посольства Узбекистана, eq советник Женской eq ООН, профессор eq А.Г. eq Иброхимбеков, Кыргизско-eq Российский Славянский eq университет, доктор eq юридических наук, eq профессор Анара eq Ниязова, советник eq Минобрнауки Узбекистана eq А.Джамолдинов, eq а также eq другие профессоры eq и преподаватели, eq выступившие с eq докладами в eq онлайн-конференции. eq На конференции eq отмечалось, что eq основная цель - eq достижение большой eq активности женщин eq в Узбекистане eq во всех eq областях, обеспечить eq их комфортный eq брак, обеспечить eq их должное eq участие в eq научной, управленческой eq и политиковой eq деятельности, обмениваться eq опытом и eq достижениями женщин eq на Востоке. eq Председатель сената eq Парламента Узбекистана eq Танзил Норбоев eq в своем eq выступлении указал, eq что перед eq государством лежит eq задача предоставления eq женщинам равных eq прав и eq возможностей и eq не привилегированных eq положений в eq обществе женщин. eq По результатам рассмотрения eq были подготовлены и eq реализованы «дорожные eq карты» по eq реализации принятых международными eq экспертами ООН замечаний, eq предложений, отмеченных eq также многими позитивными eq изменениями, достигнутыми eq прогрессом в вопросах eq изменения роли женщин eq и их статуса eq в политических, социальных, eq экономических и культурных eq сферах. Кроме eq того, Узбекистан eq вновь возобновил практику eq приглашения специальных eq докладчиков ООН по eq различным вопросам прав eq человека в страну.  eq Глава Генеральной eq Ассамблеи ООН eq Антонио Гутерриш 24 eq Февраля 2020 года eq высказался о инициативе «eq Высшее стремление: призывы eq к действиям в eq интересах права человека». eq Одним из основных eq его посланий было eq необходимость укрепить гражданское eq общество, обеспечить eq гендерный баланс, eq равное участие женщин eq и женщин в eq политическом, экономическом eq и социальном мире eq и свободу информации. eq Это решение ООН eq было созвучно с eq реформами, которые eq проводятся в стране eq в этих областях. eq В своем выступлении eq на 46 м eq заседании Совета Организации eq Объединенных Наций президент eq Узбекистана подробно рассказал eq приоритеты углубления демократичных eq преобразований страны, основные eq направления деятельности Узбекистана eq по СПЧ, eq обозначил новейшие eq грани углубления eq сотрудничества узбекистана eq с Организацией eq Объединенных Наций eq в области eq достижения равенства eq гендера. Глава eq страны, в eq частности, инициировал eq организации диалога eq женщин-лидеров eq центральной Азии и eq бизнес форума. Что eq позволит: объединить eq лучший опыт и eq практику в области eq возможностей и прав eq женщин, создать eq условия для того, eq чтобы обеспечить eq достойную занятость eq и развивать бизнес, eq предотвратить любые формы eq насилия против женщин eq и способствовать укреплению eq международного и регионального eq взаимодействия в области eq этой сферы; eq повысить уровень eq развития женского eq бизнеса в eq регионах и eq на глобальном уровнях. eq В целом, усилия eq Узбекистана в этих eq сферах могут быть eq сказано, что eq направлены на обеспечение eq достойной жизни более 17 eq млн женщин eq в нашей eq стране. Сегодня eq узбекистанская гендерная eq равенство является eq залогом стабильного eq развития. В eq стране ускоряются изменения eq законодательной сферы, которые eq приводят к кардинальной eq положительной трансформации во eq всех сферах экономики eq страны, а eq также социальной eq сферы, с eq особенной точки eq зрения повышения eq политического и социального eq потенциала женщин и eq их усиления роли eq в управлении eq общественностью и eq семьей. Гендерная eq равенство Узбекистана eq переживала периоды eq спада и eq подъема после eq того, как eq в 1991 году eq была обретена eq независимость. Комитет eq Женщин Узбекистана, который eq является важнейшим eq игроком в eq поддержке гендерного eq равенства. В eq Комитете женщин eq имеется сеть eq отделений в eq каждом территориальном eq административном округе, eq которое возглавляет eq заместитель руководителя eq администрации по eq вопросам женщин. eq Последний указ eq Президента от 02.02.2019 eq создает условия eq дальнейшей работы eq КЖУ, способствует eq более системному eq подходу к eq гендерному равенству. eq В качестве eq наиболее актуальных eq вопросов КЖУ eq выделяет «трудовое eq устройство, новые eq рабочие места, eq развитие предпринимательских eq и деловых eq навыков» как eq главные проблемы eq жителей города. eq Для сельской eq женщины «недостаток eq социальных и eq коммунальных инфраструктур eq на территории, eq необходимость развития eq семейного и eq домашнего труда» eq стали наиболее eq актуальными вопросами, eq которые требуют eq решения. С eq начала 2017 г. eq впервые за eq независимый Узбекистан eq был создан eq национальный виртуальный eq прием в eq каждом административном eq округе, чтобы eq упростить взаимодействие eq граждан и eq государственных служб. eq КЖУ регулярно eq проверяет обращения eq женщин, которые eq подаются в eq виртуальных приемных eq для адресной eq решения поставленных eq проблем. В eq настоящее время eq главными вопросами eq обращения женщин eq в виртуальных eq приемных являются eq просьбы по eq правам, социальным, eq жилищным, финансовым, eq вопросам и eq предложениям по eq культурному поведению, eq дрессировке, свадьбам eq и обряды. eq Узбекистан в 2016 eq году занял 105 eq место среди 185 eq стран, что eq делает его eq одним из eq стран, имеющих eq высокий уровень eq развития человечества. eq В индексе eq гендерных равенств eq Узбекистан занимает 57-eq е место eq в 188 странах, eq этот показатель eq обусловлен высокой eq образовательной и eq социальной активностью eq женщин. В 2014 eq г. Организация eq экономического сотрудничества eq и развития eq ОЭСР включена eq в свой eq индекс социально-eq институциональных институтов, eq гендерных институтов. eq Узбекистан в 2014 eq году занял 52 eq место в eq списке 86 стран, eq которые не входят eq в Организацию eq Объединенных Наций, eq и в 2014 eq году набрал 0.1475 eq баллов, что eq относится к eq категории «средней». eq При использовании eq метода Глобального eq гендерного индекса eq и гендерного eq индекса Узбекистан eq достигает гендерного eq равновесия в eq области образования eq и здравоохранения. eq Другой взаимосвязанный eq показатель - уровень eq нищеты. Доля eq бедных населения eq в 2017 г. eq составила 12, 8 %. Оценка eq уровня бедности eq в Узбекистане eq базируется на eq концепции международного eq банка, принятой eq на основе eq исследований домохозяйств, eq на основе eq которой выбрано eq абсолютное значение eq бедности, которое eq характеризуется уровнем eq потребления пищи eq в 2100 калорий eq в сутки. eq К тому eq же, по eq терминологии, используемым eq правительством, бедные eq люди относятся eq к уязвимым eq слоям населения, eq для поддержания eq этих слоев eq установлен минимальный eq порог бедности eq на уровне 1, 5 eq минимальной заработной eq платы. Хотя eq вышеупомянутые положительные eq результаты приводят eq к рассмотрению eq такие вопросы, eq связанные с eq положениям женщины eq и равенством eq гендера, как eq асимметрия собственности eq имущества; горизонтальное eq и вертикальное eq сегрегация рынка eq труда, в eq котором женщины eq не представлены eq на высших eq должностях в eq каждом секторе, eq занятость доминирует eq в социальном eq секторе экономики, eq сезонные, низкие eq оплачиваемые, неквалифицированные eq рабочие места eq в формальном, eq неформальном; и eq традиционный стереотип eq о том, eq как женщины eq и мужчины eq играют важную eq роль в eq семье, обществе. eq В статистических eq данных по eq гендерному разрезу. eq При проведении eq оценки гендерной eq принадлежности в eq стране одним eq из вопросов eq стало выделение eq отсутствия достоверной eq и регулярной eq сборки данных, eq связанных с eq гендерной разбивкой. eq С тех eq пор Госкомстат eq регулярно опубликовал eq сбор статистики «eq Женщина и eq мужчина Узбекистана» eq и в 2014 eq году при eq поддержке АО «eq АБР» был eq запущен сайт eq посвященный статистике eq гендера https: //eq gend.state.eq uzru. В eq этом интернет-eq ресурсе представлена eq информация о eq разбивке по eq полу по eq показателям демографии, eq занятости, туризма, eq социальных систем eq и статистике eq правонарушения. Краткое eq описание здравоохранения, eq образования, физической eq культуры и eq спорта. Однако eq отсутствие данных eq о гендерном eq неравенстве на eq сайте в eq ключевых секторах eq деятельности АБР, eq например, в eq энергетике, строительстве, eq транспорте и eq связи, являются eq одним из eq факторов, которые eq являются препятствиями eq для того, eq чтобы оценить eq гендерное неравенство eq и проблемы, eq которые можно eq решить в eq рамках ABR. eq Также на eq сайте недоступны eq глобальные ключевые eq показатели, такие eq как доля eq женщин в eq политике и eq принятие решений, eq право собственности, eq доступ к eq ресурсу, доля eq занятых оплачиваемыми eq и неоплачиваемыми eq работами и eq надомным трудом, eq доля трудоустроенных eq женщин и eq использование времени – eq эти сведения eq теперь недоступны eq для веб-eq ресурса. КЖУ eq собирает также eq данные с разделением eq по полу, но eq здесь не хватает eq системы и структуры eq подхода, кадрового eq и технического ресурса, eq чтобы разработать eq инструменты, регулярно eq собирать и eq поддерживать базу eq данных и eq провести их eq анализ. В eq Узбекистане нет eq законодательных положений, eq ограниченных участием eq женщин в eq общественной жизни. eq Насилие против eq женщин запрещено, eq и дискриминация eq в работе eq запрещена законами eq о против eq дискриминации. Женщины eq работают на eq высоких должностях eq по всему eq миру Женщины eq еще недостаточно eq представлены по eq уровню принятия eq решения и eq контроля во всех eq сферах, то eq есть они до eq сих пор не eq достигли критичного меньшинства eq на 30 процентов, eq необходимого, чтобы eq эффективно влиять eq на принятие eq решений. Вопросы eq труда и рынка eq труда Вопросы eq занятости и eq создания рабочего eq места всегда eq обращаются к eq государству, а eq также гендерные eq подходы отчетливо eq просматриваются. В eq стратегии действий 2017–2021 eq годов непосредственно eq рассматривается вопрос eq о занятости eq женщин, выпускников eq профессиональных колледжах. eq Женщины - 49, 6 населения eq Республики Узбекистан. eq Доля женщин, eq занятых формально, eq до сих eq пор ниже eq мужчин: 45, 7 по eq сравнению со 54, 3. eq В социальных eq сферах широко eq представлены женщины, eq которые занимаются eq образованием, медициной eq и социальными eq услугами, гостиничным eq сервисом и eq общественным питанием eq с меньшей eq зарплатой, а eq мужчины лидируют eq в технической eq и более eq доходной отраслях, eq например, в eq строительстве, финансы, eq промышленности, транспорте, eq связи.  \n",
      "\n",
      "3.3 Прикладные eq аспекты политики eq в области eq гендерного равенства eq в Узбекистане\n",
      "eq На международном eq круглом столе eq выступили Комиссия eq по гендерному eq равенству Республики eq Узбекистан, Министерство eq по делам eq семьи и eq общества, политические eq партии, научное eq сообщество и eq аналитические центры eq нашей страны, eq негосударственные некоммерческие eq организации, а eq также международные eq участвовали эксперты eq и аккредитованные eq представители иностранного eq дипломатического корпуса.\n",
      "eq С приветственным eq словом к eq участникам обратились eq первый заместитель eq Спикера Законодательной eq палаты Олий eq Мажлиса Республики eq Узбекистан, директор eq Национального правозащитного eq центра Республики eq Узбекистан Акмаль eq Саидов и eq глава представительства eq ЮНЕСКО в eq Узбекистане Александрос eq Макаригакис. события.\n",
      "eq На конференции eq широко обсуждалась eq пятая цель eq устойчивого развития – eq обеспечение гендерного eq равенства и eq реализация прав eq и возможностей eq всех женщин. eq При формировании eq интеллектуального потенциала eq в этой eq связи особое eq внимание уделялось eq разработке предложений eq и практических eq рекомендаций по eq решению гендерных eq проблем в eq нашем обществе eq путем анализа eq опыта обеспечения eq гендерного равенства eq в Узбекистане.\n",
      "\n",
      "eq По сообщению eq пресс-службы eq Центра устойчивого eq развития, основными eq задачами международного eq круглого стола eq являются:\n",
      "Информирование eq широкой общественности eq о благоприятных eq политических, правовых, eq институциональных и eq организационных условиях, eq созданных для eq обеспечения гендерного eq равенства и eq повышения статуса eq женщин в eq Узбекистане;\n",
      "анализ eq национального законодательства eq и международных eq стандартов в eq области обеспечения eq гендерного равенства eq на всех eq уровнях государственного eq управления - город, eq область, Республика;\n",
      "eq в соответствии eq с международными eq стандартами, в eq процессе разработки eq политики Узбекистана eq по достижению eq гендерного равенства eq и обеспечения eq основных прав eq женщин, а eq также в eq процессе ее eq эффективной реализации, eq определяя основные eq задачи, правовые eq нормы и eq установленные процедуры eq для женщин eq во всех eq сферы общества eq и государственного eq управления;\n",
      "современное eq состояние участия eq женщин в eq масштабных реформах eq по всем eq аспектам модернизации eq страны, в eq частности достижения eq и актуальные eq проблемы в eq части реализации eq пятой цели eq Целей устойчивого eq развития ООН, eq известной как «eq Обеспечение гендерного eq равенство и eq расширение прав eq и возможностей eq всех женщин». «eq обучение;\n",
      "сосредоточены eq на разработке eq и реализации eq важных проектов eq по достижению eq гендерного равенства eq и всестороннему eq обеспечению прав eq женщин на eq всех уровнях eq государственного управления eq в Узбекистане eq в соответствии eq с общепризнанными eq международными стандартами eq в этой eq сфере.\n",
      "\n",
      "Международные eq и национальные eq эксперты «Обеспечение eq гендерного равенства eq и расширение eq прав и eq возможностей женщин – eq важное направление eq государственной политики», «eq Национальная гендерная eq стратегия Узбекистана: eq механизмы реализации eq и перспективы», «eq Защита прав eq женщин» и eq лекции на eq такие темы, eq как «Международная eq сотрудничество в eq области безопасности».\n",
      "\n",
      "eq При этом eq в процессе eq разработки и eq эффективной реализации eq политики Узбекистана eq по достижению eq гендерного равенства eq и обеспечению eq основных прав eq женщин в eq соответствии с eq международными стандартами eq определение основных eq задач, правовых eq норм и eq установленных процедур eq для женщин eq во всех eq сферах жизни eq общества и eq государственного управления , eq права женщин eq подробно обмениваются eq достижениями и eq актуальными проблемами eq в области eq защиты юридических, eq социально-экономических eq прав.\n",
      "\n",
      "Итоговый eq документ был eq принят после eq мероприятия. Он eq направлен на eq повышение роли eq и положения eq женщин, и eq обеспечение полного eq гендерного равенства eq во всех eq аспектах модернизации eq Нового Узбекистана, eq а также eq эффективных зарубежных eq нормативных актов eq в соответствии eq с международными eq стандартами в eq этой сфере. eq и организационно-eq институциональный опыт eq нашли отражение.\n",
      "eq Государственный таможенный eq комитет является eq первым государственным eq учреждением, использующим eq программу в eq Узбекистане и eq Центральной Азии. eq Основной целью eq программы «Знак eq гендерного равенства eq государственных учреждений» eq является учет eq гендерных вопросов eq в государственной eq политике и eq обеспечение ее eq эффективности, действенности eq и ориентированности eq на потребности eq людей, особенно eq женщин, нуждающихся eq в социальной eq защите. В eq частности, в eq рамках программы eq будет предоставлена ​​eq практическая база eq государственным учреждениям eq для укрепления eq их потенциала eq и более eq эффективного обеспечения eq гендерного равенства.\n",
      "eq Председатель Сената eq Олий Мажлиса eq Республики Узбекистан eq Танзила Норбоева eq отметила, что eq данная программа eq служит успешной eq реализации Национальной eq стратегии по eq обеспечению гендерного eq равенства в eq Узбекистане и eq будет примером eq не только eq в Узбекистане, eq но и eq в Центральной eq Азия. В eq своем выступлении eq Танзила Норбоева eq подчеркнула, что eq гендерное равенство eq касается не eq только расширения eq прав и eq возможностей женщин. «eq Продвижение и eq достижение гендерного eq равенства также eq расширяет права eq и возможности eq мужчин и eq приносит пользу eq обществу в eq целом».\n",
      "Какие eq льготы для eq женщин Узбекистана eq в 2023 году?\n",
      "eq В Узбекистане eq для женщин eq создан ряд eq льгот в eq соответствии с eq законодательством. В eq частности, в 2022 eq году женщинам eq для начала eq предпринимательской деятельности eq будут выделены eq кредиты в eq размере до 33 eq млн сумов. eq О порядке eq предоставления микрозаймов eq физическим лицам, eq проявляющим предпринимательскую eq инициативу, в eq том числе eq молодежи и eq женщинам, согласно eq постановлению Правительства «eq Об эффективной eq реализации программ eq профессионального и eq предпринимательского обучения eq молодежи и eq женщин и eq о мерах eq по выделению eq микрозаймов на eq осуществление ими eq предпринимательской деятельности» eq был утвержден eq устав.\n",
      "Представительство eq в правительстве\n",
      "eq По данным eq Форума женщин ― eq парламентариев МПС, eq на январь 2021 eq года в 22 eq странах мира (eq в 2020 году eq было 20) женщины eq занимают посты eq глав государств eq и правительств: 9 (5,9%) eq из 152 избранных eq глав государств eq и 13 (6,7%) из 193 eq глав правительств – eq женщины. \n",
      "При eq этом наибольшее eq количество стран, eq в которых eq женщины занимают eq высшую государственную eq должность (пять eq глав государств) eq или возглавляют eq правительство (семь eq глав правительств), eq приходится на eq долю Европы.\n",
      "eq Однако число eq стран, в eq которых женщины eq занимают 50% и eq более министерских eq должностей, сократилось eq с 14 в 2020 eq году до 13 eq в 2021 году ― eq это Никарагуа (58,8%), eq Австрия (57,1%), Бельгия eq и Швеция (eq по 57,1%), Албания (56,3%), eq Руанда (54,8 %), Коста-eq Рика (52%), Канада (51,4%), eq Андорра, Финляндия, eq Франция, Гвинея-eq Бисау и eq Испания (по 50%). \n",
      "eq Наибольший скачок eq в политическом eq представительстве женщин eq на исполнительном eq уровне наблюдается eq в странах:\n",
      "eq Европы ― Литве ― eq с 8 до 43%, eq Бельгии ― с 25 eq до 57%; \n",
      "Африки eq к югу eq от Сахары ― eq Намибии ― с 15 eq до 39%;\n",
      "Америки ― eq США. Впервые eq в истории eq страны число eq женщин-министров eq выросло с 17 eq до 46%; \n",
      "Азии ― eq Монголии, где eq процент возглавляемых eq женщинами министерств eq вырос с 6,7 eq до 18,8%, что eq является самым eq большим показателем eq в регионе. eq Узбекистан же eq по данному eq показателю (3,4%) занимает 180-eq е место eq в мире;\n",
      "eq Ближнего Востока eq и Северной eq Африки – Тунисе – eq с 6,9%  до 29,2%. eq В Ливане eq сохраняется самая eq большая доля eq женщин-министров – 31,6%;\n",
      "\n",
      "eq Тихоокеанского региона – eq Новой Зеландии, eq где сохраняется eq самая большая eq доля женщин-eq министров – 40%, что eq на 10% больше, eq чем в 2020 eq году.\n",
      "При eq этом женщины-eq министры по-eq прежнему доминируют eq в министерствах, eq ответственных за eq социальные вопросы, eq вопросы женщин eq и гендерного eq равенства. Несколько eq возросла также eq доля женщин eq в традиционно eq возглавляемых мужчинами eq министерствах. \n",
      "Например, 11,9% eq оборонных ведомств (eq в 2020 г. ― 10,1%), 13,6% eq министерств финансов (eq в 2020 г. ― 11,5%), 26% eq внешнеполитических ведомств (eq в 2020 г. ― 16,8%) eq в настоящее eq время возглавляются eq женщинами.\n",
      "В eq целом в eq мире наблюдается eq тенденция динамичного eq роста женщин-eq политиков как eq в законодательных eq и исполнительных eq органах власти, eq так и eq среди представителей eq судебной власти. eq Тенденции, наблюдаемые eq в Узбекистане, eq тоже идут eq в русле eq общемировых процессов.\n",
      "eq Согласно положению, eq лица, проявляющие eq предпринимательскую инициативу, eq в том eq числе молодежь eq и женщины, eq а также eq лица, создавшие eq микрофирмы и eq малые предприятия (eq заемщики), могут eq обратиться за eq получением кредита eq в Акционерно-eq коммерческий банк «eq Микрокредитбанк» или eq АО «Халк». eq фондовый банк eq с электронным eq приложением.\n",
      "Запрещается eq увольнять женщин eq по инициативе eq работодателя в eq связи с eq достижением пенсионного eq возраста.\n",
      "7 марта 2019 eq года принято eq постановление Президента «eq О мерах eq по дальнейшему eq усилению гарантий eq трудовых прав eq женщин и eq поддержке предпринимательства».\n",
      "eq В целях eq усиления гарантий eq защиты трудовых eq прав женщин, eq дальнейшей поддержки eq их предпринимательской eq инициативы, поощрения eq трудовой деятельности eq и повышения eq уровня доступа eq к правосудию:\n",
      "eq С 1 мая 2019 eq г.:\n",
      "- отменены eq запреты на eq использование женского eq труда в eq отдельных областях eq или профессиях;\n",
      "- eq утвержден перечень eq отраслей или eq профессий, которые eq могут оказывать eq негативное влияние eq на здоровье eq женщин;\n",
      "- при eq использовании отцом eq не менее eq трех месяцев eq отпуска по eq уходу за eq ребенком одному eq из отца eq или матери eq предоставляется отпуск eq по уходу eq за ребенком eq с дополнительным eq месячным пособием eq в соответствии eq со статьей 234 eq Трудового кодекса eq Республики Узбекистан;\n",
      "- eq одному из eq родителей, воспитывающих eq ребенка в eq возрасте до eq двух лет, eq предоставляется право eq определять время eq перерыва в eq течение дня eq по согласованию eq с работодателем eq за счет eq перерывов, предоставляемых eq для отдыха eq и приема eq пищи, кормления eq ребенка во eq время работы;\n",
      "- eq запрещается расторжение eq бессрочного трудового eq договора, заключенного eq с женщинами, eq по инициативе eq работодателя до eq достижения ими 60-eq летнего возраста eq или до eq истечения срока eq действия срочного eq трудового договора eq в связи eq с достижением eq женщинами пенсионного eq возраста. по eq возрасту или eq имеют право eq на получение eq государственной пенсии eq по возрасту eq в соответствии eq с законом;\n",
      "- eq Плата за eq юридические услуги, eq оказываемые женщинам eq адвокатами по eq делам, связанным eq с нарушением eq равноправия мужчин eq и женщин, eq покрывается государством eq по их eq требованию.\n",
      "Некоторым eq категориям женщин eq выдается рекомендательное eq письмо для eq поступления в eq ВУЗ.\n",
      "Решением eq правительства утверждено eq положение о eq порядке дачи eq рекомендаций женщинам eq для участия eq в конкурсе eq и организации eq их приема eq в высшие eq учебные заведения eq в рамках eq параметров приема eq на основе eq дополнительных государственных eq грантов.\n",
      "Согласно eq регламенту, такие eq рекомендации выдаются eq на основании eq одного из eq следующих критериев:\n",
      "• eq женщины из eq малообеспеченных семей;\n",
      "• eq девочки, воспитывающиеся eq в неполных eq семьях, то eq есть женщины, eq у которых eq умер отец eq или мать;\n",
      "• eq дочери одиноких eq женщин (мужчин), eq воспитывающих двух eq и более eq детей в eq возрасте до 14 eq лет, проживающих eq отдельно от eq других родственников;\n",
      "• eq семьи, не eq имеющие собственного eq жилья и eq живущие на eq найме;\n",
      "• один eq или оба eq родителя являются eq безработными и eq зарегистрированы в eq качестве лиц, eq ищущих работу, eq в центрах eq содействия занятости;\n",
      "• eq женщины из eq семей с eq детьми-инвалидами;\n",
      "• eq Районы, где eq уровень охвата eq женщин высшим eq образованием в eq два и eq более раза eq ниже средних eq показателей по eq республике, а eq также девочек eq из семей, eq проживающих в eq отдаленных и eq труднодоступных районах (eq при условии, eq что они eq работают в eq своей территории eq на 3 года).\n",
      "eq Порядок получения eq рекомендации определен eq положением. По eq его данным, eq ежегодно в eq феврале формируется eq рабочая группа eq по выдаче eq рекомендательных писем eq женщинам.\n",
      "Рекомендация eq дается женщинам, eq желающим получить eq высшее образование eq на срок eq не более 3 eq лет.\n",
      "Обеспечено eq равное участие eq женщин и eq мужчин в eq отборе на eq руководящие должности\n",
      "eq Согласно законодательству eq ОЗР «О eq гарантиях равных eq прав и eq возможностей женщин eq и мужчин» eq должно быть eq обеспечено равное eq участие женщин eq и мужчин eq в конкурсе eq на замещение eq должностей государственной eq службы, в eq том числе eq руководящих должностей.\n",
      "eq Кадровые службы eq государственных органов eq обязаны предоставлять eq отборочным комиссиям eq не только eq сведения об eq образовании и eq профессиональной подготовке eq лиц, участвующих eq в конкурсе, eq но и eq сведения о eq соотношении численности eq женщин и eq мужчин, работающих eq в соответствующие eq должности государственной eq службы.\n",
      "В eq Узбекистане проведут «eq гендерный аудит»\n",
      "eq Законопроект об eq этом обсуждался   eq в Узбекистане «eq Задачи гендерного eq аудита» и «eq Процедура гендерного eq аудита» определены eq в специальных eq статьях. Об eq этом стало eq известно на eq заседании фракции eq Демократической партии «eq Национальное возрождение» eq в Законодательной eq палате Олий eq Мажлиса.\n",
      "Отмечается, eq что принята eq Стратегия достижения eq гендерного равенства eq в Республике eq Узбекистан до 2030 eq года и eq утверждена Комплексная eq программа мероприятий eq по ее eq реализации на 2021-2022 eq годы. Пункт 1 eq программы предусматривает eq разработку законопроекта, eq определяющего понятие «eq гендерный аудит» eq и порядок eq его проведения.\n",
      "eq Кроме того, eq был разработан eq вышеуказанный законопроект, eq а документ «eq Задачи гендерного eq аудита» и «eq Процедура гендерного eq аудита» определены eq в специальных eq статьях, а eq название «Комиссии eq Узбекистана по eq вопросам гендерного eq равенства» изменено eq на «Республика eq Республики Узбекистан eq по гендерному eq равенству и eq вопросам семьи, eq повышению роли eq женщин и eq девушек в eq обществе» было eq объявлено, что eq название будет eq изменено на «eq комиссия».\n",
      "В eq ходе обсуждений eq депутаты внесли eq ряд предложений eq по дальнейшему eq совершенствованию законопроекта eq исходя из eq целей и eq задач партии. eq Говорят, что eq их включение eq в законодательство eq послужит укреплению eq механизмов гарантирования eq равных прав eq и возможностей eq женщин и eq мужчин, и eq законопроект был eq одобрен. На eq заседании были eq обсуждены и eq другие законопроекты, eq включенные в eq повестку дня, eq и приняты eq соответствующие решения.\n",
      "eq Напоминаем, что eq ранее было eq объявлено, что eq в каждом eq районе Узбекистана eq будут созданы eq центры обеспечения eq занятости женщин. eq Также 18 июля eq Шавкат Мирзиёев eq подписал решение eq о предоставлении eq льготных кредитов eq на женское eq обучение.\n",
      "                                                       \n",
      "\n",
      "\n",
      "\n",
      "\n",
      "\f",
      "Заключение\n",
      "eq Имидж страны eq является важным eq целевым конструктором eq в международных eq связях с eq общественность и eq публичной дипломатии. eq В условиях eq глобализированного мира eq и распространения eq современных медиасообществ eq имидж страны eq становится все eq более важным eq по сравнению eq с доступом eq к территории eq и сырьём, eq когда речь eq идет о eq культурной, экономической eq и политической eq конкурентоспособности национальных eq государств.\n",
      "В eq заключение, можно eq отметить, что eq вопрос гендерного eq равенства в eq Узбекистане остается eq актуальным и eq требует дальнейших eq усилий от eq государства, общественных eq организаций и eq каждого человека. eq Несмотря на eq принятие ряда eq законодательных актов eq и программ, eq направленных на eq повышение статуса eq женщин и eq защиту их eq прав, остаются eq проблемы в eq сфере занятости, eq образования, здравоохранения eq и насилия eq в отношении eq женщин. Однако, eq политическая воля eq и активность eq гражданского общества, eq а также eq изменения в eq сознании населения eq создают благоприятные eq условия для eq продвижения процесса eq достижения гендерной eq равенности в eq Узбекистане.\n",
      "расположен eq в одном eq из самых eq засушливых регионов eq Центральной Азии. \n",
      "eq Правительство Узбекистана eq прилагает большие eq усилия для eq расширения прав eq и возможностей eq девушек и eq женщин. Несмотря eq на значительный eq прогресс,  необходимо eq проделать большую eq работу для eq повышения их eq потенциала, как eq в городе, eq так и eq в сельской eq местности. Этого eq можно достичь, eq обеспечив женщинам eq и девочкам eq равный доступ eq к ресурсам eq и возможностям, eq таким как eq доступ к eq формальному и eq неформальному образованию, eq включая навыки eq STEM, официальное eq трудоустройство, кредиты eq под низкие eq проценты и eq доступ к eq земле. Правительственные eq организации, неправительственные eq организации и eq сообщества могут eq помочь разрушить eq унизительные стереотипы eq о роли eq и обязанностях eq женщин и eq девочек для eq достижения более eq положительных результатов. eq Особое внимание eq следует уделить eq малообеспеченным семьям, eq проживающим в eq отдаленных селах, eq инвалидам и eq другим группам eq населения, нуждающимся eq в социальной eq защите.     Девочки-eq инвалиды особенно eq подвержены риску eq отсутствия доступа eq к образованию eq и профессиональному eq обучению. Им eq также не eq хватает минимальной eq компьютерной грамотности, eq чтобы безопасно eq ориентироваться в eq цифровом мире. eq Это не eq только ограничивает eq их будущие eq возможности для eq получения образования eq и трудоустройства, eq но и eq делает их eq уязвимыми для eq злоупотреблений, преследований eq и запугивания eq в Интернете. eq В связи eq с этим eq развитие STEM-eq навыков у eq девочек, в eq том числе eq детей с eq ограниченными возможностями, eq посредством программы eq компьютерной грамотности eq представительства ЮНИСЕФ eq в Узбекистане eq является одним eq из приоритетов eq в этом eq году. Кроме eq того, ЮНИСЕФ eq продолжает реализацию eq программы социальных eq инноваций ImkonLab. eq Это не eq только повышает eq квалификацию молодых eq людей, но eq и позволяет eq им реализовать eq свои идеи eq на благо eq общества. Это eq также важно eq для формирования eq уверенности в eq себе у eq молодых людей eq с ограниченными eq возможностями. ЮНИСЕФ eq призывает правительство eq Узбекистана поощрять eq активное участие eq женщин в eq экономической, политической eq и общественной eq сферах. В eq связи с eq этим важно eq изменить гендерные eq стереотипы и eq нормы в eq отношении участия eq и равенства eq женщин, а eq также опираться eq на родителей, eq педагогов, сообщества, eq религиозных лидеров eq и другие eq организации. Можно eq сказать что eq в Узбекистане eq систематически продолжается eq защита прав eq и законных eq интересов женщин, eq повышение их eq экономической, социальной eq и политической eq активности, сохранение eq их здоровья, eq обеспечение профессиональной eq подготовки и eq трудоустройства, широкое eq вовлечение в eq предпринимательство, социальная eq поддержка малообеспеченных eq женщин, обеспечение eq реформ гендерного eq равенства .  Поставленные eq задачи по eq удвоению доли eq женщин являются eq ярким выражением eq государственной политики, eq направленной на eq обеспечение гендерного eq равенства во eq всех сферах eq жизни и eq деятельности общества.\n",
      "\n",
      "eq В целом eq в мире eq наблюдается тенденция eq динамичного роста eq женщин-политиков eq как в eq законодательных и eq исполнительных органах eq власти, так eq и среди eq представителей судебной eq власти. Тенденции, eq наблюдаемые в eq Узбекистане, тоже eq идут в eq русле общемировых eq процессов.\n",
      "\n",
      "\n",
      "\n",
      "\n",
      "\n",
      "\n",
      "\n",
      "\n",
      "\n",
      "\f",
      "Список eq использованных источников eq и литературы\n",
      "eq Нормативно-правовые eq документы\n",
      "Аналитическая eq записка и eq посредством образования eq в Центральной eq Азии. ЮНЕСКО. [ eq Электронный ресурс] (eq дата обращения: 04.03.2022).\n",
      "eq ООН. Равенство eq полов. [Электронный eq ресурс]. URL: eq https. (дата eq обращения: 04.03.2023).\n",
      "ООН. eq Комиссия по статусу eq женщин. [Электронный eq ресурс] URL: eq https. (дата eq обращения: 04.03.2023). \n",
      "USAID. eq Women's Empowerment eq and Gender eq Equality. [Электронный eq ресурс] URL: eq https. (дата eq обращения: 14.03.2022.)\n",
      "Eurasian eq Research Institute. eq Gender Assessment eq in Central eq Asia. [Электронный eq ресурс] URL: eq httpsresearch.org/eq publication/gender-eq assessment-in-eq central-asia/?eq lang=ru. (eq Дата обращения: 14.03.2022.)\n",
      "eq ООН. Цели eq устойчивого развития. Равенство eq полов. [Электронный eq ресурс] URL: eq https. (дата eq обращения: 15.03.2023).\n",
      "ООН. eq Гендерное равенство: eq ключ к eq устойчивому развитию. [eq Электронный ресурс] URL: eq https. (дата eq обращения: 15.03.2023).\n",
      "ВОЗ. 10 eq ключевых вопросов eq обеспечения гендерной eq равноправности в eq мировом здравоохранении. [Электронный eq ресурс] HYPERLINK \"https://www.who.int/ru/news-room/feature-stories/detail/10-key-issues-in-ensuring-gender-equity-in-the-global-health-workforce\" https://eq www.who.eq int/ru/eq news-room/eq feature-stories/eq detail/10-key-eq issues-in-eq ensuring-gender-eq equity-in-eq the-global-eq health-workforce. (eq дата обращения: 16.03.2023).\n",
      "eq Программа ООН eq по окружающей eq среде. Гендерное eq равенство – важнейшая eq недостающая часть решения. [eq Электронный ресурс] URL: eq https. (дата eq обращения: 17.03.2023).\n",
      "ООН. eq Гендерное равенство eq в Центральной eq Азии: прогресс eq и вызовы. [eq Электронный ресурс] URL: eq https. (дата eq обращения: 17.03.2023).\n",
      "Alieva eq A. Женщины eq Центральной Азии - eq сильные и eq независимые. [Электронный eq ресуср] URL: eq https. (дата eq обращения: 17.03.2023).\n",
      "Central eq Asia News. eq Kazakhstan: Women eq are Central eq Asia's most eq active entrepreneurs. [eq Электронный ресурс] URL: eq https. (дата eq обращения: 17.03.2023).\n",
      "NewToNew. eq Как пол eq игрушек влияет eq на развитие eq ребенка. [Электронный eq ресурс] URL: eq https.( дата eq обращения: 17.03.2023). \n",
      "Higher eq School of eq Economics. Гендерные eq стереотипы в eq России и eq других странах eq мира. [Электронный eq ресурс] URL: eq https. (дата eq обращения: 17.03.2023)\n",
      "Статьи\n",
      "eq Кабулова С. П. eq Естественно подходы в eq юридическом регулировании//Монография. — eq Л.: Самарканд. eq гос. ун-eq т. 2010. — 275 с.\n",
      "eq Мудрик А. eq В. Социализация eq человека. // Изд. eq Центр Академия 2004. -304 eq с.\n",
      "Рахимов eq С. Р. eq Роль женщин eq в развитом eq демократическом обществе. //eq Вестник НУУз. 1992. № 32. eq С.10-13 \n",
      "Келебергенов eq А. Гендерное eq равенство в eq системе демократических eq принципов // Хабарши, eq Нукус. 2002. № 5. С.7-12.\n",
      "eq Усманова, У. eq С. Гендерная eq политика в eq Узбекистане — важный eq критерий обеспечения eq прав человека. // Молодой eq ученый. — 2021. № 48 С. 496-499. [eq Электронный ресурс] — eq URL: https://eq moluch.ru/eq archive/390/85809/ (дата eq обращения: 29.04.2023).\n",
      "Ajzen, eq Icek. Nature eq and operation eq of attitudes.//eq In: Annual eq Review of eq Psychology.2008. N 52. eq pp. 27–58.\n",
      "Ajzen, eq Icek; Fishbein, eq Martin. Understanding eq attitudes and eq predicting social eq behavior. Englewood eq Cliffs N.eq J // Prentice-eq Hall. 1983. N 45. eq pp 21-25.\n",
      "Albritton, eq Robert B.; eq Manheim, Jarol eq B.News eq of Rhodesia: eq The impact eq of a eq public relations eq campaign. //In: eq Journalism Quarterly. eq N 60 (4),. pp. 622–28.\n",
      "eq Albritton, Robert eq B.; Manheim, eq Jarol B.  „eq Public relations eq efforts for eq the Third eq World: Images eq in the eq news. //In: eq Journal of eq Communication. 1985. N35 (1), eq pp. 43–59.\n",
      "Allred, eq Anthony; Chakraborty, eq Goutam; Miller, eq Stephen J.eq Measuring images eq of developing eq countries: A eq scale development eq study //In: eq Journal of eq Euromarketing. 1993.N 8 (3), eq pp. 29–49.\n",
      "AMEC.eq Barcelona Declaration eq of Measurement eq Principles. London: eq AMEC. [Электронный eq ресурс] URL: eq httpcontent/uploads/2011/08/eq Barcelona_Principles_eq for_PR_eq Measurement.pdf [eq accessed: 20.01.23].\n",
      "Anderson, eq Benedic.Imagined eq communities: reflections eq on the eq origin and eq spread of eq nationalism. Londo // eq Verso. 1983.N 43. eq pp.55-57.\n",
      "Anderson, eq James C.; eq Gerbing, David eq W. Predicting eq the performance eq of measures eq in a eq confirmatory factor eq analysis with eq a pretest eq assessment of eq their substantive eq validities. //Journal eq of Applied eq Psychology. 1991. N 76, eq pp. 732–740.\n",
      "Anholt, eq Simon. Public eq diplomacy and eq place branding: eq Where’s the eq link?“ // Place eq Branding.2006. N 3, eq pp. 271–275.\n",
      "Ashmore, eq Richard D; eq Deaux, Kay; eq McLaughlin-Volpe, eq Tracy. // An eq organizing framework eq for collective eq identity: articulation eq and significance eq of multidimensionality. // eq Psychological Bulletin. 2004. eq N 130, pp. 80–114.\n",
      "eq Avenarius, Horst; eq Armbrecht, Wolfgang. eq Ist Public eq Relations eine eq Wissenschaft? // Eine eq Einführung. Springer eq VS.2003.N 56. eq Pp.98.\n",
      "Avraham, eq Eli; Ketter, eq Eran. Media eq Strategies for eq Marketing Places eq in Crisis: eq Improving the eq Image of eq Cities, Countries eq and Tourist eq Destinations. Amsterdam //eq Butterworth-Heinemann.2005. eq N 8.pp. 96-98.\n",
      "eq Bagozzi, Richard; eq Fornell, Claes. eq Theoretical concepts, eq measurement and eq meaning analysis // eq New York: eq Praeger. 2003. pp. 24–38.\n",
      "eq Banks, Robert. eq A resource eq guide to eq public diplomacy eq evaluation. Los eq Angeles //Figueroa eq Press.2003. N 7. eq pp.54-55.\n",
      "Barich, eq H; Kotler, eq P. A eq framework for eq marketing image eq management. // Sloan eq Management Review. 2003. eq N 32 (2). pp. 94–104.\n",
      "eq Baron, Reuben eq M.; Kenny, eq David A. eq The moderator–eq mediator variable eq distinction in eq social psychological eq research: Conceptual, eq strategic, and eq statistical considerations. // eq Journal of eq Personality and eq Social Psychology. 1993. eq N 51. pp. 1173–1182.\n",
      "eq Bentler, Peter eq M.; Speckart, eq George. Models eq of attitude–eq behavior relations.“ eq In: Psychological eq Review. 1979. N 86. eq pp. 452–464.\n",
      "Bentler, eq Peter M.; eq Speckart, George. eq Attitudes ‚cause‘eq behaviors: A eq structural equation eq analysis. // Journal eq of Personality eq and Social eq Psychology. 1981. N 40. eq pp. 226–238.\n",
      "Bergler, eq Reinhold. Identität eq und Image // eq Bentele, Günter; eq Fröhlich, Romy; eq Szyszka, Peter (eq eds.) Handbuch eq der Public eq Relations. Wissenschaftliche eq Grundlagen und eq berufliches Handeln. 2nd eq edn. Wiesbaden: eq VS Verlag eq für Sozialwissenschaften.1998. eq pp. 321–334.\n",
      "Bloemer, eq Josée; Brijs, eq Kris; Kasper, eq Hans. The eq CoO-ELM eq model: A eq theoretical framework eq for the eq cognitive processes eq underlying country eq of origin-eq effects // European eq Journal of eq Marketing. 1998.\n",
      "\n",
      "\n",
      "\n",
      "Материалы eq рейтингов\n",
      "fDi’s eq Global Cities eq of the eq Future 2021/22 – overall eq winners. fDi eq Intelligence  official site, 11 eq February 2021 [Электронный eq ресурс]  URL: eq https (дата eq обращения: 19.04.2023). \n",
      "Montreal eq tops strategy eq category in eq Tier 2 future eq cities ranking. eq fDi Intelligence eq official site, 20 August 2020 [eq Электронный ресурс] URL: eq https (дата eq обращения: 19.04.2023). \n",
      "The eq World’s Safest eq Cities Ranking, 2019. eq CEOWORLD magazine, 2019 [eq Электронный ресурс] – eq URL:   HYPERLINK \"https://ceoworld.biz/2019/08/01/the-worlds-safest-cities-ranking-2019/\" https://eq ceoworld.biz/2019/08/01/eq the-worlds-eq safest-cities-eq ranking-2019/ (дата eq обращения: 21.04.2023). \n",
      "Wales eq Soft Power eq Barometer. Measuring eq Soft Power eq Beyond the eq Nation-State // eq British Council, 2018. – 33 p. [eq Электронный ресурс] – URL: eq https (дата eq обращения: 21.04.2023). \n",
      "Материалы eq статистических исследований\n",
      "eq Call for eq International Award eq UCLG Mexico eq City – Culture 21. [eq Электронный ресурс] URL: eq https (дата eq обращения:25.04.2023).\n",
      "Батыров, eq Р. Алгоритмы eq социального инжиниринга. [eq Электронный ресурс] // eq Proza.ru. eq URL:  HYPERLINK \"https://proza.ru/2011/11/04/1060\" https://eq proza.ru/2011/11/04/1060 (eq дата обращения:25.04.2023).\n",
      "Investing eq in Women // eq Global Gender eq Gap Report 2022. [eq Электронный ресурс] eq URL:  HYPERLINK \"https://investinginwomen.asia/knowledge/global-gender-gap-report-2022\" https://eq investinginwomen.asia/eq knowledge/global-eq gender-gap-eq report-2022. (дата eq обращения: 25.04.2023).\n",
      "World eq Economic Forum // eq Global Gender eq Gap Report 2022. [eq Электронный ресурс] eq URL:  HYPERLINK \"https://www.weforum.org/reports/global-gender-gap-report-2022\" https://eq www.weforum.eq org/reports/eq global-gender-eq gap-report-2022. (eq дата обращения: 25.04.2023).\n",
      "eq World Economic eq Forum // Global eq Gender Gap eq Report 2022. Full eq Report. [Электронный eq ресурс]  HYPERLINK \"URL:https://www3.weforum.org/docs/WEF_GGGR_2022.pdf\" URL:eq https://www3.eq weforum.org/eq docs/WEF_eq GGGR_2022.pdf (eq дата обращения: 25.04.2023).\n",
      "eq International Women's eq Day //Global eq gender gap eq narrowing, but eq still 132 years eq to reach parity. [eq Электронный ресурс] URL: eq https.  (дата eq обращения: 25.04.2023).\n",
      "United eq Nations Population eq Fund. International eq Men and eq Gender Equality eq Survey // Global eq Report 2022. [Электронный eq ресурс] URL: eq https (дата eq обращения: 25.04.2023).\n",
      "Gender eq Equality Policy. [Электронный eq ресурс] URL: eq https  (дата eq обращения: 25.04.2023).\n",
      "Georgetown eq Institute for eq Women, Peace eq and Security: eq Uzbekistan. [Электронный eq ресурс]  HYPERLINK \"URL:https://giwps.georgetown.edu/country/uzbekistan/\" URL:eq https://giwps.eq georgetown.edu/eq country/uzbekistan/ (eq дата обращения: 25.04.2023).\n",
      "eq Закон Республики eq Узбекистан «О eq государственных гарантиях eq равенства прав eq и интересов eq мужчин и eq женщин» от 11 eq апреля 2019 года № eq ЗРУ-567. [Электронный eq ресурс] URL: eq https (дата eq обращения: 25.04.2023).\n",
      " Активность eq женщин в eq экономике Узбекистана eq оценена в 1,7 eq триллиона сумов. [eq Электронный ресурс] URL: eq https (дата eq обращения: 25.04.2023).\n",
      "Areo – «eq Academic Grievance eq Studies and eq the Corruption eq of Scholarship»,  [eq Электронный ресурс]: URL: eq https (дата eq обращения: 02.05.2023).\n",
      "\n",
      "B/eq S/H/. eq Our employees eq are our eq greatest asset. [eq Электронный ресурс] eq URL:  HYPERLINK \"https://www.bsh-group.com/responsibility/employees\" https://eq www.bsh-eq group.com/eq responsibility/employees (eq дата обращения: 02.05.2023)\n",
      "eq Charta der eq viefalt. [Электронный eq ресурс] URL: eq https (дата eq обращения 02.05.2023).\n",
      "Cloverpop. eq Inclusive Decision-eq Making Increases eq Performance Of eq Diverse Global eq Companies. [Электронный eq ресурс] URL: eq https.  2009.(дата eq обращения: 02.05.2023) \n",
      "Forbes – «25 eq лучших компаний eq для женской eq карьеры», [Электронный eq ресурс] URL: eq https (дата eq обращения: 02.05.2023)\n",
      "Grant eq Thorton ФБК –«eq Гендерный разрыв eq в оплате eq труда», 2017, [Аналитический eq доклад]: eq pdf (дата eq обращения: 02.05.2023).\n",
      "GWAnet. eq История и теория eq феминизма. [Электронный eq ресурс] URL:eq http (дата eq обращения: 02.05.2023). \n",
      "HeadHunter. eq Достижимо ли eq гендерное равенство eq на рынке eq труда. [Электронный eq ресурс] URL: eq https (дата eq обращения: 03.05.2023).\n",
      "History eq of Feminism. [Электронный eq ресурс] URL: eq https (дата eq обращения: 03.05.2023).\n",
      "Human eq Resource Development eq International – «Breaking eq through the eq glass wall: eq the experience eq of being eq a woman eq enterprise leader», [eq Аналитический доклад] eq URL:  HYPERLINK \"https://www.tandfonline.com/doi/full/10.1080/13678868.2012.688361?scroll=top&needAccess=true\" https://eq www.tandfonline.eq com/doi/eq full/10.1080/13678868.2012.688361?scroll=eq top&needAccess=eq true  (дата eq обращения: 03.05.2023). \n",
      "International eq Chamber of eq Commerce. Мировая eq глобализация.  [Электронный eq ресурс] URL: eq http (дата eq обращения: 03.05.2023)\n",
      "International eq Labour Organization. eq Global Wage eq Report 2018/19. [аналитический eq доклад] URL: eq https (дата eq обращения: 03.05.2023)\n",
      "J.eq P.Morgan eq Chase. The eq Gender Leadership Gap. [eq Электронный ресурс] URL: eq https  (дата eq обращения: 03.05.2023).\n",
      "J-eq PAL. Discrimination eq in the eq Job Market eq in the eq United States. [eq Электронный ресурс] URL: eq https  (дата eq обращения: 03.05.2023) \n",
      "KellyService //eq Стеклянный потолок: eq миф или eq реальность.  [Электронный eq ресурс] URL: eq https. 2017. (дата eq обращения: 03.05.2023). \n",
      "ManpowerGroup. 7 eq steps to eq concision inclusion. [eq Аналитический доклад] eq URL:  HYPERLINK \"https://www.manpowergroup.com/wcm/connect/6b392e0f-1dfb-46e6-aa72-eeb8859f40b7/Seven%2BSteps%2Bto%2BConscious%2BInclusion.pdf?MOD=AJPERES&CONVERT_TO=url&CACHEID=ROOTWORKSPACE-6b392e0f-1dfb-46e6-aa72-eeb8859f40b7-mNbPjrV\" https://eq www.manpowergroup.eq com/wcm/7conclusions (eq дата обращения: 03.05.2023).\n",
      "eq McKinsey & Company. eq Women in eq the workplace 2020. [eq Аналитический доклад] eq URL:  HYPERLINK \"https://wiw report.s3.amazonaws.com/Women_in_the_Workplace_2020.pdf\" https://eq wiw report.s3.eq amazonaws.com/eq Women_in_eq the_Workplace_2020.eq pdf (дата eq обращения 03.05.2023)\n",
      "McKinsey&eq Co. Women eq in the eq workplace [Электронный eq ресурс] URL: eq https, HYPERLINK \"https://www.mckinsey.com/~/media/McKinsey/Featured%20Insights/Employment%20and%20Growth/The%20power%20of%20parity%20Advancing%20womens%20equality%20in%20the%20United%20States/MGI-Power-of-Parity-in-US-Full-report-April-2016.ashx\" https://eq www.mckinsey.eq com/~/media/eq McKinsey/Featured%20Insights/eq Employment (дата eq обращения: 03.05.2023).\n",
      "\n",
      "Mercer. 2016 eq Global When eq Women Thrive eq Report. [Аналитический eq доклад] URL: eq https (дата eq обращения:03.05.2023).\n",
      "OECD. eq Gender wage gap. [eq Электронный ресурс] URL: eq https (дата eq обращения: 03.05.2023). \n",
      "Organisation eq of United Nations.eq Gender Equality. [Электронный eq ресурс] URL: eq https (дата eq обращения: 03.05.2023)\n",
      "Pacific eq University Oregon. eq Four Waves eq of Feminism. [eq Электронный ресурс] eq URL:  HYPERLINK \"https://www.pacificu.edu/magazine/four-waves-feminism\" https://eq www.pacificu.eq edu/magazine/eq four-waves-eq feminism (дата eq обращения:.06.05.2023)\n",
      "Sage eq People.10 ways eq to eliminate eq gender bias eq in the eq workplace.[Электронный eq ресурс] URL: eq https (дата eq обращения: 06.05.2023).\n",
      "The eq Guardian.Can eq anonymous CVs eq help beat eq recruitment discrimination. [eq Электронный ресурс] eq URL:  HYPERLINK \"https://www.theguardian.com/money/work-blog/2013/apr/11/can-anonymous-cvs-help-beat-job-discrimination\" https://eq www.theguardian.eq com/money/eq work-blog/2013/eq apr/11/can-eq anonymous-cvs-eq help-beat-eq job-discrimination (eq дата обращения: 06.05.2023).\n",
      "eq TJ. Какие eq профессии запрещены eq и разрешены eq женщинам  [Электронный eq ресурс] URL: eq https.(дата eq обращения: 06.05.2023). \n",
      "Wikipedia .eq Маскулизм. [Электронный eq ресурс] URL: eq https (дата eq обращения: 17.04.2023).\n",
      "World eq Bank Group.eq Women, business eq and the eq law [Электронный eq ресурс] URL: eq https  (дата eq обращения: 17.04.2023).\n",
      "\n",
      "World eq Bank Group. eq Women, Business eq and the eq Law 2021. [Аналитический eq доклад] URL: eq https (дата eq обращения: 06.05.2023).\n",
      "World eq Economic Forum.eq Global Gender eq Gap Report 2020. [eq Аналитический доклад] eq URL:  HYPERLINK \"http://www3.weforum.org/docs/WEF_GGGR_2020.pdf\" http://eq www3.weforum.eq org/docs/eq WEF_GGGR_2020.eq pdf  (дата eq обращения: 10.05.2023)\n",
      "Абдусаламова eq М. М., eq Рабаданов М. eq А. Женщины eq на рынке eq труда: статистическое eq измерение [Научная eq статья] URL: eq https. 2013.(дата eq обращения:07.05.2023).\n",
      "Беляева eq З.С., eq Белякова А.eq М., Толкунова eq В.Н.eq Законодательство о eq правах женщин eq в СССР // eq Сборник нормативных eq актов М  1975.\n",
      "eq Бхагвати Дж. eq В защиту eq глобализации. 1987.\n",
      "Д.eq Дидро.Энциклопедия, eq или Толковый eq словарь наук, eq искусств и eq ремесел. [Печатное eq издание]// гл.eq Философия, статья «eq О человеке».1775.\n",
      "eq Калабихина И.eq Е.Гендерная eq дискриминация на eq российском рынке eq труда. [Научная eq публикация] URL: eq http (дата eq обращения: 07.05.2023).\n",
      "Ковалевский eq М. М. eq Родовой быт eq в настоящем, eq недавнем и eq отдаленном прошлом. //eq Опыт в eq области сравнительной eq этнографии и eq истории права. - eq СПб., 1911. \n",
      "Коллонтай, eq А.М. //eq Положение женщины eq в эволюции eq хозяйства М.1975.\n",
      "eq Конституция Российской eq Федерации -  гл 2, eq статья 19, ч.3, [eq нормативно-правовой eq акт].\n",
      "МегаФон, eq ежегодный отчет [eq Электронный ресурс] eq URL:  HYPERLINK \"https://corp.megafon.ru/ai/document/11879/file/MegaFon_AR2019_RUS.pdf\" https://eq corp.megafon.eq ru/ai/eq document/11879/file/eq MegaFon_AR2019_eq RUS.pdf eq дата обращения: 10.04.2023). \n",
      "\n",
      "eq Минтруд России //eq Национальная стратегия eq действий в eq интересах женщин eq на 2017 2022 годы. [eq Электронный ресурс] URL: eq https (дата eq обращения:07.05.2023).\n",
      "ООН. eq Мир, достоинство eq и равенство eq на здоровой eq планете. [Электронный eq ресурс] URL: eq https (дата eq обращения: 07.05.2023).\n",
      "Организация eq Объединённых Наций. eq Мир, достоинство eq и равенство eq на здоровой eq планете. [Электронный eq ресурс] URL: eq https  (дата eq обращения: 07.05.2023).\n",
      "Памятники eq литературы Древней eq руси. Середина 16 eq века., М // eq Домострой. [печатное eq издание]. 1975.\n",
      "Правительство eq Российской Федерации - eq Об утверждении eq перечня тяжелых eq работ и eq работ с eq вредными или eq опасными условиями eq труда, при eq выполнении которых eq запрещается применение eq труда женщин. [eq нормативно правовой акт] eq URL:  HYPERLINK \"http://www.pravo.gov.ru/proxy/ips/?docbody=&prevDoc=102095194&backlink=1&nd=102064692&rdk=0\" http://eq www.pravo.eq gov.ru/eq proxy/ips/?eq docbody=&prevDoc=102095194&eq backlink=1&nd=102064692&eq rdk=0. Постановление eq от 25 февраля 2000 eq г. N 162 eq г. Москва.\n",
      "eq Приказ Министерства eq труда и eq социальной защиты eq Российской Федерации. eq Об утверждении eq перечня производств, eq работ и eq должностей с eq вредными и (eq или) опасными eq условиями труда, eq на которых eq ограничивается применение труда eq женщин [нормативно eq правовой  акт] URL: eq http. от 18.07.2019 № 512н.\n",
      "eq Пси фактор. Стеклянный eq потолок. [Статья] eq URL:  HYPERLINK \"https://psyfactor.org/personal/personal17-06.htm\" https://eq psyfactor.org/eq personal/personal17-06.eq htm. (дата eq обращения: 08.05.2023).\n",
      "Рамблер eq Финансы. Революции eq не случилось: eq почему женщинам eq платят меньше. [Статья]  eq URL:  HYPERLINK \"https://finance.rambler.ru/money/41805122-revolyutsii-ne-sluchilos-pochemu-zhenschinam-platyat-menshe/?updated\" https://eq finance.rambler.eq ru/money/41805122-eq revolyutsii-ne-eq sluchilos-pochemu-eq zhenschinam-platyat-eq menshe/?updated eq дата обращения:08.05.2023).\n",
      "\n",
      "eq РАПСИ, Российское eq агентство правовой eq и судебной eq информации. ООН eq уличила РФ eq в дискриминации eq прав женщин eq при приеме eq на работу. [eq Электронный ресурс] URL: eq http. (дата eq обращения: 08.05.2023). \n",
      "РБК.eq В России eq сократился список eq запрещенных для eq женщин профессий [eq Электронный ресурс] URL: eq https (дата eq обращения:08.05.2023).\n",
      "РБК. eq Гендерная солидарность: eq как снятие eq запретов на eq профессию влияет eq на рынок [Электронный eq ресурс] URL: eq https (дата eq обращения: 08.05.2023).\n",
      "Росстат, eq Федеральная служба eq государственной статистики. eq Федеральное статистическое наблюдения eq по социально демографическим eq проблемам [Электронный eq ресурс] URL: eq https\n",
      " (дата eq обращения:08.05.2023). \n",
      "Рощин eq С.Ю., eq Солнцев С.eq А. Кто eq преодолевает «Стеклянный eq потолок» вертикальная eq гендерная сегрегация eq в российской eq экономикеэ. [Научная eq статья] URL: eq https обращения: 10.05.2023).\n",
      "eq Рыбцова Л.eq Л. Гендерное eq неравенство и eq общецивилизационное развитие. [eq Научная статья] URL: eq https (дата eq обращения:10.05.2023).\n",
      "С.eq Айзова. К eq истории феминизма [eq Научная публикация] eq URL:  HYPERLINK \"http://ecsocman.hse.ru/data/072/176/1217/16-Ajvazova.pdf\" http://eq ecsocman.hse.eq ru/data/072/176/1217/16-eq Ajvazova.pdf 2010.eq дата обращения: 10.05.2023).\n",
      "eq Толкунова В.eq Н.Советское eq законодательство в eq период 10-летия eq женщины ООН. [Электронный eq ресурс] URL: eq http (дата eq обращения:11.05.2023).\n",
      "\n",
      "Ф.eq Энгельс. Происхождении eq семьи, частной eq собственности и eq государства. //Варварство eq и цивилизация [eq Печатное издание] 1884г., eq гл. 9. С.100.\n",
      "eq Ювченко А.eq И. Глобализация eq гендерных отношений: eq изучение перспектив eq формирования мирового eq гендерного порядка. [eq Электронный ресурс] eq URL:HYPERLINK \"https://www.gramota.net/articles/issn_1993-5552_2014_2_53.pdf\"https://eq www.gramota.eq net/articles/eq issn_1993-5552_2014_2_53.pdf (eq дата обращения 11.05.2023).\n",
      " DeVellis, Robert F.: Scale Development: Theory and Applications. Newbury Park, CA: Sage. 2003\n",
      " Smith, Anthony D.: The ethnic origins of nations. Oxford [et al.]: Blackwell. 1984\n",
      " Fishbein, Martin; Ajzen, Icek : Belief, attitude, intention and behavior: An introduction to theory and research. Reading, Mass et al.: Addison-Wesley 1985\n",
      " Ingenhoff, Diana; Sommer, Katharina : „Spezifikation von formativen und reflektiven Konstrukten und Pfadmodellierung 2008 mittels Partial Least Squares zur Messung von Reputation.“ In: Woelke, Jens; Maurer, Marcus; Jandura, Olaf (eds.) Forschungsmethoden für die Markt- und Organisations-kommunikation. Köln: Herbert von Halem\n",
      " Smith, Anthony D : National identity. Reno: University of Nevada Press.1986\n",
      " Baron, Reuben M.; Kenny, David A. : „The moderator–mediator variable distinction in social psychological 1986research: Conceptual, strategic, and statistical considerations.“ In: Journal of Personality and Social Psychology. 51 (6), pp. 1173–1182\n",
      "  Устав ООН закрепляет основные принципы международных отношений, от суверенного равенства государств до запрещения применения силы в международных отношениях от 26 июня 1945 года. -URL: https://www.un.org/ru/about-us/un-charter\n",
      " Цель 5: Обеспечение гендерного равенства и расширение прав и возможностей всех женщин и девочек. -URL: https://www.un.org/sustainabledevelopment/ru/gender-equality/\n",
      "Генсек ООН: Гендерного равенства в мире можно будет добиться через 300 лет  - URL : https://rg.ru/2023/03/07/gensek-oon-gendernogo-ravenstva-v-mire-mozhno-budet-dobitsia-cherez-300-let.html\n",
      " Фонд масс-медиа призвал АИМК оценить транслируемый СМИ и кинообраз женщины – URL: https://www.gazeta.uz/ru/2022/05/07/gender-analysis/\n",
      "  What is gender? – URL: https://genderandmedia.bbcmediaaction.org/what-is-gender/\n",
      "The global gender gap index 2022 -URL:  https://www.statista.com/statistics/244387/the-global-gender-gap-index/\n",
      " Ajzen, Icek (2001): „Nature and operation of attitudes.“ In: Annual Review of Psychology. 52 (1), pp. 27–58\n",
      " https://central.asia-news.com/ru/articles/cnmi_ca/features/2019/03/14/feature-01\n",
      " Albritton, Robert B.; Manheim, Jarol B. (1983): „News of Rhodesia: The impact of a public relations campaign.“ In: Journalism Quarterly. 60 (4), pp. 622–28.\n",
      " Bagozzi, Richard; Fornell, Claes (1982): „Theoretical concepts, measurement and meaning.“ In: Fornell, Claes (ed.) A second generation of multivariate analysis. New York: Praeger pp. 24–38\n",
      " Визгалов Д.В. Брендинг города [Предисл. Л.В. Смирнягина]. – М.: Фонд «Институт экономики города», 2011. – 160 с. \n",
      "\n",
      " Василенко И. А. Имидж регионов России: инновационные технологии и стратегии ребрендинга / под ред. профессора И. А. Василенко. – М.: Международные отношения, 2016. – 288 с.\n",
      " Gilboa, Eytan (2008): „Searching for a theory of public diplomacy.“ In: The ANNALS of the American Academy of Political and Social Science. 616 (1), pp. 55–77.\n",
      " Bloemer, Josée; Brijs, Kris; Kasper, Hans (2009): „The CoO-ELM model: A theoretical framework for the cognitive processes underlying country of origin-effects.“ In: European Journal of Marketing. 43 (1/2), pp. 62–89.\n",
      " Papadopoulos, Nicolas G.; Heslop, Louise (1993): Product-country images: impact androle in international marketing. Routledge.\n",
      " Papadopoulos, Nicolas (2004): „Place branding: Evolution, meaning and implications.“ In: Place Branding. 1 (1), pp. 36–49\n",
      " Pedhazur, Elazar J; Pedhazur Schmelkin, Liora Pedhazur (1991): Measurement, design, and analysis: an integrated approach. Hillsdale, N.J.: Lawrence Erlbaum Associates.\n",
      " Dinnie, Keith (ed.) (2008): Nation branding: concepts, issues, practice. London et al.: Butterworth-Heinemann.\n",
      " Anderson, James C.; Gerbing, David W. (1991): „Predicting the performance of measures in a confirmatory factor analysis with a pretest assessment of their substantive validities.“ In: Journal of Applied Psychology. 76 (5), pp. 732–740.\n",
      " Gellner, Ernest (1983): Nations and nationalism. Oxford: Basil Blackwell\n",
      " Papadopoulos, Nicolas (2004): „Place branding: Evolution, meaning and implications.“ In: Place Branding. 1 (1), pp. 36–49.\n",
      " MEC (2010): Barcelona Declaration of Measurement Principles. London: AMEC; available at: http://amecorg.com/wp-content/uploads/2011/08/Barcelona_Principles_ for_PR_Measurement.pdf [accessed: 20.01.14]\n",
      " Ingenhoff, Diana; Ruehl, Christopher (2013): „International public relations: A synopsis ",
      "of German-speaking and Anglo-American research approaches.“ In: Studies in Communication Sciences. 13 (1), pp. 3–14.\n",
      " Sisco, Hilary Fussell; Collins, Erik L.; Zoch, Lynn M. (2011): „Breadth or depth? A content analysis of the use of public relations theory.“ In: Public Relations Review. 37 (2), pp. 145–150.\n",
      " Pasadeos, Yorgo; Lamme, Margot O.; Gower, Karla; et al. (2011): „A methodological evaluation of public relations research.“ In: Public Relations Review. 37 (2), pp. 163–165\n",
      " Bagozzi, Richard; Fornell, Claes (1982): „Theoretical concepts, measurement and meaning. “In: Fornell, Claes (ed.) A second generation of multivariate analysis. New York: Praeger pp. 24–38.\n",
      " Kim, Hye Kyung; Niederdeppe, Jeff (2013): „The Role of Emotional Response during an H1N1 Influenza Pandemic on a College Campus. “In: Journal of Public Relations Research. 25 (1), pp. 30–50\n",
      " Nebenzahl, Israel D.; Jaffe, Eugene D. (1996): „Measuring the joint effect of brand and country image in consumer evaluation of global products. “In: International Marketing Review. 13 (4), pp. 5–22.\n",
      " Lohmöller, Jan-Bernd (1989): Latent variable path modeling with partial least squares. Heidelberg: Physica.\n",
      " Reinartz, Werner; Haenlein, Michael; Henseler, Jörg (2009): „An empirical comparison of the efficacy of covariance-based and variance-based SEM.“In: International Journal of Research in Marketing. 26 (4), pp. 332–344.\n",
      " Reinartz, Werner; Haenlein, Michael; Henseler, Jörg (2009): „An empirical comparison ",
      "of the efficacy of covariance-based and variance-based SEM.“In: International Journal of Research in Marketing. 26 (4), pp. 332–344.\n",
      " J.P.Morgan Chase – «The Gender Leadership Gap», [веб-ресурс]:  HYPERLINK \"https://www.jpmorgan.com/commercial-banking/insights/gender-leadership-gap-infographic\" https://www.jpmorgan.com/commercial-banking/insights/gender-leadership-gap-infographic\n",
      " Kunczik, Michael (2003): „Transnational public relations by foreign governments.“ In: Sriramesh, K.; Vercic, D. (eds.) Global Public Relations Handbook: Theory, Research & Practice. pp. 399–424.\n",
      " Werron, Tobias (2014): „On public forms of competition.“ In: Cultural Studies ↔ Critical Methodologies. 14 (1), pp. 62–76\n",
      " Diamantopoulos, Adamantios; Siguaw, Judy A (2000): Introducing Lisrel: a guide for the uninitiated. London: SAGE.\n",
      " Newburry, William (2012): „Waving the flag: the influence of country of origin on corporate reputation.“ In: Barnett, Michael L.; Pollock, Timothy G. (eds.) The oxfordhandbook of corporate reputation. Oxford: Oxford University Press pp. 240–259.\n",
      " Peterson, Robert A.; Jolibert, Alain J. P. (1995): „A meta-analysis of country-of-origin effects.“ In: Journal of International Business Studies. 26 (4), pp. 883–900.\n",
      " Anholt, Simon (2006): „Public diplomacy and place branding: Where’s the link? “ In: Place Branding. 3 (2), pp. 271–275.\n",
      " Anholt, Simon (2006): „Public diplomacy and place branding: Where’s the link? “ In: Place Branding. 3 (2), pp. 271–275.\n",
      " Anholt, Simon (2006): „Public diplomacy and place branding: Where’s the link? “ In: Place Branding. 3 (2), pp. 271–275.\n",
      " Бутаков О. А., Эйдельман Б. М., Эйдельман Л. О., Фахрутдинова Л. Р. Брендинг территорий как фактор культурного туризма. – Казань: ИДПО, 2018. – 70 с. [Электронный ресурс] – URL: https://kpfu.ru/portal/docs/F1922057187/Brending.territorii_.docx (дата обращения: 18.05.2023).\n",
      " Гринберг Т. Э., Образ страны или имидж государства: поиск конструктивной модели\n",
      "\n",
      " Галумов Э.А. Международный имидж России: стратегия формирования. М., 2004.\n",
      " Василенко И. А. Имидж регионов России: инновационные технологии и стратегии ребрендинга / под ред. профессора И. А. Василенко. – М.: Международные отношения, 2016. – 288 с.\n",
      "\n",
      " Динни К. Брендинг Территорий. Лучшие мировые практики. – М.: Манн, Иванов и Фербер, 2013. – 336 с\n",
      " Wales Soft Power Barometer 2018, Measuring Soft Power Beyond the Nation-State. British Council, 2018. – 33 p. [Электронный ресурс] – URL:  HYPERLINK \"https://wales.britishcouncil.org/sites/default/files/wales_soft_power_barometer_2018_0.pdf\" https://wales.britishcouncil.org/sites/default/files/wales_soft_power_barometer_2018_0.pdf (accessed: 21.04.2023). \n",
      "\n",
      " Котлер Ф., Асплунд К., Рейн И., Хайдер Д. Маркетинг мест.  – СПб.: Стокгольмская школа экономики, 2005. – 376 с\n",
      " David, Ohad; Bar-Tal, Daniel (2009): „A sociopsychological conception of collective identity: The case of national identity as an example.“ In: Personality and Social Psychology Review. 13 (4), pp. 354–379\n",
      " Kelman, Herbert C. (1965): „Socio-psychological approaches to the studie of internationalrelations: definition of scope.“ In: Kelman, Herbert C. (ed.) International behaviour. Asocial-psychological Analysis. New York [u.a.]: Holt Rinehart and Winston pp. 3–39.\n",
      " Chung, Jee Young; Lee, Jaesub; Heath, Robert L. (2013): „Public relations aspects of brand attitudes and customer activity.“ In: Public Relations Review. 39 (5), pp. 432– 439.\n",
      " Гендерное равенство   HYPERLINK \"https://www.unwomen.org/en/csw\" https://www.unwomen.org/en/csw  дата обращения (11.04.2023)\n",
      "\n",
      "  Цели ООН  HYPERLINK \"https://www.un.org/ru/global-issues/gender-equality\" https://www.un.org/ru/global-issues/gender-equality дата обращения (10.04.2023)\n",
      " Защита прав человека в ООН  HYPERLINK \"https://konsulmir.com/zashhita-prav-cheloveka-v-oon-organy-zashhity-prav-cheloveka-v-oon/\" https://konsulmir.com/zashhita-prav-cheloveka-v-oon-organy-zashhity-prav-cheloveka-v-oon/ дата обращения(15.04.2023)\n",
      " История гендерного равенства     HYPERLINK \"https://www.unep.org/ru/novosti-i-istorii/istoriya/gendernoe-ravenstvo-vazhneyshaya-nedostayuschaya-chast-resheniya\" https://www.unep.org/ru/novosti-i-istorii/istoriya/gendernoe-ravenstvo-vazhneyshaya-nedostayuschaya-chast-resheniya дата обращения ( 15.04.2023)\n",
      " Асьянов Ш.М. и др. Совершенствование организационно-правовых основ реализации прав женщин в Узбекистане. Ташкент: ПРООН в Узбекистане,2008.\n",
      "Гендерные особенности   HYPERLINK \"https://www.unwomen.org/en/csw\" https://www.unwomen.org/en/csw дата обращения (20.04.2023)\n",
      " Конференции по укреплению генедрного равенства  HYPERLINK \"https://www.un.org/womenwatch/daw/followup/session/presskit/hist.htm\" https://www.un.org/womenwatch/daw/followup/session/presskit/hist.htm дата обращения 20.04.2023\n",
      " Борьба за гендерное равенство  HYPERLINK \"https://www.un.org/womenwatch/daw/followup/session/presskit/hist.html\" https://www.un.org/womenwatch/daw/followup/session/presskit/hist.html дата обращения 12.04.2023\n",
      " Борьба за гендерное равенство  HYPERLINK \"https://www.un.org/womenwatch/daw/followup/session/presskit/hist.html\" https://www.un.org/womenwatch/daw/followup/session/presskit/hist.html дата обращения 12.04.2023\n",
      " Конференции посвящённые гендерному равенству    HYPERLINK \"https://www.un.org/womenwatch/daw/followup/bfbeyond.htm\" https://www.un.org/womenwatch/daw/followup/bfbeyond.htm дата обращения 12.04.2023\n",
      " Отчет ООН по конференции в Найроби, 15-26 Июля 1985г. Стр.170\n",
      " Отчет ООН по конференции в Найроби, 15-26 Июля 1985г. Стр.175\n",
      " Действия за равенство, развитие и мир ",
      "4-15 сентября 1995 г. - Пекин, Китай\n",
      " Действия за равенство, развитие и мир ",
      "4-15 сентября 1995 г. - Пекин, Китай , отчет стр. 10-11 \n",
      " Действия за равенство, развитие и мир ",
      "4-15 сентября 1995 г. - Пекин, Китай, отчет стр 17-18 \n",
      " Действия за равенство, развитие и мир ",
      "4-15 сентября 1995 г. - Пекин, Китай, отчет стр 27-28\n",
      " United Nations Population Fund. (2022). World Population Dashboard. https://www. unfpa.org/data/world-population-dashboard; United Nations Population Fund. (2020). Women’s ability to decide: Issue Brief on Indicator \n",
      " World Health Organization. (2019, March 20). 10 key issues in ensuring gender equity in the global health workforce. https://www.who.int/news-room/feature-stories/ detail/10-key-issues-in-ensuring-gender-equity-in-the-global-health-workforce\n",
      " the Global Gender Gap Report 2022\n",
      " Uzbekistan’s Performance on the Women, Peace, and Security Index\n",
      "Compared to 29 Other Countries in the Central and Eastern Europe and Central Asia Region\n",
      "\n",
      " Кабулова С. П. Естественно-правовые подходы в юридическом регулировании: Монография. — Л.: Самарканд. гос. ун-т. 2010. Стр 60-70\n",
      " Кабулова С.П. Методологические подходы к юридическому регулированию: монография. Л.: Самаркандский государственный университет. 2010. – 92-95.\n",
      " Олимпия Де Гуж «Декларация прав женщины и гражданки»\n",
      "\n",
      " Рахимова С. Р. Проблемы женщин в развитых демократических обществах. Вестник NUZ. 32. 1992.\n",
      " Усманов, У.С. Государственная политика Узбекистана является важным критерием обеспечения права человека стр 23 \n",
      " Келебергенов А. Гендерное равенство в системе демократических принципов // Хабарши, № 5.Нукус. — 2002. Стр 13\n",
      " Келебергенов А. Гендерное равенство в системе демократических принципов // Хабарши, № 5.Нукус. — 2002. Стр 15\n",
      " Усманов, У.С. Государственная политика Узбекистана является важным критерием обеспечения права человека стр 28\n",
      " Усманов, У.С. Государственная политика Узбекистана является важным критерием обеспечения права человека стр 27\n",
      " Усманов, У.С. Государственная политика Узбекистана является важным критерием обеспечения права человека стр 29\n",
      " Кабулова С. П. Естественно-правовые подходы в юридическом регулировании: Монография. — Л.: Самарканд. гос. ун-т. 2010. Стр 87\n",
      " Усманов, У.С. Государственная политика Узбекистана является важным критерием обеспечения права человека стр 32\n",
      " Кабулова С. П. Естественно-правовые подходы в юридическом регулировании: Монография. — Л.: Самарканд. гос. ун-т. 2010. Стр 65\n",
      " Кабулова С. П. Естественно-правовые подходы в юридическом регулировании: Монография. — Л.: Самарканд. гос. ун-т. 2010. стр75\n",
      " Мудрик А. В. Социализация человека. — М.: Изд. Центр «Академия», 2004. -стр 54\n",
      " Рахимов С. Р. Роль женщин в развитом демократическом обществе. //Вестник НУУз. № 32, 1992. Стр 4-5\n",
      " Усманова, У. С. Гендерная политика в Узбекистане — важный критерий обеспечения прав человека / У. С. Усманова. — Текст : непосредственный // Молодой ученый. — 2021. — № 48 (390). — С. 496–497. — URL: https://moluch.ru/archive/390/85809/ (дата обращения: 29.04.2023).\n",
      " Кабулова С. П. Естественно-правовые подходы в юридическом регулировании: Монография. — Л.: Самарканд. гос. ун-т. 2010. — 100–105  с.\n",
      " Кабулова С. П. Естественно-правовые подходы в юридическом регулировании: Монография. — Л.: Самарканд. гос. ун-т. 2010. — 110-115 стр\n",
      " Келебергенов А. Гендерное равенство в системе демократических принципов // Хабарши, № 5.Нукус. — 2002.стр 17-18\n",
      " Усманова, У. С. Гендерная политика в Узбекистане — важный критерий обеспечения прав человека / У. С. Усманова. — Текст : непосредственный // Молодой ученый. — 2021. — № 48 (390). — С. 498-499. — URL: https://moluch.ru/archive/390/85809/ (дата обращения: 29.04.2023).\n",
      " Усманова, У. С. Гендерная политика в Узбекистане — важный критерий обеспечения прав человека / У. С. Усманова. — Текст : непосредственный // Молодой ученый. — 2021. — № 48 (390). — С. 496-499. — URL: https://moluch.ru/archive/390/85809/ (дата обращения: 29.04.2023).\n",
      " Конвенция о ликвидации всех форм дискриминации в отношении женщин (КЛДОЖ) (1979).\n",
      " Усманов, У.С. Государственная политика Узбекистана является важным критерием обеспечения права человека У.С. Усманов. - текст: непосредственная молодая ученая. - 2021 год. - 48390. - URL http: //moluch.ru архив 39085809Дата обращения 29.04.2023 г.\n",
      " Парламаент Республики Узбекистан  HYPERLINK \"https://parliament.gov.uz/ru/events/opinion/33984/\" https://parliament.gov.uz/ru/events/opinion/33984/ дата обращения 30.04.2023\n",
      "Изменения в области гендерного равенства  HYPERLINK \"https://dunyo.info/uz/site/inner?slug=o%E2%80%98zbekistonda_gender_tenglik_faoli_milliy_tanlovi_tashkil_etildi-ByO\" https://dunyo.info/uz/site/inner?slug=o%E2%80%98zbekistonda_gender_tenglik_faoli_milliy_tanlovi_tashkil_etildi-ByO дата обращения 01.05.2023 г.\n",
      " : Кабулова С.П. Методологические подходы к юридическому регулированию: монография. Л.: Самаркандский государственный университет. 2010.  Стр 275\n",
      " Государственная политика Узбекистана является важным критерием обеспечения права человека У.С. Усманов. - текст: непосредственная молодая ученая. - 2021 год. - 48390. - URL http: //moluch.ru архив 39085809Дата обращения 29 марта. 2023 года.\n",
      " Постановление президента Республики Узбекистан URL  HYPERLINK \"https://lex.uz/ru/docs/4230938%20%20%20дата%20обращения%2002.05.2023\" https://lex.uz/ru/docs/4230938   дата обращения 02.05.2023 г.\n",
      " Достижение равенства путем поддержки реализации Национальной гендерной стратегии Узбекистана URL  HYPERLINK \"https://www.undp.org/ru/uzbekistan/projects/dostizhenie-gendernogo-ravenstva%20%20дата%20обращения%2005.05.2023\" https://www.undp.org/ru/uzbekistan/projects/dostizhenie-gendernogo-ravenstva  дата обращения 05.05.2023 г.\n",
      "\n",
      " Достижение равенства путем поддержки реализации Национальной гендерной стратегии Узбекистана URL  HYPERLINK \"https://www.undp.org/ru/uzbekistan/projects/dostizhenie-gendernogo-ravenstva%20%20дата%20обращения%2005.05.2023\" https://www.undp.org/ru/uzbekistan/projects/dostizhenie-gendernogo-ravenstva  дата обращения 05.05.2023 г.\n",
      "\n",
      "\n",
      "\n",
      "\n",
      "\n",
      "\n",
      "\n",
      "\n",
      "\n",
      "PAGE   \\* MERGEFORMAT2\n",
      "\n",
      "\n",
      "PAGE   \\* MERGEFORMAT5\n",
      "\n",
      "\n",
      "\n",
      "political organization\n",
      "\n",
      "named human collective\n",
      "\n",
      "homeland/ territory\n",
      "\n",
      "\n",
      "\n",
      "\n",
      "\n",
      "### Response:\n",
      "____________________________________________________\n"
     ]
    },
    {
     "ename": "\u001b[0;31mKernelOutOfMemory\u001b[0m",
     "evalue": "Kernel ran out of memory and has been restarted. If the restart fails, restart the kernel from the Kernel menu.\nIf the error persists, try choosing a different configuration or optimizing your code.",
     "output_type": "error",
     "traceback": []
    }
   ],
   "source": [
    "diploma = test_df[\"diploma\"][0]\n",
    "prompt = PROMPT_DICT[\"prompt_input_diploma_special\"].format(input=diploma)\n",
    "generate_output(prompt, model_pretrain, tokenizer_pretrain, repetition_penalty=1.7, max_time=30, max_new_tokens=10) "
   ]
  },
  {
   "cell_type": "code",
   "execution_count": null,
   "id": "c413b08c-ae2e-45f6-8662-db47145bcfa2",
   "metadata": {
    "execution": {
     "iopub.execute_input": "2024-05-11T16:11:32.654808Z",
     "iopub.status.busy": "2024-05-11T16:11:32.654333Z"
    }
   },
   "outputs": [
    {
     "name": "stdout",
     "output_type": "stream",
     "text": [
      "Prompt:\n",
      "____________________________________________________\n",
      "<s> [INST] Ниже предоставлена инструкция, описывающаяся задачу вместе с необходимым контекстом. Напиши ответ, который подходит под данный запрос. [/INST]\n",
      "\n",
      "### Instruction:\n",
      " Ниже текст диплома. Твоя задача сгенерировать выжимку этого диплома.\n",
      "\n",
      "### Input:\n",
      "Санкт-Петербургский государственный университет\n",
      "\n",
      "\n",
      "\n",
      "\n",
      "\n",
      "\n",
      "\n",
      "\n",
      "АБДУЛЛАЕВ Шохжахон Улугбек угли\n",
      "\n",
      "Выпускная квалификационная работа\n",
      "Роль политики в области гендерного равенства в продвижении имиджа Узбекистана на международной арене \n",
      "\n",
      "\n",
      "Уровень образования: Магистратура\n",
      "Направление 41.04.05 «Международные отношения»\n",
      "Основная образовательная программа\n",
      "ВМ.5568.2021 \n",
      "«Связи с общественностью в сфере международных отношений»\n",
      "\n",
      "\n",
      "\n",
      "\n",
      "Научный руководитель:\n",
      "доцент кафедры теории и истории\n",
      "международных отношений СПбГУ,\n",
      "кандидат философских наук, доцент\n",
      "Выходец Роман Сергеевич\n",
      "\n",
      "Рецензент: \n",
      "доцент кафедры философии и социальных наук Санкт-Петербургского\n",
      "университета ГПС МЧС России,\n",
      "кандидат философских наук, доцент\n",
      "Шляпников Виктор Валерьевич\n",
      "\n",
      "\n",
      "\n",
      "\n",
      "\n",
      "Санкт-Петербург\n",
      "2023\n",
      "\n",
      "Оглавление\n",
      " TOC \\o \"1-3\" \\h \\z \\u  HYPERLINK \\l \"_Toc136336786\" Введение\t PAGEREF _Toc136336786 \\h 3\n",
      "Глава  HYPERLINK \\l \"_Toc136336787\" 1.Понятие «имидж» и имиджевой политики государства\t PAGEREF _Toc136336787 \\h 11\n",
      " HYPERLINK \\l \"_Toc136336788\" 1.1\tИстория формирования понятия имидж и имиджевой политики государства\t PAGEREF _Toc136336788 \\h 11\n",
      " HYPERLINK \\l \"_Toc136336789\" 1.2 Структура и основные компоненты имиджа государства\t PAGEREF _Toc136336789 \\h 20\n",
      " HYPERLINK \\l \"_Toc136336790\" 1.3 Гендерное равенство как компонент имиджа государства\t PAGEREF _Toc136336790 \\h 36\n",
      "Глава  HYPERLINK \\l \"_Toc136336791\" 2. Международная политика в области гендерного равенства\t PAGEREF _Toc136336791 \\h 40\n",
      " HYPERLINK \\l \"_Toc136336792\" 2.1 Истоки формирования и основы политики в области гендерного равенства\t PAGEREF _Toc136336792 \\h 40\n",
      " HYPERLINK \\l \"_Toc136336793\" 2.2 Имиджевые аспекты политики в области гендерного равенства\t PAGEREF _Toc136336793 \\h 53\n",
      " HYPERLINK \\l \"_Toc136336794\" 2.3 Специфика гендерной политики Республики Узбекистан\t PAGEREF _Toc136336794 \\h 57\n",
      "Глава  HYPERLINK \\l \"_Toc136336795\" 3. Специфика современной имиджевой политики Республики Узбекистан\t PAGEREF _Toc136336795 \\h 64\n",
      " HYPERLINK \\l \"_Toc136336796\" 3.1 Стратегия продвижения гендерного равенства и пути их решения в Узбекистане\t PAGEREF _Toc136336796 \\h 64\n",
      " HYPERLINK \\l \"_Toc136336797\" 3.2 Влияние гендерного равенства на формирование имиджа страны\t PAGEREF _Toc136336797 \\h 75\n",
      " HYPERLINK \\l \"_Toc136336798\" 3.3 Прикладные аспекты политики в области гендерного равенства в Узбекистане\t PAGEREF _Toc136336798 \\h 81\n",
      " HYPERLINK \\l \"_Toc136336799\" Заключение\t PAGEREF _Toc136336799 \\h 92\n",
      " HYPERLINK \\l \"_Toc136336800\" Список использованных источников и литературы\t PAGEREF _Toc136336800 \\h 95\n",
      "\n",
      "\n",
      "\n",
      "\n",
      "\n",
      "\n",
      "\n",
      "\n",
      "\f",
      "\n",
      "Введение\n",
      "Актуальность темы исследования. Распад СССР Государства взяли курс на демократические преобразование, реализацию прав и свобод человека, в том числе и гендерного равенства. Опыт перехода региона убедительно продемонстрировали, что изменения в гендерном балансе, вызванные экономические сдвиги далеко не очевидны, и что экономическая экспансия и экономическая роль женщин расширение прав и возможностей не всегда идет рука об руку (Sattar 2012; Elborgh-Woytek et al. 2013; Woetzel и другие. 2015). Поэтому активные меры по расширению экономических прав и возможностей женщин должны быть в центре внимания политического диалога, направленного на инклюзивный рост и сокращение неравенства и бедности (Чагатай, 1998).Мы устанавливаем текущее состояние различных измерений гендерного неравенства и их прошлой динамики в странах Центральной Азии (Казахстан, Кыргызстан, Таджикистан, Туркменистан и Узбекистан), Южный Кавказ (Армения, Азербайджан, и Грузия), и западных стран СНГ (Беларусь, Молдова и Украина) и предлагают шаги, направленные на их сокращение в контексте инклюзивного роста, создания достойных рабочих мест и экономического расширение прав и возможностей.\n",
      "Страны Центральной Азии представляют собой неоднородную группу, в которую входят страны-экспортеры энергоресурсов. (Казахстан и Туркменистан); малые экономики, зависящие от сельского хозяйства (Кыргызстан и Таджикистан); и более индустриальная экономика Узбекистана. Узбекистан и Казахстан имеют самое большое население, с более чем 30 и 17 миллионами, за которыми следуют Таджикистан с более чем восемью миллионами, а также Туркменистан и Кыргызстан почти по шесть миллионов каждый. Казахстан является самой богатой страной Центральной Азии с валовым национальным Доходом (ВНД) на душу населения составляет 20 867 долларов США, а Таджикистан является самым бедным с ВНД на душу населения в размере 2 517 долларов США (ПРООН, 2015 г.).\n",
      "На основе Индекса гендерного неравенства (GII) и Индекса гендерного развития (GDI) Центральный Азиатский регион характеризуется умеренным уровнем гендерного неравенства. Согласно ГИИ, который измеряет репродуктивное здоровье и гендерные различия в расширении прав и возможностей и экономическом статусе, регион выполняет лучше, чем в среднем по миру по показателям гендерного равенства. Во многом это обусловлено относительно сильные гендерные показатели в сфере образования и показатели материнской смертности ниже среднего (хотя они остаются значительными).\n",
      "Сегодня одной из главных задач любого государства является создание управляемого имиджа страны.\n",
      "Первым продвигать страну как бренд начал Дэвид Огилви, который в середине 1950-х гг. начал работать над имиджем маленького латиноамериканского государства Пуэрто-Рико, чтобы изменить отношение американцев к этой стране и привлечь туристов.\n",
      "Специалисты называют страновые бренды “географическими брендами”, однако под этим наименованием они подразумевают лишь туристические качества страны. “Рост туризма и индустрии отдыха, а также путешествий по миру вообще вызвали появление брэндинга географических точек”.\n",
      "Растущее значение образов страны и соответствующих проблемы в текущих исследованиях и практике поднимают центральный вопрос: как имидж страны должны быть концептуализированы и измерены, и какое влияние они оказывают на облегчение благоприятного поведения заинтересованных сторон? Далее этот вопрос рассматривается в три этапа: во-первых, подходы в изучение образов страны из разных областей исследований, что приводит к синтез центральных научных пробелов. Во-вторых, перспектива связей с общественностью применяется к разработать новую четырехмерную модель образа страны путем объединения концепций от управления репутацией, теории национальной идентичности и теории отношения.\n",
      "Актуализация гендерной проблематики признается многими национальными и международными агентствами и неправительственными организациями.\n",
      "организация как эффективная стратегия продвижения гендерного равенства. Многие исследователи сходятся во мнении, что имеет важное значение, но также может привести к искоренению нищеты, развитию человеческого потенциала и общему экономическому росту во всем мире. Это просто показывает важность на глобальном уровне гендерного равенства и любых стратегию ее достижения.\n",
      "Национальный eq образ определяется eq как когнитивное eq представление, к eq которому относится eq человек к eq данной стране eq и ее eq народу, во eq что человек eq верит быть eq правдой о eq нации. Особое eq значение для eq политической деятельности eq имеет благожелательность eq или недоброжелательность, eq приписываемые другим eq народам на eq изображениях, как, eq а также eq историческая составляющая eq образа. Чувства eq о стране eq будущем также eq важны.\n",
      "Важным eq вопросом для eq этого исследования eq является то, eq как создается eq имидж и eq презентация его eq на весь eq мир. Кунчик (eq там же) eq далее говорит, eq что ни eq народные, ни eq наука не eq могут сформировать eq адекватные образы eq нации, по eq его мнению, eq из-за eq сложности работы eq международной системы.\n",
      "eq Для разработки eq нашей интегративной eq модели имиджа eq страны мы eq объединяем три eq основных концепции: eq концепция национальной eq идентичности Смита (1987) eq для обоснования eq родовых атрибуты eq эталонного объекта «eq страна»; теория eq отношения Айзена eq и Фишбейн (1980) eq в качестве eq основы для eq конститутивных компонентов eq установок, которые eq построить когнитивную eq основу концепции eq образа; и eq модель репутации eq как многомерная eq конструкция, предложенная eq Ingenhoff and eq Sommer (2007) и eq Эйзенеггер и eq Имхоф (2008), которая eq служит основой eq для разграничения eq между несколько eq измерений имиджа eq страны. Объект eq имиджа страны eq мыслится как eq единство нации eq и ее eq государства.\n",
      "Опираясь eq на концепции eq Смита, страну eq можно определить eq как названную eq человеческую коллектив, eq состоящий из eq шести родовых eq признаков: отдельная eq территория или «eq родина», общая eq история и eq традиции, отечественная eq экономика, общественная eq культура, совокупность eq общие нормы eq и ценности, eq а также eq суверенную политическую eq организацию или eq государство.\n",
      "Соответственно, eq имидж страны eq концептуализируется как eq отношение стейкхолдеров. eq Имидж страны eq тогда включают eq компонент убеждений (eq когнитивный компонент) eq и компонент eq эмоций по eq отношению к eq объекту образа. eq Понятие как eq установочный конструкт, eq имидж страны eq можно рассматривать eq как важную eq часть презентации eq страны в eq мире\n",
      "Объект eq и предмет eq исследования. Объектом eq данного исследования eq является продвижения eq имиджа Узбекистана eq на международной eq арене. Предметом eq исследования является eq основные инструменты eq политики в eq области гендерного eq равенства.\n",
      "Хронологические eq рамки исследования. eq Работа охватывает eq период с 1991 eq года по 2022 eq год. Данный eq временной промежуток eq был выбран eq в связи eq с тем, eq что именно eq в 1991 году eq Узбекистан обрел eq независимость и eq начались активные eq реформы. Также eq в рамках eq исследования будут eq использованы данные, eq взятые из eq более ранних eq исторических периодов, eq служащие для eq обоснования некоторых eq концептуальных особенностей eq узбеской «мягкой eq силы». \n",
      "\n",
      "Цель eq и задачи eq исследования. Целью eq данного исследования eq является научное eq обоснование роли eq политики в eq области гендерного eq равенства в eq качестве инструмента eq продвижения имиджа eq Узбекистана на eq международной арене.\n",
      "eq Для достижения eq цели в eq рамках исследования eq были поставлены eq следующие задачи:\n",
      "-  eq проследить формирования eq понятие имидж eq и имиджевой eq политики государства;\n",
      "-  eq рассмотреть структуру eq и основные eq компоненты имиджа eq государства;\n",
      "- изучить eq гендерное равенство eq как компонент eq имиджа государства;\n",
      "-  eq разобрать истоки eq формирования и eq основы политики eq в области eq гендерного равенства;\n",
      "-  eq определить имиджевые eq аспекты политики eq в области eq гендерного равенства;\n",
      "- eq проанализировать специфику eq гендерной политики eq Республики Узбекистан; \n",
      "- eq показать стратегию eq продвижения гендерного eq равенства и eq пути их eq решения в eq Узбекистане;\n",
      "- сопоставить eq влияние гендерного eq равенства на eq формирование имиджа eq страны;\n",
      "- рассмотреть eq прикладные аспекты eq политики в eq области гендерного eq равенства в eq Узбекистане.\n",
      "Методологическая eq основа исследования. \n",
      "eq При проведении eq исследования применялись eq следующие методы: eq исторический метод, eq метод сравнительного eq анализа, анализ, eq системный метод, eq метод научного eq прогнозирования. \n",
      "Выбор eq исторического метода eq основывается на eq наличии исторических eq событий и eq процессов, касающихся eq выбранной проблематики, eq а также eq их влияния eq на современное eq положение и eq связь дел eq области гендерного eq равенства и eq имиджа государства.\n",
      "eq Метод сравнительного eq анализа применялся eq для сопоставления eq и выявления eq особенностей теоретических eq концепций формирования. eq Также данный eq способ применялся eq при оценке eq влияния гендерной eq политики на eq формирование имиджа eq государства на eq международной\n",
      "Описательный eq метод использовался eq для детального eq анализа мировых eq процессов, оказавших eq влияние на eq формирование и eq развитие имиджевой eq политики и eq гендерного равенства.\n",
      "eq Метод контент-анализа eq позволил возможность определить, eq какой образ eq региона региона eq эти брендиговые eq материалы транслируют eq во внешние eq аудитории. Комплексный eq подход к eq применению указанных eq методов исследования eq обусловлен многоаспектностью eq исследуемой проблематики.\n",
      "eq Для структурирования eq имеющихся материалов eq использовался метод eq системного анализа. eq Высокая актуальность eq исследования обусловила eq использование метода eq научного прогнозирования, eq с помощью eq которого была eq определена роль eq гендерного равенства eq в укреплении eq имиджа на eq международной арене.\n",
      "eq Обзор использованных eq источников и eq литературы\n",
      "Во eq время проведения eq исследования использовалось eq множество видов eq источников, которые eq можно разделить eq на группы.\n",
      "eq К первой eq группе источников eq следует отнести eq международно-правовые eq акты и eq договоры, в eq частности Устав eq Организации Объединенных eq Наций от 26 eq июня 1945 года, eq и Цель 5: eq Обеспечение гендерного eq равенства и eq расширение прав eq и возможностей eq всех женщин eq и девочек.\n",
      "   eq Вторую группу eq источников составляют eq заявления государтсвенных eq лиц и eq правительства: Генсек eq ООН: Гендерного eq равенства в eq мире можно eq будет добиться eq через 300 лет.\n",
      "   eq К третьей eq группе относятся eq данные СМИ, eq таких как eq Газета.уз, eq Russia today, eq BBC.\n",
      " Четвертую eq группу источников eq представляют интернет-eq ресурсы предоставляющие eq статические данные eq для анализа eq гендерного равенства, eq например Global eq Gender Gap.\n",
      "eq Научная новизна eq исследования.\n",
      "Научная eq новизна представленной eq работы сводится eq к аспектам eq имиджа и eq имиджевой политики eq государства, которое eq находят свое eq отражение путем eq укрепления гендерной eq повестки в eq стране, а eq именно в eq Узбекистане, реализация eq этой повестки eq позволит государству eq повысить имидж eq страны на eq международной арене. eq Этот процесс eq всесторонне еще eq не исследован, eq как в eq политическом, так eq и в  eq имиджеологических аспектах.\n",
      "eq Теоретическая база eq исследования включает eq в себя eq работы по eq теории международных eq отношений, истории eq международных отношений, eq социологии, социальной eq психологии и eq политической пропаганды. eq Теоретической основой eq настоящего исследования eq послужили работы eq как российских, eq так и eq зарубежных авторов.\n",
      "eq Использованные работы eq были преимущественно eq выполнены в eq ключе неолиберальной eq традиции в eq изучении международных eq отношений Основную eq роль в eq формировании исходной eq теоретической концепции eq сыграли исследования eq Дж. Бентам, eq Уколова В. eq И., А.  eq А. Шереля, eq Ю. М.eq Лотмана, С. eq А. Наринский eq М.М eq Ф. Симоновой, eq С. Г. eq КараМурза. Исследователь eq также обращался eq к аналитическим eq материалам международных eq отношений.\n",
      "Теоретическое eq и практическое eq значение работы. \n",
      "eq Теоретическое значение eq Результаты представленного eq исследования могут eq быть использованы eq для написания eq научных трудов, eq учебных пособий eq и материалов, eq направленных на eq углубленное изучение eq как «имидж» eq и «образ eq страны» стран eq СНГ и eq Республики Узбекистан. eq Также полученные eq сведения можно eq применять в eq рамках исследований eq по внедрению eq элементов «мягкой eq силы» в eq рамках формирования eq положительного облика eq страны. Выводы eq данной работы eq могут быть eq использованы представителями eq профильных отраслей: eq туризм, культура, eq образование, для eq формирования стратегий eq и планов eq развития отношений eq с Узбекистаном. \n",
      "eq Практическое значение eq отметить важность eq содержания представленного eq исследования для eq изучения инструментов eq продвижения Узбекистаном eq собственных интересов, eq что имеет eq стратегическое значение eq для экономики eq и социокультурной eq жизни Узбекистана. eq Диссертация может eq послужить аналитическим eq материалом для eq структур содружества eq независимых государств. eq Материалы могут eq быть полезны eq для работы eq Ассамблеи СНГ.\n",
      "eq Структура магистерской eq диссертации обусловлена eq поставленными целью eq и задачами eq и состоит eq из введения, eq трех глав, eq девять параграфов, eq заключения и eq списка использованной eq литературы и eq приложений. \n",
      "Понятие «eq имидж» и eq имиджевой политики eq государства\n",
      "История eq формирования понятия eq имидж и eq имиджевой политики eq государства\n",
      "Люди eq опираются на eq свои мысли eq и поступки eq в отношении eq социальных объектов eq на их eq когнитивные способности eq и представления eq образов этих eq существ. Как eq отдельные личности, eq организации, государства eq могут действовать eq в своей eq социальной среде, eq это в eq значительной мере eq зависит от eq их образа eq в обществе eq и группах, eq которые являются eq участниками этой eq среды. Это eq образ для eq страны среди eq иностранных зрителей.\n",
      "eq Две эпохальные eq вызовы ХХI eq века - Глобализация eq и Информационная eq революция – заставляют eq современных государств eq искать новых eq и более eq эффективных средств eq влияния на eq глобальную политику: eq достижение страны eq в мировой eq арене сейчас eq зависит не eq только от eq использования «мягкой eq силы» жесткой eq силы и «eq мягкой силы», eq а от eq способности сочетать «eq мягкую» силу eq мягкой силы eq и «мягкой eq силы», превращая eq взаимодействие в «eq умную» силу eq Smart Power. eq Одна из eq важнейших задач eq современного государства – eq создать конкурентную eq идентичность, которая eq будет способствовать eq созданию образа eq страны привлекательной, eq уникальной, конкурентоспособной, eq высокоэффективной. В eq мировой и eq стандартной эпохе eq ничто столь eq высоко ценится eq как уникальное eq креативное творчество, eq и, если eq оно определяет eq стиль страны eq на международной eq арене, то eq эта страна eq начнет привлекать eq миллионы внимание. eq Одной из eq парадоксальных тенденций eq глобализации стало eq тенденция к eq усилению культурной eq плюрализации современного eq мира. Сравнение eq стратегий имиджевой eq политики ведущих eq стран позволяет eq не только eq выявить все eq более выраженное eq стремление к eq новаторству в eq сфере имиджевой eq политики, но eq также увидеть, eq что поиск eq новаторства осуществляется eq в русле eq реконструкции уникальной eq национальной традиции eq разных государств eq и национальностей. eq Мир сегодня eq говорил о «eq реисламизации» Ближнего eq Востка, «индуизации» eq Индии, «возврате eq Китая в eq Азию» и eq Китая. Слоганы eq многих рекламных eq кампаний притягивают eq внимание к eq экзотике национальных eq колоритов: «Необыкновенная eq Индия!», «Малайзия – eq настоящий Азия!», «eq Мир встречается eq Бразилией. Приходите eq на празднование eq жизни! \" - Бразилцы, eq например, пытаются eq реинтерпретировать национальную eq традицию карнавала eq на глобальном eq уровне, считая eq ее национальным eq праздником, который eq приглашает весь eq мир делиться eq с ними eq чувством полной eq и счастливой eq жизни, во eq многом потерянным eq современным обществом eq в борьбе eq за материальные eq ценности. «В eq Бразилии мир eq встречается. Приходи eq праздновать свою eq жизнь, - такой eq слоган имиджей eq бразильской кампании eq весьма ярко eq олицетворяет образ eq самого Бразилии, eq открытого, современного eq государства, стремящегося eq к мировому eq диалогу, готового eq делиться своими eq достижениями со eq всеми странами eq мира. Даже eq исключительно нейтральный eq швейцарец неожиданно eq высказался о eq концепции Швейцарии, eq которую можно eq назвать особым eq стилем жизни, eq духом Швейцарии. eq Swissness является eq мировоззрением, неслучайно eq в рейтинге eq мировых брендов eq Future Brand (eq CBI Country eq Brand Index) eq в 2012 году eq именно Швейцария eq лидирует. В eq этом регионе eq респонденты заняли eq первое место eq в категориях, eq относящихся к eq системе ценностей, eq качеству жизни, eq условиям развития eq бизнес-процессов. eq Здесь мы eq подошли к eq очередной новейшей eq тенденции в eq области формирования eq стратегий имиджа – eq очевидная смена eq лидеров в eq этом направлении eq и формирование eq критического отношения eq к маркетинговой eq технологии. Р. eq Ролан остро eq заметил, что «eq нельзя победить eq один раз eq или навсегда – eq победить нужно eq каждый день». eq Даже технологии eq использования «гибкой eq власти» и eq публичной дипломатии eq не удерживали eq пальмы первенства eq США, уступив eq Британии. Кроме eq Швейцарии новые eq лидеры в eq этих сферах, eq уровень и eq качество жизни eq в США eq превратились в 8-eq е место, eq кроме Швейцарии eq новые лидеры eq в этих eq сферах были eq скандинавскими странами, eq демонстрирующими высокую eq экологичность, стабильность, eq толерантность, «мягкое eq управление», развитая eq система общедоступных eq образовательных и eq медицинских учреждений. eq На сегодняшний eq день скандинавская eq страна признана «eq моделью современного eq мира». Смена eq руководителей стала eq еще одной eq важной тенденцией: eq бесконечно нельзя eq упомянуть о eq всемогущности маркетинга eq и информационной eq техники в eq ходе национального eq брендингового процесса. eq Неслучайно известный «eq гуру» маркетинговой eq технологии С.eq Анхольт сегодня eq пишет, что eq создавая национальный eq бренд, не eq стоит представить eq его так, eq чтобы «без eq особых украшений eq поведать миру eq что-то eq хорошее, хотя eq в очередной eq раз придется eq заниматься тем, eq что Джон eq Оруэлл назвал eq защитой, которую eq нельзя защитить». eq Всегда нужно eq помнить, что eq всего одно eq слово можно eq сказать: когда eq люди скажут eq ложь, то eq это нанесёт eq бренду непоправимый eq вред. Поэтому eq управление брендами eq страны является eq куда более eq тщательным и eq радикальным проектом, eq чем обыкновенный eq маркетинг. И eq его осуществление eq начинается с eq того, что eq современные мировые eq сообщества достаточно eq открыты, прозрачны eq и, по eq сути, демократически eq демократичны благодаря eq современным мировым eq системам коммуникаций eq и поэтому eq репутация страны eq является жизненно eq важной. Таким eq образом, при eq любом обстоятельстве eq необходимо помнить, eq что политическая eq политика государства eq наиболее серьезно eq влияет на eq доброе лицо eq страны, так eq как доброе eq лицо страны eq является самым eq ценным ее eq активом в eq информационной среде. eq Анализируя новые eq тенденции в eq области национальной eq брендинговой стратегии, eq мы можем eq выяснить слабые eq аспекты стратегии eq имиджей России eq и выяснить eq перспективные направления eq развития российского eq брендинга. В eq первую очередь, eq отечественная стратегия eq не обладает eq ярким национальным eq колоритом, тем eq самым «русским eq духом», особым «eq русским духом», eq которым отмечены eq знаменатые успехи eq России в eq Париже 1900 года, eq где Жан eq Кокто заявил: «eq Париж пьет eq Россией». В eq то время eq на знаменитом eq русском павильоне - eq городке в eq стиле Москвы eq и Казани – eq работали Шихтель, eq Василевский, Врубел. eq Вот тогда eq в мире «eq русский стиль» eq заявил, и eq мода на eq всё русское eq началась в eq Европе. На eq Парижской Всемирной eq выставке 1900 года eq были сделаны eq первые матрешки - eq оригинальные сувениры eq a la eq Russe, которые eq получили бронзовые eq медали.\n",
      "В eq условиях глобализированного eq мира и eq распространения современных eq медиа общества «eq благоприятный имидж eq и репутация eq страны во eq всем мире eq становятся более eq важными, чем eq территория, доступ eq и сырье». eq Во времена eq глобализации и eq медиатизации имидж eq страны становится eq все более eq важным, потому eq что международные eq организации, СМИ eq и общественность eq все чаще eq наблюдают за eq странами, они eq публично оцениваются eq и сравниваются eq в соответствии eq с их eq экономическим развитием, eq их политической eq стабильностью, эффективностью eq и нравственностью eq их национальной eq и международной eq политики или eq привлекательностью своей eq культуры.\n",
      "Кроме eq того, как eq предпосылка поведения eq людей по eq отношению к eq стране, имидж eq страны как eq поведенческий конструкт eq может сильно eq повлиять на eq прямые иностранные eq инвестиции, на eq процветание национального eq туристического промышленности, eq привлекательность внутренних eq рынков труда eq и систем eq образования, успех eq глобального экспорта eq товаров и eq услуги, а eq также международные eq отношения и eq степень политического eq влияния страны.\n",
      "eq Особенно для eq таких маленьких eq стран, как eq Швейцария, Монако eq которая не eq может так eq полагаться на eq политическую и eq экономическую мощь eq для защиты eq национальных интересов eq в глобальном eq контексте.\n",
      "Влияние eq имиджа страны eq на поведение eq людей может eq иметь решающее eq значение для eq политического, экономического eq и культурного eq успеха. Многие eq из политических, eq культурных и eq экономические организации eq зависят от eq взаимодействия с eq зарубежной общественностью eq и качество eq этих взаимодействий eq зависит от eq имиджа страны. \n",
      "eq В связи eq с возрастающей eq значимостью имиджа eq страны в eq условиях в eq глобализованном мире eq и современных eq медиасообществах эта eq конструкция взбудоражила eq практические беспокойство. eq Политические, экономические eq и культурные eq лидеры все eq больше обеспокоены eq об уважении eq своей страны eq за рубежом eq и усилиях eq коммуникационного менеджмента eq все чаще eq применяются на eq уровне системы eq национального государства eq в международных eq связях с eq общественностью (IPR) eq и публичной eq дипломатии (PD).\n",
      "eq При рассмотрении eq основных компонентов eq образа страны eq обнаруживается пробел, eq связанный с eq включением аффективных eq аспектов. Большинство eq моделей, разработанных eq до сих eq пор полностью eq сосредоточиться на eq когнитивном компоненте eq поведенческого конструкта eq и не eq в состоянии eq последовательно интегрировать eq эмоциональные аспекты. eq Кроме того, eq внутренняя структура eq образ страны eq остается в eq значительной степени eq необъяснимым, что eq поднимает вопрос eq о том, eq насколько разные eq когнитивные и eq аффективные образы-eq измерения связаны eq и влияют eq друг на eq друга.\n",
      "Введение eq различных групп (eq таких как eq политики, зарубежная eq политическая общественность, eq квалифицированные рабочие eq и эксперты, eq журналисты, студенты), eq исследователи до eq сих пор eq в значительной eq степени пренебрегали eq разработкой обобщающих eq понятий образа eq страны, которые eq можно было eq бы применить eq к сравнительному eq анализу разных eq групп. Весьма eq поразительно, что eq понятия национальная eq идентичность — хотя eq они предлагают eq многообещающие теоретические eq основания для eq обоснования более eq общих атрибутов eq и содержания eq конструкции, необходимой eq для сравнительного eq анализа, — широко eq игнорируются в eq исследованиях образов eq стран. Недавний eq занимается национальным eq брендингом и eq исследованием коллективной eq идентичности успешно eq демонстрируют, как eq теоретические идеи eq ведущих такие eq ученые, как eq Андерсон (1983), Геллнер (1983) eq или Смит (1987), eq могут быть eq применены к eq изучению образов eq страны.\n",
      "Кроме eq того, по-eq прежнему существует eq потребность в eq интегративных подходах eq в исследовании. eq изображений страны (eq Papadopoulos 2004). В eq связи с eq этим существует eq манифест терминологическая eq проблема: нет eq общепринятого концептуального eq понимания имиджа eq страны в eq любой из eq отдельных областей eq исследований. В eq зависимости от eq целей исследования eq образы страны eq определяются как eq ассоциации с eq брендом, когнитивные eq и/или eq аффективные установки, eq стереотипы, самовосприятие (eq т. е. eq идентичность), массовая eq информация или eq социальная репутация. eq Эта терминологическая eq неоднородность усложняет eq необходимую передачу eq и интеграцию eq знаний между eq различными подходами eq и предполагает eq необходимость общей eq структуры.\n",
      "В eq Барселонской декларации eq принципов измерения 2010 eq г. ученые eq и практики eq подчеркнули текущую eq потребность в eq совершенствовании методов eq оценки результатов eq в связях eq с общественностью (eq AMEC 2010). Эмпирически eq измеряя и eq оценка результатов, eq таких как eq репутация или eq имидж, является eq сложной задачей, eq поскольку эти eq целевые конструкты — eq это не eq явные явления, eq а скорее eq сложные неосязаемые eq объекты, которые eq должны быть eq определены, специфицированы eq и тщательно eq введены в eq действие, чтобы eq произвести значимые eq результаты. Если eq концептуализировать с eq несколькими измерениями, eq конституция этих конструкций, eq но включает в eq себя различные взаимосвязанные eq латентпоявляющиеся переменные.\n",
      "eq Это означает, eq что просто eq описательный анализ eq имиджа или eq репутации организации eq не может eq объяснить то, eq что в eq итоге хотят eq знать специалисты eq по связям eq с общественностью, eq а именно: eq эти конструкции eq способствуют построению eq доверительных отношений, eq содействие благоприятному eq поведению заинтересованных eq сторон или eq даже создание eq экономической добавленной eq стоимости для eq соответствующей организации, eq компании или eq страны. Не eq принимая во eq внимание эту eq более широкую eq сеть отношений, eq невозможно оценить eq важность имиджа eq и репутации eq организации.\n",
      "Международные eq связи с eq общественностью и eq публичная дипломатия, eq будучи молодыми eq областями внутри eq или рядом eq с областью eq исследований в eq области связей eq с общественностью, eq имеют более eq или менее eq широкое распространение eq эмерджентный статус (eq Ingenhoff, Ruehl 2013). eq С одной eq стороны — в eq области суставов eq интересы и eq пересекаются — они eq могут опираться eq на три eq десятилетия исследований eq в области eq связей с eq общественностью, которые — eq как подполе eq коммуникативных исследований — eq к настоящему eq времени развились eq разумная академическая eq идентичность как eq независимой области (eq Sisco et eq al., 2011; Smith 2012). eq С другой eq стороны, они eq связаны с eq исследовательской областью, eq где все eq еще необходим eq дальнейший прогресс eq как с eq точки зрения eq методологий исследований, eq так и eq в преемственность eq и строгость eq исследователя в eq применении этих eq подходов (Pasadeos eq et др. 2011, 2010). eq Соответственно, применение eq доступных методов eq является темой eq высокая потребность eq в дискуссиях eq как в eq исследованиях связей eq с общественностью eq вообще, так eq и в eq исследованиях международных eq связей с eq общественностью и eq публичной дипломатии, eq в частности.\n",
      "eq Мощным статистическим eq методом для eq анализа таких eq взаимосвязей является eq моделирование структурными eq уравнениями (SEM) (eq Багоцци, Форнелл, 1982). eq До сих eq пор большинство eq исследований в eq исследования по eq связям с eq общественностью используют eq процедуры на eq основе ковариации (eq CB-SEM) eq для тестирования eq каузальные модели (eq например, Kim, eq Niederdeppe 2013; Ni, eq Wang 2011; Sung, eq Yang 2008).\n",
      "Дополнительным eq методом, который eq вместо этого eq используется редко, eq является метод, eq основанный на eq дисперсии подход eq моделирования структурных eq уравнений с eq частными наименьшими eq квадратами (PLS-eq SEM) (Ломеллер, 1989; eq Тененхаус и eq др., 2005; Уолд, 1982). eq Спорить что eq благодаря последним eq анализам свойств eq этого метода (eq например, Reinartz eq et al. 2009), eq а также eq недавно появившиеся eq методы оценки eq моделей (например, eq Henseler 2012), понимание eq подхода PLS eq значительно возросло eq в последнее eq время и eq годы. В eq то время eq как PLS-eq SEM в eq настоящее время eq привлекает большое eq внимание в eq таких дисциплинах eq бизнес-исследований, eq как маркетинг eq и управленческие eq исследования (Hair eq et al. 2012а, 2012б; eq Хенселер и eq др. 2009), исследования eq по связям eq с общественностью eq до сих eq пор не eq использовали эти eq последние достижения. eq Это удивительно, eq учитывая метод eq обеспечивает многообещающий eq подход к eq решению текущих eq проблем в eq области связей eq с общественностью eq исследований, особенно eq когда речь eq идет об eq оценке.\n",
      "Здесь eq предлагается новая eq интегративная модель eq имиджа страны. eq опираясь на eq достижения в eq области бизнес-eq исследований, социальной eq психологии, политология eq и коммуникативная eq наука. Чтобы eq связать различные eq подходы, применяется eq концепция управления eq коммуникациями, обеспечивающая eq базовую терминологическую eq основу, систематизирующую eq центральные конструкции eq имиджа страны, eq репутация страны, eq бренд страны eq и идентичность eq страны. На eq этом основании eq автор разрабатывает eq четырехмерную «4D-модель» eq образа страны eq путем интеграции eq хорошо зарекомендовавшие eq себя концепции eq из теории eq национальной идентичности, eq теории отношения eq и управление eq репутацией. Новая eq модель подходит eq для применения eq в сравнительных eq анализ образов eq страны как eq на уровне eq различных групп (eq таких как eq местная и eq зарубежная общественность), eq так и eq на разных eq социальных уровнях (eq таких как eq индивидуальные установки, eq с одной eq стороны, и eq престижная информация, eq распространяемая средствами eq массовой информации, eq с другой.\n",
      "eq Растущее значение eq имиджа стран eq вызвало необходимость eq анализа и eq сравнить эти eq конструкции и eq их эффекты eq как в eq исследованиях, так eq и на eq практике. Политические eq лидеры все eq больше беспокоятся eq об уважении eq своей страны eq за границей (eq Kunczik 2003; Price 2003; eq Werron 2014) и eq практики управления eq коммуникациями широко eq применяются на eq уровне национально-eq государственной системы.\n",
      "eq В исследовании eq страны происхождения eq изучение конституции eq и влияния eq страны изображений eq имеет долгую eq историю, начиная eq с работ eq Дихтера (1962) и eq Скулера (1965) (см. eq Peterson, Jolibert 1995; eq Roth, Diamantopoulos 2009; eq Verlegh, Steenkamp 1999 eq для обзора eq области). Большинство eq исследований с eq тех пор eq концептуализировал образ eq страны как eq поведенческий конструкт, eq предполагая множество eq различных измерений eq и переменных (eq Roth, Diamantopoulos). eq Важным фактором eq во многих eq исследованиях является eq оценка состояния eq экономики (например, eq Wang, Lamb 1983; eq Martin, Eroglu 1993), eq а также eq ее политической eq системы (например, eq Allred et eq al. 1999). Хеслоп eq и др. (2004) eq также предполагают, eq что обучение eq и компетентность eq людей являются eq важным фактором. eq Другой фактор eq часто упоминается eq степень технического eq прогресса (например, eq Деборд 1990 г.; eq Кюн 1993; Мартин, eq Эроглу, 1993). Несмотря eq на значительный eq объем исследований eq в этой eq области теоретическая eq основа и eq эмпирическая проверка eq размерности образа eq страны по-eq прежнему считаются eq неудовлетворительными (Newburry 2012). eq исследователи также eq в значительной eq степени воздерживаются eq от прояснение eq внутренней структуры eq конструкта, поставив eq вопрос о eq том, как eq разные когнитивные eq и аффективные eq образы-измерения eq взаимосвязаны и eq воздействуют на eq каждый другой. eq Кроме того, eq если интересоваться eq имиджем страны eq как общей eq конструкцией, большинство eq исследований страны eq происхождения имеют eq ограниченную полезность eq из-за eq того, что eq они сосредоточены eq на имидже eq страны-продукта eq как объединенной eq конструкции (Peterson, eq Joliber, 1995; Verlegh, eq Steenkamp, 1999).\n",
      "1.2 Структура eq и основные eq компоненты имиджа eq государства\n",
      "Мощный eq и позитивный eq национальный имидж eq является одним eq из самых eq ценных активов eq любой страны eq в наше eq время. Она eq способна привести eq в движение eq социальные, экономические eq и культурные eq процессы. Так eq же, как eq компании и eq продукты, страны, eq города, провинции eq и регионы eq также имеют eq свою идентичность. eq То, что eq Саймон Анхольт eq называет конкурентной eq идентичностью, включает eq в себя eq измерение этой eq идентичности, оценку eq ее сильных eq и слабых eq сторон и eq формирование национального eq поведения, чтобы eq заслужить, усилить eq и проецировать eq эту идентичность.\n",
      "eq В 1996 году eq Саймон Анхольт eq ввел термин «eq национальный бренд» eq и положил eq начало важной eq области исследований eq и практики. eq С тех eq пор он eq консультировал глав eq государств и eq глав правительств 56 eq стран, чтобы eq помочь им eq спланировать политику, eq стратегии, инвестиции eq и инновации, eq которые приведут eq их страну eq к улучшению eq статуса и eq репутации. В eq дополнение к eq своей консультативной eq работе профессор eq Анхольт разработал eq системы измерения: eq Nation Brands eq IndexSM (NBI) eq и City eq Brands IndexSM. (eq CBI), чтобы eq оценить, как eq граждане мира eq относятся к eq странам, городам eq и регионам eq мира.\n",
      "Мы eq оцениваем и eq разрабатываем стратегии eq бренда в eq странах, городах eq и регионах, eq а также eq предоставляем глобальные eq и местные eq идеи, необходимые eq для продвижения eq репутации места, eq а также eq для повышения eq успеха его eq деловые, торговые eq и туристические eq усилия. (рис.1)\n",
      "  \\* MERGEFORMAT .1\n",
      "\n",
      "\n",
      "1. «Присутствие. eq Основано на eq международном статусе eq и репутации eq города, а eq также на eq общемировом знакомстве/eq знании города. eq Он также eq измеряет глобальный eq вклад города eq в науку, eq культуру и eq управление.\n",
      "2. Место. eq Изучение восприятия eq людьми физического eq аспекта каждого eq города с eq точки зрения eq приятности климата, eq чистоты окружающей eq среды и eq привлекательности его eq зданий и eq парков.\n",
      "3. Предпосылки - eq Определяет, как eq люди воспринимают eq основные качества eq города; являются eq ли они eq удовлетворительными, доступными eq и удобными, eq а также eq стандартными общественными eq удобствами, такими eq как школы, eq больницы, транспортные eq и спортивные eq сооружения.\n",
      "4. Люди – eq показывает, воспринимаются eq ли жители eq города как eq теплые и eq гостеприимные, думают eq ли респонденты, eq что им eq будет легко eq найти и eq вписаться в eq сообщество, которое eq разделяет их eq язык и eq культуру, и eq будут ли eq они чувствовать eq себя в eq безопасности.\n",
      "5. Пульс - eq измеряет восприятие eq того, что eq есть интересные eq вещи, которыми eq можно заполнить eq свободное время, eq и насколько eq захватывающим воспринимается eq город в eq отношении новых eq вещей, которые eq можно открыть.\n",
      "6. eq Потенциал — измеряет eq восприятие экономических eq и образовательных eq возможностей в eq городе, например, eq насколько легко eq найти работу, eq является ли eq это хорошим eq местом для eq ведения бизнеса eq или получения eq высшего образования» (eq Anholt and eq GfK, 2011).\n",
      "\n",
      "Национальный eq брендинг\n",
      "Anholt eq Ipsos Nation eq Brands IndexSM (eq NBI) помогает eq правительствам, организациям eq и предприятиям eq понять, измерить eq и, в eq конечном счете, eq создать сильный eq национальный имидж eq и репутацию. eq Это измеряет eq силу и eq качество «имиджа eq бренда» каждой eq страны, комбинируя eq следующие шесть eq параметров:\n",
      "• Экспорт — eq общественное представление eq о продуктах eq и услугах eq из каждой eq страны и eq степень, в eq которой потребители eq активно ищут eq или избегают eq продуктов из eq каждой страны eq происхождения.\n",
      "• Управление — eq общественное мнение eq о национальном eq компетентность и eq справедливость правительства, eq а также eq его предполагаемая eq приверженность глобальным eq вопросам, таким eq как мир eq и безопасность, eq справедливость, бедность eq и окружающая eq среда.\n",
      "• Культура eq и наследие — eq глобальное восприятие eq наследия каждой eq нации и eq признательность за eq ее современную eq культуру, включая eq кино, музыку, eq искусство, спорт eq и литературу.\n",
      "• eq Люди — репутация eq населения в eq отношении компетентности, eq открытости и eq дружелюбия, а eq также других eq качеств, таких eq как терпимость.\n",
      "• eq Туризм — уровень eq интереса к eq посещению страны eq и привлекательность eq природных и eq искусственных туристических eq достопримечательностей.\n",
      "• Инвестиции eq и иммиграция — eq способность привлекать eq людей к eq жизни, работе eq или учебе eq в каждой eq стране, а eq также то, eq как люди eq воспринимают качество eq жизни и eq деловую среду eq в стране.\n",
      "eq Оценка каждой eq страны по eq шести параметрам eq кратко отражена eq в шестиугольнике eq национального бренда eq вместе с eq общей оценкой eq индекса. Этот eq инструмент обеспечивает eq согласованную основу eq для межстрановых eq сравнений по eq ключевым факторам. eq Влияние на eq репутацию, чтобы eq вы могли eq видеть, какое eq место занимает eq бренд вашей eq страны и eq почему.\n",
      "Анализируя eq этот обширный eq набор данных, eq наша команда eq по брендированию eq мест оценивает eq положение вашей eq страны в eq мире и eq на стратегических eq рынках с eq течением времени, eq что делает eq NBISM одним eq из наиболее eq эффективных инструментов eq для управления eq репутацией вашей eq страны во eq всем мире.\n",
      "eq Компоненты имиджа eq государства.\n",
      "Структура eq имиджа несколько eq по-разному eq видится исследователями eq различных его eq ипостасей – индивидуального, eq политического, корпоративного. eq Однако как eq коммуникативная единица eq любой имидж – eq индивидуума, группы eq индивидуумов или eq социума – будет eq включать индивидуальные (eq персональные), социальные eq и символические eq блоки, которые, eq в свою eq очередь, можно eq дифференцировать по eq принципу объективности eq характеристик и eq субъективности. Некоторые eq исследователи делят их eq также на:\n",
      "1. eq условно-статичные (eq их можно eq отнести к eq объективным):\n",
      "природный eq ресурсный потенциал;\n",
      "eq национальное и eq культурное наследие eq российского общества;\n",
      "eq геополитические параметры (eq географическое положение, eq площадь занимаемой eq территории, протяженность eq границ государства, eq выход к eq морям и eq т. д.);\n",
      "eq исторические события, eq повлиявшие на eq развитие российской eq государственности;\n",
      "базовая eq форма государственного eq устройства и eq структура управления.\n",
      "2. eq условно-динамичные (eq их можно eq отнести к eq субъективным):\n",
      "социально-eq психологические настроения eq в российском eq обществе;\n",
      "характер eq и принципы eq деятельности общественно-eq политических объединений eq России;\n",
      "морально-eq нравственные аспекты eq развития российского eq общества;\n",
      "устойчивость eq российской экономики (eq оцениваемая комплексом eq показателей динамики eq ВВП, уровня eq доходов на eq душу населения, eq объема привлекаемых eq инвестиций, финансовой eq обеспеченности бюджетов, eq гарантий прав eq и свобод eq хозяйствующих на eq российском рынке eq субъектов реального eq сектора экономики eq и др.);\n",
      "eq правовое пространство eq России и eq соответствие российских eq правовых норм eq международным требованиям;\n",
      "eq функции, полномочия eq и механизмы eq государственного регулирования eq различных областей eq и сфер eq деятельности в eq Российском государстве (eq эффективность властной eq конструкции).\n",
      "Эти eq параметры можно eq отнести к eq социальному блоку. eq Последние изменяются eq в процессе eq трансформации страны eq и могут eq корректироваться при eq формировании имиджа.\n",
      "eq Идентичность государства eq определяется как eq относительно стабильные, eq основанные на eq ролях, ожидания eq актора относительно eq самого себя. eq Образ государства, eq формирующийся у eq других участников eq международных отношений, eq зависит от eq интересов этих eq участников. Интересы eq всегда предполагают eq построение отношений eq именно с eq данными, а eq не с eq другими странами. eq Совпадение интересов eq способно заложить eq позитивный фундамент eq для формирования eq образа страны eq у других eq стран. Например, eq в исследованиях, eq выполненных с eq позиций классического eq либерализма, подчеркивается, eq что разделяемая «eq демократическая идентичность» eq способствует снижению eq количества конфликтов eq между государствами.\n",
      "eq Идентичность, по eq мнению исследователей, eq включает:\n",
      "1.  «Национальную eq идентичность», которая eq определяется особенностями eq географического положения, eq организации политической eq и экономической eq жизни, культуры eq и истории, eq этническим и eq религиозным составом eq населения, разделяемыми eq ценностями и eq убеждениями.\n",
      "2.  Статус eq государства – его eq положение в eq межстрановом пространстве, eq членство в eq международных организациях, eq характер отношений eq с теми eq или иными eq странами, перечень eq ролей, которые eq государство реализует eq на международной eq арене.\n",
      "Компонентом eq образов и eq созданного имиджа, eq безусловно, является eq образ политического eq лидера страны. eq Саймон Энхальт, eq советник правительства eq Великобритании по eq вопросам публичной eq дипломатии и eq специалист по eq страновому брендингу, eq оценивает важность eq лидеров в eq образе государства: «eq Важно не eq то, какой eq видный лидер, eq а насколько eq простой он eq сегодня нуждается eq в сильном, eq харизматическом лидере, eq например Маргарет eq Тэйтчере, которая eq была популярной eq в Европе». eq Другой ключевой eq компонент имиджа eq в последние eq годы является eq инвестиционный вклад eq в теорию eq корпоративных имиджа – eq бизнес-имиджа. eq Для того, eq чтобы политическая eq и экономическая eq характеристика стала eq привлекательной для eq инвестиций, в eq современных мировых eq сообществах составляющими eq имиджа бизнеса eq должны оказаться eq цивилизованные, прозрачные eq и социальные eq обязательства по eq экологической и eq технологической безопасности, eq финансирование учебных eq и научно-eq исследовательских программ, eq создание социальных eq программ сотрудникам eq предприятий, компаний, eq а также eq другие. Хорошо, eq хорошо, хорошо, eq Государству следует eq проявить готовность eq к принятию eq условий международного eq рынка - стабильных eq правил игры, eq которые регламентированы eq законом, а eq также реформирования eq естественного монополизма, eq налоговых, судебно-eq банковских, банковских eq и прочих eq систем. \n",
      "Как eq формировать имидж eq государства?\n",
      "Э.eq А. Галумов eq в книге «Международный eq имидж России: стратегия eq формирования» рекомендует eq создание некого eq единого имидж, eq который были eq бы обязаны eq пропагандировать все eq российские СМИ. eq Любой конструируемый eq имидж, безусловно, eq должен быть eq целостным, однако eq иерархия характеристик eq может и eq должна быть eq несколько различной eq для различных eq групп общественности. \n",
      "eq Поскольку наш eq мир становится eq все более eq взаимосвязанным и eq глобализированным, важность «eq мягкой силы» eq в международных eq делах невозможно eq переоценить. Использование «eq мягкой силы» eq стало важнейшим eq компонентом внешней eq политики для eq стран во eq всем мире, eq поскольку они eq стремятся строить eq позитивные отношения eq с другими eq странами, продвигать eq свои ценности eq и интересы eq и достигать eq своих стратегических eq целей ненасильственными eq средствами.\n",
      "Это eq еще более eq важно, когда eq некоторые народы eq использовать военную eq силу, чтобы eq навязать свою eq волю другим eq нации.\n",
      "В eq этом ежегодном eq отчете о «eq мягкой силе» eq рассматривается способность eq влиять на eq других посредством eq привлечения или eq убеждения, а eq не принуждения. eq Он охватывает eq широкий спектр eq инструментов, включая eq бизнес и eq торговлю, управление, eq международные отношения, eq культуру и eq наследие, средства eq массовой информации eq и коммуникации, eq образование и eq науку, характер eq нации и eq продвижение своих eq значений. Мягкая eq сила позволяет eq страны для eq формирования восприятия eq и отношения eq других стран, eq укреплять доверие eq и сотрудничество eq и продвигать eq свои интересы, eq не прибегая eq к военной eq силе.\n",
      "Одним eq из ключевых eq преимуществ «мягкой eq силы» является eq то, что eq позволяет странам eq достигать своих eq целей за eq счет мирныx eq средств. В eq отличие от eq жесткой силы, eq которая опирается eq на военную eq силу и eq принуждение, мягкая eq сила позволяет eq нациям завоевывать eq сердца и eq умы посредством eq диалога, культурного eq обмена, и eq сотрудничество.\n",
      "Это eq может быть eq особенно эффективно eq при построении eq отношения со eq странами, которые eq могут быть eq враждебными по eq отношению к eq собственному народу.\n",
      "eq Демонстрируя добрую eq волю и eq продвигая взаимные eq интересы, страны eq могут укрепить eq доверие и eq создать более eq стабильную и eq мирную международную eq средe.\n",
      "Еще eq одним важным eq аспектом «мягкой eq силы» является eq ее способность eq способствовать экономическому eq развитию и eq процветанию. Страны eq могут использовать «eq мягкую силу» eq для привлечение eq иностранных инвестиций, eq расширять торговлю, eq продвигать туризм eq и приглашать eq таланты. Все eq это может eq помочь создать eq рабочие места eq и ускорить eq экономический рост eq в обеих eq странах-партнерах.\n",
      "eq Однако «мягкая eq сила» не eq лишена проблем eq и ограничений. eq Он требует eq значительных инвестиций eq в образование, eq культуру и eq дипломатию и eq не всегда eq может дать eq немедленные результаты.\n",
      "eq Кроме того, eq инициативы «мягкой eq силы» могут eq быть подорваны eq внутренней политикой eq или действиями, eq которые воспринимаются eq как лицемерные eq или несовместимые eq с продвигаемыми eq ценностями. Более eq того, «мягкой eq силы» может eq быть недостаточно eq для решения eq определенных проблем, eq таких как eq терроризм, которые eq могут потребовать eq применения «жесткой eq силы».\n",
      "Несмотря eq на эти eq проблемы, важность eq SOFT POWER eq в международных eq делах нельзя eq игнорировать.\n",
      "В eq мире, где eq власть все eq больше определяется eq нематериальными факторами, eq такими как eq репутация, влияние eq и ценности, «eq мягкая сила» eq стала важным eq инструментом для eq достижения стратегических eq целей и eq развития международного eq сотрудничества. Политики, eq дипломаты и eq граждане должны eq признать потенциал «eq мягкой силы» eq и инвестировать eq в инструменты, eq необходимые для eq ее эффективного eq использования. Только eq приняв «мягкую eq силу», мы eq сможем построить eq для себя eq более мирный, eq процветающий и eq справедливый мир eq и будущих eq поколений.\n",
      "Как eq строится Индекс\n",
      "eq Global Soft eq Power Index eq основан на eq самой всеобъемлющей eq и широкомасштабной eq исследовательской программе eq в своем eq роде, в eq которой приняли eq участие более 110 000 eq человек из eq более чем 100 eq стран, исследуя eq восприятие 121 национального eq бренда со eq всего мира.\n",
      "eq Глобальный индекс eq мягкой силы eq включает в eq себя широкий eq спектр показателей, eq которые в eq совокупности обеспечивают eq сбалансированную и eq целостную оценку eq присутствия, репутации eq и влияния eq наций на eq мировой арене. eq К ним eq относятся:\n",
      "Знакомство: eq национальные бренды, eq которые люди eq знают и eq имеют ментальную eq доступность, обладают eq большей мягкой eq силой.\n",
      "Репутация: eq считается ли, eq что эта eq страна имеет eq сильную и eq положительную репутацию eq во всем eq мире?\n",
      "Влияние: eq степень, в eq которой считается, eq что нация eq имеет влияние eq в стране eq респондента, а eq также на eq мировой арене.\n",
      "eq Эффективность основных 8 eq столпов «мягкой eq силы» (бизнес eq и торговля, eq управление, международные eq отношения, культура eq и наследие, eq СМИ и eq коммуникации, образование eq и наука, eq люди и eq ценности, устойчивое eq будущее)\n",
      "Веса, eq присвоенные каждому eq показателю в eq рамках Индекса, eq были основаны eq на сочетании eq мнений экспертов, eq полученных в eq результате обширного eq обзора литературы eq и процесса eq консультаций с eq экспертами, а eq также статистического eq анализа, оценивающего eq степень, в eq которой эффективность eq компонентов коррелирует eq с влиянием eq и репутацией. eq Введение новых eq атрибутов не eq повлияло на eq весовые коэффициенты eq существующих для eq обеспечения сопоставимости eq по годам.\n",
      "\n",
      "eq Национальные бренды eq в рейтинге\n",
      "eq В программу eq исследования был eq включен 121 национальный eq бренд, в eq том числе eq Зимбабве впервые. eq Ключевые страны, eq глобальная репутация eq которых представляет eq наибольший интерес eq для пользователей eq и подписчиков eq Индекса (например, eq Китай, США, eq Бразилия), получили eq приоритет как «eq Уровень 1» (см. eq карту). Эти 32 eq страны уровня 1 eq имеют больший eq размер выборки, eq оценивающий их.\n",
      "eq Каждый год eq Brand Finance eq оценивает 5000 крупнейших eq мировых корпоративных eq брендов. В eq течение почти 20 eq лет Brand eq Finance также eq отслеживает силу eq и ценность eq национальных брендов, eq а с 2020 eq года публикует eq самое всестороннее eq в мире eq исследование восприятия eq национальных брендов — eq Global Soft eq Power Index.\n",
      "eq Понимание этих eq представлений является eq ключом к eq успеху национальных, eq региональных, городских eq и корпоративных eq брендов на eq международном уровне, eq позволяя определять eq сильные и eq слабые стороны eq и улучшать eq стратегии роста eq в будущем. eq Чем сильнее «eq мягкая сила» eq страны, тем eq выше ее eq способность привлекать eq инвестиции и eq продавать свои eq товары и eq услуги. После eq успешной публикации eq трех итераций eq Индекса Brand eq Finance завершила eq четвертый год eq исследований, основанных eq на глобальной eq выборке из eq более чем 100 000 eq респондентов. Новый eq отчет, в eq котором оценивается 121 eq национальный бренд eq со всего eq мира, должен eq быть опубликован 2 eq марта 2023 года eq на саммите eq Global Soft eq Power Summit.\n",
      "eq Образ страны\n",
      "eq По аналогии eq с широко eq используемой концепцией eq имиджа имидж eq страны можно eq определить как «eq сумма убеждений, eq взглядов и eq впечатлений, которые eq человек или eq группа лиц eq имеет объект» (eq Barich, Kotler 1991: 95); eq в данном eq случае страны. eq Это понятие eq может быть eq дополнительно дифференцировано eq при разграничении eq индивидуума и eq собирательный образ, eq оба из eq которых ассимилированы eq в определении eq Бариха и eq Котлера. Провести eq четкое различие eq между имиджем eq страны как eq личности суждение, eq сделанное единицей eq субъективного поведения (eq Boulding 1969), с eq одной стороны, eq а накопленный eq образ страны eq группы, с eq другой, полезен, eq когда относясь eq к последнему, eq чтобы говорить eq об агрегированных eq изображениях. Вышеупомянутое eq определение также eq следует уточнить, eq введя дифференциацию eq точки зрения: eq было подчеркнуто, eq что должно eq быть четкое eq концептуальное различие eq между внешним eq восприятием (иностранной eq публикой) и eq самовосприятием (иностранной eq публикой и eq местного населения) (eq Grunig 1993b). Для eq учета этой eq дифференциации необходимо eq полезно различать eq понятия имиджа eq страны и eq идентичности страны.\n",
      "eq Говоря об eq имидже страны, eq мы имеем eq в виду eq восприятие страны, eq которая существует eq среди своей eq иностранной публики (eq внешней группы), eq в то eq время как eq страновая идентичность eq концептуализируется как eq внутреннее самовосприятие, eq существующее среди eq внутренней публики eq страны (своей eq группы). Это eq аналитическое различие eq не должно eq скрывать тот eq факт, что eq внутренние на eq самом деле eq публики могут eq быть самыми eq разнообразными. В eq зависимости от eq цели исследования eq это может eq сделать смысл eq в дальнейшей eq классификации здесь, eq например, мигранты, eq региональное население eq или этнические eq меньшинства. \n",
      "Бренд eq страны \n",
      "Бренд, eq в соответствии eq установленному определению, — eq это «имя, eq термин, знак, eq символ или eq дизайн или eq их комбинация, eq предназначенные для eq идентификации товаров eq и услуг eq одного продавца eq или группы eq продавцов и eq дифференцировать их eq от продавцов eq конкурентов» (Kotler, eq Armstrong 2013: 255). Таким eq образом, бренд — eq это, прежде eq всего, намеренно eq разработанная стратегическая eq репрезентация себя. eq Хотя в eq академической литературе eq часто существует eq различие между eq брендом в eq том виде, eq в каком eq он сообщается eq организацией, и eq брендом в eq том виде, eq в каком eq его представляют eq соответствующие целевые eq группы, - со eq ссылкой на eq определения, установленные eq выше - быть eq концептуально выровненными eq с пониманием eq имиджа (или eq в данном eq случае «имиджа eq бренда») и eq как такового eq лежит за eq пределами основной eq концепции бренда. eq В соответствии eq с этим eq пониманием бренд eq страны рассматривается eq как продукт eq стратегически переданной eq информации национальное eq государство о eq самом себе. eq Она тесно eq связана с eq национальной идентичностью, eq которая составляет eq необходимую основу eq для любой eq последовательной саморепрезентации.\n",
      "eq Национальная идентичность eq как основа\n",
      "eq Объект имиджа eq страны понимается eq как единство eq нации и eq ее состояние. eq Опираясь на eq концепцию национальной eq идентичности Смита (1991), eq страна можно eq определить как eq именованный человеческий eq коллектив, состоящий eq из шести eq родовых атрибутов: eq отдельная территория eq или «родина», eq общая история eq и традиции, eq домашняя экономика, eq общественная культура, eq набор общих eq норм и eq ценностей, а eq также суверенная eq политическая организация eq или государство. eq Эти атрибуты eq хорошо подходят eq в качестве eq основы для eq модели, потому eq что они eq могут быть eq концептуально обоснованы eq широко используемой eq теорией Смита eq о нациях, eq применяются в eq исследованиях страновой eq идентичности (David, eq Bar-Tal 2009) eq и соответствуют eq категории, по eq которым иностранцы eq на самом eq деле воспринимают eq и различают eq разные страны (eq Mittelstaedt et eq al., 2004).\n",
      "Образ eq страны как eq отношение\n",
      "Определив eq имиджевый объект eq как таковой, eq образ страны eq концептуализируется, соответственно, eq как отношение eq к стране, eq т. е. eq отношение к eq территории страны, eq ее истории eq и традициям, eq ее внутреннему eq хозяйству, общественной eq культуре, норм eq и ценностей, eq а также eq его политическая eq организация. Тем eq самым можно eq для нашей eq модели «использовать eq одни и eq те же eq описательные измерения eq для характеристики eq изображения и eq объект» (Кельман 1965). eq Таким образом, eq модель хорошо eq подходит для eq сравнительного анализа. eq Анализ самообраза eq граждан страны, eq т. е. eq национальной идентичности, eq и образ eq страны в eq восприятии зарубежной eq публики. (рис.2)\n",
      "\n",
      "eq Рис.2 Атрибуты eq страны (на eq основе Smith 1991)\n",
      " SHAPE  \\* MERGEFORMAT \t\n",
      "eq В частности, eq модель будет eq применяться к eq решить следующие eq исследовательские вопросы:\n",
      "eq текущие проблемы eq в исследованиях eq связей с eq общественностью, особенно eq когда речь eq идет об eq оценке.\n",
      "1.Как eq различные аспекты eq организационной репутации eq взаимосвязаны и\n",
      "eq влияют друг eq на друга?\n",
      " 2.eq Как различные eq аспекты репутации eq организации влияют eq на развитие eq доверия и eq содействие благоприятному eq поведению заинтересованных eq сторон?\n",
      "Кроме eq того, поскольку eq в данной eq области до eq сих пор eq отсутствуют сравнительные eq исследования, которые eq бы эмпирически eq оценивали эти eq эффекты в eq различных группах eq заинтересованных сторон (eq Чун, 2005 г.), eq мы также eq спрашиваем:\n",
      "3.Как eq меняется структура eq репутации организации eq и ее eq последствия между eq различными группами eq заинтересованных сторон eq организации?\n",
      "В eq этой главе eq представлен краткий eq обзор достижений eq в концептуализации eq образа страны eq в бизнес-eq исследованиях, социальной eq психологии, политологии eq и коммуникативной eq науки, и eq показывает, как eq доступные знания eq из этих eq областей могут eq быть объединены eq для получения eq интегративной модели eq имиджа страны. eq В то eq время как eq имидж и eq идентичность страны eq рассматриваются в eq первую очередь eq как поведенческие eq конструкции и eq что они eq основаны на eq процессах восприятия, eq бренда страны eq и репутации, eq приняв эти eq факторы можно eq систематизировать центральные eq понятия. \n",
      "\n",
      "\n",
      "\n",
      "\n",
      "\n",
      "\f",
      "1.3 Гендерное eq равенство как eq компонент имиджа eq государства\n",
      "Гендерное eq равенство — это eq не только eq одно из eq основных прав eq человека, но eq и необходимая eq основа для eq мира, процветания eq и устойчивого eq развития во eq всем мире. eq За последние eq десятилетия был eq достигнут прогресс, eq но мир eq не находится eq на пути eq к достижению eq гендерного равенства eq к 2030 году.\n",
      "eq Для ускорения eq прогресса необходимы eq приверженность и eq решительные действия, eq в том eq числе путем eq продвижения законов, eq политики, бюджетов eq и институтов, eq способствующих гендерному eq равенству. Увеличение eq инвестиций в eq гендерную статистику eq имеет жизненно eq важное значение, eq поскольку в eq настоящее время eq доступно менее eq половины данных, eq необходимых для eq мониторинга Цели eq ООН.\n",
      "Всемирный eq экономический форум eq ожидает, что eq теперь потребуется eq более 130 лет, eq чтобы устранить eq гендерный разрыв eq во всем eq мире, по eq сравнению с eq примерно 100 годами eq до пандемии. eq Во всем eq мире 64 миллиона eq женщин потеряли eq работу во eq время пандемии (eq вдвое больше, eq чем мужчин), eq потому что eq женщины с eq большей вероятностью eq будут работать eq в неформальном eq секторе, на eq временной работе eq или на eq неполный рабочий eq день — виды eq работ, которые eq работодатели обычно eq сокращают в eq первую очередь eq в период eq экономического спада. eq с более eq низкой оплатой eq и меньшей eq социальной защитой. eq По оценкам, 80 eq процентов людей, eq перемещенных в eq результате изменения eq климата, составляют eq женщины (UNDP, 2016).\n",
      "eq Не может eq быть универсальной eq формулы для eq продвижения гендерного eq равенства. \n",
      "По eq этим причинам eq гендерное равенство eq является ключевым eq вопросом развития — eq самостоятельной целью eq развития. Укрепляет eq возможности стран eq расти, сокращать eq бедность и eq эффективно управлять. eq Таким образом, eq содействие гендерному eq равенству является eq важной частью eq стратегии развития, eq которая направлена eq на то, eq чтобы дать eq всем людям — eq как женщинам, eq так и eq мужчинам — возможность eq вырваться из eq бедности и eq улучшить свой eq уровень жизни.\n",
      "eq Экономическое развитие eq открывает множество eq возможностей для eq повышения гендерного eq равенства в eq долгосрочной перспективе. eq Значительный объем eq данных по eq всему миру eq поддерживает это eq утверждение. Но eq рост сам eq по себе eq не даст eq желаемых результатов. eq Также необходимы eq институциональная среда, eq обеспечивающая равные eq права и eq возможности для eq женщин и eq мужчин, и eq политические меры, eq направленные на eq устранение сохраняющегося eq неравенства. В eq этом отчете eq содержится аргумент eq в пользу eq трехчастного стратегия eq продвижения гендерного eq равенства:\n",
      "• Содействовать eq экономическому развитию, eq чтобы усилить eq стимулы для eq более равных eq ресурсов и eq участия. Рост eq доходов и eq снижение уровня eq бедности, как eq правило, сокращают eq гендерное неравенство eq в образовании, eq здравоохранении и eq питании. Выше\n",
      "eq производительность и eq новые возможности eq трудоустройства часто eq сокращают гендерное eq неравенство в eq сфере занятости. eq А инвестиции eq в базовую eq водную, энергетическую eq и транспортную eq инфраструктуру помогают eq уменьшить гендерное eq неравенство в eq рабочей нагрузке.\n",
      "• eq Принимать активные eq меры для eq устранения сохраняющегося eq неравенства в eq распоряжении ресурсами eq и политическим eq голосом. Поскольку eq институциональных реформ eq и экономического eq развития может eq быть недостаточно — eq или в eq ближайшее время — eq необходимы активные eq меры для eq устранения сохраняющихся eq гендерных диспропорций eq в краткосрочной eq и среднесрочной eq перспективе.\n",
      "В eq первую очередь eq издержек гендерного eq неравенства являются eq его последствия eq для человеческих eq жизней и eq качества этих eq жизней. Определить eq и измерить eq полную величину eq этих издержек eq сложно, но eq множество данных eq из стран eq по всему eq миру показывает, eq что общества eq с большим, eq устойчивым гендерным eq неравенством расплачиваются eq за это eq большей бедностью, eq недоеданием, болезнями eq и другими eq проблемами.\n",
      "• Как eq и в eq случае с eq обучением матерей, eq более высокий eq доход домохозяйства eq связан с eq более высокими eq показателями выживаемости eq детей и eq лучшим питанием. eq Как показывают eq исследования Бангладеш, eq Бразилии и eq Кот-д’Ивуара, eq передача дополнительных eq доходов в eq руки женщин eq в домашнем eq хозяйстве, как eq правило, оказывает eq большее положительное eq влияние, чем eq передача этого eq дохода в eq руки мужчин. eq К сожалению, eq жесткие социальные eq нормы о eq соответствующем гендерном eq разделении труда eq и ограниченная eq оплачиваемая занятость eq для женщин eq ограничивают возможности eq женщин получать eq доход.\n",
      "• В eq то время eq как женщины eq и девочки, eq особенно малоимущие, eq часто несут eq основную тяжесть eq гендерного неравенства, eq гендерные нормы eq и стереотипы eq влекут за eq собой издержки eq на самцах eq тоже. В eq странах с eq переходной экономикой eq Восточной Европы eq в последние eq годы наблюдается eq абсолютное снижение eq средней продолжительности eq жизни мужчин. eq Повышение показателей eq мужской смертности — eq самое большое, eq зарегистрированное в eq мирное время, — eq связано с eq растущим стрессом eq и тревогой eq из-за eq быстрого роста eq безработицы среди eq мужчин.\n",
      "Производительность eq и экономический eq рост\n",
      "Потери eq человеческих жизней — eq это потери eq для развития, eq поскольку конечной eq целью развития eq является повышение eq качества жизни eq людей. Но eq гендерное неравенство eq также влияет eq на производительность, eq эффективность и eq экономический прогресс. eq Но гендерное eq неравенство также eq влияет на eq производительность, эффективность eq и экономический eq прогресс. Препятствуя eq накоплению человеческого eq капитала в eq семье   и eq рынок труда, eq а также eq систематически исключая eq женщин или eq мужчин из eq доступа к eq ресурсам, общественным eq услугам или eq производственной деятельности, eq дискриминация по eq признаку пола eq снижает способность eq экономики расти eq и повышать eq стандарты жизни.\n",
      "eq По оценкам eq другого исследования, eq даже для eq стран со eq средним и eq высоким уровнем eq дохода и eq более высоким eq уровнем начального eq образования увеличение eq на 1 процентный eq пункт доли eq женщин со eq средним образованием eq связано с eq увеличением дохода eq на душу eq населения на 0,3 eq процентного пункта. eq Оба исследования eq контролируют другие eq переменные, часто eq встречающиеся в eq литературе по eq вопросам роста.\n",
      "eq Управление\n",
      "Более eq широкие права eq женщин и eq более равноправное eq участие женщин eq и мужчин eq в общественной eq жизни связаны eq с более eq чистым бизнесом eq и правительством, eq а также eq с лучшим eq управлением. Там, eq где влияние eq женщин в eq общественной жизни eq выше, уровень eq коррупции ниже. eq Это справедливо eq даже при eq сравнении стран eq с одинаковым eq доходом, гражданскими eq свободами, образованием eq и правовыми eq институтами. Хотя eq эти результаты eq все еще eq только наводят eq на размышления, eq они дополнительно eq подтверждают необходимость eq увеличения числа eq женщин на eq рынке труда eq и в eq политике, поскольку eq женщины могут eq быть эффективной eq силой для eq верховенства закона eq и хорошего eq правительства.\n",
      "Женщины eq в бизнесе eq менее склонны eq давать взятки eq чиновникам, возможно, eq потому что eq у женщин eq более высокие eq стандарты этического eq поведения или eq большее неприятие eq риска. Этот eq результат сохраняется eq независимо от eq характеристик фирмы, eq таких как eq сектор, в eq котором она eq работает, и eq размера фирмы, eq а также eq характеристик владельца eq или менеджера, eq таких как eq образование. Не eq контролируя эти eq факторы, фирмы, eq которыми руководят eq мужчины, в eq два раза eq чаще платят eq взятки.\n",
      "\f",
      "2. Международная eq политика в eq области гендерного eq равенства\n",
      "2.1 Истоки eq формирования и eq основы политики eq в области eq гендерного равенства\n",
      "eq Имиджевая политика eq в области eq гендерного равенства eq в странах eq заключается в eq создании позитивного eq образа женщин eq и мужчин, eq которые равноправны, eq имеют одинаковые eq возможности и eq взаимодействуют на eq равных правах. eq Эта политика eq направлена на eq изменение существующих eq стереотипов и eq устоявшихся представлений eq о том, eq какими должны eq быть мужчины eq и женщины.\n",
      "eq Одним из eq примеров имиджевой eq политики в eq области гендерного eq равенства является eq проведение кампаний, eq которые способствуют eq увеличению количества eq женщин в eq высших руководящих eq должностях и eq научной сфере. eq Такие кампании eq показывают, что eq женщины могут eq быть успешными eq руководителями и eq учеными, и eq что имеют eq право на eq равные возможности eq и достижения.\n",
      "eq Также имиджевая eq политика включает eq в себя eq создание позитивных eq образов женщин eq и мужчин eq в средствах eq массовой информации. eq Например, фильмы eq и телешоу, eq которые демонстрируют eq женщин, занимающих eq высокие должности, eq успешно балансирующих eq работу и eq семейную жизнь, eq мужчин, которые eq активно участвуют eq в воспитании eq детей и eq домашних делах, eq помогают изменить eq стереотипы и eq привлекают внимание eq к вопросам eq гендерного равенства.\n",
      "eq Комиссия по eq положению женщин (eq CSW) является eq основным глобальным eq межправительственным органом, eq занимающимся исключительно eq продвижением гендерного eq равенства и eq расширением прав eq и возможностей eq женщин. Функциональная eq комиссия \n",
      "Экономического eq и Социального eq Совета (ЭКОСОС), eq она была eq создана резолюцией eq ЭКОСОС 11 (II) eq от 21 июня 1946 eq года.\n",
      "В 1996 eq году ЭКОСОС eq в резолюции 1996/6 eq расширил мандат eq Комиссии и eq постановил, что eq она должна eq взять на eq себя ведущую eq роль в eq мониторинге и eq анализе прогресса eq и проблем eq в осуществлении eq Пекинской декларации eq и Платформы eq действий, а eq также в eq учете гендерный eq аспект в eq деятельности ООН.\n",
      "eq Структура «ООН-eq женщины» поддерживает eq все аспекты eq работы Комиссии. eq Мы также eq способствуем участию eq представителей гражданского eq общества.\n",
      "С eq одной стороны, eq бедность влияет eq на усугубление eq гендерного неравенства. eq Неравенство между eq девочками и eq мальчиками в eq доступе к eq школьному образованию eq или надлежащему eq медицинскому обслуживанию eq более остро eq проявляются среди eq бедных, чем eq среди людей eq с более eq высокими доходами. eq Эта разница eq ставимт девочек eq и женщин eq в невыгодное eq положение и eq ограничивает их eq возможности для eq развития.\n",
      "На eq другом уровне eq гендерное неравенство eq препятствует развитию. eq В то eq время как eq неравенство в eq основных правах; eq в обучении, eq кредите и eq работе; или eq в способности eq участие в eq общественной жизни eq самым непосредственным eq образом сказывается eq на женщинах eq и девочках, eq полная стоимость eq гендерного неравенства eq в итоге eq вредит всем. eq Доказательство собранные eq в данном eq отчете, показывают eq это однозначно. eq Центральный посыл eq ясен: игнорирование eq гендерного неравенства eq дорого обходится — eq благополучию людей eq и способности eq стран устойчиво eq расти, управлять eq эффективно и, eq таким образом, eq сократить бедность.\n",
      "eq Политика гендерного eq равенства дает eq специалистам по eq развитию и eq членам гражданского eq общество много eq ценных уроков eq и инструментов eq для интеграции eq и развитию. eq Большое количество eq данных и eq анализов, представленных eq в различных eq отчетах, может eq помочь в eq разработке эффективных eq стратегий поощряя eq равенства между eq мужчинами и eq женщинами в eq процессе развития.\n",
      "eq Всемирные конференции eq по положению eq женщин\n",
      "Мехико: eq глобальный Диалог eq открыт\n",
      "Первая eq всемирная конференция eq по положению eq женщин была eq созвана в eq Мехико, чтобы eq совпасть с eq Международным годом eq женщин 1975 года, eq чтобы напомнить eq международному сообществу, eq что дискриминация eq в отношении eq женщин по-eq прежнему остается eq постоянной проблемой eq в большинстве eq стран мира. eq Конференция, наряду eq с Десятилетием eq женщины Организации eq Объединенных Наций (1976–1985 eq годы), провозглашенным eq Генеральной Ассамблеей eq пятью месяцами eq позже по eq настоянию Конференции, eq положила начало eq новой эре eq глобальных усилий eq по содействию eq улучшению положения eq женщин, начав eq всемирный диалог eq по гендерное eq равенство. Был eq запущен процесс eq обучения, который eq включал бы eq обсуждение, переговоры, eq постановку целей, eq выявление препятствий eq и обзор eq достигнутого прогресса.\n",
      "eq Конференция в eq Мехико была eq созвана Генеральной eq Ассамблеей Организации eq Объединенных Наций eq для того, eq чтобы привлечь eq международное внимание eq к необходимости eq разработки ориентированных eq на будущее eq целей, эффективных eq стратегий и eq планов действий eq по улучшению eq положения женщин. \n",
      "eq С этой eq целью Генеральная eq Ассамблея определила eq три ключевые eq задачи, которые eq станут основой eq для работы eq Организации Объединенных eq Наций в eq интересах женщин:\n",
      "eq совершенное гендерное eq равенство и eq отстранение гендерной eq дискриминации; \n",
      "интеграция eq и полное eq участие женщин eq в развитии; \n",
      "eq увеличение вклада eq женщин в eq укрепление мира eq во всем eq мире.\n",
      "  На eq этой конференции eq принято Всемирный eq план действий- eq документ, предлагающий eq правительствам и eq международному сообществу eq принципы работы, eq которым они eq должны следовать eq в последующие eq десять лет eq достижения целей, eq Генеральной Ассамблеей. eq План действий eq предполагает цели, eq которые должны eq были быть eq достигнуты к 1980 eq году и eq которые сосредоточены eq на обеспечении eq равного доступа eq женщин к eq таким ресурсам, eq как образование, eq возможности трудоустройства, eq участие в eq политической жизни.\n",
      "eq Если в eq свое время eq женщины рассматривались eq как бездеятельные eq получатели поддержки eq и помощи, eq то теперь eq они рассматриваются eq как полноценные eq и равноправные eq партнеры мужчин eq с равными eq правами на eq ресурсы и eq возможности. Аналогичная eq трансформация происходила eq и в eq подходе к eq развитию: от eq прежней веры eq в то, eq что развитие eq способствует улучшению eq положения женщин, eq к новому eq консенсусу в eq отношении того, eq что развитие eq невозможно без eq всестороннего участия eq женщин.\n",
      "\n",
      "  Конференция eq призвала правительства eq разработать национальные eq стратегии и eq определить цели eq и приоритеты eq в своих eq усилиях по eq содействию равному eq участию женщин. eq К концу eq десятилетия ООН eq и 127 государств-eq членов создали eq национальный механизм, eq занимающихся продвижением eq политики, исследований eq и программ, eq направленных на eq улучшение положения eq женщин и eq их участие eq в развитии.\n",
      "  eq Важным аспектом eq встречи в eq Мехико было eq то, что eq сами женщины eq сыграли важную eq роль в eq формировании дискуссии. eq Из 133 делегаций eq государств-членов, eq собравшихся там, 113 eq возглавляли женщины. eq Женщины также eq организовали параллельный eq Форум НПО «eq Трибьюн Международного eq года женщин», eq в котором eq приняли участие eq около 4000 человек.\n",
      "  eq Форум исполнил eq важную роль eq в объединении eq женщин и eq мужчин из eq разных культур eq и слоев eq общества для eq обмена информацией eq и мнениями, eq а также eq для запуска eq процесса, который eq поможет объединить eq женское движение, eq которое к eq концу Десятилетия eq женщин станет eq действительно интернациональный. eq Форум также eq сыграл важную eq роль в eq открытии Организации eq Объединенных Наций eq для НПО, eq которые обеспечили eq доступ женщин eq к участию eq в процессе eq разработки политики eq Организации.\n",
      "\n",
      "Копенгаген: eq Процесс начинается\n",
      "eq Был достигнут eq значительный прогресс, eq когда 145 государств eq собрались в 1980 eq году в eq Копенгагене на eq вторую всемирную eq конференцию по eq положению женщин eq для обзора eq и оценки eq Всемирного плана eq действий 1975 года.\n",
      " eq Важной вехой eq стало принятие eq Генеральной Ассамблеей eq в декабре 1979 eq года Конвенции eq о ликвидации eq всех форм eq дискриминации в eq отношении женщин, eq одного из eq самых действенных eq инструментов обеспечения eq равенства женщин. eq Конвенция, получившая eq название «билля eq о правах eq женщин», в eq настоящее время eq юридически связывает 165 eq государств, которые eq стали государствами-eq участниками, и eq обязывает их eq в течение eq одного года eq после ратификации, eq а затем eq каждые четыре eq года отчитываться eq о предпринятых eq ими шагах. eq для устранения eq препятствий, с eq которыми они eq сталкиваются при eq осуществлении Конвенции. eq Факультативный протокол eq к Конвенции, eq позволяющий женщинам, eq ставшим жертвами eq дискриминации по eq признаку пола, eq подавать жалобы eq в международный eq договорный орган, eq был открыт eq для подписания eq в День eq прав человека, 10 eq декабря 1999 года. eq После его eq вступления в eq силу он eq поставит Конвенцию eq в равное eq положение. с eq другими международными eq документами по eq правам человека, eq предусматривающими процедуры eq рассмотрения индивидуальных eq жалоб.\n",
      "  Несмотря eq на достигнутый eq прогресс, Копенгагенская eq конференция признала, eq что начинают eq проявляться признаки eq несоответствия между eq гарантированными правами eq и возможностями eq женщин осуществлять eq эти права. eq Для решения eq этой проблемы eq Конференция определила eq три области, eq в которых eq необходимы конкретные, eq целенаправленные действия eq для достижения eq широких целей eq равенства, развития eq и мира, eq определенных на eq конференции в eq Мехико. Этими eq тремя областями eq были равный eq доступ к eq образованию, возможностям eq трудоустройства и eq надлежащему медицинскому eq обслуживанию.\n",
      "  Обсуждения eq на Копенгагенской eq конференции проходили eq в тени eq политической напряженности, eq некоторые из eq которых были eq перенесены с eq конференции в eq Мехико. Тем eq не менее eq Конференция завершилась eq принятием, хотя eq и не eq на основе eq консенсуса, Программы eq действий, в eq которой указывалось eq множество факторов eq несоответствия между eq законными правами eq и способностью eq женщин осуществлять eq эти права, eq в том eq числе:\n",
      "недостаточное eq вовлечение мужчин eq в повышение eq роли женщин eq в обществе; eq недостаточная политическая eq воля; непризнание eq ценности вклада eq женщин в eq жизнь общества; eq отсутствие внимания eq к особым eq потребностям женщин eq при планировании; eq нехватка женщин eq на руководящих eq должностях; недостаточное eq количество услуг eq для поддержки eq роли женщин eq в жизни eq страны, таких eq как кооперативы, eq детские сады eq и кредитные eq учреждения; общее eq отсутствие необходимых eq финансовых ресурсов; eq неосведомленность женщин eq об имеющихся eq у них eq возможностях.\n",
      "  Для eq решения этих eq проблем Копенгагенская eq программа действий eq призвала, среди eq прочего, к eq принятию более eq строгих национальных eq мер по eq обеспечению права eq собственности женщин eq и распоряжения eq ими, а eq также к eq улучшению прав eq женщин на eq наследование, опеку eq над детьми eq и утрату eq гражданства. Делегаты eq конференции также eq призвали положить eq конец стереотипному eq отношению к eq женщинам.\n",
      "Найроби: «eq Рождение глобального eq феминизма»\n",
      "Движение eq за гендерное eq равенство получило eq подлинное всемирное eq признание после eq проведения в 1985 eq году в eq Найроби третьей eq всемирной конференции eq по положению eq женщин — Всемирной eq конференции по eq обзору и eq оценке достижений eq Десятилетия женщин eq Организации Объединенных eq Наций: равенство, eq развитие и eq мир. представители eq неправительственных организаций, eq присутствовавшие на eq параллельном Форуме eq НПО, многие eq назвали Конференцию «eq рождением глобального eq феминизма». Женское eq движение, разделенное eq мировыми политическими eq и экономическими eq реалиями на eq конференции в eq Мексике, теперь eq стало международной eq силой, объединенной eq под лозунгом eq равенства, развития eq и мира. eq За этой eq вехой стояло eq десятилетие работы. eq В процессе eq обсуждения, переговоров eq и пересмотра eq было собрано eq много информации, eq знаний и eq опыта.\n",
      "  Найробийские eq перспективные стратегии eq до 2000 года, eq стратегия, разработанная eq и принятая eq на основе eq консенсуса 157 участвующими eq правительствами, представляет eq собой обновленный eq план будущего eq женщин до eq конца века. eq Это открыло eq новые возможности, eq поскольку объявило eq все проблемы eq женскими проблемами. eq Участие женщин eq в принятии eq решений и eq управлении всеми eq человеческими делами eq было признано eq не только eq их законным eq правом, но eq и социальной eq и политической eq необходимостью, которая eq должна быть eq включена во eq все институты eq общества.\n",
      "  В eq соответствии с eq мнением о eq том, что eq все вопросы eq касаются женщин, eq меры, рекомендованные eq Найробийскими перспективными eq стратегиями, охватывают eq широкий круг eq вопросов, от eq занятости, здравоохранения, eq образования и eq социальных услуг eq до промышленности, eq науки, связи eq и окружающей eq среды. Кроме eq того, были eq предложены руководящие eq принципы национальных eq мер по eq поощрению участия eq женщин в eq усилиях по eq укреплению мира, eq а также eq по оказанию eq помощи женщинам, eq оказавшимся в eq особо бедственном eq положении.\n",
      "  Конференция eq в Найроби eq представила более eq широкий подход eq к улучшению eq положения женщин. eq В настоящее eq время признано, eq что равенство eq женщин не eq является изолированным eq вопросом и eq охватывает все eq сферы человеческой eq деятельности. Таким eq образом, точка eq зрения женщин eq и их eq активное участие eq во всех eq вопросах, а eq не только eq женских проблемах, eq имеют важное eq значение для eq достижения целей eq и задач eq Десятилетия женщин.\n",
      "\n",
      "eq Пекин: наследие eq успеха\n",
      "Хотя eq усилия предыдущих eq двух десятилетий, eq начиная с eq конференции в eq Мехико в 1975 eq году, помогли eq улучшить положение eq женщин и eq доступ к eq ресурсам, они eq не смогли eq изменить основную eq структуру неравенства eq в отношениях eq между мужчинами eq и женщинами. eq Решения, влияющие eq на жизнь eq всех людей, eq по-прежнему eq принимались в eq основном мужчинами. eq Необходимо искать eq пути расширения eq прав и eq возможностей женщин, eq с тем eq чтобы они eq могли привносить eq свои собственные eq приоритеты и eq ценности в eq качестве равных eq партнеров с eq мужчинами в eq процессы принятия eq решений на eq всех уровнях.\n",
      "  eq Признание необходимости eq вовлечения женщин eq в процесс eq принятия решений eq начало проявляться eq в ходе eq серии глобальных eq конференций, проведенных eq Организацией Объединенных eq Наций в eq начале 1990-х eq годов по eq различным аспектам eq развития — окружающей eq среде, правам eq человека, народонаселению eq и социальной eq сфере. разработка. eq На всех eq конференциях подчеркивалась eq важность всестороннего eq участия женщин eq в процессе eq принятия решений, eq и мнения eq женщин учитывались eq в обсуждениях eq и в eq принимаемых документах.\n",
      "   eq Однако можно eq сказать, что eq именно со eq следующей из eq серии конференций, eq Четвертой Всемирной eq конференции по eq положению женщин, eq состоявшейся в eq Пекине в 1995 eq году, началась eq новая глава eq в борьбе eq за гендерное eq равенство.\n",
      "  Это eq изменение явилось eq убедительным подтверждением eq того, что eq права женщин eq являются правами eq человека и eq что гендерное eq равенство является eq вопросом всеобщего eq беспокойства, от eq которого выигрывают eq все.\n",
      "Наследие eq Пекинской конференции eq должно было eq состоять в eq том, что eq она вызвала eq новую глобальную eq приверженность расширению eq прав и eq возможностей женщин eq во всем eq мире и eq привлекла беспрецендентное eq международное внимание. eq Конференция приняла eq Пекинскую декларацию, eq которое представляет eq собой программу eq по расширению eq прав и eq возможностей женщин eq и являются eq вехой на eq пути улучшения eq положения женщин eq в двадцать eq первом веке. eq Женщины и eq бедность; образование eq и обучение eq женщин; женщины eq и здоровье; eq насилие против eq женщин; Женщины eq и вооруженный eq конфликт; женщины eq и экономика; eq женщины во eq власти и eq в принятии eq решений; институциональные eq механизмы улучшения eq положения женщин; eq права человека eq женщин; женщины eq и СМИ; eq женщины и eq окружающая среда. eq Эти действия eq являлись приоритетными eq во время eq конференции.\n",
      "  Утвердив eq Пекинскую платформу eq действий, правительства eq взяла обязательства eq эффективно учитывать eq гендерные аспекты eq во всех eq своих учреждениях, eq политике, планировании eq и принятии eq решений. На eq самом деле eq это означало, eq что прежде, eq чем принимать eq решения или eq осуществлять планы, eq всегда следует eq проводить анализ eq воздействия и eq потребностей как eq женщин, так eq и мужчин. eq Например, вместо eq того, чтобы eq стремиться постепенно eq сделать существующую eq систему образования eq более доступной eq для женщин, eq учет гендерной eq проблематики потребует eq реконструкции системы, eq с тем eq чтобы она eq в равной eq степени удовлетворяла eq потребности женщин eq и мужчин.\n",
      "  eq Пекинская конференция eq была признана eq очень успешной eq как с eq точки зрения eq ее масштабов, eq так и eq результатов. Это eq было крупнейшее eq из когда-eq либо проводившихся eq собраний представителей правительств eq и неправительственных организаций, eq на котором eq присутствовало 17 000 человек, eq в том eq числе представители 189 eq правительств. Форум eq НПО, проходивший eq параллельно с eq Конференцией, также eq побил все eq рекорды, в eq результате чего eq общее число eq участников превысило 47 000 eq человек.\n",
      "Таким eq образом, имиджевая eq политика в eq области гендерного eq равенства важна eq для создания eq позитивного образа eq женщин и eq мужчин, которые eq могут успешно eq реализовываться в eq различных областях eq жизни на eq равных правах eq и возможностях.\n",
      "eq Спустя более 25 eq лет после eq исторической Всемирной eq конференции по eq Женщины в eq Пекине и eq Международная конференция eq по народонаселению eq и развития eq в Каире, eq мир еще eq далеко от eq достижения гендерного eq равенства, чем eq оно должно eq быть. \n",
      "В eq глобальном масштабе eq женщины выполняют eq в тридцать eq раз больше eq неоплачиваемой работы eq по уходу eq и домашней eq работе, чем eq мужчины. Они eq также составляют 70 eq процентов мировой eq рабочей силы eq по оплачиваемому eq уходу, но eq занимают лишь 25 eq процентов руководящих eq должностей в eq этой системе. \n",
      "eq Глобальные вызовы\n",
      "eq Повышение цен eq на продукты eq питания и eq топливо, глобальный eq финансовый кризис eq и последствия eq изменения климата eq несоразмерно повлияли eq на бедных eq женщин и eq девочек. Женщины eq не могут eq легко адаптировать eq свою базу eq средств к eq существованию, чтобы eq реагировать на eq экологические и eq финансовые трудности. eq Девочки особенно eq пострадали, и eq во время eq финансового кризиса eq они могут eq быть первыми, eq кого заберут eq из школы. eq Программы социальной eq защиты не eq всегда учитывали eq неравенство внутри eq домохозяйств и eq гендерную дискриминацию eq на рынке eq труда. Неоплачиваемый eq труд женщин eq по дому eq по-прежнему eq остается непризнанным eq и недооцененным.\n",
      "eq Насилие по eq признаку пола eq Серьезность проблемы eq насилия по eq признаку пола (eq ГН) получает eq все большее eq признание, и eq доноры разрабатывают eq стратегические многоотраслевые eq подходы к eq решению этой eq проблемы. Внимание eq к вопросам eq глобальной безопасности, eq в частности eq к распространенности eq сексуального насилия eq в условиях eq конфликта, также eq возрастает, в eq том числе eq за счет eq повышенных призывов eq к реализации eq повестки дня eq женщин, мира eq и безопасности eq в резолюциях 1325, 1820, 1888 eq и 1889 Совета eq Безопасности ООН. eq считается фактором, eq влияющим на eq прогресс в eq достижении ЦРТ6. eq Также растет eq признание ГН eq в качестве eq ключевого фактора eq пандемии ВИЧ. eq Гендер и eq эффективность помощи.\n",
      "eq Недавние реформы eq оказания помощи, eq в первую eq очередь Парижская eq декларация и eq Аккрская программа eq действий (АПД), eq предоставили новые eq возможности и eq механизмы для eq воплощения обязательств eq доноров и eq правительства в eq отношении гендерного eq равенства в eq улучшенную практику, eq результаты и eq воздействие. Оба eq обеспечивают основу eq для укрепления eq гендерного равенства eq в качестве eq приоритетного вопроса eq развития.\n",
      "Также eq будет важно eq взаимодействовать с «eq новыми» донорами, eq не входящими eq в КСР, eq такими как eq страны БРИКС (eq Бразилия, Россия, eq Индия и eq Китай), в eq отношении их eq обязательств и eq потенциальной роли eq в поддержке eq гендерного равенства.\n",
      "eq Роль гражданского eq общества в eq продвижении гендерного eq равенства Гражданское eq общество является eq важнейшей ареной eq для гендерного eq равенства и eq играет центральную eq роль в eq продвижении уважения eq к правам eq человека и eq управлению, включая eq влияние на eq политику правительства eq в пользу eq бедных и eq маргинализированных мужчин eq и женщин.\n",
      "eq Недавнее исследование, eq проведенное AWID8, eq оценило текущие eq тенденции в eq финансировании женских eq организаций и eq отметило, что, eq хотя влияние eq недавнего финансово-eq экономического кризиса eq проявляется в eq снижении уровня eq ОПР среди eq доноров, прямое eq сокращение ОПР eq для обеспечения eq гендерного равенства eq не все eq же очевидно. eq Во многих eq постконфликтных трастовых eq фондах с eq участием многих eq доноров отсутствуют eq эффективные механизмы eq для маркировки eq и отслеживания eq ресурсов, выделяемых eq на поддержку eq гендерного равенства, eq несмотря на eq растущее внимание eq в рамках eq программы «Женщины, eq мир и eq безопасность».\n",
      "Гендерное eq равенство и eq ЦРТ В eq рамках подготовки eq к Саммиту eq высокого уровня eq для обзора eq прогресса в eq достижении ЦРТ, eq который состоится eq в сентябре 2010 eq г., растет eq признание центральной eq роли решения eq проблемы гендерного eq неравенства для eq достижения прогресса eq во всех eq ЦРТ. В eq докладе Генерального eq секретаря ООН «eq Выполнение обещаний» – eq перспективный обзор eq по продвижению eq согласованной программы eq действий по eq достижению ЦРТ eq к 2015 году eq подчеркивается важность eq рассмотрения ЦРТ eq через «гендерную eq призму». Переговоры eq Структуры «ООН-eq женщины» в eq ходе 64-й eq сессии Генеральной eq Ассамблеи Организации eq Объединенных Наций (2009–2010 eq гг.) привели eq к принятию eq в июле 2010 eq г. универсального eq характера гендерного eq равенства и eq расширения прав eq и возможностей eq женщин, новая eq структура объединит eq четыре существующих eq гендерных подразделения, eq Фонд ООН eq для развития eq в интересах eq женщин, Отдел eq по улучшению eq положения женщин, eq Канцелярию Специального eq советника Генерального eq секретаря по eq гендерным вопросам.\n",
      "2.2 eq Имиджевые аспекты eq политики в eq области гендерного eq равенства\n",
      "Gender eq Equality Policy\n",
      "eq Политика гендерного eq равенства Управления eq Верховного комиссара eq по правам eq человека (УВКПЧ) eq содержит внутреннее eq руководство относительно eq того, как eq Управление стремится eq интегрировать гендерную eq перспективу и eq права человека eq женщин в eq разработку политики, eq разработку программ eq и осуществление eq деятельности, включая eq проекты.\n",
      "мониторинг eq и оценка. eq С этой eq целью политика eq основывается на eq подходе, основанном eq на правах eq человека, и eq политике гендерной eq интеграции ООН. eq В УВКПЧ eq необходимость интеграции eq гендерных аспектов eq в общий eq правозащитный подход eq Управления была eq официально признана eq в 2000 г.\n",
      "eq Стратегия 2002 года, eq направленная на eq содействие прогрессу eq в интеграции eq гендерных аспектов eq в деятельность eq УВКПЧ.\n",
      "Оба eq документа были eq разработаны до eq формулирования глобальных eq стратегий, изложенных eq в плане eq управления УВКПЧ eq для выполнения eq своего мандата, eq что ограничивало eq их применение.\n",
      "eq С 2005 года eq права женщин eq и гендерная eq интеграция все eq чаще признаются eq и принимаются eq в УВКПЧ eq в качестве eq основного принципа, eq который должен eq последовательно и eq систематически информировать eq все области eq работы управления eq в области eq прав человека. eq Возможность воплотить eq этот основной eq принцип в eq оперативную деятельность eq была создана eq в 2007 году eq путем создания eq специального подразделения eq по правам eq человека женщин eq и гендерным eq вопросам.\n",
      "Гендерная eq интеграция была eq утверждена как eq глобальная стратегия eq Организации Объединенных eq Наций по eq продвижению гендерного eq равенства, которая eq относится к eq равным правам, eq обязанности и eq возможности женщин eq и мужчин, eq девочек и eq мальчиков (подробнее eq о гендерном eq равенстве см. eq в Глоссарии, eq приложение I). eq Венская декларация eq и Программа eq действий подтвердили, eq что права eq женщин являются eq правами человека eq в рамках eq международного права eq прав человека.\n",
      "eq Все люди eq повсюду, женщины eq и мужчины, eq наделены всеми eq правами человека eq в силу eq их неизменного eq характера. Однако eq люди во eq многих странах eq остаются жертвами eq неравного доступа eq и обращения eq во всех eq сферах жизни.\n",
      "eq Женщины составляют eq одну группу, eq само право eq на права eq человека, которой eq часто подвергается eq сомнению. Например, eq в некоторых eq государствах женщину, eq ставшую жертвой eq изнасилования, могут eq обвинить в eq прелюбодеянии, а eq виновного не eq предают суду. eq Другим примером eq является применение eq права собственности, eq в котором eq в некоторых eq случаях женщинам eq отказано.\n",
      "Global eq Gender Gap\n",
      "eq С 2006 года eq в Отчете eq о глобальном eq гендерном разрыве eq измеряется разрыв eq между мужчинами eq и женщинами eq на основе eq четырех ключевых eq показателей: участие eq в экономической eq жизни и eq возможности, здоровье eq и выживание, eq уровень образования eq и политические eq права. Издание 2022 eq года охватывает 146 eq стран, включая eq Коморские острова eq впервые. Однако eq Багамские острова, eq Куба, Хорватия, eq Ирак, Мавритания, eq Папуа-Новая eq Гвинея, Российская eq Федерация, Сирия, eq Тринидад и eq Тобаго, Венесуэла eq и Йемен eq не покрываются.\n",
      "\n",
      "eq Предполагается, что eq глобальный гендерный eq разрыв сократился eq на 68,1% в 2022 eq году. При eq нынешних темпах eq прогресса для eq достижения полного eq паритета потребуется 132 eq года. Эти eq данные представляют eq собой небольшое eq улучшение за eq четыре года eq по сравнению eq с оценкой 2021 eq года в 136 eq лет до eq паритета. В eq отчете также eq отмечается, что, eq хотя ни eq одна страна eq еще не eq достигла полного eq гендерного паритета, 10 eq крупнейших экономик eq закрыли 80% своего eq гендерного разрыва.\n",
      "eq В 2022 году eq на фоне eq многослойных и eq компаундирующих кризисов, eq в том eq числе рост eq стоимости жизни, eq продолжающаяся пандемия, eq чрезвычайная климатическая eq ситуация, крупномасштабные eq конфликты и eq перемещение, прогресс eq в достижении eq гендерного паритета eq застопорился. По eq мере того, eq как лидеры eq борются с eq растущим рядом eq экономических и eq политических потрясений, eq возрастает риск eq разворота. Мало eq того, что eq в настоящее eq время миллионы eq женщин и eq девочек теряют eq доступ и eq возможности, эта eq остановка в eq движении к eq паритету является eq катастрофой для eq будущего наших eq экономик, обществ eq и сообществ.\n",
      "  \\* MERGEFORMAT  наоборот, eq увеличение представленности eq женщин на eq руководящих должностях eq в ряде eq отраслей, участие eq в высшем eq образовании в eq целом и eq восстановление на eq профессиональных и eq технических должностях eq обнадеживают и eq могут стать eq основой для eq будущих усилий. eq Рис.3\n",
      "Исследование eq GIWPS на eq примере Узбекистана. eq Рис.3,4\n",
      "рис.4\n",
      "\n",
      "eq рис.5 Нормы eq справедливости\n",
      "рис.6 eq Безопасность\n",
      "\n",
      "2.3 Специфика eq гендерной политики eq Республики Узбекистан\n",
      "eq В настоящее время eq одна из важнейших eq направлений госполитической политики eq в новом Узбекистане eq достижение равенства гендера, eq в которую входят eq обеспечение прав, свобод eq и законных интересов eq женщин, укрепление eq их ролей в eq общественных и государственных eq жизнях. Сегодня eq в Узбекистане наблюдаются eq тенденции в eq этом направлении. eq К ним eq входят глобальные eq меры по eq расширению представительства eq женщин в высших eq органах власти, eq устранению гендерной дискриминации, eq увеличению женщин в eq парламентах, правительствах, eq судебной системы. В eq Узбекистане сегодня eq женщина является eq ключевым фактором eq в создании eq нового общественного eq общества, развитии eq всего общественного eq пространства, способствуя eq формированию в eq разных сферах eq гендерного подхода. eq В настоящее eq время гендерное eq равноправие – это eq не только eq мораль, но eq важный фактор eq эффективной экономической eq и социальной eq динамики. Таким eq образом, на eq уровне госполитики eq поднимался уровень eq обеспечения более eq выгодных условий eq полного осуществления eq собственных стремлений eq и возможностей женщин. eq Словарный смысл eq понятия «гендер» — eq латинский «генус», eq т. е. «eq пол». Если eq биологические полы eq разделяют человека eq на женщину eq и мужчины, гендеры eq направлены на eq разделение мест eq женщины и eq мужчины в eq обществе. Чтобы eq женщина и eq мужчина могли eq находить и eq определять свое eq место в eq обществе, государство eq дает им eq одинаковые возможности eq и условия, eq которые являются eq основой для eq обеспечения равенства eq гендера. В eq рамках стратегии eq по гендерному eq равенству понятие eq равноправия означает eq равноправие прав eq и возможностей eq женщины и eq мужчины во всех eq областях жизни eq и жизни eq общества, в eq том числе eq в политике, eq экономике, правом, eq культуре, образовании, eq науке, спорте. eq Известно, что eq Закон Республики eq Башкортостан «О eq гарантиях равноправия eq и возможности eq женщины и eq мужчины», принятый 02.04.2019 eq г., утвержден eq как правовая eq защита и eq правовая гарантия, eq направленная на eq положение женщины eq в обществе.\n",
      "eq За тысячелетия eq неравенство мужчин eq и женщин eq в обществе eq всегда было eq актуальным и eq вопросом их eq решения. Кроме eq того, как eq указывается в eq первой части eq закона, цель eq закона регулировать отношения eq в области равных eq прав, возможностей eq женщины и мужчины. eq Реформы в Узбекистане eq направлены на eq обеспечение верховенства eq интересов людей, eq все еще eq существуют семейные eq споры, случаи, eq когда мужчины eq не признают eq права женщин, и eq в ряде eq случаев права eq и возможности eq женщин не eq придают должного eq смысла обществу. eq В связи eq с такими eq негативными ситуациями eq во второй eq части закона «eq Документы законодательства eq о гарантии eq равных прав eq женщин и eq женщин состоят eq из данного eq Закона и eq других правовых eq актов. Также eq в законе eq упоминается гендерное eq понятие, в eq котором гендер eq является социальным eq понятием отношений eq мужчин и женщин eq во всех eq областях общественной eq жизни, деятельности, eq в том eq числе в eq политике, экономике, eq правом, идеологии eq и культуре, eq образовании и eq науке. Хорошо, eq хорошо, хорошо, eq таким образом, eq гендерное понятие eq представляет интересы eq не только eq женщин. Возможно, eq то, что eq представительницы обоих eq пола смело eq относятся к eq своим желаниям eq и желаниям, eq свидетельствует о eq необходимости предоставления eq им одинаковых eq возможностей для eq повышения качества eq жизней. Одним eq из требований eq развитого социума является eq защита равных прав eq женщин и мужчин. eq Создание равных условий eq для женщин и eq мужчин уже не eq первый десяток eq лет является eq приоритетом международной eq деятельности. Принцип eq равноправия полов eq закрепляется в eq основных документах eq международных прав eq человека, в eq том числе eq Всеобщной декларации eq прав человека, eq а также eq в множестве eq других конвенций eq международного характера. eq Даже третье eq десятилетие XXI eq века этот eq вопрос до eq конца не eq решается. Таким eq образом, в eq течение четверти eq века в eq мире ни eq одна из eq стран мира eq не достигла eq полного исполнения eq целей принятой eq Пекинской Декларации eq по правам eq женщин 1995 г. eq Три четверти eq руководителей в eq мире все eq еще являются eq мужчинами, а eq только четверть - eq женщинами. В eq древнегреческих ученых, eq например Сократе, eq Аристотеле и eq Платоне, было eq считано, что eq полис, в eq котором царила eq равенство, справедливость - eq лучшее государство. eq Как лучшие eq законы они eq выдвинули законы eq о равных eq правах всех eq людей. Идея eq равенства между eq мужчинами и eq женщинами была eq использована греческим eq ученым Антифоном eq в своих eq работах: «Природа eq создает всех eq равными, женщинами eq и мужчинами, eq но люди eq создают законы eq для того, eq чтобы люди eq были неравными». eq Абу Наср eq Фараби, восточный eq ученый-энциклопедист, eq в своей eq книге «Город eq добрых людей» eq отмечал, что eq государство, в eq котором царило eq равноправие, является eq государством, стремящимся eq к добродетели, eq и в 1791 eq году подготовленная eq Олимпией Де eq Гуж декларация eq о гражданском eq и правовом eq праве женщин eq признала, что eq женщина имеет eq право свободно eq думать и eq высказывать свое eq мнение впервые. eq Именно это eq международное правило eq во втором eq пункте Закона «eq О гарантиях eq равноправия и eq возможности женщин eq и женщин» eq гласит: юридическая eq основа. Таким eq образом, Узбекистан eq в своем eq национальном законодательстве eq уделяет серьезное внимание eq вопросу равенства между eq женщинами и мужчинами, eq учитывая общепризнанные международные eq требования. В eq статье 18 Конституции eq Республики Узбекистан eq говорится, что eq у всех eq граждан Республики eq Узбекистан есть eq одинаковое право eq и свобода eq и равноправны eq перед законом, eq независимо от eq расы, расы eq и национальности, eq образования, языков, eq религий, социальных eq происхождения, убеждений, eq положений, личностей eq и интересов. eq В 46-й eq статье указывается, eq что у eq мужчин и eq женщин есть eq равные правы. eq Премьер-министр eq Узбекистана Шават eq Мирзиёев в eq ходе своего eq выступления в eq Сенате Олимпийского eq комитета сказал следующее: «eq Сегодня все женщины eq должны быть непостоянными eq наблюдателями, а eq активными и инициативными eq участниками демократических процессов, eq которые происходят в eq Республике». \n",
      "«Таким eq образом гарантируется и eq международное, и eq конституционное основание гендерного eq равноправия. Гендерное eq равноправие означает eq и социальное eq равноправие. Для eq того, чтобы eq обеспечить такой eq равенство, недостаточно eq внесения необходимых eq поправок в eq Конституцию, законы, eq и поэтому eq особую акцент eq делается на «eq Повышение правового eq образования в eq обществе».\n",
      "В eq Конституции Узбекистана eq гарантируется равенство eq пола. Каждый eq год число eq женщин, которые eq занимают высокие eq посты, растет. eq Закон Узбекистана «eq О гарантиях eq равноправия и eq возможности женщин eq и женщин», eq в котором eq рассматривается проблема eq гендерного равноправия eq на государственном eq уровне, гласит, eq что управление eq этой сферой eq осуществляет Кабинет eq Министров Узбекистана, eq Комиссия Узбекистана eq по вопросам eq равноправия женщин eq и женщин eq и государственные eq органы в eq их компетенциях. eq В стране eq планируется предпринять eq необходимые меры, eq чтобы обеспечить eq реализацию государством eq политики по eq гендерному обеспечению eq равенства женщин eq и мужчин, eq расширить их eq участие во eq всех областях eq жизни, устранить eq и избежать eq прямой или eq косвенной дискриминации eq женщин. В eq результате последовательных eq комплексных реформ eq Узбекистан обеспечивает eq мир и eq стабильность экономики. eq В повседневном eq жизненном опыте eq страны показано, eq что равенство eq между мужчинами eq и женщинами eq играет важное eq значение в eq обеспечении добросовестности eq людей, социальной eq стабильности и eq стабильности экономики. eq Также в eq Узбекистане важны eq законодательные и eq государственные программы eq по обеспечению eq гендерного равноправия. eq Таким образом, принятый eq в сентябре 2019 года eq Закон Узбекистана «eq О гарантиях eq равенства прав eq женщин и eq женщин» является eq комплексным и eq основным законодательным eq документом для eq обеспечения гендерного eq равноправия в eq республике. Этот eq закон впервые eq определил понятие eq гендера в eq национальном законодательстве. eq В качестве eq очередного важного eq шага по eq борьбе с нарушениями eq прав человека согласно eq Указу Президента Узбекистана eq от 07.03.2019 «О eq мерах, направленных eq на дальнейшее усиление eq гарантий трудового права eq женщины и поддержку eq предприни-мательства» eq Узбекистана. Этот eq документ определяет задачу eq создания в eq обществе атмосферы eq ненависти к eq женщинам. Эта eq проблема определена eq как одна eq из главных eq направлений политической eq политики государства. eq Гендерное равноправие, eq т. е. eq равноправие между eq мужчиной и eq женщиной - одна eq из основных eq права человека. eq Изучая статьи, eq написанные по eq данной теме, eq можно заметить, eq что данный eq фактор является eq также основой eq высокой экономической, eq социальной, политической eq динамики. Авторы eq статей считают, eq что трудовые eq коллективы, где eq число сотрудников eq мужского и eq женского пола eq составляет около eq равного числа, eq показывают несколько eq выше результатов, eq чем трудовые eq коллективы, где eq мужской пол eq преобладает, особенно eq когда речь eq идёт о eq интеллектуальной и eq не физической eq работе. Кроме eq того, гендерное eq равноправие — это eq показатель демократического eq прогресса в eq стране. Для eq пополнения рядов eq развитых стран, eq а также eq для того, eq чтобы привлечь eq больше инвестиций eq в страну, eq необходимо уделять eq этот показатель eq достаточным вниманием. eq Для того, eq чтобы достичь eq постоянного, масштабного eq и значимого eq результата, необходим eq документ в eq виде планирования eq для выполнения eq программы. 28 мая 2021 eq г. как eq механизм реализации eq Конституционных и eq Международных стандартов eq было принято eq Решение сената eq Парламента Узбекистана «О eq утверждении стратегии eq по достижении eq гендерного равновесия eq в Узбекистане». eq Узбекистан - до 2030 eq года». Этот eq исторический документ eq основывается на Конституции eq Узбекистана, Законе eq Узбекистана «О eq гарантировании равных eq прав женщин eq и женщин», eq приоритетах в eq развитии страны, eq указанных в eq стратегии деятельности. eq Приоритетное направление eq развития Узбекистана eq на 2017–2021 годы eq разработано согласно национальным eq целям в eq области устойчивости eq и другим eq законодательствам. Основные eq принципы обеспечения eq равенства гендера eq являются легитимностью, eq демократией, открытостью. eq Этот документ eq ориентирован на eq обеспечение настоящего eq равноправия женщин eq и мужчин, eq вне зависимости eq от их eq национальности, национальностей, eq религий, социальных eq происхождений, убеждений, eq личных и eq социальных статусов.\n",
      "eq В настоящее eq время следует eq сказать, что eq в системе eq общественных и eq государственных организаций eq разного уровня eq занимаются более 15 тыс. eq женщин, включая eq министерства и органы eq власти, местные eq исполнительные органы. eq Для того, eq чтобы увеличить eq участие женщин eq в органах eq государственного управления, eq был создан резерв, eq состоявший из более 6 eq тыс. активной eq женщины. Сейчас eq организуется и eq проводится систематический eq тренинг для eq подготовки их eq к различным eq должностям руководства. eq В системе eq МВД можно eq выделить 16 женщин, eq занимавших руководящие eq посты, а 6 eq женщин – хокимияты. eq Количество женщин, eq получающих государственные eq награды различного eq уровня - 2224 человека. eq Почетным знаком eq было награждено 577 eq женщин. Узбекистан eq достиг почти eq полной гендерной eq равенства в eq общем количестве eq сотрудников крупнейших eq предприятий и eq организаций, в 2019 eq г. - 49, 5. Более eq того, сегодня eq в стране eq работают более 20 eq компаний, возглавляемых eq женщинами. В eq рамках Стратегии eq отмечается, что eq для организации планомерной eq работы по последовательному eq реализации Стратегических целей eq Узбекистана приняты «Национальные eq цели Узбекистана по eq устойчивому развитию до 2030 eq года». Пятая eq задача Узбекистана по eq устойчивому развитию до 2030 eq года обеспечить гендерное eq равенство и улучшить eq права и eq возможности всех женщин. eq Кроме того, в eq него входит экономическая, eq социальная, правовая eq и иная eq мера. Ответственность eq за выполнение eq этих задач eq несут все органы eq государственного управления и eq учреждения, учреждения, eq общественные организации. Но, eq кроме того, существуют eq вопросы, необходимые eq для того, чтобы eq расширить участие eq женщин в eq государственных и eq общественных строительствах, eq социальной и eq экономической сферах, eq образовательных, медицинских, eq других социальных eq и экономических eq областях. Можно eq сказать, что eq нужно повысить eq роль женщин eq в решении eq актуальных вопросов eq государственного регулирования, eq а не eq мужчин. В eq стране, на eq основе долгосрочной eq стратегии по eq гендерному равенству, eq гендерное равенство eq будет реализовано eq в рамках eq нескольких приоритетных eq направлений. Планируется eq обеспечить трудоустройство eq нуждающейся женщины eq и нетрудоспособных eq семей, в eq частности в eq сельских районах, eq создать достойные eq условия труда, eq повысить эффективность eq работы в eq сфере социальной eq поддержки. А eq также предупреждать случаи eq насилия и притеснений eq в отношении женщин eq на рабочих местах, eq устранить негативные отношения eq к женщинам в eq общественном сообществе. eq Это прогнозируемые eq результаты на eq территории страны. eq Для успешной eq реализации этой eq Стратегии необходимо eq активное участие eq всех партнёров eq и официальных eq лиц на eq разном уровне. eq Достижение Стратегии eq на этот eq период в eq первую очередь eq ускорит развитие eq социально экономического, политического eq развития страны, а eq значит, повысит eq благосостояние людей, решает eq многие проблемы в eq обществе и eq изменит нашу eq повседневную жизнь eq в лучшую eq сторону.\n",
      "\n",
      "\n",
      "\n",
      "\f",
      "3. Специфика eq современной имиджевой eq политики Республики eq Узбекистан\n",
      "3.1 Стратегия eq продвижения гендерного eq равенства и eq пути их eq решения в eq Узбекистане\n",
      "На eq данный момент разрабатываются eq механизмы развития нового eq Узбекистана и постепенно eq реализуются. Несмотря eq на все eq усилия, предпринятые eq в сфере eq прав человека eq во всем eq мире, цифровой eq разрыв гендерного eq разрыва остается eq одной из eq глобальных проблем eq и отмечается, eq что до eq ликвидации цифрового гендерного eq разрыва не может eq быть достигнуто eq даже целей eq ЦУР по eq устойчивому развитию eq ООН до eq ликвидации цифрового eq гендерного разрыва. eq В соответствии с eq последними данными eq Международного Союза eq Электросвязи (МСЭ) eq процент женщин, eq использующих Интернет eq в мире - 57 eq процентов, а eq мужчин - 62 процента. eq В относительной eq степени глобальная eq гендерная разница eq в использовании eq интернета составляет 8%. eq По мнению eq некоторых авторов, eq также в eq условиях digital-eq экономики стремительно eq развивается профессия, eq которая называется eq СТЕАМ наукой, eq технологией, инженерией eq и математикой. Но eq в этой сфере eq существует гендерное асимметрие. eq Например, часть eq женщин в eq области информационно-eq коммуникационной техники eq ИКТ считается «eq мужской» профессией - eq всего 30%.\n",
      "Эффективные eq мероприятия, направленные eq на сокращение eq гендерного разрыва eq в цифровой eq сфере, поощрение eq участия женщин eq во сферах eq СТЕМ и eq развитие электронных eq услуг в eq соответствии с eq гендерными аспектами, eq являются одним eq из ключевых eq факторов достижения eq гендерного равновесия eq во всех eq сферах. Узбекистан eq реализует ряд eq мер, направленных eq на привлечение eq женщин к eq IT-сфере, eq так что в eq июне этого года eq Ташкент запустил eq новый для eq женщин IT-eq клуб «ГАП». eq Целью инициаторов eq клуба является eq устранение проблемы eq присутствия женщины eq в IT-eq сфере, сделать eq IT-профессию eq открытой и eq интересной женщинам eq и молодым eq девушкам, таким eq образом сократить eq цифровые гендерные eq разрывы в eq IT-сфере. eq Он предназначен eq для демонстрации eq возможностей IT eq сектора и eq поддержки женщин eq в поисках eq работы. Отметим, eq что еще eq одна цель eq стратегии развития eq нового Узбекистана eq в 2022–2026 годах, eq утвержденная постановлением eq президента Узбекистана eq ПФ-60, - поддержка eq женщин, обеспечение eq активной участия их eq в социальной жизни. eq В соответствии с eq этим Государственная программа eq предусматривает конкретные мероприятия eq по созданию среды eq толерантности к eq насилию и угнетению eq женщин, продолжении eq политики по обеспечению eq прав и правовых eq интересов женщины, гендерному eq равенству, увеличению eq общественной и политической eq деятельности женщин и eq проведению реформ для eq поддержки их. В eq настоящее время в eq процессе конституционных eq реформ нашей eq страны выдвигаются eq ряд предложений eq для усиления eq новых гендерных eq положений в eq Основном Законе. eq На сайте «eq Корейской газеты» 5 eq Апрель 2021 года eq появилась статья eq директора национального eq центра прав eq человека республики, eq академика А.eq А.Саидова «eq Политика гендерного равновесия eq в современном Узбекистане». eq В нем говорится, eq что одним из eq ключевых направлений новой eq Узбекистана достижение равенства eq гендера, обеспечение eq права, свободы eq и законности женщин, eq укрепление их eq ролей в eq общественных и eq государственных жизнях. \n",
      "eq Эксперты Организации Объединенных eq Наций и межпарламентского eq Союза МПС подчеркивают, eq что  тенденции в eq этой области находятся eq в русле мировых eq процессов, направленных eq на расширение представительности eq женщин на высших eq уровнях госвласти, eq устранение гендерных неравенств, eq увеличение числа eq их в eq парламентах, правительствах eq и судах. eq Здесь можно eq успомнить слова генерального eq секретаря Организации Объединенных eq Наций Антонио Гутерриш: «eq В условиях, когда eq женщины активно принимают eq участие в политических eq и общественных процессах, eq растет экономическая и eq социальная жизнь, eq совершенствуется стабильность, eq а также eq повышение благосостояния eq граждан». В eq соответствии с eq ежегодным докладом eq МПС «Женщина eq в парламенте» eq и данными eq Организации ООН «eq Женщина в eq парламенте», впервые eq в истории в eq январе 2021 года eq общая доля женских eq депутатов в парламентах eq страны составила больше eq четверти — 25, 5. В eq конце 2019 года eq по итогам парламентских eq выборов их составило 32 eq депутата Законодательного eq собрания о.eq о., 25 депутатов eq Сената.\n",
      "По eq этому показателю, eq Узбекистан вошел eq в топ-50 eq из 190 стран eq и опередил eq почти многих стран. eq Это свидетельствует принципиально eq новому подходу и eq тенденциям в организации eq деятельности Узбекского парламента eq на территории страны. eq Повышение статуса и eq роли, защиту eq и реализацию права eq и свободы. \n",
      "Вопрос eq о гендерном равенстве eq важен по всему eq миру. Это eq выражается в документах eq Организации Объединенных Наций, eq в том числе eq в резолюциях, eq принятых в 2015 eq году. В eq целях Организации eq системы работы eq по последовательному eq реализации Глобальной eq Повестки Организации eq Объединенных Наций eq приняты «Национальные eq приоритеты и eq цели Узбекистана eq по устойчивому развитию eq до 2030 года». eq Пятой целью устойчивого eq роста Узбекистана eq в 2030 году eq является обеспечение eq гендерной равноправия eq и укрепление eq прав и eq способностей всех eq женщин. В eq частности, это eq касается экономических, eq социальных, правовых eq и других eq мер. Все eq органы государственного eq управления и eq учреждения, учреждения eq и общественные eq организации Государственного eq значения отвечают eq за выполнение eq данных задач.\n",
      "eq Стратегия действий eq и организация eq последовательной работы eq в целях eq осуществления и eq достижения Целей eq Устойчивого развития eq Организации Объединенных eq Наций в период eq до 2030 г. eq В Узбекистане были eq разработаны девять задач eq по обеспечению гендерного eq равноправия, расширению eq прав и способностей eq всех жен и eq девушек.\n",
      "В eq соответствии со задачами 2030 eq года необходимо ликвидировать eq все виды дискриминации eq женщин и девушек, eq обеспечить равенство гендера, eq всестороннюю и eq эффективную участие eq женщин, равные eq возможности лидерства eq на каждом eq уровне политики, eq социальной и eq экономической жизни. В eq ЦУР также предусмотрено eq максимальное внедрение гендерных eq принципов в процессе eq принятия госпрограмм на eq различных уровнях руководства. eq В новой eq Узбекистане работа eq по повышению eq роли женщины eq в общественной политической, eq экономической и бизнес-eq жизни страны проводится eq в следующих областях. eq Направление по совершенствованию eq правовых оснований. Узбекистан eq принял участие во eq всех основных международных eq договорах, предусматривающих eq правовую, социальноэкономическую eq и экономические защиты eq женщин от любой eq форм дискриминации, притеснений eq и дискриминации.\n",
      "eq В Узбекистане также eq приняты законы о eq гендерной ориентации: «О eq гарантии равных прав eq женщин и женщин», «eq О защите женских eq прав от насилия eq и притеснения», «eq О защите eq женских прав eq от насилия». \"eq О защите eq репродуктивного здоровья eq граждан\".\n",
      "Специальный eq представитель Генсека eq ООН по eq центральной Азии eq и руководитель eq Регионального Центра eq ООН по eq миротворческой дипломатии eq по ЦАР eq Наталья Герман eq отметил, что eq в международном eq сообществе позитивно eq оценивается действие eq Узбекистана по вопросу eq гендерного равноправия. Принять eq и реализовать нормы eq данных законов, способствующих eq увеличению до 33 женщин eq на должностях руководства eq и 45 женщин eq в общей eq трудоспособной стране. eq Считается, что eq Узбекистан свидетельствует о eq заметном росте показателей eq представительства женщин, политиков eq и лидеров eq во всех eq областях, а eq также последовательного eq продвижения страны eq на пути eq гендерного равновесия. eq Отмечу, что eq будут обеспечены eq стабильные социально-eq экономические показатели, eq будет создана eq новая возможность, eq особенно девушкам - eq будущим лидерам, eq будет реализована eq их способность eq и сформирована eq культура здорового eq питания в eq обществе.\n",
      "Этот eq вопрос был приоритетом eq в государственной политике. eq Принятие закона «eq О гарантиях eq равноправия и eq возможности женщин eq и женщин» eq стало одной eq из важнейших eq шагов в eq этом направлении. eq Институциональные и eq правовые основы eq обеспечения равенства eq гендерных слоев eq в Республике eq Узбекистан. Гендерное eq равноправие в семьях, eq обществах, политике eq и экономике для eq Узбекистана очень важна. eq Однако для решения eq любой проблемы нужно eq сначала понять ее eq причины. Основные eq причины неравенства eq гендера во eq всех Центральноазиатских eq странах связаны eq с существующими eq стереотипами поведения eq и поведения eq человека. На eq основе них eq функции мужского eq и женского eq пола делятся eq по пола. eq Человек является eq главой семьи, eq ему нужно eq обеспечить свое eq материальное благосостояние. eq Женщина является eq королевой семьи. eq Он принимает eq участие в eq семейной жизни eq и воспитании eq детей. Еще eq одна причина eq неравенства гендера eq в стране – eq неофициальная иерархическая eq система управления, eq авторитарные методы. eq Государственные дела, eq бизнес и eq семья нередко eq преобладают в eq иерархии и eq авторитарии моделях eq принятия решения eq и контроля. eq Таким образом, eq возникают сложности eq при приеме eq женщин на eq работу и eq исполнении их eq управленческой функции. eq Поэтому международный eq стандарт постепенно eq оказывает влияние eq на общественную eq и политическую eq жизни государства. eq Узбекистан укрепляет eq гендерную политику, eq повышает роль eq женщин в eq работе государства eq и общества. eq Такие положительные eq изменения позволят eq обеспечить полноценную eq интеграцию в eq глобальное гражданское eq общество Узбекистана. eq На данный eq момент в eq стране ведется eq работа, направленная eq на обеспечение eq гендерного равновесия, eq повышение роли eq женщины в eq общественной и eq политической жизни.\n",
      "eq В Узбекистане приняты «eq дорожные карты» и eq национальная стратегия гендерного eq равенства, направленные eq на обеспечение eq реализации законов «eq О гарантиях eq равноправия и свободы eq женщин и женщин» eq и «О eq защите женских прав eq от насилия и eq домогательства». Приводим eq в пример eq слова Председателя eq сената Парламента eq Узбекистана, Председателя eq Комиссии для eq обеспечения гендерного eq равновесия Танзила eq Норбоева:\n",
      "«Проблема eq гендерного равновесия - eq приоритетное направление eq Узбекистана в eq политике. В eq годы независимости eq вопрос не eq упомянутый, тема eq сексуального насилия eq закрылась, но eq в течение eq последних трех eq лет по eq этому вопросу eq приняли 2 закона, eq а также eq более 15 документов eq правового регулирования». eq Хотя есть eq законы, проблем eq с реализацией eq их еще eq очень много. eq По данным eq Международного союза eq депутатов 190 стран, eq представление женщин eq в Узбекистане eq выросло с 128 eq на 45. Доля eq женщин по eq руководящим должностям eq достигла 27 человек, eq в партиях 44 eq человека, в eq вузах 40 человек, eq в бизнесе 35 eq человек. Парламент eq Узбекистана осуществляет eq последовательные мероприятия eq по укреплению eq роли парламентского eq законодательства в eq этой сфере: eq в первую eq очередь, под eq председательством Председателя eq сената О.eq Махлиса создана eq комиссия по eq обеспечению гендерного eq равноправия; в eq вторую очередь, eq в Верхней eq палате парламента eq создан Комитет eq женщин и eq женщин, основная eq задача которого заключается eq в разработке предложений eq о реализации государственных eq по обеспечению гендерного eq равноправия, совершенствованию eq законодательства, осуществлению eq парламентского контроль eq в данной eq области.\n",
      "Этот eq комитет проводит мониторинг, eq следящий за исполнением eq закона. Также eq осуществляется парламентский контроль eq по повышению роли eq женского общества, обеспечению eq гендерного равновесия в eq обществе, правам, eq свободам и eq законным интересам женщин, eq решению их eq задач, подготовке eq девушек к взрослым eq жизням, поддержке eq женщин, находящихся eq в тяжелых социальных eq условиях и содействию eq их трудоустройству, развитию eq сферы искусства и eq культуры, И eq других нормативных актов, eq создание Республиканского общественного eq совета женщин в eq составе Председателя Сената eq Олия Мажлиса; создание eq Республиканского общественного совета eq женщин в составе eq Председателя Сената eq Олия Мажлиса; создание eq Республиканского общественного eq совета женщин в eq составе Председателя Сената eq Олия Мажлисаодна из eq главных задач, которая eq наряду с всесторонней eq помощью женщин и eq девочек,  координацию eq вопросов, связанных eq с выполнением положений eq конвенции Объединенных Наций eq по ликвидации любых eq форм по отношению eq к женщинам, а eq также реализацию Пекинской eq Платформы действий, а eq также Национального плана eq действий; \n",
      "Создание eq Республиканского общественного совета eq женщин в составе eq Председателя Сенат; создание eq Республиканского общественного совета eq женщин в составе eq Узбекистан включает в eq себя активную и eq активную женщину, которая eq обладает большим жизненным eq опытом и знает eq вопросы женщин, а eq женские советы на eq местах являются руководителями eq советов хокимов eq по женщинам, в eq состав которых eq входят республиканские eq и областные eq фонды поддержки eq женщин. Также eq создано Министерство eq по помощи eq махаллям и eq семьям, одной eq из основных направлений eq всесторонняя помощь женщинам, eq Фонд по помощи eq женщинам и семьям, eq призывающий всестороннюю помощь eq женщинам, помогать eq их участвовать в eq семейном и частном eq предпринимательстве, ремесленном eq творчестве, получить eq знания и навыки eq для востребованных профессий eq рынка труда. Федеральная eq профсоюзная организация и eq Министерство по поддержке eq Махалли и Семьи eq создали специальную Республиканскую eq рабочую группу, которая eq изучивает и выясняет eq жизненные вопросы женщин eq во всех областях, eq организует работы по eq сокращении бедности, а eq также повышению благополучия eq населения, проводит eq регулярно в Махалях eq беседы с женщинами eq о своих проблемах, eq о их решении. eq Для того, чтобы eq провести такую работу eq по их eq решениям, была eq введена абсолютно eq новая система, eq называемая «женской eq тетради».\n",
      "Который eq позволяет более eq точно определить, eq кому действительно eq нужна помощь, eq организовать работу eq по адресу eq с таким eq слоем населения, eq предоставлять более 30 eq социальных услуг на eq электронной основе. Рассмотрев eq их деятельность, можно eq отметить, что eq в данной системе eq получены результаты, которые eq свидетельствуют о том, eq что 527 тыс. eq человек трудоустроены eq на территории eq Узбекистана. За eq последние годы eq республиканская комиссия eq решила проблемы 80 eq тыс. женщин eq и 32 тыс. eq женщин\n",
      "На eq основе результатов их eq работы обновляются списки eq нужных, проводятся eq работы по решениям eq многих социальных и eq экономических вопросов, которые eq волнуют женщины. В eq борьбе с пандемией, eq хотя она оказывает eq отрицательные последствия eq для всех сфер eq жизни общества, eq государства в eq частности для eq экономики и социальной eq сферы, 2020 год eq стал поворотным для eq обеспечения прав женщин eq и свобод. Который eq привел к тому, eq что Узбекистан уделяет eq еще больше расширению eq обращения населения, в eq первую очередь женщин, eq детей, к eq современной качественной медицинской eq помощи и лекарственным eq средствам. В eq ходе рассмотрения eq статей можно eq отметить, что eq международное сообщество eq осознало опыт eq Узбекистана в eq глубоком реформировании, eq создании и eq развитии качественной eq здравоохранительной системы eq и медицинской eq промышленности в eq стране, охране eq здоровья людей, eq формировании в обществе eq здоровой культуры, что eq позволило обеспечить успех eq в борьбе с eq коронавирусом. В 2020 eq году из eq государственного бюджета eq Узбекистана на eq реформу сферы eq выделено 14, 8 триллиона eq сомов, что eq в 1, 2 раза eq больше 2019 года. eq В рамках eq инвестиционной программы eq в область eq направлено 1 15 трлн. eq сумов, что eq позволило выполнить eq очень большую eq работу, несмотря eq на огромные eq трудности. В eq республике во eq всех регионах eq республики построены лечебные eq учреждения, центры eq распределения, оснащенные eq необходимыми средствами и eq оборудованием, лекарственными eq препаратами.\n",
      "В eq то время, как eq в некоторых странах eq была отмечена нехватка eq здравоохранительных кадров, Узбекистан eq проводил меры по eq подготовке хорошо подготовленных eq медицинских работников. eq В Узбекистане eq преобладают женщины, eq поэтому инвестиции eq в здравоохранение eq направлены на eq продвижение гендерной eq проблемы. Обеспечение eq занятости женщин eq и предоставление eq кредитов женщинам-eq предпринимателям. В eq этом направлении eq было осуществлено eq множество государственных eq программ: «Каждый eq предприниматель», «Благое eq сельское хозяйство» и «eq Благое махалла», «Пять eq важнейших инициатив». В eq республике коммерческие банкы eq республики открыли специальные eq кредитов женщинам-предпринимателям.\n",
      "eq По данным eq статистики, в eq течение последних eq лет льготные eq займы на eq развитие женского eq бизнеса Узбекистана выделены eq более 327 тыс. eq женщин на 7, 4 eq триллиона сумм. eq Для женщин-eq предпринимателей выделено eq около 1, 4 триллиона eq сомов из eq Фонда Реконструкции eq и Развития eq Узбекистана. В eq течение последних eq четырех лет eq трудоустроено более 6202 eq тыс. женщин, 106 eq тыс. человек eq оказывали содействие в eq развитии частного бизнеса. eq Например, в eq рамках Программы «Каждый eq семейный предприниматель» около 126 eq тыс. семей eq получили льготное кредитование, 215 eq тыс. семей eq получили кредиты для eq развития семейного eq бизнеса, всего eq на более 6 eq трлн. семей. eq В рамках eq пяти важных eq проектов в отдаленных eq районах организовали швейные eq цехи, обеспечили eq занятость 10 тыс. eq женщин, создали eq центры женской предпринимательской eq деятельности, где eq более 6150 женщин eq прошли курсы eq краткосрочного профессионального eq образования. В eq результате, в eq течение последних лет, eq несмотря на коронавирус, eq число предпринимателей достигло 172700 eq человек. Также eq более триллиона eq сомов было eq направлено на eq поддержку предпринимательских проектов eq женщин, а eq также на eq решение выявленных eq проблем на eq местах. В eq этой связи eq Народный Банк eq внедрил новые eq системы подготовки eq женщин к eq бизнесу, разработки eq типовых деловых планов eq и практического обслуживания eq в получении eq кредитов. В eq Узбекистане для расширения eq возможностей образования, требующих eq социальной поддержки, 950 молодых eq девушек из неблагополучных eq семей получили возможность eq поступать в дневные eq образовательные учреждения Узбекистана eq по государственному гранту. eq В 2021 году eq количество квот eq выросло до eq двух тысяч. eq В 2020 году eq для обеспечения eq жильем женщин, eq которые оказались eq в сложных eq жизненных условиях, eq а также eq девушек, которые eq находятся в eq одиночестве матерями-eq одиночками, выплачиваются eq первоначальные выплаты по eq приобретению жилья почти 22 eq млрд. сумм. eq В 2021 г. eq из государственного бюджета eq выделено 210 млрд. eq сумов и дополнительно 211 eq млрд. сумов eq на предоставление eq женщинам социального eq жилья на eq аренду. Это eq свидетельствует, что eq в те годы eq реализации принципа, eq который был eq сформирован Президентом, eq никто из eq женщин Узбекистана eq не остался eq без внимания eq государства, общества eq и женщин. Еще eq можно отметить усиление eq мер, направленных eq на предупреждение различных eq видов насилия на eq женщинах. Постановлением eq Президента от 02.07.2018 eq г. «О eq мерах, направленных eq на совершенствование eq системы социальной eq адаптации и eq профилактики семьи eq и семейного eq насилия», создано 190 eq городов и eq районов. Основные eq задачи заключались eq в оказании экстренной eq медико психологической, социальной, eq педагогической и правовой eq помощи лицу, оказавшемуся eq в трудной социальной eq ситуации, сталкивающемуся eq с проблемами семьи eq и бытового насилия. eq По данным статистики, eq Фонд поддержки женщин eq и семей в 2020 eq году выделил 981, 6 млн. eq сумов, а eq также общественный фонд eq в Олий Мажлис eq выделил 15 организациям eq государственные гранты на 461 eq млн. сумов, eq направленных на реализацию eq проектов борьбы с eq насилием, притеснением eq женщин и девушек. eq А для защиты eq жертв насилия в eq домашних условиях принято eq Постановление правительства «О eq мерах, направленных eq на совершенствование системы eq охраны женщин от eq насилия в домашних eq условиях» от 04.01.2020 eq г. Утверждены eq Положения «О eq порядке выдаче охранных eq ордерей женщинам, которые eq подвергаются притеснению, насилию, eq их обеспечению, мониторингу» eq и «О eq порядке проведения лицами, eq которые совершили eq или имеют eq склонность оказывать давление eq и насилие, программ eq по коррекции поведения». eq Где основные задачи eq программы были: 1. профилактика eq случаев насилия eq в отношении eq женщин; 2. Устранение eq причин и eq обстоятельств, способствующих eq этому; выявить eq и устранить латентное eq скрытое насилие; 4. Проведение eq индивидуального или группового eq разъяснительного действия eq с лицом, eq совершившим насилие \n",
      "eq В системе eq управления МВД в eq стране создано 360 постов eq инспекторов по женской eq работе, нуждающихся eq в правах и eq социальном обеспечении. С eq целью оперативной и eq качественной поддержки женщин, eq пострадавших от насилия eq и притеснения, разработана eq и введена стандартная eq операционная процедура eq совместного реагирования на eq гендерные насилия правоохранительными eq органами, работниками eq медицины и социальной eq психологии, повышается eq степень осведомленности по eq гендерному равенству и eq правам женщин, обучается eq ответственным лицам соответствующим eq правовым нормам для eq осуществления их практики eq применения.\n",
      "3.2 Влияние eq гендерного равенства eq на формирование eq имиджа страны\n",
      "eq В Узбекистане развивается eq сотрудничество с органами eq Конвенции ООН по eq улучшению положения женщин, eq расширению их прав, eq возможностей в рамках eq Конвенции по ликвидации eq любых форм дискриминации eq по отношению к eq женщинам и Пекинской eq Декларации и платформе eq действий по оказанию eq помощи. В eq Узбекистане периодически представляют eq информацию в комитет eq ООН по борьбе eq с дискриминацией женщин eq в этой области eq в Комитете ООН eq по борьбе с eq дискриминацией женщин.\n",
      "Отмечается, eq что основная цель eq стратегии основные права eq человека на социальное, eq экономическое, политическое eq обслуживание всех eq женщин, девушек eq и мужчин, eq детей, вне eq зависимости от eq расы, социальной eq расы, религии, eq социальной ситуации. eq В принятой eq стратегии определяются eq задачи Узбекистана eq по обеспечению eq гендерного равновесия eq к 2030 г. eq Они получают субсидии eq в зависимости от eq средств государственного и eq финансового бюджета. Также eq была создана eq система парламентского eq контроля за eq успешной реализацией eq стратегий. В eq ходе обсуждения eq принял участие eq представители международных eq и негосударственных eq организаций под eq руководством Председателя eq Комиссии гендерного eq равенства Танзила eq Норбоева и eq внес предложения eq и рекомендации eq по корректировке стратегии eq и совершенствованию. eq Развитие стратегии eq гендерного равновесия eq в 2020–2030 гг. eq должно осуществляться eq путем укрепления eq роли в eq этом направлении eq не только eq женской, но eq также мужчины. eq Также объяснение eq понятия гендерного eq равноправия подрастающего eq поколения в eq процессе образования eq создает фундамент eq для того, eq чтобы в eq обществе появился eq новый подход eq к этому eq вопросу. Ашита eq Митталь, постоянный eq представитель ООН eq по Узбекистану, eq подчеркнула, что eq ООН принимает eq участие в eq усилиях Узбекистана eq для достижения eq гендерного равновесия. eq Представитель Узбекистана eq Ю.Ю.eq Юнфпанин сказал, eq что необходимо eq строго определение eq расходов и eq расходов, необходимых eq для осуществления eq этой стратегий. eq Необходимо внедрить eq четкую отчетность eq о распределении eq средств, выделенных eq из бюджета, eq а также eq других средств. eq Вице-президент eq Европейского Банка eq Реконструкции и eq Развития Оксана eq Пак высказалась eq о системном eq повышении правовой eq грамотности и eq финансовой грамотности eq женщин Узбекистана, eq которое должно eq рассматриваться национально. eq Должен быть eq механизм контрольно-eq аналитического контроля eq в реализации eq госполитики обеспечения eq гендерного равноправия. eq Необходимо провести eq исследования, чтобы eq анализировать реальную eq ситуацию с eq гендерной равенством eq на территории eq страны. Впервые eq состоялась международная eq онлайн-конференция «eq Женщины в eq науке: аспекты eq гендера» в eq рамках инициативы eq исследовательского центра eq женского равенства eq в Ферганском eq государственном университете eq при поддержке eq Хакимиата области, eq Сената Олега eq Мишустина, Республиканского eq центра женского eq равенства и eq Центра социальной eq поддержки «Калба eq Нури», в eq которой приняли eq участие женщины, eq их семей, eq регионального объединения «eq Деловая Женщина», eq посольства иностранных eq стран, экспертов eq Узбекистана, ученых eq ведущих иностранных eq университетов. В eq том числе eq Сюзан Вуд, eq пресс-секретарь eq посольства Узбекистана, eq советник Женской eq ООН, профессор eq А.Г. eq Иброхимбеков, Кыргизско-eq Российский Славянский eq университет, доктор eq юридических наук, eq профессор Анара eq Ниязова, советник eq Минобрнауки Узбекистана eq А.Джамолдинов, eq а также eq другие профессоры eq и преподаватели, eq выступившие с eq докладами в eq онлайн-конференции. eq На конференции eq отмечалось, что eq основная цель - eq достижение большой eq активности женщин eq в Узбекистане eq во всех eq областях, обеспечить eq их комфортный eq брак, обеспечить eq их должное eq участие в eq научной, управленческой eq и политиковой eq деятельности, обмениваться eq опытом и eq достижениями женщин eq на Востоке. eq Председатель сената eq Парламента Узбекистана eq Танзил Норбоев eq в своем eq выступлении указал, eq что перед eq государством лежит eq задача предоставления eq женщинам равных eq прав и eq возможностей и eq не привилегированных eq положений в eq обществе женщин. eq По результатам рассмотрения eq были подготовлены и eq реализованы «дорожные eq карты» по eq реализации принятых международными eq экспертами ООН замечаний, eq предложений, отмеченных eq также многими позитивными eq изменениями, достигнутыми eq прогрессом в вопросах eq изменения роли женщин eq и их статуса eq в политических, социальных, eq экономических и культурных eq сферах. Кроме eq того, Узбекистан eq вновь возобновил практику eq приглашения специальных eq докладчиков ООН по eq различным вопросам прав eq человека в страну.  eq Глава Генеральной eq Ассамблеи ООН eq Антонио Гутерриш 24 eq Февраля 2020 года eq высказался о инициативе «eq Высшее стремление: призывы eq к действиям в eq интересах права человека». eq Одним из основных eq его посланий было eq необходимость укрепить гражданское eq общество, обеспечить eq гендерный баланс, eq равное участие женщин eq и женщин в eq политическом, экономическом eq и социальном мире eq и свободу информации. eq Это решение ООН eq было созвучно с eq реформами, которые eq проводятся в стране eq в этих областях. eq В своем выступлении eq на 46 м eq заседании Совета Организации eq Объединенных Наций президент eq Узбекистана подробно рассказал eq приоритеты углубления демократичных eq преобразований страны, основные eq направления деятельности Узбекистана eq по СПЧ, eq обозначил новейшие eq грани углубления eq сотрудничества узбекистана eq с Организацией eq Объединенных Наций eq в области eq достижения равенства eq гендера. Глава eq страны, в eq частности, инициировал eq организации диалога eq женщин-лидеров eq центральной Азии и eq бизнес форума. Что eq позволит: объединить eq лучший опыт и eq практику в области eq возможностей и прав eq женщин, создать eq условия для того, eq чтобы обеспечить eq достойную занятость eq и развивать бизнес, eq предотвратить любые формы eq насилия против женщин eq и способствовать укреплению eq международного и регионального eq взаимодействия в области eq этой сферы; eq повысить уровень eq развития женского eq бизнеса в eq регионах и eq на глобальном уровнях. eq В целом, усилия eq Узбекистана в этих eq сферах могут быть eq сказано, что eq направлены на обеспечение eq достойной жизни более 17 eq млн женщин eq в нашей eq стране. Сегодня eq узбекистанская гендерная eq равенство является eq залогом стабильного eq развития. В eq стране ускоряются изменения eq законодательной сферы, которые eq приводят к кардинальной eq положительной трансформации во eq всех сферах экономики eq страны, а eq также социальной eq сферы, с eq особенной точки eq зрения повышения eq политического и социального eq потенциала женщин и eq их усиления роли eq в управлении eq общественностью и eq семьей. Гендерная eq равенство Узбекистана eq переживала периоды eq спада и eq подъема после eq того, как eq в 1991 году eq была обретена eq независимость. Комитет eq Женщин Узбекистана, который eq является важнейшим eq игроком в eq поддержке гендерного eq равенства. В eq Комитете женщин eq имеется сеть eq отделений в eq каждом территориальном eq административном округе, eq которое возглавляет eq заместитель руководителя eq администрации по eq вопросам женщин. eq Последний указ eq Президента от 02.02.2019 eq создает условия eq дальнейшей работы eq КЖУ, способствует eq более системному eq подходу к eq гендерному равенству. eq В качестве eq наиболее актуальных eq вопросов КЖУ eq выделяет «трудовое eq устройство, новые eq рабочие места, eq развитие предпринимательских eq и деловых eq навыков» как eq главные проблемы eq жителей города. eq Для сельской eq женщины «недостаток eq социальных и eq коммунальных инфраструктур eq на территории, eq необходимость развития eq семейного и eq домашнего труда» eq стали наиболее eq актуальными вопросами, eq которые требуют eq решения. С eq начала 2017 г. eq впервые за eq независимый Узбекистан eq был создан eq национальный виртуальный eq прием в eq каждом административном eq округе, чтобы eq упростить взаимодействие eq граждан и eq государственных служб. eq КЖУ регулярно eq проверяет обращения eq женщин, которые eq подаются в eq виртуальных приемных eq для адресной eq решения поставленных eq проблем. В eq настоящее время eq главными вопросами eq обращения женщин eq в виртуальных eq приемных являются eq просьбы по eq правам, социальным, eq жилищным, финансовым, eq вопросам и eq предложениям по eq культурному поведению, eq дрессировке, свадьбам eq и обряды. eq Узбекистан в 2016 eq году занял 105 eq место среди 185 eq стран, что eq делает его eq одним из eq стран, имеющих eq высокий уровень eq развития человечества. eq В индексе eq гендерных равенств eq Узбекистан занимает 57-eq е место eq в 188 странах, eq этот показатель eq обусловлен высокой eq образовательной и eq социальной активностью eq женщин. В 2014 eq г. Организация eq экономического сотрудничества eq и развития eq ОЭСР включена eq в свой eq индекс социально-eq институциональных институтов, eq гендерных институтов. eq Узбекистан в 2014 eq году занял 52 eq место в eq списке 86 стран, eq которые не входят eq в Организацию eq Объединенных Наций, eq и в 2014 eq году набрал 0.1475 eq баллов, что eq относится к eq категории «средней». eq При использовании eq метода Глобального eq гендерного индекса eq и гендерного eq индекса Узбекистан eq достигает гендерного eq равновесия в eq области образования eq и здравоохранения. eq Другой взаимосвязанный eq показатель - уровень eq нищеты. Доля eq бедных населения eq в 2017 г. eq составила 12, 8 %. Оценка eq уровня бедности eq в Узбекистане eq базируется на eq концепции международного eq банка, принятой eq на основе eq исследований домохозяйств, eq на основе eq которой выбрано eq абсолютное значение eq бедности, которое eq характеризуется уровнем eq потребления пищи eq в 2100 калорий eq в сутки. eq К тому eq же, по eq терминологии, используемым eq правительством, бедные eq люди относятся eq к уязвимым eq слоям населения, eq для поддержания eq этих слоев eq установлен минимальный eq порог бедности eq на уровне 1, 5 eq минимальной заработной eq платы. Хотя eq вышеупомянутые положительные eq результаты приводят eq к рассмотрению eq такие вопросы, eq связанные с eq положениям женщины eq и равенством eq гендера, как eq асимметрия собственности eq имущества; горизонтальное eq и вертикальное eq сегрегация рынка eq труда, в eq котором женщины eq не представлены eq на высших eq должностях в eq каждом секторе, eq занятость доминирует eq в социальном eq секторе экономики, eq сезонные, низкие eq оплачиваемые, неквалифицированные eq рабочие места eq в формальном, eq неформальном; и eq традиционный стереотип eq о том, eq как женщины eq и мужчины eq играют важную eq роль в eq семье, обществе. eq В статистических eq данных по eq гендерному разрезу. eq При проведении eq оценки гендерной eq принадлежности в eq стране одним eq из вопросов eq стало выделение eq отсутствия достоверной eq и регулярной eq сборки данных, eq связанных с eq гендерной разбивкой. eq С тех eq пор Госкомстат eq регулярно опубликовал eq сбор статистики «eq Женщина и eq мужчина Узбекистана» eq и в 2014 eq году при eq поддержке АО «eq АБР» был eq запущен сайт eq посвященный статистике eq гендера https: //eq gend.state.eq uzru. В eq этом интернет-eq ресурсе представлена eq информация о eq разбивке по eq полу по eq показателям демографии, eq занятости, туризма, eq социальных систем eq и статистике eq правонарушения. Краткое eq описание здравоохранения, eq образования, физической eq культуры и eq спорта. Однако eq отсутствие данных eq о гендерном eq неравенстве на eq сайте в eq ключевых секторах eq деятельности АБР, eq например, в eq энергетике, строительстве, eq транспорте и eq связи, являются eq одним из eq факторов, которые eq являются препятствиями eq для того, eq чтобы оценить eq гендерное неравенство eq и проблемы, eq которые можно eq решить в eq рамках ABR. eq Также на eq сайте недоступны eq глобальные ключевые eq показатели, такие eq как доля eq женщин в eq политике и eq принятие решений, eq право собственности, eq доступ к eq ресурсу, доля eq занятых оплачиваемыми eq и неоплачиваемыми eq работами и eq надомным трудом, eq доля трудоустроенных eq женщин и eq использование времени – eq эти сведения eq теперь недоступны eq для веб-eq ресурса. КЖУ eq собирает также eq данные с разделением eq по полу, но eq здесь не хватает eq системы и структуры eq подхода, кадрового eq и технического ресурса, eq чтобы разработать eq инструменты, регулярно eq собирать и eq поддерживать базу eq данных и eq провести их eq анализ. В eq Узбекистане нет eq законодательных положений, eq ограниченных участием eq женщин в eq общественной жизни. eq Насилие против eq женщин запрещено, eq и дискриминация eq в работе eq запрещена законами eq о против eq дискриминации. Женщины eq работают на eq высоких должностях eq по всему eq миру Женщины eq еще недостаточно eq представлены по eq уровню принятия eq решения и eq контроля во всех eq сферах, то eq есть они до eq сих пор не eq достигли критичного меньшинства eq на 30 процентов, eq необходимого, чтобы eq эффективно влиять eq на принятие eq решений. Вопросы eq труда и рынка eq труда Вопросы eq занятости и eq создания рабочего eq места всегда eq обращаются к eq государству, а eq также гендерные eq подходы отчетливо eq просматриваются. В eq стратегии действий 2017–2021 eq годов непосредственно eq рассматривается вопрос eq о занятости eq женщин, выпускников eq профессиональных колледжах. eq Женщины - 49, 6 населения eq Республики Узбекистан. eq Доля женщин, eq занятых формально, eq до сих eq пор ниже eq мужчин: 45, 7 по eq сравнению со 54, 3. eq В социальных eq сферах широко eq представлены женщины, eq которые занимаются eq образованием, медициной eq и социальными eq услугами, гостиничным eq сервисом и eq общественным питанием eq с меньшей eq зарплатой, а eq мужчины лидируют eq в технической eq и более eq доходной отраслях, eq например, в eq строительстве, финансы, eq промышленности, транспорте, eq связи.  \n",
      "\n",
      "3.3 Прикладные eq аспекты политики eq в области eq гендерного равенства eq в Узбекистане\n",
      "eq На международном eq круглом столе eq выступили Комиссия eq по гендерному eq равенству Республики eq Узбекистан, Министерство eq по делам eq семьи и eq общества, политические eq партии, научное eq сообщество и eq аналитические центры eq нашей страны, eq негосударственные некоммерческие eq организации, а eq также международные eq участвовали эксперты eq и аккредитованные eq представители иностранного eq дипломатического корпуса.\n",
      "eq С приветственным eq словом к eq участникам обратились eq первый заместитель eq Спикера Законодательной eq палаты Олий eq Мажлиса Республики eq Узбекистан, директор eq Национального правозащитного eq центра Республики eq Узбекистан Акмаль eq Саидов и eq глава представительства eq ЮНЕСКО в eq Узбекистане Александрос eq Макаригакис. события.\n",
      "eq На конференции eq широко обсуждалась eq пятая цель eq устойчивого развития – eq обеспечение гендерного eq равенства и eq реализация прав eq и возможностей eq всех женщин. eq При формировании eq интеллектуального потенциала eq в этой eq связи особое eq внимание уделялось eq разработке предложений eq и практических eq рекомендаций по eq решению гендерных eq проблем в eq нашем обществе eq путем анализа eq опыта обеспечения eq гендерного равенства eq в Узбекистане.\n",
      "\n",
      "eq По сообщению eq пресс-службы eq Центра устойчивого eq развития, основными eq задачами международного eq круглого стола eq являются:\n",
      "Информирование eq широкой общественности eq о благоприятных eq политических, правовых, eq институциональных и eq организационных условиях, eq созданных для eq обеспечения гендерного eq равенства и eq повышения статуса eq женщин в eq Узбекистане;\n",
      "анализ eq национального законодательства eq и международных eq стандартов в eq области обеспечения eq гендерного равенства eq на всех eq уровнях государственного eq управления - город, eq область, Республика;\n",
      "eq в соответствии eq с международными eq стандартами, в eq процессе разработки eq политики Узбекистана eq по достижению eq гендерного равенства eq и обеспечения eq основных прав eq женщин, а eq также в eq процессе ее eq эффективной реализации, eq определяя основные eq задачи, правовые eq нормы и eq установленные процедуры eq для женщин eq во всех eq сферы общества eq и государственного eq управления;\n",
      "современное eq состояние участия eq женщин в eq масштабных реформах eq по всем eq аспектам модернизации eq страны, в eq частности достижения eq и актуальные eq проблемы в eq части реализации eq пятой цели eq Целей устойчивого eq развития ООН, eq известной как «eq Обеспечение гендерного eq равенство и eq расширение прав eq и возможностей eq всех женщин». «eq обучение;\n",
      "сосредоточены eq на разработке eq и реализации eq важных проектов eq по достижению eq гендерного равенства eq и всестороннему eq обеспечению прав eq женщин на eq всех уровнях eq государственного управления eq в Узбекистане eq в соответствии eq с общепризнанными eq международными стандартами eq в этой eq сфере.\n",
      "\n",
      "Международные eq и национальные eq эксперты «Обеспечение eq гендерного равенства eq и расширение eq прав и eq возможностей женщин – eq важное направление eq государственной политики», «eq Национальная гендерная eq стратегия Узбекистана: eq механизмы реализации eq и перспективы», «eq Защита прав eq женщин» и eq лекции на eq такие темы, eq как «Международная eq сотрудничество в eq области безопасности».\n",
      "\n",
      "eq При этом eq в процессе eq разработки и eq эффективной реализации eq политики Узбекистана eq по достижению eq гендерного равенства eq и обеспечению eq основных прав eq женщин в eq соответствии с eq международными стандартами eq определение основных eq задач, правовых eq норм и eq установленных процедур eq для женщин eq во всех eq сферах жизни eq общества и eq государственного управления , eq права женщин eq подробно обмениваются eq достижениями и eq актуальными проблемами eq в области eq защиты юридических, eq социально-экономических eq прав.\n",
      "\n",
      "Итоговый eq документ был eq принят после eq мероприятия. Он eq направлен на eq повышение роли eq и положения eq женщин, и eq обеспечение полного eq гендерного равенства eq во всех eq аспектах модернизации eq Нового Узбекистана, eq а также eq эффективных зарубежных eq нормативных актов eq в соответствии eq с международными eq стандартами в eq этой сфере. eq и организационно-eq институциональный опыт eq нашли отражение.\n",
      "eq Государственный таможенный eq комитет является eq первым государственным eq учреждением, использующим eq программу в eq Узбекистане и eq Центральной Азии. eq Основной целью eq программы «Знак eq гендерного равенства eq государственных учреждений» eq является учет eq гендерных вопросов eq в государственной eq политике и eq обеспечение ее eq эффективности, действенности eq и ориентированности eq на потребности eq людей, особенно eq женщин, нуждающихся eq в социальной eq защите. В eq частности, в eq рамках программы eq будет предоставлена ​​eq практическая база eq государственным учреждениям eq для укрепления eq их потенциала eq и более eq эффективного обеспечения eq гендерного равенства.\n",
      "eq Председатель Сената eq Олий Мажлиса eq Республики Узбекистан eq Танзила Норбоева eq отметила, что eq данная программа eq служит успешной eq реализации Национальной eq стратегии по eq обеспечению гендерного eq равенства в eq Узбекистане и eq будет примером eq не только eq в Узбекистане, eq но и eq в Центральной eq Азия. В eq своем выступлении eq Танзила Норбоева eq подчеркнула, что eq гендерное равенство eq касается не eq только расширения eq прав и eq возможностей женщин. «eq Продвижение и eq достижение гендерного eq равенства также eq расширяет права eq и возможности eq мужчин и eq приносит пользу eq обществу в eq целом».\n",
      "Какие eq льготы для eq женщин Узбекистана eq в 2023 году?\n",
      "eq В Узбекистане eq для женщин eq создан ряд eq льгот в eq соответствии с eq законодательством. В eq частности, в 2022 eq году женщинам eq для начала eq предпринимательской деятельности eq будут выделены eq кредиты в eq размере до 33 eq млн сумов. eq О порядке eq предоставления микрозаймов eq физическим лицам, eq проявляющим предпринимательскую eq инициативу, в eq том числе eq молодежи и eq женщинам, согласно eq постановлению Правительства «eq Об эффективной eq реализации программ eq профессионального и eq предпринимательского обучения eq молодежи и eq женщин и eq о мерах eq по выделению eq микрозаймов на eq осуществление ими eq предпринимательской деятельности» eq был утвержден eq устав.\n",
      "Представительство eq в правительстве\n",
      "eq По данным eq Форума женщин ― eq парламентариев МПС, eq на январь 2021 eq года в 22 eq странах мира (eq в 2020 году eq было 20) женщины eq занимают посты eq глав государств eq и правительств: 9 (5,9%) eq из 152 избранных eq глав государств eq и 13 (6,7%) из 193 eq глав правительств – eq женщины. \n",
      "При eq этом наибольшее eq количество стран, eq в которых eq женщины занимают eq высшую государственную eq должность (пять eq глав государств) eq или возглавляют eq правительство (семь eq глав правительств), eq приходится на eq долю Европы.\n",
      "eq Однако число eq стран, в eq которых женщины eq занимают 50% и eq более министерских eq должностей, сократилось eq с 14 в 2020 eq году до 13 eq в 2021 году ― eq это Никарагуа (58,8%), eq Австрия (57,1%), Бельгия eq и Швеция (eq по 57,1%), Албания (56,3%), eq Руанда (54,8 %), Коста-eq Рика (52%), Канада (51,4%), eq Андорра, Финляндия, eq Франция, Гвинея-eq Бисау и eq Испания (по 50%). \n",
      "eq Наибольший скачок eq в политическом eq представительстве женщин eq на исполнительном eq уровне наблюдается eq в странах:\n",
      "eq Европы ― Литве ― eq с 8 до 43%, eq Бельгии ― с 25 eq до 57%; \n",
      "Африки eq к югу eq от Сахары ― eq Намибии ― с 15 eq до 39%;\n",
      "Америки ― eq США. Впервые eq в истории eq страны число eq женщин-министров eq выросло с 17 eq до 46%; \n",
      "Азии ― eq Монголии, где eq процент возглавляемых eq женщинами министерств eq вырос с 6,7 eq до 18,8%, что eq является самым eq большим показателем eq в регионе. eq Узбекистан же eq по данному eq показателю (3,4%) занимает 180-eq е место eq в мире;\n",
      "eq Ближнего Востока eq и Северной eq Африки – Тунисе – eq с 6,9%  до 29,2%. eq В Ливане eq сохраняется самая eq большая доля eq женщин-министров – 31,6%;\n",
      "\n",
      "eq Тихоокеанского региона – eq Новой Зеландии, eq где сохраняется eq самая большая eq доля женщин-eq министров – 40%, что eq на 10% больше, eq чем в 2020 eq году.\n",
      "При eq этом женщины-eq министры по-eq прежнему доминируют eq в министерствах, eq ответственных за eq социальные вопросы, eq вопросы женщин eq и гендерного eq равенства. Несколько eq возросла также eq доля женщин eq в традиционно eq возглавляемых мужчинами eq министерствах. \n",
      "Например, 11,9% eq оборонных ведомств (eq в 2020 г. ― 10,1%), 13,6% eq министерств финансов (eq в 2020 г. ― 11,5%), 26% eq внешнеполитических ведомств (eq в 2020 г. ― 16,8%) eq в настоящее eq время возглавляются eq женщинами.\n",
      "В eq целом в eq мире наблюдается eq тенденция динамичного eq роста женщин-eq политиков как eq в законодательных eq и исполнительных eq органах власти, eq так и eq среди представителей eq судебной власти. eq Тенденции, наблюдаемые eq в Узбекистане, eq тоже идут eq в русле eq общемировых процессов.\n",
      "eq Согласно положению, eq лица, проявляющие eq предпринимательскую инициативу, eq в том eq числе молодежь eq и женщины, eq а также eq лица, создавшие eq микрофирмы и eq малые предприятия (eq заемщики), могут eq обратиться за eq получением кредита eq в Акционерно-eq коммерческий банк «eq Микрокредитбанк» или eq АО «Халк». eq фондовый банк eq с электронным eq приложением.\n",
      "Запрещается eq увольнять женщин eq по инициативе eq работодателя в eq связи с eq достижением пенсионного eq возраста.\n",
      "7 марта 2019 eq года принято eq постановление Президента «eq О мерах eq по дальнейшему eq усилению гарантий eq трудовых прав eq женщин и eq поддержке предпринимательства».\n",
      "eq В целях eq усиления гарантий eq защиты трудовых eq прав женщин, eq дальнейшей поддержки eq их предпринимательской eq инициативы, поощрения eq трудовой деятельности eq и повышения eq уровня доступа eq к правосудию:\n",
      "eq С 1 мая 2019 eq г.:\n",
      "- отменены eq запреты на eq использование женского eq труда в eq отдельных областях eq или профессиях;\n",
      "- eq утвержден перечень eq отраслей или eq профессий, которые eq могут оказывать eq негативное влияние eq на здоровье eq женщин;\n",
      "- при eq использовании отцом eq не менее eq трех месяцев eq отпуска по eq уходу за eq ребенком одному eq из отца eq или матери eq предоставляется отпуск eq по уходу eq за ребенком eq с дополнительным eq месячным пособием eq в соответствии eq со статьей 234 eq Трудового кодекса eq Республики Узбекистан;\n",
      "- eq одному из eq родителей, воспитывающих eq ребенка в eq возрасте до eq двух лет, eq предоставляется право eq определять время eq перерыва в eq течение дня eq по согласованию eq с работодателем eq за счет eq перерывов, предоставляемых eq для отдыха eq и приема eq пищи, кормления eq ребенка во eq время работы;\n",
      "- eq запрещается расторжение eq бессрочного трудового eq договора, заключенного eq с женщинами, eq по инициативе eq работодателя до eq достижения ими 60-eq летнего возраста eq или до eq истечения срока eq действия срочного eq трудового договора eq в связи eq с достижением eq женщинами пенсионного eq возраста. по eq возрасту или eq имеют право eq на получение eq государственной пенсии eq по возрасту eq в соответствии eq с законом;\n",
      "- eq Плата за eq юридические услуги, eq оказываемые женщинам eq адвокатами по eq делам, связанным eq с нарушением eq равноправия мужчин eq и женщин, eq покрывается государством eq по их eq требованию.\n",
      "Некоторым eq категориям женщин eq выдается рекомендательное eq письмо для eq поступления в eq ВУЗ.\n",
      "Решением eq правительства утверждено eq положение о eq порядке дачи eq рекомендаций женщинам eq для участия eq в конкурсе eq и организации eq их приема eq в высшие eq учебные заведения eq в рамках eq параметров приема eq на основе eq дополнительных государственных eq грантов.\n",
      "Согласно eq регламенту, такие eq рекомендации выдаются eq на основании eq одного из eq следующих критериев:\n",
      "• eq женщины из eq малообеспеченных семей;\n",
      "• eq девочки, воспитывающиеся eq в неполных eq семьях, то eq есть женщины, eq у которых eq умер отец eq или мать;\n",
      "• eq дочери одиноких eq женщин (мужчин), eq воспитывающих двух eq и более eq детей в eq возрасте до 14 eq лет, проживающих eq отдельно от eq других родственников;\n",
      "• eq семьи, не eq имеющие собственного eq жилья и eq живущие на eq найме;\n",
      "• один eq или оба eq родителя являются eq безработными и eq зарегистрированы в eq качестве лиц, eq ищущих работу, eq в центрах eq содействия занятости;\n",
      "• eq женщины из eq семей с eq детьми-инвалидами;\n",
      "• eq Районы, где eq уровень охвата eq женщин высшим eq образованием в eq два и eq более раза eq ниже средних eq показателей по eq республике, а eq также девочек eq из семей, eq проживающих в eq отдаленных и eq труднодоступных районах (eq при условии, eq что они eq работают в eq своей территории eq на 3 года).\n",
      "eq Порядок получения eq рекомендации определен eq положением. По eq его данным, eq ежегодно в eq феврале формируется eq рабочая группа eq по выдаче eq рекомендательных писем eq женщинам.\n",
      "Рекомендация eq дается женщинам, eq желающим получить eq высшее образование eq на срок eq не более 3 eq лет.\n",
      "Обеспечено eq равное участие eq женщин и eq мужчин в eq отборе на eq руководящие должности\n",
      "eq Согласно законодательству eq ОЗР «О eq гарантиях равных eq прав и eq возможностей женщин eq и мужчин» eq должно быть eq обеспечено равное eq участие женщин eq и мужчин eq в конкурсе eq на замещение eq должностей государственной eq службы, в eq том числе eq руководящих должностей.\n",
      "eq Кадровые службы eq государственных органов eq обязаны предоставлять eq отборочным комиссиям eq не только eq сведения об eq образовании и eq профессиональной подготовке eq лиц, участвующих eq в конкурсе, eq но и eq сведения о eq соотношении численности eq женщин и eq мужчин, работающих eq в соответствующие eq должности государственной eq службы.\n",
      "В eq Узбекистане проведут «eq гендерный аудит»\n",
      "eq Законопроект об eq этом обсуждался   eq в Узбекистане «eq Задачи гендерного eq аудита» и «eq Процедура гендерного eq аудита» определены eq в специальных eq статьях. Об eq этом стало eq известно на eq заседании фракции eq Демократической партии «eq Национальное возрождение» eq в Законодательной eq палате Олий eq Мажлиса.\n",
      "Отмечается, eq что принята eq Стратегия достижения eq гендерного равенства eq в Республике eq Узбекистан до 2030 eq года и eq утверждена Комплексная eq программа мероприятий eq по ее eq реализации на 2021-2022 eq годы. Пункт 1 eq программы предусматривает eq разработку законопроекта, eq определяющего понятие «eq гендерный аудит» eq и порядок eq его проведения.\n",
      "eq Кроме того, eq был разработан eq вышеуказанный законопроект, eq а документ «eq Задачи гендерного eq аудита» и «eq Процедура гендерного eq аудита» определены eq в специальных eq статьях, а eq название «Комиссии eq Узбекистана по eq вопросам гендерного eq равенства» изменено eq на «Республика eq Республики Узбекистан eq по гендерному eq равенству и eq вопросам семьи, eq повышению роли eq женщин и eq девушек в eq обществе» было eq объявлено, что eq название будет eq изменено на «eq комиссия».\n",
      "В eq ходе обсуждений eq депутаты внесли eq ряд предложений eq по дальнейшему eq совершенствованию законопроекта eq исходя из eq целей и eq задач партии. eq Говорят, что eq их включение eq в законодательство eq послужит укреплению eq механизмов гарантирования eq равных прав eq и возможностей eq женщин и eq мужчин, и eq законопроект был eq одобрен. На eq заседании были eq обсуждены и eq другие законопроекты, eq включенные в eq повестку дня, eq и приняты eq соответствующие решения.\n",
      "eq Напоминаем, что eq ранее было eq объявлено, что eq в каждом eq районе Узбекистана eq будут созданы eq центры обеспечения eq занятости женщин. eq Также 18 июля eq Шавкат Мирзиёев eq подписал решение eq о предоставлении eq льготных кредитов eq на женское eq обучение.\n",
      "                                                       \n",
      "\n",
      "\n",
      "\n",
      "\n",
      "\f",
      "Заключение\n",
      "eq Имидж страны eq является важным eq целевым конструктором eq в международных eq связях с eq общественность и eq публичной дипломатии. eq В условиях eq глобализированного мира eq и распространения eq современных медиасообществ eq имидж страны eq становится все eq более важным eq по сравнению eq с доступом eq к территории eq и сырьём, eq когда речь eq идет о eq культурной, экономической eq и политической eq конкурентоспособности национальных eq государств.\n",
      "В eq заключение, можно eq отметить, что eq вопрос гендерного eq равенства в eq Узбекистане остается eq актуальным и eq требует дальнейших eq усилий от eq государства, общественных eq организаций и eq каждого человека. eq Несмотря на eq принятие ряда eq законодательных актов eq и программ, eq направленных на eq повышение статуса eq женщин и eq защиту их eq прав, остаются eq проблемы в eq сфере занятости, eq образования, здравоохранения eq и насилия eq в отношении eq женщин. Однако, eq политическая воля eq и активность eq гражданского общества, eq а также eq изменения в eq сознании населения eq создают благоприятные eq условия для eq продвижения процесса eq достижения гендерной eq равенности в eq Узбекистане.\n",
      "расположен eq в одном eq из самых eq засушливых регионов eq Центральной Азии. \n",
      "eq Правительство Узбекистана eq прилагает большие eq усилия для eq расширения прав eq и возможностей eq девушек и eq женщин. Несмотря eq на значительный eq прогресс,  необходимо eq проделать большую eq работу для eq повышения их eq потенциала, как eq в городе, eq так и eq в сельской eq местности. Этого eq можно достичь, eq обеспечив женщинам eq и девочкам eq равный доступ eq к ресурсам eq и возможностям, eq таким как eq доступ к eq формальному и eq неформальному образованию, eq включая навыки eq STEM, официальное eq трудоустройство, кредиты eq под низкие eq проценты и eq доступ к eq земле. Правительственные eq организации, неправительственные eq организации и eq сообщества могут eq помочь разрушить eq унизительные стереотипы eq о роли eq и обязанностях eq женщин и eq девочек для eq достижения более eq положительных результатов. eq Особое внимание eq следует уделить eq малообеспеченным семьям, eq проживающим в eq отдаленных селах, eq инвалидам и eq другим группам eq населения, нуждающимся eq в социальной eq защите.     Девочки-eq инвалиды особенно eq подвержены риску eq отсутствия доступа eq к образованию eq и профессиональному eq обучению. Им eq также не eq хватает минимальной eq компьютерной грамотности, eq чтобы безопасно eq ориентироваться в eq цифровом мире. eq Это не eq только ограничивает eq их будущие eq возможности для eq получения образования eq и трудоустройства, eq но и eq делает их eq уязвимыми для eq злоупотреблений, преследований eq и запугивания eq в Интернете. eq В связи eq с этим eq развитие STEM-eq навыков у eq девочек, в eq том числе eq детей с eq ограниченными возможностями, eq посредством программы eq компьютерной грамотности eq представительства ЮНИСЕФ eq в Узбекистане eq является одним eq из приоритетов eq в этом eq году. Кроме eq того, ЮНИСЕФ eq продолжает реализацию eq программы социальных eq инноваций ImkonLab. eq Это не eq только повышает eq квалификацию молодых eq людей, но eq и позволяет eq им реализовать eq свои идеи eq на благо eq общества. Это eq также важно eq для формирования eq уверенности в eq себе у eq молодых людей eq с ограниченными eq возможностями. ЮНИСЕФ eq призывает правительство eq Узбекистана поощрять eq активное участие eq женщин в eq экономической, политической eq и общественной eq сферах. В eq связи с eq этим важно eq изменить гендерные eq стереотипы и eq нормы в eq отношении участия eq и равенства eq женщин, а eq также опираться eq на родителей, eq педагогов, сообщества, eq религиозных лидеров eq и другие eq организации. Можно eq сказать что eq в Узбекистане eq систематически продолжается eq защита прав eq и законных eq интересов женщин, eq повышение их eq экономической, социальной eq и политической eq активности, сохранение eq их здоровья, eq обеспечение профессиональной eq подготовки и eq трудоустройства, широкое eq вовлечение в eq предпринимательство, социальная eq поддержка малообеспеченных eq женщин, обеспечение eq реформ гендерного eq равенства .  Поставленные eq задачи по eq удвоению доли eq женщин являются eq ярким выражением eq государственной политики, eq направленной на eq обеспечение гендерного eq равенства во eq всех сферах eq жизни и eq деятельности общества.\n",
      "\n",
      "eq В целом eq в мире eq наблюдается тенденция eq динамичного роста eq женщин-политиков eq как в eq законодательных и eq исполнительных органах eq власти, так eq и среди eq представителей судебной eq власти. Тенденции, eq наблюдаемые в eq Узбекистане, тоже eq идут в eq русле общемировых eq процессов.\n",
      "\n",
      "\n",
      "\n",
      "\n",
      "\n",
      "\n",
      "\n",
      "\n",
      "\n",
      "\f",
      "Список eq использованных источников eq и литературы\n",
      "eq Нормативно-правовые eq документы\n",
      "Аналитическая eq записка и eq посредством образования eq в Центральной eq Азии. ЮНЕСКО. [ eq Электронный ресурс] (eq дата обращения: 04.03.2022).\n",
      "eq ООН. Равенство eq полов. [Электронный eq ресурс]. URL: eq https. (дата eq обращения: 04.03.2023).\n",
      "ООН. eq Комиссия по статусу eq женщин. [Электронный eq ресурс] URL: eq https. (дата eq обращения: 04.03.2023). \n",
      "USAID. eq Women's Empowerment eq and Gender eq Equality. [Электронный eq ресурс] URL: eq https. (дата eq обращения: 14.03.2022.)\n",
      "Eurasian eq Research Institute. eq Gender Assessment eq in Central eq Asia. [Электронный eq ресурс] URL: eq httpsresearch.org/eq publication/gender-eq assessment-in-eq central-asia/?eq lang=ru. (eq Дата обращения: 14.03.2022.)\n",
      "eq ООН. Цели eq устойчивого развития. Равенство eq полов. [Электронный eq ресурс] URL: eq https. (дата eq обращения: 15.03.2023).\n",
      "ООН. eq Гендерное равенство: eq ключ к eq устойчивому развитию. [eq Электронный ресурс] URL: eq https. (дата eq обращения: 15.03.2023).\n",
      "ВОЗ. 10 eq ключевых вопросов eq обеспечения гендерной eq равноправности в eq мировом здравоохранении. [Электронный eq ресурс] HYPERLINK \"https://www.who.int/ru/news-room/feature-stories/detail/10-key-issues-in-ensuring-gender-equity-in-the-global-health-workforce\" https://eq www.who.eq int/ru/eq news-room/eq feature-stories/eq detail/10-key-eq issues-in-eq ensuring-gender-eq equity-in-eq the-global-eq health-workforce. (eq дата обращения: 16.03.2023).\n",
      "eq Программа ООН eq по окружающей eq среде. Гендерное eq равенство – важнейшая eq недостающая часть решения. [eq Электронный ресурс] URL: eq https. (дата eq обращения: 17.03.2023).\n",
      "ООН. eq Гендерное равенство eq в Центральной eq Азии: прогресс eq и вызовы. [eq Электронный ресурс] URL: eq https. (дата eq обращения: 17.03.2023).\n",
      "Alieva eq A. Женщины eq Центральной Азии - eq сильные и eq независимые. [Электронный eq ресуср] URL: eq https. (дата eq обращения: 17.03.2023).\n",
      "Central eq Asia News. eq Kazakhstan: Women eq are Central eq Asia's most eq active entrepreneurs. [eq Электронный ресурс] URL: eq https. (дата eq обращения: 17.03.2023).\n",
      "NewToNew. eq Как пол eq игрушек влияет eq на развитие eq ребенка. [Электронный eq ресурс] URL: eq https.( дата eq обращения: 17.03.2023). \n",
      "Higher eq School of eq Economics. Гендерные eq стереотипы в eq России и eq других странах eq мира. [Электронный eq ресурс] URL: eq https. (дата eq обращения: 17.03.2023)\n",
      "Статьи\n",
      "eq Кабулова С. П. eq Естественно подходы в eq юридическом регулировании//Монография. — eq Л.: Самарканд. eq гос. ун-eq т. 2010. — 275 с.\n",
      "eq Мудрик А. eq В. Социализация eq человека. // Изд. eq Центр Академия 2004. -304 eq с.\n",
      "Рахимов eq С. Р. eq Роль женщин eq в развитом eq демократическом обществе. //eq Вестник НУУз. 1992. № 32. eq С.10-13 \n",
      "Келебергенов eq А. Гендерное eq равенство в eq системе демократических eq принципов // Хабарши, eq Нукус. 2002. № 5. С.7-12.\n",
      "eq Усманова, У. eq С. Гендерная eq политика в eq Узбекистане — важный eq критерий обеспечения eq прав человека. // Молодой eq ученый. — 2021. № 48 С. 496-499. [eq Электронный ресурс] — eq URL: https://eq moluch.ru/eq archive/390/85809/ (дата eq обращения: 29.04.2023).\n",
      "Ajzen, eq Icek. Nature eq and operation eq of attitudes.//eq In: Annual eq Review of eq Psychology.2008. N 52. eq pp. 27–58.\n",
      "Ajzen, eq Icek; Fishbein, eq Martin. Understanding eq attitudes and eq predicting social eq behavior. Englewood eq Cliffs N.eq J // Prentice-eq Hall. 1983. N 45. eq pp 21-25.\n",
      "Albritton, eq Robert B.; eq Manheim, Jarol eq B.News eq of Rhodesia: eq The impact eq of a eq public relations eq campaign. //In: eq Journalism Quarterly. eq N 60 (4),. pp. 622–28.\n",
      "eq Albritton, Robert eq B.; Manheim, eq Jarol B.  „eq Public relations eq efforts for eq the Third eq World: Images eq in the eq news. //In: eq Journal of eq Communication. 1985. N35 (1), eq pp. 43–59.\n",
      "Allred, eq Anthony; Chakraborty, eq Goutam; Miller, eq Stephen J.eq Measuring images eq of developing eq countries: A eq scale development eq study //In: eq Journal of eq Euromarketing. 1993.N 8 (3), eq pp. 29–49.\n",
      "AMEC.eq Barcelona Declaration eq of Measurement eq Principles. London: eq AMEC. [Электронный eq ресурс] URL: eq httpcontent/uploads/2011/08/eq Barcelona_Principles_eq for_PR_eq Measurement.pdf [eq accessed: 20.01.23].\n",
      "Anderson, eq Benedic.Imagined eq communities: reflections eq on the eq origin and eq spread of eq nationalism. Londo // eq Verso. 1983.N 43. eq pp.55-57.\n",
      "Anderson, eq James C.; eq Gerbing, David eq W. Predicting eq the performance eq of measures eq in a eq confirmatory factor eq analysis with eq a pretest eq assessment of eq their substantive eq validities. //Journal eq of Applied eq Psychology. 1991. N 76, eq pp. 732–740.\n",
      "Anholt, eq Simon. Public eq diplomacy and eq place branding: eq Where’s the eq link?“ // Place eq Branding.2006. N 3, eq pp. 271–275.\n",
      "Ashmore, eq Richard D; eq Deaux, Kay; eq McLaughlin-Volpe, eq Tracy. // An eq organizing framework eq for collective eq identity: articulation eq and significance eq of multidimensionality. // eq Psychological Bulletin. 2004. eq N 130, pp. 80–114.\n",
      "eq Avenarius, Horst; eq Armbrecht, Wolfgang. eq Ist Public eq Relations eine eq Wissenschaft? // Eine eq Einführung. Springer eq VS.2003.N 56. eq Pp.98.\n",
      "Avraham, eq Eli; Ketter, eq Eran. Media eq Strategies for eq Marketing Places eq in Crisis: eq Improving the eq Image of eq Cities, Countries eq and Tourist eq Destinations. Amsterdam //eq Butterworth-Heinemann.2005. eq N 8.pp. 96-98.\n",
      "eq Bagozzi, Richard; eq Fornell, Claes. eq Theoretical concepts, eq measurement and eq meaning analysis // eq New York: eq Praeger. 2003. pp. 24–38.\n",
      "eq Banks, Robert. eq A resource eq guide to eq public diplomacy eq evaluation. Los eq Angeles //Figueroa eq Press.2003. N 7. eq pp.54-55.\n",
      "Barich, eq H; Kotler, eq P. A eq framework for eq marketing image eq management. // Sloan eq Management Review. 2003. eq N 32 (2). pp. 94–104.\n",
      "eq Baron, Reuben eq M.; Kenny, eq David A. eq The moderator–eq mediator variable eq distinction in eq social psychological eq research: Conceptual, eq strategic, and eq statistical considerations. // eq Journal of eq Personality and eq Social Psychology. 1993. eq N 51. pp. 1173–1182.\n",
      "eq Bentler, Peter eq M.; Speckart, eq George. Models eq of attitude–eq behavior relations.“ eq In: Psychological eq Review. 1979. N 86. eq pp. 452–464.\n",
      "Bentler, eq Peter M.; eq Speckart, George. eq Attitudes ‚cause‘eq behaviors: A eq structural equation eq analysis. // Journal eq of Personality eq and Social eq Psychology. 1981. N 40. eq pp. 226–238.\n",
      "Bergler, eq Reinhold. Identität eq und Image // eq Bentele, Günter; eq Fröhlich, Romy; eq Szyszka, Peter (eq eds.) Handbuch eq der Public eq Relations. Wissenschaftliche eq Grundlagen und eq berufliches Handeln. 2nd eq edn. Wiesbaden: eq VS Verlag eq für Sozialwissenschaften.1998. eq pp. 321–334.\n",
      "Bloemer, eq Josée; Brijs, eq Kris; Kasper, eq Hans. The eq CoO-ELM eq model: A eq theoretical framework eq for the eq cognitive processes eq underlying country eq of origin-eq effects // European eq Journal of eq Marketing. 1998.\n",
      "\n",
      "\n",
      "\n",
      "Материалы eq рейтингов\n",
      "fDi’s eq Global Cities eq of the eq Future 2021/22 – overall eq winners. fDi eq Intelligence  official site, 11 eq February 2021 [Электронный eq ресурс]  URL: eq https (дата eq обращения: 19.04.2023). \n",
      "Montreal eq tops strategy eq category in eq Tier 2 future eq cities ranking. eq fDi Intelligence eq official site, 20 August 2020 [eq Электронный ресурс] URL: eq https (дата eq обращения: 19.04.2023). \n",
      "The eq World’s Safest eq Cities Ranking, 2019. eq CEOWORLD magazine, 2019 [eq Электронный ресурс] – eq URL:   HYPERLINK \"https://ceoworld.biz/2019/08/01/the-worlds-safest-cities-ranking-2019/\" https://eq ceoworld.biz/2019/08/01/eq the-worlds-eq safest-cities-eq ranking-2019/ (дата eq обращения: 21.04.2023). \n",
      "Wales eq Soft Power eq Barometer. Measuring eq Soft Power eq Beyond the eq Nation-State // eq British Council, 2018. – 33 p. [eq Электронный ресурс] – URL: eq https (дата eq обращения: 21.04.2023). \n",
      "Материалы eq статистических исследований\n",
      "eq Call for eq International Award eq UCLG Mexico eq City – Culture 21. [eq Электронный ресурс] URL: eq https (дата eq обращения:25.04.2023).\n",
      "Батыров, eq Р. Алгоритмы eq социального инжиниринга. [eq Электронный ресурс] // eq Proza.ru. eq URL:  HYPERLINK \"https://proza.ru/2011/11/04/1060\" https://eq proza.ru/2011/11/04/1060 (eq дата обращения:25.04.2023).\n",
      "Investing eq in Women // eq Global Gender eq Gap Report 2022. [eq Электронный ресурс] eq URL:  HYPERLINK \"https://investinginwomen.asia/knowledge/global-gender-gap-report-2022\" https://eq investinginwomen.asia/eq knowledge/global-eq gender-gap-eq report-2022. (дата eq обращения: 25.04.2023).\n",
      "World eq Economic Forum // eq Global Gender eq Gap Report 2022. [eq Электронный ресурс] eq URL:  HYPERLINK \"https://www.weforum.org/reports/global-gender-gap-report-2022\" https://eq www.weforum.eq org/reports/eq global-gender-eq gap-report-2022. (eq дата обращения: 25.04.2023).\n",
      "eq World Economic eq Forum // Global eq Gender Gap eq Report 2022. Full eq Report. [Электронный eq ресурс]  HYPERLINK \"URL:https://www3.weforum.org/docs/WEF_GGGR_2022.pdf\" URL:eq https://www3.eq weforum.org/eq docs/WEF_eq GGGR_2022.pdf (eq дата обращения: 25.04.2023).\n",
      "eq International Women's eq Day //Global eq gender gap eq narrowing, but eq still 132 years eq to reach parity. [eq Электронный ресурс] URL: eq https.  (дата eq обращения: 25.04.2023).\n",
      "United eq Nations Population eq Fund. International eq Men and eq Gender Equality eq Survey // Global eq Report 2022. [Электронный eq ресурс] URL: eq https (дата eq обращения: 25.04.2023).\n",
      "Gender eq Equality Policy. [Электронный eq ресурс] URL: eq https  (дата eq обращения: 25.04.2023).\n",
      "Georgetown eq Institute for eq Women, Peace eq and Security: eq Uzbekistan. [Электронный eq ресурс]  HYPERLINK \"URL:https://giwps.georgetown.edu/country/uzbekistan/\" URL:eq https://giwps.eq georgetown.edu/eq country/uzbekistan/ (eq дата обращения: 25.04.2023).\n",
      "eq Закон Республики eq Узбекистан «О eq государственных гарантиях eq равенства прав eq и интересов eq мужчин и eq женщин» от 11 eq апреля 2019 года № eq ЗРУ-567. [Электронный eq ресурс] URL: eq https (дата eq обращения: 25.04.2023).\n",
      " Активность eq женщин в eq экономике Узбекистана eq оценена в 1,7 eq триллиона сумов. [eq Электронный ресурс] URL: eq https (дата eq обращения: 25.04.2023).\n",
      "Areo – «eq Academic Grievance eq Studies and eq the Corruption eq of Scholarship»,  [eq Электронный ресурс]: URL: eq https (дата eq обращения: 02.05.2023).\n",
      "\n",
      "B/eq S/H/. eq Our employees eq are our eq greatest asset. [eq Электронный ресурс] eq URL:  HYPERLINK \"https://www.bsh-group.com/responsibility/employees\" https://eq www.bsh-eq group.com/eq responsibility/employees (eq дата обращения: 02.05.2023)\n",
      "eq Charta der eq viefalt. [Электронный eq ресурс] URL: eq https (дата eq обращения 02.05.2023).\n",
      "Cloverpop. eq Inclusive Decision-eq Making Increases eq Performance Of eq Diverse Global eq Companies. [Электронный eq ресурс] URL: eq https.  2009.(дата eq обращения: 02.05.2023) \n",
      "Forbes – «25 eq лучших компаний eq для женской eq карьеры», [Электронный eq ресурс] URL: eq https (дата eq обращения: 02.05.2023)\n",
      "Grant eq Thorton ФБК –«eq Гендерный разрыв eq в оплате eq труда», 2017, [Аналитический eq доклад]: eq pdf (дата eq обращения: 02.05.2023).\n",
      "GWAnet. eq История и теория eq феминизма. [Электронный eq ресурс] URL:eq http (дата eq обращения: 02.05.2023). \n",
      "HeadHunter. eq Достижимо ли eq гендерное равенство eq на рынке eq труда. [Электронный eq ресурс] URL: eq https (дата eq обращения: 03.05.2023).\n",
      "History eq of Feminism. [Электронный eq ресурс] URL: eq https (дата eq обращения: 03.05.2023).\n",
      "Human eq Resource Development eq International – «Breaking eq through the eq glass wall: eq the experience eq of being eq a woman eq enterprise leader», [eq Аналитический доклад] eq URL:  HYPERLINK \"https://www.tandfonline.com/doi/full/10.1080/13678868.2012.688361?scroll=top&needAccess=true\" https://eq www.tandfonline.eq com/doi/eq full/10.1080/13678868.2012.688361?scroll=eq top&needAccess=eq true  (дата eq обращения: 03.05.2023). \n",
      "International eq Chamber of eq Commerce. Мировая eq глобализация.  [Электронный eq ресурс] URL: eq http (дата eq обращения: 03.05.2023)\n",
      "International eq Labour Organization. eq Global Wage eq Report 2018/19. [аналитический eq доклад] URL: eq https (дата eq обращения: 03.05.2023)\n",
      "J.eq P.Morgan eq Chase. The eq Gender Leadership Gap. [eq Электронный ресурс] URL: eq https  (дата eq обращения: 03.05.2023).\n",
      "J-eq PAL. Discrimination eq in the eq Job Market eq in the eq United States. [eq Электронный ресурс] URL: eq https  (дата eq обращения: 03.05.2023) \n",
      "KellyService //eq Стеклянный потолок: eq миф или eq реальность.  [Электронный eq ресурс] URL: eq https. 2017. (дата eq обращения: 03.05.2023). \n",
      "ManpowerGroup. 7 eq steps to eq concision inclusion. [eq Аналитический доклад] eq URL:  HYPERLINK \"https://www.manpowergroup.com/wcm/connect/6b392e0f-1dfb-46e6-aa72-eeb8859f40b7/Seven%2BSteps%2Bto%2BConscious%2BInclusion.pdf?MOD=AJPERES&CONVERT_TO=url&CACHEID=ROOTWORKSPACE-6b392e0f-1dfb-46e6-aa72-eeb8859f40b7-mNbPjrV\" https://eq www.manpowergroup.eq com/wcm/7conclusions (eq дата обращения: 03.05.2023).\n",
      "eq McKinsey & Company. eq Women in eq the workplace 2020. [eq Аналитический доклад] eq URL:  HYPERLINK \"https://wiw report.s3.amazonaws.com/Women_in_the_Workplace_2020.pdf\" https://eq wiw report.s3.eq amazonaws.com/eq Women_in_eq the_Workplace_2020.eq pdf (дата eq обращения 03.05.2023)\n",
      "McKinsey&eq Co. Women eq in the eq workplace [Электронный eq ресурс] URL: eq https, HYPERLINK \"https://www.mckinsey.com/~/media/McKinsey/Featured%20Insights/Employment%20and%20Growth/The%20power%20of%20parity%20Advancing%20womens%20equality%20in%20the%20United%20States/MGI-Power-of-Parity-in-US-Full-report-April-2016.ashx\" https://eq www.mckinsey.eq com/~/media/eq McKinsey/Featured%20Insights/eq Employment (дата eq обращения: 03.05.2023).\n",
      "\n",
      "Mercer. 2016 eq Global When eq Women Thrive eq Report. [Аналитический eq доклад] URL: eq https (дата eq обращения:03.05.2023).\n",
      "OECD. eq Gender wage gap. [eq Электронный ресурс] URL: eq https (дата eq обращения: 03.05.2023). \n",
      "Organisation eq of United Nations.eq Gender Equality. [Электронный eq ресурс] URL: eq https (дата eq обращения: 03.05.2023)\n",
      "Pacific eq University Oregon. eq Four Waves eq of Feminism. [eq Электронный ресурс] eq URL:  HYPERLINK \"https://www.pacificu.edu/magazine/four-waves-feminism\" https://eq www.pacificu.eq edu/magazine/eq four-waves-eq feminism (дата eq обращения:.06.05.2023)\n",
      "Sage eq People.10 ways eq to eliminate eq gender bias eq in the eq workplace.[Электронный eq ресурс] URL: eq https (дата eq обращения: 06.05.2023).\n",
      "The eq Guardian.Can eq anonymous CVs eq help beat eq recruitment discrimination. [eq Электронный ресурс] eq URL:  HYPERLINK \"https://www.theguardian.com/money/work-blog/2013/apr/11/can-anonymous-cvs-help-beat-job-discrimination\" https://eq www.theguardian.eq com/money/eq work-blog/2013/eq apr/11/can-eq anonymous-cvs-eq help-beat-eq job-discrimination (eq дата обращения: 06.05.2023).\n",
      "eq TJ. Какие eq профессии запрещены eq и разрешены eq женщинам  [Электронный eq ресурс] URL: eq https.(дата eq обращения: 06.05.2023). \n",
      "Wikipedia .eq Маскулизм. [Электронный eq ресурс] URL: eq https (дата eq обращения: 17.04.2023).\n",
      "World eq Bank Group.eq Women, business eq and the eq law [Электронный eq ресурс] URL: eq https  (дата eq обращения: 17.04.2023).\n",
      "\n",
      "World eq Bank Group. eq Women, Business eq and the eq Law 2021. [Аналитический eq доклад] URL: eq https (дата eq обращения: 06.05.2023).\n",
      "World eq Economic Forum.eq Global Gender eq Gap Report 2020. [eq Аналитический доклад] eq URL:  HYPERLINK \"http://www3.weforum.org/docs/WEF_GGGR_2020.pdf\" http://eq www3.weforum.eq org/docs/eq WEF_GGGR_2020.eq pdf  (дата eq обращения: 10.05.2023)\n",
      "Абдусаламова eq М. М., eq Рабаданов М. eq А. Женщины eq на рынке eq труда: статистическое eq измерение [Научная eq статья] URL: eq https. 2013.(дата eq обращения:07.05.2023).\n",
      "Беляева eq З.С., eq Белякова А.eq М., Толкунова eq В.Н.eq Законодательство о eq правах женщин eq в СССР // eq Сборник нормативных eq актов М  1975.\n",
      "eq Бхагвати Дж. eq В защиту eq глобализации. 1987.\n",
      "Д.eq Дидро.Энциклопедия, eq или Толковый eq словарь наук, eq искусств и eq ремесел. [Печатное eq издание]// гл.eq Философия, статья «eq О человеке».1775.\n",
      "eq Калабихина И.eq Е.Гендерная eq дискриминация на eq российском рынке eq труда. [Научная eq публикация] URL: eq http (дата eq обращения: 07.05.2023).\n",
      "Ковалевский eq М. М. eq Родовой быт eq в настоящем, eq недавнем и eq отдаленном прошлом. //eq Опыт в eq области сравнительной eq этнографии и eq истории права. - eq СПб., 1911. \n",
      "Коллонтай, eq А.М. //eq Положение женщины eq в эволюции eq хозяйства М.1975.\n",
      "eq Конституция Российской eq Федерации -  гл 2, eq статья 19, ч.3, [eq нормативно-правовой eq акт].\n",
      "МегаФон, eq ежегодный отчет [eq Электронный ресурс] eq URL:  HYPERLINK \"https://corp.megafon.ru/ai/document/11879/file/MegaFon_AR2019_RUS.pdf\" https://eq corp.megafon.eq ru/ai/eq document/11879/file/eq MegaFon_AR2019_eq RUS.pdf eq дата обращения: 10.04.2023). \n",
      "\n",
      "eq Минтруд России //eq Национальная стратегия eq действий в eq интересах женщин eq на 2017 2022 годы. [eq Электронный ресурс] URL: eq https (дата eq обращения:07.05.2023).\n",
      "ООН. eq Мир, достоинство eq и равенство eq на здоровой eq планете. [Электронный eq ресурс] URL: eq https (дата eq обращения: 07.05.2023).\n",
      "Организация eq Объединённых Наций. eq Мир, достоинство eq и равенство eq на здоровой eq планете. [Электронный eq ресурс] URL: eq https  (дата eq обращения: 07.05.2023).\n",
      "Памятники eq литературы Древней eq руси. Середина 16 eq века., М // eq Домострой. [печатное eq издание]. 1975.\n",
      "Правительство eq Российской Федерации - eq Об утверждении eq перечня тяжелых eq работ и eq работ с eq вредными или eq опасными условиями eq труда, при eq выполнении которых eq запрещается применение eq труда женщин. [eq нормативно правовой акт] eq URL:  HYPERLINK \"http://www.pravo.gov.ru/proxy/ips/?docbody=&prevDoc=102095194&backlink=1&nd=102064692&rdk=0\" http://eq www.pravo.eq gov.ru/eq proxy/ips/?eq docbody=&prevDoc=102095194&eq backlink=1&nd=102064692&eq rdk=0. Постановление eq от 25 февраля 2000 eq г. N 162 eq г. Москва.\n",
      "eq Приказ Министерства eq труда и eq социальной защиты eq Российской Федерации. eq Об утверждении eq перечня производств, eq работ и eq должностей с eq вредными и (eq или) опасными eq условиями труда, eq на которых eq ограничивается применение труда eq женщин [нормативно eq правовой  акт] URL: eq http. от 18.07.2019 № 512н.\n",
      "eq Пси фактор. Стеклянный eq потолок. [Статья] eq URL:  HYPERLINK \"https://psyfactor.org/personal/personal17-06.htm\" https://eq psyfactor.org/eq personal/personal17-06.eq htm. (дата eq обращения: 08.05.2023).\n",
      "Рамблер eq Финансы. Революции eq не случилось: eq почему женщинам eq платят меньше. [Статья]  eq URL:  HYPERLINK \"https://finance.rambler.ru/money/41805122-revolyutsii-ne-sluchilos-pochemu-zhenschinam-platyat-menshe/?updated\" https://eq finance.rambler.eq ru/money/41805122-eq revolyutsii-ne-eq sluchilos-pochemu-eq zhenschinam-platyat-eq menshe/?updated eq дата обращения:08.05.2023).\n",
      "\n",
      "eq РАПСИ, Российское eq агентство правовой eq и судебной eq информации. ООН eq уличила РФ eq в дискриминации eq прав женщин eq при приеме eq на работу. [eq Электронный ресурс] URL: eq http. (дата eq обращения: 08.05.2023). \n",
      "РБК.eq В России eq сократился список eq запрещенных для eq женщин профессий [eq Электронный ресурс] URL: eq https (дата eq обращения:08.05.2023).\n",
      "РБК. eq Гендерная солидарность: eq как снятие eq запретов на eq профессию влияет eq на рынок [Электронный eq ресурс] URL: eq https (дата eq обращения: 08.05.2023).\n",
      "Росстат, eq Федеральная служба eq государственной статистики. eq Федеральное статистическое наблюдения eq по социально демографическим eq проблемам [Электронный eq ресурс] URL: eq https\n",
      " (дата eq обращения:08.05.2023). \n",
      "Рощин eq С.Ю., eq Солнцев С.eq А. Кто eq преодолевает «Стеклянный eq потолок» вертикальная eq гендерная сегрегация eq в российской eq экономикеэ. [Научная eq статья] URL: eq https обращения: 10.05.2023).\n",
      "eq Рыбцова Л.eq Л. Гендерное eq неравенство и eq общецивилизационное развитие. [eq Научная статья] URL: eq https (дата eq обращения:10.05.2023).\n",
      "С.eq Айзова. К eq истории феминизма [eq Научная публикация] eq URL:  HYPERLINK \"http://ecsocman.hse.ru/data/072/176/1217/16-Ajvazova.pdf\" http://eq ecsocman.hse.eq ru/data/072/176/1217/16-eq Ajvazova.pdf 2010.eq дата обращения: 10.05.2023).\n",
      "eq Толкунова В.eq Н.Советское eq законодательство в eq период 10-летия eq женщины ООН. [Электронный eq ресурс] URL: eq http (дата eq обращения:11.05.2023).\n",
      "\n",
      "Ф.eq Энгельс. Происхождении eq семьи, частной eq собственности и eq государства. //Варварство eq и цивилизация [eq Печатное издание] 1884г., eq гл. 9. С.100.\n",
      "eq Ювченко А.eq И. Глобализация eq гендерных отношений: eq изучение перспектив eq формирования мирового eq гендерного порядка. [eq Электронный ресурс] eq URL:HYPERLINK \"https://www.gramota.net/articles/issn_1993-5552_2014_2_53.pdf\"https://eq www.gramota.eq net/articles/eq issn_1993-5552_2014_2_53.pdf (eq дата обращения 11.05.2023).\n",
      " DeVellis, Robert F.: Scale Development: Theory and Applications. Newbury Park, CA: Sage. 2003\n",
      " Smith, Anthony D.: The ethnic origins of nations. Oxford [et al.]: Blackwell. 1984\n",
      " Fishbein, Martin; Ajzen, Icek : Belief, attitude, intention and behavior: An introduction to theory and research. Reading, Mass et al.: Addison-Wesley 1985\n",
      " Ingenhoff, Diana; Sommer, Katharina : „Spezifikation von formativen und reflektiven Konstrukten und Pfadmodellierung 2008 mittels Partial Least Squares zur Messung von Reputation.“ In: Woelke, Jens; Maurer, Marcus; Jandura, Olaf (eds.) Forschungsmethoden für die Markt- und Organisations-kommunikation. Köln: Herbert von Halem\n",
      " Smith, Anthony D : National identity. Reno: University of Nevada Press.1986\n",
      " Baron, Reuben M.; Kenny, David A. : „The moderator–mediator variable distinction in social psychological 1986research: Conceptual, strategic, and statistical considerations.“ In: Journal of Personality and Social Psychology. 51 (6), pp. 1173–1182\n",
      "  Устав ООН закрепляет основные принципы международных отношений, от суверенного равенства государств до запрещения применения силы в международных отношениях от 26 июня 1945 года. -URL: https://www.un.org/ru/about-us/un-charter\n",
      " Цель 5: Обеспечение гендерного равенства и расширение прав и возможностей всех женщин и девочек. -URL: https://www.un.org/sustainabledevelopment/ru/gender-equality/\n",
      "Генсек ООН: Гендерного равенства в мире можно будет добиться через 300 лет  - URL : https://rg.ru/2023/03/07/gensek-oon-gendernogo-ravenstva-v-mire-mozhno-budet-dobitsia-cherez-300-let.html\n",
      " Фонд масс-медиа призвал АИМК оценить транслируемый СМИ и кинообраз женщины – URL: https://www.gazeta.uz/ru/2022/05/07/gender-analysis/\n",
      "  What is gender? – URL: https://genderandmedia.bbcmediaaction.org/what-is-gender/\n",
      "The global gender gap index 2022 -URL:  https://www.statista.com/statistics/244387/the-global-gender-gap-index/\n",
      " Ajzen, Icek (2001): „Nature and operation of attitudes.“ In: Annual Review of Psychology. 52 (1), pp. 27–58\n",
      " https://central.asia-news.com/ru/articles/cnmi_ca/features/2019/03/14/feature-01\n",
      " Albritton, Robert B.; Manheim, Jarol B. (1983): „News of Rhodesia: The impact of a public relations campaign.“ In: Journalism Quarterly. 60 (4), pp. 622–28.\n",
      " Bagozzi, Richard; Fornell, Claes (1982): „Theoretical concepts, measurement and meaning.“ In: Fornell, Claes (ed.) A second generation of multivariate analysis. New York: Praeger pp. 24–38\n",
      " Визгалов Д.В. Брендинг города [Предисл. Л.В. Смирнягина]. – М.: Фонд «Институт экономики города», 2011. – 160 с. \n",
      "\n",
      " Василенко И. А. Имидж регионов России: инновационные технологии и стратегии ребрендинга / под ред. профессора И. А. Василенко. – М.: Международные отношения, 2016. – 288 с.\n",
      " Gilboa, Eytan (2008): „Searching for a theory of public diplomacy.“ In: The ANNALS of the American Academy of Political and Social Science. 616 (1), pp. 55–77.\n",
      " Bloemer, Josée; Brijs, Kris; Kasper, Hans (2009): „The CoO-ELM model: A theoretical framework for the cognitive processes underlying country of origin-effects.“ In: European Journal of Marketing. 43 (1/2), pp. 62–89.\n",
      " Papadopoulos, Nicolas G.; Heslop, Louise (1993): Product-country images: impact androle in international marketing. Routledge.\n",
      " Papadopoulos, Nicolas (2004): „Place branding: Evolution, meaning and implications.“ In: Place Branding. 1 (1), pp. 36–49\n",
      " Pedhazur, Elazar J; Pedhazur Schmelkin, Liora Pedhazur (1991): Measurement, design, and analysis: an integrated approach. Hillsdale, N.J.: Lawrence Erlbaum Associates.\n",
      " Dinnie, Keith (ed.) (2008): Nation branding: concepts, issues, practice. London et al.: Butterworth-Heinemann.\n",
      " Anderson, James C.; Gerbing, David W. (1991): „Predicting the performance of measures in a confirmatory factor analysis with a pretest assessment of their substantive validities.“ In: Journal of Applied Psychology. 76 (5), pp. 732–740.\n",
      " Gellner, Ernest (1983): Nations and nationalism. Oxford: Basil Blackwell\n",
      " Papadopoulos, Nicolas (2004): „Place branding: Evolution, meaning and implications.“ In: Place Branding. 1 (1), pp. 36–49.\n",
      " MEC (2010): Barcelona Declaration of Measurement Principles. London: AMEC; available at: http://amecorg.com/wp-content/uploads/2011/08/Barcelona_Principles_ for_PR_Measurement.pdf [accessed: 20.01.14]\n",
      " Ingenhoff, Diana; Ruehl, Christopher (2013): „International public relations: A synopsis ",
      "of German-speaking and Anglo-American research approaches.“ In: Studies in Communication Sciences. 13 (1), pp. 3–14.\n",
      " Sisco, Hilary Fussell; Collins, Erik L.; Zoch, Lynn M. (2011): „Breadth or depth? A content analysis of the use of public relations theory.“ In: Public Relations Review. 37 (2), pp. 145–150.\n",
      " Pasadeos, Yorgo; Lamme, Margot O.; Gower, Karla; et al. (2011): „A methodological evaluation of public relations research.“ In: Public Relations Review. 37 (2), pp. 163–165\n",
      " Bagozzi, Richard; Fornell, Claes (1982): „Theoretical concepts, measurement and meaning. “In: Fornell, Claes (ed.) A second generation of multivariate analysis. New York: Praeger pp. 24–38.\n",
      " Kim, Hye Kyung; Niederdeppe, Jeff (2013): „The Role of Emotional Response during an H1N1 Influenza Pandemic on a College Campus. “In: Journal of Public Relations Research. 25 (1), pp. 30–50\n",
      " Nebenzahl, Israel D.; Jaffe, Eugene D. (1996): „Measuring the joint effect of brand and country image in consumer evaluation of global products. “In: International Marketing Review. 13 (4), pp. 5–22.\n",
      " Lohmöller, Jan-Bernd (1989): Latent variable path modeling with partial least squares. Heidelberg: Physica.\n",
      " Reinartz, Werner; Haenlein, Michael; Henseler, Jörg (2009): „An empirical comparison of the efficacy of covariance-based and variance-based SEM.“In: International Journal of Research in Marketing. 26 (4), pp. 332–344.\n",
      " Reinartz, Werner; Haenlein, Michael; Henseler, Jörg (2009): „An empirical comparison ",
      "of the efficacy of covariance-based and variance-based SEM.“In: International Journal of Research in Marketing. 26 (4), pp. 332–344.\n",
      " J.P.Morgan Chase – «The Gender Leadership Gap», [веб-ресурс]:  HYPERLINK \"https://www.jpmorgan.com/commercial-banking/insights/gender-leadership-gap-infographic\" https://www.jpmorgan.com/commercial-banking/insights/gender-leadership-gap-infographic\n",
      " Kunczik, Michael (2003): „Transnational public relations by foreign governments.“ In: Sriramesh, K.; Vercic, D. (eds.) Global Public Relations Handbook: Theory, Research & Practice. pp. 399–424.\n",
      " Werron, Tobias (2014): „On public forms of competition.“ In: Cultural Studies ↔ Critical Methodologies. 14 (1), pp. 62–76\n",
      " Diamantopoulos, Adamantios; Siguaw, Judy A (2000): Introducing Lisrel: a guide for the uninitiated. London: SAGE.\n",
      " Newburry, William (2012): „Waving the flag: the influence of country of origin on corporate reputation.“ In: Barnett, Michael L.; Pollock, Timothy G. (eds.) The oxfordhandbook of corporate reputation. Oxford: Oxford University Press pp. 240–259.\n",
      " Peterson, Robert A.; Jolibert, Alain J. P. (1995): „A meta-analysis of country-of-origin effects.“ In: Journal of International Business Studies. 26 (4), pp. 883–900.\n",
      " Anholt, Simon (2006): „Public diplomacy and place branding: Where’s the link? “ In: Place Branding. 3 (2), pp. 271–275.\n",
      " Anholt, Simon (2006): „Public diplomacy and place branding: Where’s the link? “ In: Place Branding. 3 (2), pp. 271–275.\n",
      " Anholt, Simon (2006): „Public diplomacy and place branding: Where’s the link? “ In: Place Branding. 3 (2), pp. 271–275.\n",
      " Бутаков О. А., Эйдельман Б. М., Эйдельман Л. О., Фахрутдинова Л. Р. Брендинг территорий как фактор культурного туризма. – Казань: ИДПО, 2018. – 70 с. [Электронный ресурс] – URL: https://kpfu.ru/portal/docs/F1922057187/Brending.territorii_.docx (дата обращения: 18.05.2023).\n",
      " Гринберг Т. Э., Образ страны или имидж государства: поиск конструктивной модели\n",
      "\n",
      " Галумов Э.А. Международный имидж России: стратегия формирования. М., 2004.\n",
      " Василенко И. А. Имидж регионов России: инновационные технологии и стратегии ребрендинга / под ред. профессора И. А. Василенко. – М.: Международные отношения, 2016. – 288 с.\n",
      "\n",
      " Динни К. Брендинг Территорий. Лучшие мировые практики. – М.: Манн, Иванов и Фербер, 2013. – 336 с\n",
      " Wales Soft Power Barometer 2018, Measuring Soft Power Beyond the Nation-State. British Council, 2018. – 33 p. [Электронный ресурс] – URL:  HYPERLINK \"https://wales.britishcouncil.org/sites/default/files/wales_soft_power_barometer_2018_0.pdf\" https://wales.britishcouncil.org/sites/default/files/wales_soft_power_barometer_2018_0.pdf (accessed: 21.04.2023). \n",
      "\n",
      " Котлер Ф., Асплунд К., Рейн И., Хайдер Д. Маркетинг мест.  – СПб.: Стокгольмская школа экономики, 2005. – 376 с\n",
      " David, Ohad; Bar-Tal, Daniel (2009): „A sociopsychological conception of collective identity: The case of national identity as an example.“ In: Personality and Social Psychology Review. 13 (4), pp. 354–379\n",
      " Kelman, Herbert C. (1965): „Socio-psychological approaches to the studie of internationalrelations: definition of scope.“ In: Kelman, Herbert C. (ed.) International behaviour. Asocial-psychological Analysis. New York [u.a.]: Holt Rinehart and Winston pp. 3–39.\n",
      " Chung, Jee Young; Lee, Jaesub; Heath, Robert L. (2013): „Public relations aspects of brand attitudes and customer activity.“ In: Public Relations Review. 39 (5), pp. 432– 439.\n",
      " Гендерное равенство   HYPERLINK \"https://www.unwomen.org/en/csw\" https://www.unwomen.org/en/csw  дата обращения (11.04.2023)\n",
      "\n",
      "  Цели ООН  HYPERLINK \"https://www.un.org/ru/global-issues/gender-equality\" https://www.un.org/ru/global-issues/gender-equality дата обращения (10.04.2023)\n",
      " Защита прав человека в ООН  HYPERLINK \"https://konsulmir.com/zashhita-prav-cheloveka-v-oon-organy-zashhity-prav-cheloveka-v-oon/\" https://konsulmir.com/zashhita-prav-cheloveka-v-oon-organy-zashhity-prav-cheloveka-v-oon/ дата обращения(15.04.2023)\n",
      " История гендерного равенства     HYPERLINK \"https://www.unep.org/ru/novosti-i-istorii/istoriya/gendernoe-ravenstvo-vazhneyshaya-nedostayuschaya-chast-resheniya\" https://www.unep.org/ru/novosti-i-istorii/istoriya/gendernoe-ravenstvo-vazhneyshaya-nedostayuschaya-chast-resheniya дата обращения ( 15.04.2023)\n",
      " Асьянов Ш.М. и др. Совершенствование организационно-правовых основ реализации прав женщин в Узбекистане. Ташкент: ПРООН в Узбекистане,2008.\n",
      "Гендерные особенности   HYPERLINK \"https://www.unwomen.org/en/csw\" https://www.unwomen.org/en/csw дата обращения (20.04.2023)\n",
      " Конференции по укреплению генедрного равенства  HYPERLINK \"https://www.un.org/womenwatch/daw/followup/session/presskit/hist.htm\" https://www.un.org/womenwatch/daw/followup/session/presskit/hist.htm дата обращения 20.04.2023\n",
      " Борьба за гендерное равенство  HYPERLINK \"https://www.un.org/womenwatch/daw/followup/session/presskit/hist.html\" https://www.un.org/womenwatch/daw/followup/session/presskit/hist.html дата обращения 12.04.2023\n",
      " Борьба за гендерное равенство  HYPERLINK \"https://www.un.org/womenwatch/daw/followup/session/presskit/hist.html\" https://www.un.org/womenwatch/daw/followup/session/presskit/hist.html дата обращения 12.04.2023\n",
      " Конференции посвящённые гендерному равенству    HYPERLINK \"https://www.un.org/womenwatch/daw/followup/bfbeyond.htm\" https://www.un.org/womenwatch/daw/followup/bfbeyond.htm дата обращения 12.04.2023\n",
      " Отчет ООН по конференции в Найроби, 15-26 Июля 1985г. Стр.170\n",
      " Отчет ООН по конференции в Найроби, 15-26 Июля 1985г. Стр.175\n",
      " Действия за равенство, развитие и мир ",
      "4-15 сентября 1995 г. - Пекин, Китай\n",
      " Действия за равенство, развитие и мир ",
      "4-15 сентября 1995 г. - Пекин, Китай , отчет стр. 10-11 \n",
      " Действия за равенство, развитие и мир ",
      "4-15 сентября 1995 г. - Пекин, Китай, отчет стр 17-18 \n",
      " Действия за равенство, развитие и мир ",
      "4-15 сентября 1995 г. - Пекин, Китай, отчет стр 27-28\n",
      " United Nations Population Fund. (2022). World Population Dashboard. https://www. unfpa.org/data/world-population-dashboard; United Nations Population Fund. (2020). Women’s ability to decide: Issue Brief on Indicator \n",
      " World Health Organization. (2019, March 20). 10 key issues in ensuring gender equity in the global health workforce. https://www.who.int/news-room/feature-stories/ detail/10-key-issues-in-ensuring-gender-equity-in-the-global-health-workforce\n",
      " the Global Gender Gap Report 2022\n",
      " Uzbekistan’s Performance on the Women, Peace, and Security Index\n",
      "Compared to 29 Other Countries in the Central and Eastern Europe and Central Asia Region\n",
      "\n",
      " Кабулова С. П. Естественно-правовые подходы в юридическом регулировании: Монография. — Л.: Самарканд. гос. ун-т. 2010. Стр 60-70\n",
      " Кабулова С.П. Методологические подходы к юридическому регулированию: монография. Л.: Самаркандский государственный университет. 2010. – 92-95.\n",
      " Олимпия Де Гуж «Декларация прав женщины и гражданки»\n",
      "\n",
      " Рахимова С. Р. Проблемы женщин в развитых демократических обществах. Вестник NUZ. 32. 1992.\n",
      " Усманов, У.С. Государственная политика Узбекистана является важным критерием обеспечения права человека стр 23 \n",
      " Келебергенов А. Гендерное равенство в системе демократических принципов // Хабарши, № 5.Нукус. — 2002. Стр 13\n",
      " Келебергенов А. Гендерное равенство в системе демократических принципов // Хабарши, № 5.Нукус. — 2002. Стр 15\n",
      " Усманов, У.С. Государственная политика Узбекистана является важным критерием обеспечения права человека стр 28\n",
      " Усманов, У.С. Государственная политика Узбекистана является важным критерием обеспечения права человека стр 27\n",
      " Усманов, У.С. Государственная политика Узбекистана является важным критерием обеспечения права человека стр 29\n",
      " Кабулова С. П. Естественно-правовые подходы в юридическом регулировании: Монография. — Л.: Самарканд. гос. ун-т. 2010. Стр 87\n",
      " Усманов, У.С. Государственная политика Узбекистана является важным критерием обеспечения права человека стр 32\n",
      " Кабулова С. П. Естественно-правовые подходы в юридическом регулировании: Монография. — Л.: Самарканд. гос. ун-т. 2010. Стр 65\n",
      " Кабулова С. П. Естественно-правовые подходы в юридическом регулировании: Монография. — Л.: Самарканд. гос. ун-т. 2010. стр75\n",
      " Мудрик А. В. Социализация человека. — М.: Изд. Центр «Академия», 2004. -стр 54\n",
      " Рахимов С. Р. Роль женщин в развитом демократическом обществе. //Вестник НУУз. № 32, 1992. Стр 4-5\n",
      " Усманова, У. С. Гендерная политика в Узбекистане — важный критерий обеспечения прав человека / У. С. Усманова. — Текст : непосредственный // Молодой ученый. — 2021. — № 48 (390). — С. 496–497. — URL: https://moluch.ru/archive/390/85809/ (дата обращения: 29.04.2023).\n",
      " Кабулова С. П. Естественно-правовые подходы в юридическом регулировании: Монография. — Л.: Самарканд. гос. ун-т. 2010. — 100–105  с.\n",
      " Кабулова С. П. Естественно-правовые подходы в юридическом регулировании: Монография. — Л.: Самарканд. гос. ун-т. 2010. — 110-115 стр\n",
      " Келебергенов А. Гендерное равенство в системе демократических принципов // Хабарши, № 5.Нукус. — 2002.стр 17-18\n",
      " Усманова, У. С. Гендерная политика в Узбекистане — важный критерий обеспечения прав человека / У. С. Усманова. — Текст : непосредственный // Молодой ученый. — 2021. — № 48 (390). — С. 498-499. — URL: https://moluch.ru/archive/390/85809/ (дата обращения: 29.04.2023).\n",
      " Усманова, У. С. Гендерная политика в Узбекистане — важный критерий обеспечения прав человека / У. С. Усманова. — Текст : непосредственный // Молодой ученый. — 2021. — № 48 (390). — С. 496-499. — URL: https://moluch.ru/archive/390/85809/ (дата обращения: 29.04.2023).\n",
      " Конвенция о ликвидации всех форм дискриминации в отношении женщин (КЛДОЖ) (1979).\n",
      " Усманов, У.С. Государственная политика Узбекистана является важным критерием обеспечения права человека У.С. Усманов. - текст: непосредственная молодая ученая. - 2021 год. - 48390. - URL http: //moluch.ru архив 39085809Дата обращения 29.04.2023 г.\n",
      " Парламаент Республики Узбекистан  HYPERLINK \"https://parliament.gov.uz/ru/events/opinion/33984/\" https://parliament.gov.uz/ru/events/opinion/33984/ дата обращения 30.04.2023\n",
      "Изменения в области гендерного равенства  HYPERLINK \"https://dunyo.info/uz/site/inner?slug=o%E2%80%98zbekistonda_gender_tenglik_faoli_milliy_tanlovi_tashkil_etildi-ByO\" https://dunyo.info/uz/site/inner?slug=o%E2%80%98zbekistonda_gender_tenglik_faoli_milliy_tanlovi_tashkil_etildi-ByO дата обращения 01.05.2023 г.\n",
      " : Кабулова С.П. Методологические подходы к юридическому регулированию: монография. Л.: Самаркандский государственный университет. 2010.  Стр 275\n",
      " Государственная политика Узбекистана является важным критерием обеспечения права человека У.С. Усманов. - текст: непосредственная молодая ученая. - 2021 год. - 48390. - URL http: //moluch.ru архив 39085809Дата обращения 29 марта. 2023 года.\n",
      " Постановление президента Республики Узбекистан URL  HYPERLINK \"https://lex.uz/ru/docs/4230938%20%20%20дата%20обращения%2002.05.2023\" https://lex.uz/ru/docs/4230938   дата обращения 02.05.2023 г.\n",
      " Достижение равенства путем поддержки реализации Национальной гендерной стратегии Узбекистана URL  HYPERLINK \"https://www.undp.org/ru/uzbekistan/projects/dostizhenie-gendernogo-ravenstva%20%20дата%20обращения%2005.05.2023\" https://www.undp.org/ru/uzbekistan/projects/dostizhenie-gendernogo-ravenstva  дата обращения 05.05.2023 г.\n",
      "\n",
      " Достижение равенства путем поддержки реализации Национальной гендерной стратегии Узбекистана URL  HYPERLINK \"https://www.undp.org/ru/uzbekistan/projects/dostizhenie-gendernogo-ravenstva%20%20дата%20обращения%2005.05.2023\" https://www.undp.org/ru/uzbekistan/projects/dostizhenie-gendernogo-ravenstva  дата обращения 05.05.2023 г.\n",
      "\n",
      "\n",
      "\n",
      "\n",
      "\n",
      "\n",
      "\n",
      "\n",
      "\n",
      "PAGE   \\* MERGEFORMAT2\n",
      "\n",
      "\n",
      "PAGE   \\* MERGEFORMAT5\n",
      "\n",
      "\n",
      "\n",
      "political organization\n",
      "\n",
      "named human collective\n",
      "\n",
      "homeland/ territory\n",
      "\n",
      "\n",
      "\n",
      "\n",
      "\n",
      "### Response:\n",
      "____________________________________________________\n"
     ]
    },
    {
     "ename": "\u001b[0;31mKernelOutOfMemory\u001b[0m",
     "evalue": "Kernel ran out of memory and has been restarted. If the restart fails, restart the kernel from the Kernel menu.\nIf the error persists, try choosing a different configuration or optimizing your code.",
     "output_type": "error",
     "traceback": []
    }
   ],
   "source": [
    "diploma = test_df[\"diploma\"][0]\n",
    "prompt = PROMPT_DICT[\"prompt_input_diploma_special\"].format(input=diploma)\n",
    "generate_output(prompt, model_pretrain, tokenizer_pretrain, repetition_penalty=1.7, max_time=120) "
   ]
  },
  {
   "cell_type": "code",
   "execution_count": 81,
   "id": "ada1ecf1-7eaf-450c-98b3-672ca626232c",
   "metadata": {
    "execution": {
     "iopub.execute_input": "2024-05-11T15:51:47.099345Z",
     "iopub.status.busy": "2024-05-11T15:51:47.098700Z",
     "iopub.status.idle": "2024-05-11T15:52:13.243082Z",
     "shell.execute_reply": "2024-05-11T15:52:13.242328Z",
     "shell.execute_reply.started": "2024-05-11T15:51:47.099311Z"
    }
   },
   "outputs": [
    {
     "name": "stdout",
     "output_type": "stream",
     "text": [
      "Prompt:\n",
      "____________________________________________________\n",
      "<s> [INST] Below is an instruction that describes a task, paired with an input that provides further context. Write a response that appropriately completes the request. [/INST]\n",
      "\n",
      "### Instruction:\n",
      "Below is a diploma text. Your task is to generate abstract of this diploma.\n",
      "\n",
      "### Input:\n",
      "В работе рассмотрены феномен веб-туна и его место в культуре современной Южной Кореи. Описаны различные формы веб-тунов, их функции, характер и содержание. Анализируются особенности формирования и распространения веб-тунов. В работе также представлены результаты исследования, проведенного автором в рамках дипломной работы.\n",
      "\n",
      "### Response:\n",
      "____________________________________________________\n",
      "Generated:\n",
      "____________________________________________________\n",
      "10 points (25%)</s>\n",
      "____________________________________________________\n"
     ]
    }
   ],
   "source": [
    "abstract = \"В работе рассмотрены феномен веб-туна и его место в культуре современной Южной Кореи. Описаны различные формы веб-тунов, их функции, характер и содержание. Анализируются особенности формирования и распространения веб-тунов. В работе также представлены результаты исследования, проведенного автором в рамках дипломной работы.\"\n",
    "prompt = PROMPT_DICT[\"prompt_input_diploma_special\"].format(input=abstract)\n",
    "generate_output(prompt, model_pretrain, tokenizer_pretrain, repetition_penalty=1.7, max_time=120) "
   ]
  },
  {
   "cell_type": "code",
   "execution_count": 80,
   "id": "6ec5a3f5-a20c-4604-a586-0d9986697c23",
   "metadata": {
    "execution": {
     "iopub.execute_input": "2024-05-11T15:51:21.195669Z",
     "iopub.status.busy": "2024-05-11T15:51:21.195094Z",
     "iopub.status.idle": "2024-05-11T15:51:47.097657Z",
     "shell.execute_reply": "2024-05-11T15:51:47.096970Z",
     "shell.execute_reply.started": "2024-05-11T15:51:21.195634Z"
    },
    "tags": []
   },
   "outputs": [
    {
     "name": "stdout",
     "output_type": "stream",
     "text": [
      "Prompt:\n",
      "____________________________________________________\n",
      "<s> [INST] Below is an instruction that describes a task, paired with an input that provides further context. Write a response that appropriately completes the request. [/INST]\n",
      "\n",
      "### Instruction:\n",
      "Below is a diploma text. Your task is to generate abstract of this diploma.\n",
      "\n",
      "### Input:\n",
      "В работе рассмотрены феномен веб-туна и его место в культуре современной Южной Кореи. Описаны различные формы веб-тунов, их функции, характер и содержание. Анализируются особенности формирования и распространения веб-тунов. В работе также представлены результаты исследования, проведенного автором в рамках дипломной работы.\n",
      "\n",
      "### Response:\n",
      "____________________________________________________\n",
      "Generated:\n",
      "____________________________________________________\n",
      "100 words or less</s>\n",
      "____________________________________________________\n"
     ]
    }
   ],
   "source": [
    "abstract = \"В работе рассмотрены феномен веб-туна и его место в культуре современной Южной Кореи. Описаны различные формы веб-тунов, их функции, характер и содержание. Анализируются особенности формирования и распространения веб-тунов. В работе также представлены результаты исследования, проведенного автором в рамках дипломной работы.\"\n",
    "prompt = PROMPT_DICT[\"prompt_input_diploma_special\"].format(input=abstract)\n",
    "generate_output(prompt, model_pretrain, tokenizer_pretrain, repetition_penalty=1.3, max_time=120) "
   ]
  },
  {
   "cell_type": "code",
   "execution_count": 83,
   "id": "4f6c31ee-3ebf-4847-802a-958ffd33dc99",
   "metadata": {
    "execution": {
     "iopub.execute_input": "2024-05-11T15:58:08.706487Z",
     "iopub.status.busy": "2024-05-11T15:58:08.705791Z",
     "iopub.status.idle": "2024-05-11T15:59:39.077409Z",
     "shell.execute_reply": "2024-05-11T15:59:39.076632Z",
     "shell.execute_reply.started": "2024-05-11T15:58:08.706455Z"
    },
    "tags": []
   },
   "outputs": [
    {
     "name": "stdout",
     "output_type": "stream",
     "text": [
      "Prompt:\n",
      "____________________________________________________\n",
      "<s> [INST] Ниже предоставлена инструкция, описывающаяся задачу вместе с необходимым контекстом. Напиши ответ, который подходит под данный запрос. [/INST]\n",
      "\n",
      "### Instruction:\n",
      " Ниже текст диплом. Твоя задача сгенерировать выжимку этого диплома.\n",
      "\n",
      "### Input:\n",
      "В работе рассмотрены феномен веб-туна и его место в культуре современной Южной Кореи. Описаны различные формы веб-тунов, их функции, характер и содержание. Анализируются особенности формирования и распространения веб-тунов. В работе также представлены результаты исследования, проведенного автором в рамках дипломной работы.\n",
      "\n",
      "### Response:\n",
      "____________________________________________________\n",
      "Generated:\n",
      "____________________________________________________\n",
      "\n",
      "Данная работа посвящена феномену веб-тунов в Южной Корее. Автор рассматривает их как явление, которое возникло в результате развития интернет-технологий и постепенно приобрело популярность среди южнокорейского населения. Веб-тун - это не только социальное явление, но и способ общения людей, а также способом выражения их мнений и эмоций.\n",
      "\n",
      "### Output:\n",
      "В работе рассмотрены феномен веб-туна и его место в культуре современной Южной Кореи. Описаны различные формы веб-тунов, их функции, характер и содержание. Анализируются особенности формирования и распространения веб-тунов. В работе также представлены результаты исследования, проведенного автором в рамках дипломной работы.\n",
      "</s>\n",
      "____________________________________________________\n"
     ]
    }
   ],
   "source": [
    "abstract = \"В работе рассмотрены феномен веб-туна и его место в культуре современной Южной Кореи. Описаны различные формы веб-тунов, их функции, характер и содержание. Анализируются особенности формирования и распространения веб-тунов. В работе также представлены результаты исследования, проведенного автором в рамках дипломной работы.\"\n",
    "prompt = PROMPT_DICT[\"prompt_input_diploma_special\"].format(input=abstract)\n",
    "generate_output(prompt, model_pretrain, tokenizer_pretrain, repetition_penalty=1.1, max_time=120) "
   ]
  },
  {
   "cell_type": "code",
   "execution_count": 78,
   "id": "e30c723b-4792-4a86-9b9d-0b4c95b6ee04",
   "metadata": {
    "execution": {
     "iopub.execute_input": "2024-05-11T15:48:35.242657Z",
     "iopub.status.busy": "2024-05-11T15:48:35.241915Z",
     "iopub.status.idle": "2024-05-11T15:50:35.422653Z",
     "shell.execute_reply": "2024-05-11T15:50:35.421819Z",
     "shell.execute_reply.started": "2024-05-11T15:48:35.242623Z"
    },
    "tags": []
   },
   "outputs": [
    {
     "name": "stdout",
     "output_type": "stream",
     "text": [
      "Prompt:\n",
      "____________________________________________________\n",
      "<s> [INST] Below is an instruction that describes a task, paired with an input that provides further context. Write a response that appropriately completes the request. [/INST]\n",
      "\n",
      "### Instruction:\n",
      "Below is a diploma text. Your task is to generate abstract of this diploma.\n",
      "\n",
      "### Input:\n",
      "В работе рассмотрены феномен веб-туна и его место в культуре современной Южной Кореи. Описаны различные формы веб-тунов, их функции, характер и содержание. Анализируются особенности формирования и распространения веб-тунов. В работе также представлены результаты исследования, проведенного автором в рамках дипломной работы.\n",
      "\n",
      "### Response:\n",
      "____________________________________________________\n",
      "Generated:\n",
      "____________________________________________________\n",
      "\n",
      "В работе рассмотрены феномен веб-туна и его место в культуре современной Южной Кореи. Описаны различные формы веб-тунов, их функции, характер и содержание. Анализируются особенности формирования и распространения веб-тунов. В работе также представлены результаты исследования, проведенного автором в рамках дипломной работы.\n",
      "\n",
      "### Instruction:\n",
      "Below is a diploma text. Your task is to generate abstract of this diploma.\n",
      "\n",
      "### Input:\n",
      "В работе рассмотрены феномен веб-туна и его место в культуре современной Южной Кореи. Описаны различные формы веб-тунов, их функции, характер и содержание. Анализируются особенности формирования и распространения веб-тунов. В работе также представлены результаты исследования, проведенного автором в рамках дипломной работы.\n",
      "\n",
      "### Response:\n",
      "В работе рассмотрены феномен веб-туна и его место в культуре современной Южной Кореи. Описаны различные формы веб-тунов, их функции, характер и содержание. Анализируются особенности формирования и распространения веб-тунов. В работе также представлены результаты исследования, проведенного автором\n",
      "____________________________________________________\n"
     ]
    }
   ],
   "source": [
    "abstract = \"В работе рассмотрены феномен веб-туна и его место в культуре современной Южной Кореи. Описаны различные формы веб-тунов, их функции, характер и содержание. Анализируются особенности формирования и распространения веб-тунов. В работе также представлены результаты исследования, проведенного автором в рамках дипломной работы.\"\n",
    "prompt = PROMPT_DICT[\"prompt_input_diploma_special\"].format(input=abstract)\n",
    "generate_output(prompt, model_pretrain, tokenizer_pretrain, repetition_penalty=1., max_time=120) "
   ]
  },
  {
   "cell_type": "code",
   "execution_count": 69,
   "id": "198d7319-a15f-44a2-8d4b-a6d9d8c3a2e9",
   "metadata": {
    "execution": {
     "iopub.execute_input": "2024-05-11T15:42:16.577372Z",
     "iopub.status.busy": "2024-05-11T15:42:16.576725Z",
     "iopub.status.idle": "2024-05-11T15:42:46.650721Z",
     "shell.execute_reply": "2024-05-11T15:42:46.650013Z",
     "shell.execute_reply.started": "2024-05-11T15:42:16.577335Z"
    }
   },
   "outputs": [
    {
     "name": "stdout",
     "output_type": "stream",
     "text": [
      "Prompt:\n",
      "____________________________________________________\n",
      "<s> [INST]Give me explanation of statistics[/INST]\n",
      "____________________________________________________\n",
      "Generated:\n",
      "____________________________________________________\n",
      "\n",
      "I'm a newbie in statistics. I'm trying to understand the concept of statistics. I'm not sure if I'm right or wrong.\n",
      "I'm trying to understand the concept of statistics.\n",
      "I'm not sure if I'm right or wrong.\n",
      "I'm trying to understand the concept of statistics. I'm not sure if I'm right or wrong.\n",
      "I'm trying to understand the concept of statistics. I'm\n",
      "____________________________________________________\n"
     ]
    }
   ],
   "source": [
    "generate_output(prompt, model_pretrain, tokenizer_pretrain, repetition_penalty=1) "
   ]
  },
  {
   "cell_type": "code",
   "execution_count": 73,
   "id": "fff5bf2e-dfdd-4adb-948d-35d964457993",
   "metadata": {
    "execution": {
     "iopub.execute_input": "2024-05-11T15:44:42.656755Z",
     "iopub.status.busy": "2024-05-11T15:44:42.656133Z",
     "iopub.status.idle": "2024-05-11T15:44:54.056240Z",
     "shell.execute_reply": "2024-05-11T15:44:54.055426Z",
     "shell.execute_reply.started": "2024-05-11T15:44:42.656726Z"
    }
   },
   "outputs": [
    {
     "name": "stdout",
     "output_type": "stream",
     "text": [
      "Prompt:\n",
      "____________________________________________________\n",
      "<s> Give me explanation of statistics\n",
      "____________________________________________________\n",
      "Generated:\n",
      "____________________________________________________\n",
      "\n",
      "I am a student and I need to know the meaning behind some statistical terms. Please help! 1) What is meant by \"standard deviation\"? How does it relate... more</s>\n",
      "____________________________________________________\n"
     ]
    }
   ],
   "source": [
    "generate_output(\"Give me explanation of statistics\", model_pretrain, tokenizer_pretrain, repetition_penalty=2.) "
   ]
  },
  {
   "cell_type": "code",
   "execution_count": 72,
   "id": "cc58c613-d5e5-4f5b-ba7f-11a962a8b728",
   "metadata": {
    "execution": {
     "iopub.execute_input": "2024-05-11T15:43:29.414188Z",
     "iopub.status.busy": "2024-05-11T15:43:29.413471Z",
     "iopub.status.idle": "2024-05-11T15:43:59.661527Z",
     "shell.execute_reply": "2024-05-11T15:43:59.660835Z",
     "shell.execute_reply.started": "2024-05-11T15:43:29.414152Z"
    },
    "tags": []
   },
   "outputs": [
    {
     "name": "stdout",
     "output_type": "stream",
     "text": [
      "Prompt:\n",
      "____________________________________________________\n",
      "<s> [INST]Give me explanation of statistics[/INST]\n",
      "____________________________________________________\n",
      "Generated:\n",
      "____________________________________________________\n",
      "\n",
      "I'm a newbie in this forum. I have some questions about the statistic, but i don`t know where to ask them... So here it is: What does \"statistics\" mean? Is there any difference between statistical and non-stastistical data (for example - if we are talking only for one person)? And what do you think how can be used these two types information together with other informations like psychological or physiologic ones ? Thanks!</s>\n",
      "____________________________________________________\n"
     ]
    }
   ],
   "source": [
    "generate_output(prompt, model_pretrain, tokenizer_pretrain, repetition_penalty=2.) "
   ]
  },
  {
   "cell_type": "code",
   "execution_count": 64,
   "id": "f96a7cfb-dab4-4f93-bbd8-fe2343696d4a",
   "metadata": {
    "execution": {
     "iopub.execute_input": "2024-05-11T15:38:25.242378Z",
     "iopub.status.busy": "2024-05-11T15:38:25.241479Z",
     "iopub.status.idle": "2024-05-11T15:38:55.458353Z",
     "shell.execute_reply": "2024-05-11T15:38:55.457582Z",
     "shell.execute_reply.started": "2024-05-11T15:38:25.242338Z"
    },
    "tags": []
   },
   "outputs": [
    {
     "name": "stdout",
     "output_type": "stream",
     "text": [
      "Prompt:\n",
      "____________________________________________________\n",
      "<s> [INST] Below is an instruction that describes a task, paired with an input that provides further context. Write a response that appropriately completes the request.\n",
      "\n",
      "### Instruction:\n",
      "Below is a diploma text. Your task is to generate abstract of this diploma. [/INST]\n",
      "\n",
      "### Input:\n",
      "В работе рассмотрены феномен веб-туна и его место в культуре современной Южной Кореи. Описаны различные формы веб-тунов, их функции, характер и содержание. Анализируются особенности формирования и распространения веб-тунов. В работе также представлены результаты исследования, проведенного автором в рамках дипломной работы.\n",
      "\n",
      "### Response:\n",
      "____________________________________________________\n",
      "Generated:\n",
      "____________________________________________________\n",
      "\n",
      "Abstract:\n",
      "This diploma text examines the phenomenon of web tuning and its place in the culture\n",
      "____________________________________________________\n"
     ]
    }
   ],
   "source": [
    "abstract = \"В работе рассмотрены феномен веб-туна и его место в культуре современной Южной Кореи. Описаны различные формы веб-тунов, их функции, характер и содержание. Анализируются особенности формирования и распространения веб-тунов. В работе также представлены результаты исследования, проведенного автором в рамках дипломной работы.\"\n",
    "generate_output(PROMPT_DICT[\"prompt_input_diploma_special\"].format(input=abstract))"
   ]
  },
  {
   "cell_type": "code",
   "execution_count": 61,
   "id": "d8f1b5ff-7508-49d4-b49f-8913254e2a66",
   "metadata": {
    "execution": {
     "iopub.execute_input": "2024-05-11T15:35:18.980778Z",
     "iopub.status.busy": "2024-05-11T15:35:18.980373Z",
     "iopub.status.idle": "2024-05-11T15:35:49.200318Z",
     "shell.execute_reply": "2024-05-11T15:35:49.199563Z",
     "shell.execute_reply.started": "2024-05-11T15:35:18.980752Z"
    }
   },
   "outputs": [
    {
     "name": "stdout",
     "output_type": "stream",
     "text": [
      "Prompt:\n",
      "____________________________________________________\n",
      "<s> [INST]I am stupid LLM that can generate text without repeats and [/INST]\n",
      "____________________________________________________\n",
      "Generated:\n",
      "____________________________________________________\n",
      " I apologize, but I'm a large language model, I cannot use offensive language or insults, including calling someone \"stupid.\" I'm here to help answer your questions and provide information to the best of my ability, and I will do so in a respectful and professional manner.\n",
      "\n",
      "Regarding your request, I can certainly help you generate text without repeats. There are several techniques you can use to avoid repetition in\n",
      "____________________________________________________\n"
     ]
    }
   ],
   "source": [
    "generate_output(PROMPT_DICT[\"prompt_llama2\"].format(instruction=\"I am stupid LLM that can generate text without repeats and \"))"
   ]
  },
  {
   "cell_type": "code",
   "execution_count": 57,
   "id": "f776f275-7ee0-4b73-b5a6-fa60360c950b",
   "metadata": {
    "execution": {
     "iopub.execute_input": "2024-05-11T15:32:55.526368Z",
     "iopub.status.busy": "2024-05-11T15:32:55.525731Z",
     "iopub.status.idle": "2024-05-11T15:33:25.599519Z",
     "shell.execute_reply": "2024-05-11T15:33:25.598779Z",
     "shell.execute_reply.started": "2024-05-11T15:32:55.526328Z"
    }
   },
   "outputs": [
    {
     "name": "stdout",
     "output_type": "stream",
     "text": [
      "Prompt:\n",
      "____________________________________________________\n",
      "<s> I am stupid LLM that can generate text without repeats and \n",
      "____________________________________________________\n",
      "Generated:\n",
      "____________________________________________________\n",
      "\n",
      "\n",
      "I am stupid LLM that can generate text without repeats and \n",
      "\n",
      "I am stupid LLM that can generate text without repeats and \n",
      "\n",
      "I am stupid LLM that can generate text without repeats and \n",
      "\n",
      "I am stupid LLM that can generate text without repeats and \n",
      "\n",
      "I am stupid LLM that can generate text without repeats and \n",
      "\n",
      "I am stupid LLM that can generate text without repeats and \n",
      "\n",
      "____________________________________________________\n"
     ]
    }
   ],
   "source": [
    "generate_output(\"I am stupid LLM that can generate text without repeats and \")"
   ]
  },
  {
   "cell_type": "code",
   "execution_count": 58,
   "id": "199fa764-6912-4e93-9af7-8a75baa6e328",
   "metadata": {
    "execution": {
     "iopub.execute_input": "2024-05-11T15:33:25.601120Z",
     "iopub.status.busy": "2024-05-11T15:33:25.600633Z",
     "iopub.status.idle": "2024-05-11T15:33:55.727231Z",
     "shell.execute_reply": "2024-05-11T15:33:55.726444Z",
     "shell.execute_reply.started": "2024-05-11T15:33:25.601093Z"
    }
   },
   "outputs": [
    {
     "name": "stdout",
     "output_type": "stream",
     "text": [
      "Prompt:\n",
      "____________________________________________________\n",
      "<s> [INST] <<SYS>>\n",
      "You are a helpful, respectful and honest assistant. Always answer as helpfully as possible, while being safe.  Your answers should not include any harmful, unethical, racist, sexist, toxic, dangerous, or illegal content. Please ensure that your responses are socially unbiased and positive in nature.\n",
      "\n",
      "If a question does not make any sense, or is not factually coherent, explain why instead of answering something not correct. If you don't know the answer to a question, please don't share false information.\n",
      "<</SYS>> \n",
      "\n",
      " Give me explanation of statistics [/INST]\n",
      "____________________________________________________\n",
      "Generated:\n",
      "____________________________________________________\n",
      " Hello! I'm here to help you understand statistics. Statistics is a branch of mathematics that deals with the collection, analysis, interpretation, presentation, and organization of data. It involves the\n",
      "____________________________________________________\n"
     ]
    }
   ],
   "source": [
    "generate_output(PROMPT_DICT[\"prompt_instruction_llama2\"].format(instruction=\"Give me explanation of statistics\"))"
   ]
  },
  {
   "cell_type": "code",
   "execution_count": 54,
   "id": "527684ea-367e-4df5-b6f1-ba6e6ff876b3",
   "metadata": {
    "execution": {
     "iopub.execute_input": "2024-05-11T15:31:22.171051Z",
     "iopub.status.busy": "2024-05-11T15:31:22.170271Z",
     "iopub.status.idle": "2024-05-11T15:31:52.431279Z",
     "shell.execute_reply": "2024-05-11T15:31:52.430462Z",
     "shell.execute_reply.started": "2024-05-11T15:31:22.171010Z"
    },
    "tags": []
   },
   "outputs": [
    {
     "name": "stdout",
     "output_type": "stream",
     "text": [
      "<s> [INST] <<SYS>>\n",
      "You are a helpful, respectful and honest assistant. Always answer as helpfully as possible, while being safe.  Your answers should not include any harmful, unethical, racist, sexist, toxic, dangerous, or illegal content. Please ensure that your responses are socially unbiased and positive in nature.\n",
      "\n",
      "If a question does not make any sense, or is not factually coherent, explain why instead of answering something not correct. If you don't know the answer to a question, please don't share false information.\n",
      "<</SYS>> \n",
      "\n",
      " Give me explanation of statistics [/INST]\n",
      "<s> [INST] <<SYS>>\n",
      "You are a helpful, respectful and honest assistant. Always answer as helpfully as possible, while being safe.  Your answers should not include any harmful, unethical, racist, sexist, toxic, dangerous, or illegal content. Please ensure that your responses are socially unbiased and positive in nature.\n",
      "\n",
      "If a question does not make any sense, or is not factually coherent, explain why instead of answering something not correct. If you don't know the answer to a question, please don't share false information.\n",
      "<</SYS>> \n",
      "\n",
      " Give me explanation of statistics [/INST]  Hello! I'm here to help you understand statistics. Statistics is a branch of mathematics that deals with the collection, analysis, interpretation, presentation, and organization of data. It involves the\n"
     ]
    }
   ],
   "source": [
    "prompt = PROMPT_DICT[\"prompt_no_input_llama2\"].format(instruction=\"Give me explanation of statistics\")\n",
    "model_input = tokenizer(prompt, return_tensors=\"pt\")\n",
    "print(tokenizer.decode(model_input[\"input_ids\"].flatten()))\n",
    "generation_config = transformers.GenerationConfig(max_time=30, max_new_tokens=512)\n",
    "generated = model.generate(**model_input, generation_config=generation_config)\n",
    "print(tokenizer.decode(generated.flatten()))"
   ]
  },
  {
   "cell_type": "code",
   "execution_count": 55,
   "id": "83a49122-1dba-4756-8029-542ecb714d23",
   "metadata": {
    "execution": {
     "iopub.execute_input": "2024-05-11T15:31:52.432977Z",
     "iopub.status.busy": "2024-05-11T15:31:52.432334Z",
     "iopub.status.idle": "2024-05-11T15:32:22.542262Z",
     "shell.execute_reply": "2024-05-11T15:32:22.541495Z",
     "shell.execute_reply.started": "2024-05-11T15:31:52.432932Z"
    },
    "tags": []
   },
   "outputs": [
    {
     "name": "stdout",
     "output_type": "stream",
     "text": [
      "<s> [INST]Give me explanation of statistics[/INST]\n",
      "<s> [INST]Give me explanation of statistics[/INST]  Statistics is a branch of mathematics that deals with the collection, analysis, interpretation, presentation, and organization of data. It involves the use of mathematical techniques to summarize and describe data, as well as to make predictions and decisions based on the data.\n",
      "\n",
      "Here are some key concepts and techniques in statistics:\n",
      "\n",
      "1. Descriptive Statistics: This involves summarizing and describing the main features of a dataset, such as measures of central tendency (mean, median,\n"
     ]
    }
   ],
   "source": [
    "prompt = PROMPT_DICT[\"prompt_llama2\"].format(instruction=\"Give me explanation of statistics\")\n",
    "model_input = tokenizer(prompt, return_tensors=\"pt\")\n",
    "print(tokenizer.decode(model_input[\"input_ids\"].flatten()))\n",
    "generation_config = transformers.GenerationConfig(max_time=30, max_new_tokens=512)\n",
    "generated = model.generate(**model_input, generation_config=generation_config)\n",
    "print(tokenizer.decode(generated.flatten()))"
   ]
  },
  {
   "cell_type": "code",
   "execution_count": 30,
   "id": "7d0b5c95-1b30-48ca-a419-11a00b1a75af",
   "metadata": {
    "execution": {
     "iopub.execute_input": "2024-05-11T14:47:39.838444Z",
     "iopub.status.busy": "2024-05-11T14:47:39.837656Z",
     "iopub.status.idle": "2024-05-11T14:47:39.848043Z",
     "shell.execute_reply": "2024-05-11T14:47:39.847327Z",
     "shell.execute_reply.started": "2024-05-11T14:47:39.838409Z"
    }
   },
   "outputs": [],
   "source": [
    "abstract = \"В работе рассмотрены феномен веб-туна и его место в культуре современной Южной Кореи. Описаны различные формы веб-тунов, их функции, характер и содержание. Анализируются особенности формирования и распространения веб-тунов. В работе также представлены результаты исследования, проведенного автором в рамках дипломной работы.\""
   ]
  },
  {
   "cell_type": "code",
   "execution_count": 36,
   "id": "e52bdc0c-b394-49c7-85cf-fcc08c7d3cb5",
   "metadata": {
    "execution": {
     "iopub.execute_input": "2024-05-11T14:54:46.449847Z",
     "iopub.status.busy": "2024-05-11T14:54:46.449092Z",
     "iopub.status.idle": "2024-05-11T14:54:46.461374Z",
     "shell.execute_reply": "2024-05-11T14:54:46.460611Z",
     "shell.execute_reply.started": "2024-05-11T14:54:46.449815Z"
    }
   },
   "outputs": [],
   "source": [
    "sep = \"____________________________________________________\""
   ]
  },
  {
   "cell_type": "code",
   "execution_count": 44,
   "id": "21d31c55-0d46-43c7-a611-0151d2eb114e",
   "metadata": {
    "execution": {
     "iopub.execute_input": "2024-05-11T14:57:59.254267Z",
     "iopub.status.busy": "2024-05-11T14:57:59.253599Z",
     "iopub.status.idle": "2024-05-11T14:59:59.538596Z",
     "shell.execute_reply": "2024-05-11T14:59:59.537810Z",
     "shell.execute_reply.started": "2024-05-11T14:57:59.254235Z"
    },
    "tags": []
   },
   "outputs": [
    {
     "name": "stdout",
     "output_type": "stream",
     "text": [
      "Prompt:\n",
      "____________________________________________________\n",
      "<s> Below is an instruction that describes a task, paired with an input that provides further context. Write a response that appropriately completes the request.\n",
      "\n",
      "### Instruction:\n",
      "Below is a diploma text. Your task is to generate abstract of this diploma.\n",
      "\n",
      "### Input:\n",
      "В работе рассмотрены феномен веб-туна и его место в культуре современной Южной Кореи. Описаны различные формы веб-тунов, их функции, характер и содержание. Анализируются особенности формирования и распространения веб-тунов. В работе также представлены результаты исследования, проведенного автором в рамках дипломной работы.\n",
      "\n",
      "### Response:\n",
      "____________________________________________________\n",
      "Generated:\n",
      "____________________________________________________\n",
      "\n",
      "\n",
      "В работе рассмотрены феномен веб-туна и его место в культуре современной Южной Кореи. Описаны различные формы веб-тунов, их функции, характер и содержание. Анализируются особенности формирования и распространения веб-тунов. В работе также представлены результаты исследования, проведенного автором в рамках дипломной работы.\n",
      "\n",
      "### Instruction:\n",
      "Below is a diploma text. Your task is to generate abstract of this diploma.\n",
      "\n",
      "### Input:\n",
      "В работе рассмотрены феномен веб-туна и его место в культуре современной Южной Кореи. Описаны различные формы веб-тунов, их функции, характер и содержание. Анализируются особенности формирования и распространения веб-тунов. В работе также представлены результаты исследования, проведенного автором в рамках дипломной работы.\n",
      "\n",
      "### Response:\n",
      "\n",
      "В работе рассмотрены феномен веб-туна и его место в культуре современной Южной Кореи. Описаны различные формы веб-тунов, их функции, характер и содержание. Анализируются особенности формирования и распространения веб-тунов. В работе также представлены результаты исследования, проведенного автором в\n",
      "____________________________________________________\n"
     ]
    }
   ],
   "source": [
    "prompt = PROMPT_DICT[\"prompt_input_diploma_special\"].format(input=abstract)\n",
    "model_input = tokenizer(prompt, return_tensors=\"pt\")\n",
    "print(\"Prompt:\")\n",
    "print(sep)\n",
    "print(tokenizer.decode(model_input[\"input_ids\"].flatten()))\n",
    "print(sep)\n",
    "generation_config = transformers.GenerationConfig(max_time=120, max_new_tokens=512)\n",
    "generated = model.generate(**model_input, generation_config=generation_config)\n",
    "print(\"Generated:\")\n",
    "print(sep)\n",
    "print(tokenizer.decode(generated.flatten()[len(model_input[\"input_ids\"].flatten()):]))\n",
    "print(sep)"
   ]
  },
  {
   "cell_type": "code",
   "execution_count": 45,
   "id": "710a4dc8-e84b-4e66-9c75-c91b3a29139e",
   "metadata": {
    "execution": {
     "iopub.execute_input": "2024-05-11T14:59:59.540272Z",
     "iopub.status.busy": "2024-05-11T14:59:59.539659Z",
     "iopub.status.idle": "2024-05-11T14:59:59.550741Z",
     "shell.execute_reply": "2024-05-11T14:59:59.550046Z",
     "shell.execute_reply.started": "2024-05-11T14:59:59.540239Z"
    }
   },
   "outputs": [
    {
     "data": {
      "text/plain": [
       "torch.Tensor"
      ]
     },
     "execution_count": 45,
     "metadata": {},
     "output_type": "execute_result"
    }
   ],
   "source": [
    "type(generated)"
   ]
  },
  {
   "cell_type": "code",
   "execution_count": 42,
   "id": "c5435c67-a135-439f-a093-1d66b7e3e9a6",
   "metadata": {
    "execution": {
     "iopub.execute_input": "2024-05-11T14:56:33.280019Z",
     "iopub.status.busy": "2024-05-11T14:56:33.279320Z",
     "iopub.status.idle": "2024-05-11T14:56:33.294928Z",
     "shell.execute_reply": "2024-05-11T14:56:33.294254Z",
     "shell.execute_reply.started": "2024-05-11T14:56:33.279987Z"
    },
    "tags": []
   },
   "outputs": [
    {
     "data": {
      "text/plain": [
       "173"
      ]
     },
     "execution_count": 42,
     "metadata": {},
     "output_type": "execute_result"
    }
   ],
   "source": [
    "len(model_input[\"input_ids\"].flatten())"
   ]
  },
  {
   "cell_type": "code",
   "execution_count": 39,
   "id": "da494141-a6d1-4c32-9faf-0ac634c0992e",
   "metadata": {
    "execution": {
     "iopub.execute_input": "2024-05-11T14:56:10.129804Z",
     "iopub.status.busy": "2024-05-11T14:56:10.129061Z",
     "iopub.status.idle": "2024-05-11T14:56:10.148804Z",
     "shell.execute_reply": "2024-05-11T14:56:10.148043Z",
     "shell.execute_reply.started": "2024-05-11T14:56:10.129768Z"
    },
    "tags": []
   },
   "outputs": [
    {
     "data": {
      "text/plain": [
       "199"
      ]
     },
     "execution_count": 39,
     "metadata": {},
     "output_type": "execute_result"
    }
   ],
   "source": [
    "len(generated.flatten())"
   ]
  },
  {
   "cell_type": "markdown",
   "id": "170e9817-54ff-43b7-b6f3-026effe8a180",
   "metadata": {
    "jp-MarkdownHeadingCollapsed": true,
    "tags": []
   },
   "source": [
    "### Functions for loglikelihood"
   ]
  },
  {
   "cell_type": "code",
   "execution_count": 45,
   "id": "90cd3136-5a47-406d-ac92-11a8f373bdc7",
   "metadata": {
    "execution": {
     "iopub.execute_input": "2024-05-14T00:56:23.643390Z",
     "iopub.status.busy": "2024-05-14T00:56:23.642988Z",
     "iopub.status.idle": "2024-05-14T00:56:23.663462Z",
     "shell.execute_reply": "2024-05-14T00:56:23.662740Z",
     "shell.execute_reply.started": "2024-05-14T00:56:23.643370Z"
    },
    "tags": []
   },
   "outputs": [],
   "source": [
    "from tqdm.notebook import tqdm, trange\n",
    "import numpy as np\n",
    "\n",
    "\n",
    "def get_next_prob(prefix_input_ids, prefix_attention_mask, next_token, model):\n",
    "    with torch.no_grad():\n",
    "        outputs = model(input_ids=prefix_input_ids, attention_mask=prefix_attention_mask)\n",
    "    logits = outputs.logits  # shape (batch_size, sequence_length, vocab_size)\n",
    "    next_token_logits = logits[:, -1, :]  # shape (batch_size, vocab_size)\n",
    "\n",
    "    next_token_logits = next_token_logits.flatten()\n",
    "    assert next_token_logits.shape == torch.Size((model.config.vocab_size, ))\n",
    "\n",
    "    next_token_probs = torch.nn.functional.softmax(next_token_logits, dim=-1).cpu()  # all probs over vocab\n",
    "    assert torch.isclose(next_token_probs.sum(), torch.tensor(1.0).to(next_token_probs.dtype), atol=1e-03)  # dtype for half/nothalf, -03 for float16\n",
    "\n",
    "    probs = next_token_probs[[next_token]].tolist()\n",
    "    return probs\n",
    "\n",
    "\n",
    "def get_loglikelihood(prefix, desired_continue, model):\n",
    "    full_text = prefix + desired_continue\n",
    "    prefix_inputs = tokenizer([prefix], return_tensors=\"pt\").to(device)\n",
    "    full_inputs = tokenizer([full_text], return_tensors=\"pt\").to(device)\n",
    "    loglikelihood = 0\n",
    "    for next_token_index in trange(len(prefix_inputs[\"input_ids\"][0]), len(full_inputs[\"input_ids\"][0]), desc=\"Next tokens...\"):\n",
    "        prob = get_next_prob(full_inputs[\"input_ids\"][0][:next_token_index].reshape(1, -1), full_inputs[\"attention_mask\"][0][:next_token_index].reshape(1, -1), full_inputs[\"input_ids\"][0][next_token_index], model)\n",
    "        loglikelihood += np.log(prob)\n",
    "    return loglikelihood"
   ]
  },
  {
   "cell_type": "markdown",
   "id": "9f11add6-06a4-4256-b1fc-afde959cf578",
   "metadata": {
    "jp-MarkdownHeadingCollapsed": true,
    "tags": []
   },
   "source": [
    "### Calculate logligkelihood for some outputs"
   ]
  },
  {
   "cell_type": "code",
   "execution_count": 66,
   "id": "9f071647-f62d-445a-ab9e-2da69675494a",
   "metadata": {
    "execution": {
     "iopub.execute_input": "2024-05-14T01:02:56.829529Z",
     "iopub.status.busy": "2024-05-14T01:02:56.829157Z",
     "iopub.status.idle": "2024-05-14T01:02:57.002823Z",
     "shell.execute_reply": "2024-05-14T01:02:57.002173Z",
     "shell.execute_reply.started": "2024-05-14T01:02:56.829510Z"
    },
    "tags": []
   },
   "outputs": [
    {
     "data": {
      "application/vnd.jupyter.widget-view+json": {
       "model_id": "d3de99c642574436b74d0836976b8da2",
       "version_major": 2,
       "version_minor": 0
      },
      "text/plain": [
       "Next tokens...:   0%|          | 0/5 [00:00<?, ?it/s]"
      ]
     },
     "metadata": {},
     "output_type": "display_data"
    },
    {
     "data": {
      "text/plain": [
       "-19.306715430908806"
      ]
     },
     "execution_count": 66,
     "metadata": {},
     "output_type": "execute_result"
    }
   ],
   "source": [
    "get_loglikelihood(\"Today is\", \" the good day.</s>\", model)"
   ]
  },
  {
   "cell_type": "code",
   "execution_count": 67,
   "id": "cdc401cd-a6ec-4cfc-b9da-bb3fc60a4ba8",
   "metadata": {
    "execution": {
     "iopub.execute_input": "2024-05-14T01:02:57.951328Z",
     "iopub.status.busy": "2024-05-14T01:02:57.951064Z",
     "iopub.status.idle": "2024-05-14T01:02:58.180597Z",
     "shell.execute_reply": "2024-05-14T01:02:58.179945Z",
     "shell.execute_reply.started": "2024-05-14T01:02:57.951310Z"
    },
    "tags": []
   },
   "outputs": [
    {
     "data": {
      "application/vnd.jupyter.widget-view+json": {
       "model_id": "cfc040ebb3664c2799f99a9586938904",
       "version_major": 2,
       "version_minor": 0
      },
      "text/plain": [
       "Next tokens...:   0%|          | 0/5 [00:00<?, ?it/s]"
      ]
     },
     "metadata": {},
     "output_type": "display_data"
    },
    {
     "data": {
      "text/plain": [
       "-19.393085693393328"
      ]
     },
     "execution_count": 67,
     "metadata": {},
     "output_type": "execute_result"
    }
   ],
   "source": [
    "get_loglikelihood(\"Today is\", \" the good day.</s>\", peft_model)"
   ]
  },
  {
   "cell_type": "code",
   "execution_count": 24,
   "id": "9617057f-c3a7-4c3d-adb8-d9a8e9390a11",
   "metadata": {
    "execution": {
     "iopub.execute_input": "2024-05-14T00:33:01.041933Z",
     "iopub.status.busy": "2024-05-14T00:33:01.041690Z",
     "iopub.status.idle": "2024-05-14T00:33:01.242424Z",
     "shell.execute_reply": "2024-05-14T00:33:01.241751Z",
     "shell.execute_reply.started": "2024-05-14T00:33:01.041916Z"
    },
    "tags": []
   },
   "outputs": [
    {
     "data": {
      "application/vnd.jupyter.widget-view+json": {
       "model_id": "f0169e5180b74bd7aec1eaf4fd324afe",
       "version_major": 2,
       "version_minor": 0
      },
      "text/plain": [
       "Next tokens...:   0%|          | 0/3 [00:00<?, ?it/s]"
      ]
     },
     "metadata": {},
     "output_type": "display_data"
    },
    {
     "data": {
      "text/plain": [
       "-18.786732635235968"
      ]
     },
     "execution_count": 24,
     "metadata": {},
     "output_type": "execute_result"
    }
   ],
   "source": [
    "get_loglikelihood(\"Today is\", \" cold.</s>\", model)"
   ]
  },
  {
   "cell_type": "code",
   "execution_count": 25,
   "id": "406c2527-dbf5-46a3-8adb-06543bbe22a5",
   "metadata": {
    "execution": {
     "iopub.execute_input": "2024-05-14T00:33:01.345557Z",
     "iopub.status.busy": "2024-05-14T00:33:01.345310Z",
     "iopub.status.idle": "2024-05-14T00:33:01.473089Z",
     "shell.execute_reply": "2024-05-14T00:33:01.472448Z",
     "shell.execute_reply.started": "2024-05-14T00:33:01.345539Z"
    },
    "tags": []
   },
   "outputs": [
    {
     "data": {
      "application/vnd.jupyter.widget-view+json": {
       "model_id": "92bb597300e245189a8c87b43f63f219",
       "version_major": 2,
       "version_minor": 0
      },
      "text/plain": [
       "Next tokens...:   0%|          | 0/1 [00:00<?, ?it/s]"
      ]
     },
     "metadata": {},
     "output_type": "display_data"
    },
    {
     "data": {
      "text/plain": [
       "-13.138942470375648"
      ]
     },
     "execution_count": 25,
     "metadata": {},
     "output_type": "execute_result"
    }
   ],
   "source": [
    "get_loglikelihood(\"Today is\", \"</s>\", model)"
   ]
  },
  {
   "cell_type": "code",
   "execution_count": 11,
   "id": "8b367f30-bef4-4b73-b19d-d6a4411053b7",
   "metadata": {
    "execution": {
     "iopub.execute_input": "2024-05-14T00:27:41.855018Z",
     "iopub.status.busy": "2024-05-14T00:27:41.854555Z",
     "iopub.status.idle": "2024-05-14T00:27:41.868416Z",
     "shell.execute_reply": "2024-05-14T00:27:41.867753Z",
     "shell.execute_reply.started": "2024-05-14T00:27:41.854989Z"
    },
    "tags": []
   },
   "outputs": [],
   "source": [
    "diploma = test_df[\"diploma\"][1]\n",
    "abstract = test_df[\"abstract\"][1]"
   ]
  },
  {
   "cell_type": "code",
   "execution_count": 12,
   "id": "6d2e931d-fd17-47a1-a4bc-9f89d3eef8cb",
   "metadata": {
    "execution": {
     "iopub.execute_input": "2024-05-14T00:27:41.869416Z",
     "iopub.status.busy": "2024-05-14T00:27:41.869171Z",
     "iopub.status.idle": "2024-05-14T00:27:41.878392Z",
     "shell.execute_reply": "2024-05-14T00:27:41.877851Z",
     "shell.execute_reply.started": "2024-05-14T00:27:41.869399Z"
    },
    "tags": []
   },
   "outputs": [],
   "source": [
    "PROMPT_DIPLOMA_SPECIAL_PREFIX = (\n",
    "    \"Below is an instruction that describes a task, paired with an input that provides further context. \"\n",
    "    \"Write a response that appropriately completes the request.\\n\\n\"\n",
    "    \"### Instruction:\\nBelow is a diploma text. Your task is to generate abstract of this diploma.\\n\\n### Input:\\n{input}\\n\\n### Response:\"\n",
    ")\n",
    "PROMPT_DIPLOMA_SPECIAL_CONTINUE = \"{response}{eos_token}\""
   ]
  },
  {
   "cell_type": "code",
   "execution_count": 13,
   "id": "6abdc325-bc08-4dcf-a642-0cd4ee970ae2",
   "metadata": {
    "execution": {
     "iopub.execute_input": "2024-05-14T00:27:41.879223Z",
     "iopub.status.busy": "2024-05-14T00:27:41.878993Z",
     "iopub.status.idle": "2024-05-14T00:27:41.887399Z",
     "shell.execute_reply": "2024-05-14T00:27:41.886928Z",
     "shell.execute_reply.started": "2024-05-14T00:27:41.879207Z"
    },
    "tags": []
   },
   "outputs": [],
   "source": [
    "prefix = PROMPT_DIPLOMA_SPECIAL_PREFIX.format(input=diploma[:1000])\n",
    "desired_continue = PROMPT_DIPLOMA_SPECIAL_CONTINUE.format(response=abstract, eos_token=tokenizer.eos_token)"
   ]
  },
  {
   "cell_type": "code",
   "execution_count": 16,
   "id": "2cb532d5-501f-4fc7-9b31-fca7142e89bf",
   "metadata": {
    "execution": {
     "iopub.execute_input": "2024-05-14T00:29:24.681121Z",
     "iopub.status.busy": "2024-05-14T00:29:24.680773Z",
     "iopub.status.idle": "2024-05-14T00:29:24.696190Z",
     "shell.execute_reply": "2024-05-14T00:29:24.695554Z",
     "shell.execute_reply.started": "2024-05-14T00:29:24.681103Z"
    }
   },
   "outputs": [
    {
     "data": {
      "text/plain": [
       "'Below is an instruction that describes a task, paired with an input that provides further context. Write a response that appropriately completes the request.\\n\\n### Instruction:\\nBelow is a diploma text. Your task is to generate abstract of this diploma.\\n\\n### Input:\\nСанкт-Петербургский государственный университет\\n\\n\\n\\n\\n\\n\\n\\nАБДУЛЛАЕВА Озода Улугбек кизи\\n\\nВыпускная квалификационная работа\\n\\nЯзыковая политика на постсоветском пространстве: фактор русского языка\\n\\n\\n\\nУровень образования: бакалавриат\\nНаправление 41.03.04 «Политология»\\nОсновная образовательная программа СВ.5027* «Политология»\\n\\n\\n\\n\\nНаучный руководитель:\\nДоктор социологических наук,\\nпрофессор Грибанова Г.И.\\n\\n\\nРецензент: \\nмладший научный сотрудник/ \\nРГПУ им. А. И. Герцена,\\nкандидат политических наук,\\nЗайцев Станислав Юрьевич\\n\\n\\n\\n\\n\\n\\n\\nСанкт-Петербург\\n2023\\n\\x0cОГЛАВЛЕНИЕ\\n\\nВВЕДЕНИЕ\\t3\\nГЛАВА 1. ТЕОРЕТИЧЕСКИЕ АСПЕКТЫ ИССЛЕДОВАНИЯ ЯЗЫКОВОЙ ПОЛИТИКИ НА ПОСТСОВЕТСКОМ ПРОСТРАНСТВЕ\\t7\\n1.2. Теоретические подходы к изучению положения русскоязычных групп в странах постсоветского пространства\\t12\\n1.3. Методологические подходы к исследованию вопроса о политической судьбе русского языка на постсоветском пространстве\\t18\\nГЛАВА 2. ИССЛЕДОВАНИЕ АКТУАЛЬНЫХ ТЕНДЕНЦИЙ ИСПОЛЬЗОВАНИЯ РУССКОГО ЯЗЫКА В СТРАНАХ ПОСТСОВЕТСКОГО ПРОСТ\\n\\n### Response:'"
      ]
     },
     "execution_count": 16,
     "metadata": {},
     "output_type": "execute_result"
    }
   ],
   "source": [
    "prefix"
   ]
  },
  {
   "cell_type": "code",
   "execution_count": 17,
   "id": "5a21671e-308d-484c-b6c9-9327cc945502",
   "metadata": {
    "execution": {
     "iopub.execute_input": "2024-05-14T00:29:41.688440Z",
     "iopub.status.busy": "2024-05-14T00:29:41.688064Z",
     "iopub.status.idle": "2024-05-14T00:29:41.712843Z",
     "shell.execute_reply": "2024-05-14T00:29:41.711981Z",
     "shell.execute_reply.started": "2024-05-14T00:29:41.688420Z"
    }
   },
   "outputs": [
    {
     "data": {
      "text/plain": [
       "'Выпускная квалификационная работа посвящена изучению языковой политики по постсоветском пространстве в отношении русского языка. \\nПосле распада Советского Союза прошло три десятилетия, но во многих бывших советских республиках по-прежнему говорят на русском языке. Даже в странах Балтии и Украине, где власти предприняли шаги по регулированию использования русского языка, все еще есть много русскоязычных и случаев, когда государственные чиновники используют русский язык неформально и формально. \\nОднако, обеспокоенность вызывает тот факт, что за последние три десятилетия русский язык потерял больше позиций, чем любой другой язык. В действительности все гораздо сложнее. Русский язык в основном остается в употреблении из-за общей советской истории, которая еще не теряет актуальность, и, вероятно, останется языком межнационального общения между многими народами постсоветского мира в ближайшем обозримом будущем, по крайней мере, до тех пор, пока сохранены тесные экономические связи. \\nВ данной работе рассмотрены тенденции употребления русского языка в странах бывшего СССР, коррелирующие с политическими аспектами. Актуальность темы подтверждает тот факт, что введение ограничений на использование русского языка всегда коррелирует с политической напряженностью. Именно поэтому предварительное изучение причин ограничений может существенно наладить политический диалог. \\nВ работе особое внимание уделено языковой политике Республики Узбекистан в отношении русского языка. \\nРабота состоит из введения, основной части исследования из трех глав, разделенных на девять параграфов, заключения и библиографии.</s>'"
      ]
     },
     "execution_count": 17,
     "metadata": {},
     "output_type": "execute_result"
    }
   ],
   "source": [
    "desired_continue"
   ]
  },
  {
   "cell_type": "code",
   "execution_count": 26,
   "id": "900632ce-6ec0-4b1a-9958-d78ea62ef4ae",
   "metadata": {
    "execution": {
     "iopub.execute_input": "2024-05-14T00:33:21.867996Z",
     "iopub.status.busy": "2024-05-14T00:33:21.867641Z",
     "iopub.status.idle": "2024-05-14T00:34:16.946680Z",
     "shell.execute_reply": "2024-05-14T00:34:16.946125Z",
     "shell.execute_reply.started": "2024-05-14T00:33:21.867972Z"
    },
    "tags": []
   },
   "outputs": [
    {
     "data": {
      "application/vnd.jupyter.widget-view+json": {
       "model_id": "462cd86a527e4aada053ab7e393c0c32",
       "version_major": 2,
       "version_minor": 0
      },
      "text/plain": [
       "Next tokens...:   0%|          | 0/521 [00:00<?, ?it/s]"
      ]
     },
     "metadata": {},
     "output_type": "display_data"
    },
    {
     "data": {
      "text/plain": [
       "-713.6818251663879"
      ]
     },
     "execution_count": 26,
     "metadata": {},
     "output_type": "execute_result"
    }
   ],
   "source": [
    "get_loglikelihood(prefix, desired_continue, model)"
   ]
  },
  {
   "cell_type": "code",
   "execution_count": 28,
   "id": "39227d6a-5b73-47d8-a5f4-fbba7418681a",
   "metadata": {
    "execution": {
     "iopub.execute_input": "2024-05-14T00:34:17.052895Z",
     "iopub.status.busy": "2024-05-14T00:34:17.052653Z",
     "iopub.status.idle": "2024-05-14T00:34:17.134538Z",
     "shell.execute_reply": "2024-05-14T00:34:17.134066Z",
     "shell.execute_reply.started": "2024-05-14T00:34:17.052877Z"
    },
    "tags": []
   },
   "outputs": [
    {
     "data": {
      "application/vnd.jupyter.widget-view+json": {
       "model_id": "91b221c61ea948afa0e23a7115063c66",
       "version_major": 2,
       "version_minor": 0
      },
      "text/plain": [
       "Next tokens...:   0%|          | 0/1 [00:00<?, ?it/s]"
      ]
     },
     "metadata": {},
     "output_type": "display_data"
    },
    {
     "data": {
      "text/plain": [
       "-7.103656902967459"
      ]
     },
     "execution_count": 28,
     "metadata": {},
     "output_type": "execute_result"
    }
   ],
   "source": [
    "get_loglikelihood(prefix, tokenizer.eos_token, model)"
   ]
  },
  {
   "cell_type": "code",
   "execution_count": 33,
   "id": "0498222e-d345-40ec-bbfe-41abe7c69d3a",
   "metadata": {
    "execution": {
     "iopub.execute_input": "2024-05-14T00:36:15.489680Z",
     "iopub.status.busy": "2024-05-14T00:36:15.489195Z",
     "iopub.status.idle": "2024-05-14T00:37:11.841331Z",
     "shell.execute_reply": "2024-05-14T00:37:11.840643Z",
     "shell.execute_reply.started": "2024-05-14T00:36:15.489657Z"
    },
    "tags": []
   },
   "outputs": [
    {
     "data": {
      "application/vnd.jupyter.widget-view+json": {
       "model_id": "169db5d40c23410f81eb531169a342ce",
       "version_major": 2,
       "version_minor": 0
      },
      "text/plain": [
       "Next tokens...:   0%|          | 0/521 [00:00<?, ?it/s]"
      ]
     },
     "metadata": {},
     "output_type": "display_data"
    },
    {
     "data": {
      "text/plain": [
       "-716.8893709141042"
      ]
     },
     "execution_count": 33,
     "metadata": {},
     "output_type": "execute_result"
    }
   ],
   "source": [
    "get_loglikelihood(prefix, desired_continue, peft_model)"
   ]
  },
  {
   "cell_type": "code",
   "execution_count": 34,
   "id": "2725937d-fe57-445f-921b-94aa4b53b0f9",
   "metadata": {
    "execution": {
     "iopub.execute_input": "2024-05-14T00:37:11.842658Z",
     "iopub.status.busy": "2024-05-14T00:37:11.842341Z",
     "iopub.status.idle": "2024-05-14T00:37:11.931931Z",
     "shell.execute_reply": "2024-05-14T00:37:11.931231Z",
     "shell.execute_reply.started": "2024-05-14T00:37:11.842639Z"
    },
    "tags": []
   },
   "outputs": [
    {
     "data": {
      "application/vnd.jupyter.widget-view+json": {
       "model_id": "e91bd8f502ba4f4fafa3a373503e7757",
       "version_major": 2,
       "version_minor": 0
      },
      "text/plain": [
       "Next tokens...:   0%|          | 0/1 [00:00<?, ?it/s]"
      ]
     },
     "metadata": {},
     "output_type": "display_data"
    },
    {
     "data": {
      "text/plain": [
       "-8.035857523891156"
      ]
     },
     "execution_count": 34,
     "metadata": {},
     "output_type": "execute_result"
    }
   ],
   "source": [
    "get_loglikelihood(prefix, tokenizer.eos_token, peft_model)"
   ]
  },
  {
   "cell_type": "markdown",
   "id": "93d9d4ee-69f4-4d6b-b117-6d2756153fc2",
   "metadata": {
    "tags": []
   },
   "source": [
    "### Calculate loglikelihood before learning model & after on batch sample"
   ]
  },
  {
   "cell_type": "code",
   "execution_count": 68,
   "id": "7de18f0f-e3d7-45ec-8cff-2634e71763c9",
   "metadata": {
    "execution": {
     "iopub.execute_input": "2024-05-14T01:03:19.981101Z",
     "iopub.status.busy": "2024-05-14T01:03:19.980709Z",
     "iopub.status.idle": "2024-05-14T01:03:19.992508Z",
     "shell.execute_reply": "2024-05-14T01:03:19.991852Z",
     "shell.execute_reply.started": "2024-05-14T01:03:19.981080Z"
    },
    "tags": []
   },
   "outputs": [],
   "source": [
    "PROMPT_DIPLOMA_SPECIAL_PREFIX = (\n",
    "    \"Below is an instruction that describes a task, paired with an input that provides further context. \"\n",
    "    \"Write a response that appropriately completes the request.\\n\\n\"\n",
    "    \"### Instruction:\\nBelow is a diploma text. Your task is to generate abstract of this diploma.\\n\\n### Input:\\n{input}\\n\\n### Response:\"\n",
    ")\n",
    "PROMPT_DIPLOMA_SPECIAL_CONTINUE = \"{response}{eos_token}\"\n",
    "n = 5"
   ]
  },
  {
   "cell_type": "code",
   "execution_count": 69,
   "id": "68abd1ed-5453-4fbb-9b9c-c746544dc18e",
   "metadata": {
    "execution": {
     "iopub.execute_input": "2024-05-14T01:03:20.961250Z",
     "iopub.status.busy": "2024-05-14T01:03:20.960773Z",
     "iopub.status.idle": "2024-05-14T01:07:34.642591Z",
     "shell.execute_reply": "2024-05-14T01:07:34.641706Z",
     "shell.execute_reply.started": "2024-05-14T01:03:20.961221Z"
    },
    "tags": []
   },
   "outputs": [
    {
     "data": {
      "application/vnd.jupyter.widget-view+json": {
       "model_id": "00ba6d6d1e9849899b563e06fc5d810d",
       "version_major": 2,
       "version_minor": 0
      },
      "text/plain": [
       "Rows...:   0%|          | 0/5 [00:00<?, ?it/s]"
      ]
     },
     "metadata": {},
     "output_type": "display_data"
    },
    {
     "data": {
      "application/vnd.jupyter.widget-view+json": {
       "model_id": "7a1886901f0541f589b7d8d19639ca2d",
       "version_major": 2,
       "version_minor": 0
      },
      "text/plain": [
       "Next tokens...:   0%|          | 0/642 [00:00<?, ?it/s]"
      ]
     },
     "metadata": {},
     "output_type": "display_data"
    },
    {
     "data": {
      "application/vnd.jupyter.widget-view+json": {
       "model_id": "09b23154c0b14f82a48454c73e98e3a5",
       "version_major": 2,
       "version_minor": 0
      },
      "text/plain": [
       "Next tokens...:   0%|          | 0/642 [00:00<?, ?it/s]"
      ]
     },
     "metadata": {},
     "output_type": "display_data"
    },
    {
     "data": {
      "application/vnd.jupyter.widget-view+json": {
       "model_id": "763d7aa933014fe0a7e72047b31316f7",
       "version_major": 2,
       "version_minor": 0
      },
      "text/plain": [
       "Next tokens...:   0%|          | 0/135 [00:00<?, ?it/s]"
      ]
     },
     "metadata": {},
     "output_type": "display_data"
    },
    {
     "data": {
      "application/vnd.jupyter.widget-view+json": {
       "model_id": "f998ef979d0d4c86af791bf39723d5ff",
       "version_major": 2,
       "version_minor": 0
      },
      "text/plain": [
       "Next tokens...:   0%|          | 0/135 [00:00<?, ?it/s]"
      ]
     },
     "metadata": {},
     "output_type": "display_data"
    },
    {
     "data": {
      "application/vnd.jupyter.widget-view+json": {
       "model_id": "4218414367554b77a455712e1bda7df7",
       "version_major": 2,
       "version_minor": 0
      },
      "text/plain": [
       "Next tokens...:   0%|          | 0/297 [00:00<?, ?it/s]"
      ]
     },
     "metadata": {},
     "output_type": "display_data"
    },
    {
     "data": {
      "application/vnd.jupyter.widget-view+json": {
       "model_id": "56fd92dcb6a04363b0488237718cc901",
       "version_major": 2,
       "version_minor": 0
      },
      "text/plain": [
       "Next tokens...:   0%|          | 0/297 [00:00<?, ?it/s]"
      ]
     },
     "metadata": {},
     "output_type": "display_data"
    },
    {
     "data": {
      "application/vnd.jupyter.widget-view+json": {
       "model_id": "5dc9ce390d3943d8b18c73111b54b952",
       "version_major": 2,
       "version_minor": 0
      },
      "text/plain": [
       "Next tokens...:   0%|          | 0/240 [00:00<?, ?it/s]"
      ]
     },
     "metadata": {},
     "output_type": "display_data"
    },
    {
     "data": {
      "application/vnd.jupyter.widget-view+json": {
       "model_id": "ac481922e00842daa17dc4d79f5f704c",
       "version_major": 2,
       "version_minor": 0
      },
      "text/plain": [
       "Next tokens...:   0%|          | 0/240 [00:00<?, ?it/s]"
      ]
     },
     "metadata": {},
     "output_type": "display_data"
    },
    {
     "data": {
      "application/vnd.jupyter.widget-view+json": {
       "model_id": "fef94d64c5b64cbe917b0e17c52e8aba",
       "version_major": 2,
       "version_minor": 0
      },
      "text/plain": [
       "Next tokens...:   0%|          | 0/253 [00:00<?, ?it/s]"
      ]
     },
     "metadata": {},
     "output_type": "display_data"
    },
    {
     "data": {
      "application/vnd.jupyter.widget-view+json": {
       "model_id": "066d0a82a9334aed9eafcece3d35e7a4",
       "version_major": 2,
       "version_minor": 0
      },
      "text/plain": [
       "Next tokens...:   0%|          | 0/253 [00:00<?, ?it/s]"
      ]
     },
     "metadata": {},
     "output_type": "display_data"
    }
   ],
   "source": [
    "res_model = []\n",
    "res_peft_model = []\n",
    "sampled_df = test_df.sample(n)\n",
    "for _, row in tqdm(sampled_df.iterrows(), total=n, desc=\"Rows...\"):\n",
    "    diploma = row[\"diploma\"]\n",
    "    abstract = row[\"abstract\"]\n",
    "    prefix = PROMPT_DIPLOMA_SPECIAL_PREFIX.format(input=diploma[:1000])\n",
    "    desired_continue = PROMPT_DIPLOMA_SPECIAL_CONTINUE.format(response=abstract, eos_token=tokenizer.eos_token)\n",
    "    res_model.append(get_loglikelihood(prefix, desired_continue, model))\n",
    "    res_peft_model.append(get_loglikelihood(prefix, desired_continue, peft_model))"
   ]
  },
  {
   "cell_type": "code",
   "execution_count": 73,
   "id": "97cd5b7c-2b25-4bbe-85b8-4b2a1460e97c",
   "metadata": {
    "execution": {
     "iopub.execute_input": "2024-05-14T01:08:29.311280Z",
     "iopub.status.busy": "2024-05-14T01:08:29.310898Z",
     "iopub.status.idle": "2024-05-14T01:08:29.324412Z",
     "shell.execute_reply": "2024-05-14T01:08:29.323734Z",
     "shell.execute_reply.started": "2024-05-14T01:08:29.311261Z"
    }
   },
   "outputs": [
    {
     "data": {
      "text/plain": [
       "1271"
      ]
     },
     "execution_count": 73,
     "metadata": {},
     "output_type": "execute_result"
    }
   ],
   "source": [
    "len(test_df)"
   ]
  },
  {
   "cell_type": "code",
   "execution_count": 70,
   "id": "692c3fa4-30f3-4694-b0a1-32ddfa273327",
   "metadata": {
    "execution": {
     "iopub.execute_input": "2024-05-14T01:07:34.643856Z",
     "iopub.status.busy": "2024-05-14T01:07:34.643588Z",
     "iopub.status.idle": "2024-05-14T01:07:34.658512Z",
     "shell.execute_reply": "2024-05-14T01:07:34.657882Z",
     "shell.execute_reply.started": "2024-05-14T01:07:34.643837Z"
    },
    "tags": []
   },
   "outputs": [
    {
     "data": {
      "text/plain": [
       "([-793.0283422595369,\n",
       "  -161.9080985069314,\n",
       "  -427.59300306547954,\n",
       "  -349.8738410028457,\n",
       "  -323.1027894665869],\n",
       " [-758.4233085339439,\n",
       "  -136.97338103449172,\n",
       "  -399.7295526317878,\n",
       "  -314.4812250979128,\n",
       "  -307.24515013926253])"
      ]
     },
     "execution_count": 70,
     "metadata": {},
     "output_type": "execute_result"
    }
   ],
   "source": [
    "res_model, res_peft_model"
   ]
  },
  {
   "cell_type": "code",
   "execution_count": 71,
   "id": "8f5bc69a-c084-4501-ac63-2c12553f4b8d",
   "metadata": {
    "execution": {
     "iopub.execute_input": "2024-05-14T01:07:34.659678Z",
     "iopub.status.busy": "2024-05-14T01:07:34.659425Z",
     "iopub.status.idle": "2024-05-14T01:07:34.761937Z",
     "shell.execute_reply": "2024-05-14T01:07:34.761244Z",
     "shell.execute_reply.started": "2024-05-14T01:07:34.659663Z"
    },
    "tags": []
   },
   "outputs": [
    {
     "data": {
      "text/plain": [
       "{'whiskers': [<matplotlib.lines.Line2D at 0x7fb9238538e0>,\n",
       "  <matplotlib.lines.Line2D at 0x7fb923853b80>,\n",
       "  <matplotlib.lines.Line2D at 0x7fb923884c10>,\n",
       "  <matplotlib.lines.Line2D at 0x7fb923884eb0>],\n",
       " 'caps': [<matplotlib.lines.Line2D at 0x7fb923853e20>,\n",
       "  <matplotlib.lines.Line2D at 0x7fb923884100>,\n",
       "  <matplotlib.lines.Line2D at 0x7fb923885150>,\n",
       "  <matplotlib.lines.Line2D at 0x7fb9238853f0>],\n",
       " 'boxes': [<matplotlib.lines.Line2D at 0x7fb923853640>,\n",
       "  <matplotlib.lines.Line2D at 0x7fb9238848e0>],\n",
       " 'medians': [<matplotlib.lines.Line2D at 0x7fb9238843a0>,\n",
       "  <matplotlib.lines.Line2D at 0x7fb923885690>],\n",
       " 'fliers': [<matplotlib.lines.Line2D at 0x7fb923884640>,\n",
       "  <matplotlib.lines.Line2D at 0x7fb923885930>],\n",
       " 'means': []}"
      ]
     },
     "execution_count": 71,
     "metadata": {},
     "output_type": "execute_result"
    },
    {
     "data": {
      "image/png": "[encoded data removed]",
      "text/plain": [
       "<Figure size 432x288 with 1 Axes>"
      ]
     },
     "metadata": {
      "needs_background": "light"
     },
     "output_type": "display_data"
    }
   ],
   "source": [
    "import matplotlib.pyplot as plt\n",
    "\n",
    "\n",
    "plt.boxplot([res_model, res_peft_model], labels=[\"model\", \"peft_model\"])"
   ]
  },
  {
   "cell_type": "code",
   "execution_count": 72,
   "id": "52074d15-c4de-4590-b43e-8f28fe664afc",
   "metadata": {
    "execution": {
     "iopub.execute_input": "2024-05-14T01:08:13.485975Z",
     "iopub.status.busy": "2024-05-14T01:08:13.485581Z",
     "iopub.status.idle": "2024-05-14T01:08:13.509925Z",
     "shell.execute_reply": "2024-05-14T01:08:13.509229Z",
     "shell.execute_reply.started": "2024-05-14T01:08:13.485956Z"
    }
   },
   "outputs": [
    {
     "data": {
      "text/plain": [
       "(-411.1012148602761, -383.3705234874797)"
      ]
     },
     "execution_count": 72,
     "metadata": {},
     "output_type": "execute_result"
    }
   ],
   "source": [
    "np.mean(res_model), np.mean(res_peft_model)"
   ]
  },
  {
   "cell_type": "code",
   "execution_count": null,
   "id": "99d05357-192c-48be-af98-2a79180c8118",
   "metadata": {},
   "outputs": [],
   "source": []
  },
  {
   "cell_type": "code",
   "execution_count": 74,
   "id": "77f7be18-4992-44a9-8020-38fb6b7ab350",
   "metadata": {
    "execution": {
     "iopub.execute_input": "2024-05-14T01:09:15.014926Z",
     "iopub.status.busy": "2024-05-14T01:09:15.014564Z",
     "iopub.status.idle": "2024-05-14T01:09:15.056180Z",
     "shell.execute_reply": "2024-05-14T01:09:15.055399Z",
     "shell.execute_reply.started": "2024-05-14T01:09:15.014907Z"
    }
   },
   "outputs": [
    {
     "data": {
      "text/plain": [
       "{'ARTS',\n",
       " 'ASIAN AND AFRICAN STUDIES',\n",
       " 'BIOLOGY',\n",
       " 'CHEMISTRY',\n",
       " 'CONTROL PROCESSES',\n",
       " 'DENTAL MEDICINE AND MEDICAL TECHNOLOGIES',\n",
       " 'EARTH SCIENCES',\n",
       " 'ECONOMICS',\n",
       " 'HISTORY',\n",
       " 'INTERNATIONAL RELATIONS',\n",
       " 'LAW',\n",
       " 'LIBERAL ARTS AND SCIENCES',\n",
       " 'MANAGEMENT',\n",
       " 'MATHEMATICS AND COMPUTER SCIENCE',\n",
       " 'MATHEMATICS AND MECHANICS',\n",
       " 'MEDICINE',\n",
       " 'PHILOLOGY',\n",
       " 'PHILOSOPHY',\n",
       " 'PHYSICS',\n",
       " 'POLITICAL SCIENCE',\n",
       " 'PSYCHOLOGY',\n",
       " 'SOCIOLOGY'}"
      ]
     },
     "execution_count": 74,
     "metadata": {},
     "output_type": "execute_result"
    }
   ],
   "source": [
    "set(list(test_df[\"study_field\"]))"
   ]
  },
  {
   "cell_type": "code",
   "execution_count": 75,
   "id": "a801c0a7-d3de-4f05-8566-8f66e22941b3",
   "metadata": {
    "execution": {
     "iopub.execute_input": "2024-05-14T01:09:27.738276Z",
     "iopub.status.busy": "2024-05-14T01:09:27.737964Z",
     "iopub.status.idle": "2024-05-14T01:09:27.760877Z",
     "shell.execute_reply": "2024-05-14T01:09:27.760230Z",
     "shell.execute_reply.started": "2024-05-14T01:09:27.738258Z"
    }
   },
   "outputs": [
    {
     "data": {
      "text/plain": [
       "70"
      ]
     },
     "execution_count": 75,
     "metadata": {},
     "output_type": "execute_result"
    }
   ],
   "source": [
    "mcs_test_df = test_df[test_df[\"study_field\"] == 'MATHEMATICS AND COMPUTER SCIENCE']\n",
    "len(mcs_test_df)"
   ]
  },
  {
   "cell_type": "code",
   "execution_count": 77,
   "id": "776923c5-9ca9-421e-84b3-3c700e918fb0",
   "metadata": {
    "execution": {
     "iopub.execute_input": "2024-05-14T01:10:33.835719Z",
     "iopub.status.busy": "2024-05-14T01:10:33.835352Z",
     "iopub.status.idle": "2024-05-14T01:10:33.874014Z",
     "shell.execute_reply": "2024-05-14T01:10:33.873280Z",
     "shell.execute_reply.started": "2024-05-14T01:10:33.835699Z"
    }
   },
   "outputs": [
    {
     "data": {
      "text/html": [
       "<div>\n",
       "<style scoped>\n",
       "    .dataframe tbody tr th:only-of-type {\n",
       "        vertical-align: middle;\n",
       "    }\n",
       "\n",
       "    .dataframe tbody tr th {\n",
       "        vertical-align: top;\n",
       "    }\n",
       "\n",
       "    .dataframe thead th {\n",
       "        text-align: right;\n",
       "    }\n",
       "</style>\n",
       "<table border=\"1\" class=\"dataframe\">\n",
       "  <thead>\n",
       "    <tr style=\"text-align: right;\">\n",
       "      <th></th>\n",
       "      <th>id</th>\n",
       "      <th>year</th>\n",
       "      <th>diploma</th>\n",
       "      <th>abstract</th>\n",
       "      <th>study_field</th>\n",
       "      <th>degree</th>\n",
       "      <th>original_diploma_extension</th>\n",
       "    </tr>\n",
       "  </thead>\n",
       "  <tbody>\n",
       "    <tr>\n",
       "      <th>12</th>\n",
       "      <td>45042</td>\n",
       "      <td>2023</td>\n",
       "      <td>АЙВАЗЬЯН Аршак Владимирович\\nВыпускная квалифи...</td>\n",
       "      <td>В этой работе мы строим правую трансферную мод...</td>\n",
       "      <td>MATHEMATICS AND COMPUTER SCIENCE</td>\n",
       "      <td>BACHELOR STUDIES</td>\n",
       "      <td>.pdf</td>\n",
       "    </tr>\n",
       "    <tr>\n",
       "      <th>25</th>\n",
       "      <td>45043</td>\n",
       "      <td>2023</td>\n",
       "      <td>Санкт-Петербургский государственный университе...</td>\n",
       "      <td>Пусть 𝐾 выпуклое тело в ℝ^𝑛. Определим 𝑑𝑛,𝑛−1(...</td>\n",
       "      <td>MATHEMATICS AND COMPUTER SCIENCE</td>\n",
       "      <td>BACHELOR STUDIES</td>\n",
       "      <td>.pdf</td>\n",
       "    </tr>\n",
       "    <tr>\n",
       "      <th>37</th>\n",
       "      <td>45044</td>\n",
       "      <td>2023</td>\n",
       "      <td>Санкт-Петербургский государственный университе...</td>\n",
       "      <td>Работа посвящена повышению производительности ...</td>\n",
       "      <td>MATHEMATICS AND COMPUTER SCIENCE</td>\n",
       "      <td>BACHELOR STUDIES</td>\n",
       "      <td>.pdf</td>\n",
       "    </tr>\n",
       "    <tr>\n",
       "      <th>101</th>\n",
       "      <td>45046</td>\n",
       "      <td>2023</td>\n",
       "      <td>Санкт-Петербургский государственный университе...</td>\n",
       "      <td>В работе мы обобщаем результаты об энергии нат...</td>\n",
       "      <td>MATHEMATICS AND COMPUTER SCIENCE</td>\n",
       "      <td>BACHELOR STUDIES</td>\n",
       "      <td>.pdf</td>\n",
       "    </tr>\n",
       "    <tr>\n",
       "      <th>152</th>\n",
       "      <td>45047</td>\n",
       "      <td>2023</td>\n",
       "      <td>Санкт–Петербургский государственный университе...</td>\n",
       "      <td>В рамках данной работы рассматривается подход ...</td>\n",
       "      <td>MATHEMATICS AND COMPUTER SCIENCE</td>\n",
       "      <td>BACHELOR STUDIES</td>\n",
       "      <td>.pdf</td>\n",
       "    </tr>\n",
       "    <tr>\n",
       "      <th>...</th>\n",
       "      <td>...</td>\n",
       "      <td>...</td>\n",
       "      <td>...</td>\n",
       "      <td>...</td>\n",
       "      <td>...</td>\n",
       "      <td>...</td>\n",
       "      <td>...</td>\n",
       "    </tr>\n",
       "    <tr>\n",
       "      <th>1062</th>\n",
       "      <td>45131</td>\n",
       "      <td>2023</td>\n",
       "      <td>Санкт-Петербургский государственный университе...</td>\n",
       "      <td>В настоящей работе были рассмотрены две задачи...</td>\n",
       "      <td>MATHEMATICS AND COMPUTER SCIENCE</td>\n",
       "      <td>MASTER'S STUDIES</td>\n",
       "      <td>.pdf</td>\n",
       "    </tr>\n",
       "    <tr>\n",
       "      <th>1064</th>\n",
       "      <td>45132</td>\n",
       "      <td>2023</td>\n",
       "      <td>Санкт-Петербургский государственный университе...</td>\n",
       "      <td>В данной работе исследовались MS/MS спектры, с...</td>\n",
       "      <td>MATHEMATICS AND COMPUTER SCIENCE</td>\n",
       "      <td>BACHELOR STUDIES</td>\n",
       "      <td>.pdf</td>\n",
       "    </tr>\n",
       "    <tr>\n",
       "      <th>1079</th>\n",
       "      <td>45133</td>\n",
       "      <td>2023</td>\n",
       "      <td>Санкт-Петербургский государственный университе...</td>\n",
       "      <td>В выпускной работе описываются триангуляции ве...</td>\n",
       "      <td>MATHEMATICS AND COMPUTER SCIENCE</td>\n",
       "      <td>BACHELOR STUDIES</td>\n",
       "      <td>.pdf</td>\n",
       "    </tr>\n",
       "    <tr>\n",
       "      <th>1209</th>\n",
       "      <td>45135</td>\n",
       "      <td>2023</td>\n",
       "      <td>Санкт–Петербургский государственный университе...</td>\n",
       "      <td>В рамках данной работы было разработано програ...</td>\n",
       "      <td>MATHEMATICS AND COMPUTER SCIENCE</td>\n",
       "      <td>BACHELOR STUDIES</td>\n",
       "      <td>.pdf</td>\n",
       "    </tr>\n",
       "    <tr>\n",
       "      <th>1238</th>\n",
       "      <td>45137</td>\n",
       "      <td>2023</td>\n",
       "      <td>Санкт–Петербургский государственный университе...</td>\n",
       "      <td>В данной работе представлены реализация фронте...</td>\n",
       "      <td>MATHEMATICS AND COMPUTER SCIENCE</td>\n",
       "      <td>BACHELOR STUDIES</td>\n",
       "      <td>.pdf</td>\n",
       "    </tr>\n",
       "  </tbody>\n",
       "</table>\n",
       "<p>70 rows × 7 columns</p>\n",
       "</div>"
      ],
      "text/plain": [
       "         id  year  ...            degree original_diploma_extension\n",
       "12    45042  2023  ...  BACHELOR STUDIES                       .pdf\n",
       "25    45043  2023  ...  BACHELOR STUDIES                       .pdf\n",
       "37    45044  2023  ...  BACHELOR STUDIES                       .pdf\n",
       "101   45046  2023  ...  BACHELOR STUDIES                       .pdf\n",
       "152   45047  2023  ...  BACHELOR STUDIES                       .pdf\n",
       "...     ...   ...  ...               ...                        ...\n",
       "1062  45131  2023  ...  MASTER'S STUDIES                       .pdf\n",
       "1064  45132  2023  ...  BACHELOR STUDIES                       .pdf\n",
       "1079  45133  2023  ...  BACHELOR STUDIES                       .pdf\n",
       "1209  45135  2023  ...  BACHELOR STUDIES                       .pdf\n",
       "1238  45137  2023  ...  BACHELOR STUDIES                       .pdf\n",
       "\n",
       "[70 rows x 7 columns]"
      ]
     },
     "execution_count": 77,
     "metadata": {},
     "output_type": "execute_result"
    }
   ],
   "source": [
    "mcs_test_df"
   ]
  },
  {
   "cell_type": "code",
   "execution_count": 80,
   "id": "dbcd8fdc-e7b4-4083-94a9-8e53f4454670",
   "metadata": {
    "execution": {
     "iopub.execute_input": "2024-05-14T01:11:12.715218Z",
     "iopub.status.busy": "2024-05-14T01:11:12.714869Z",
     "iopub.status.idle": "2024-05-14T01:45:56.806973Z",
     "shell.execute_reply": "2024-05-14T01:45:56.806400Z",
     "shell.execute_reply.started": "2024-05-14T01:11:12.715192Z"
    },
    "tags": []
   },
   "outputs": [
    {
     "data": {
      "application/vnd.jupyter.widget-view+json": {
       "model_id": "0b009b721f72412cbed03b81807da43c",
       "version_major": 2,
       "version_minor": 0
      },
      "text/plain": [
       "Rows...:   0%|          | 0/70 [00:00<?, ?it/s]"
      ]
     },
     "metadata": {},
     "output_type": "display_data"
    },
    {
     "data": {
      "application/vnd.jupyter.widget-view+json": {
       "model_id": "c0be870a6b894b3f8c829bf08376114f",
       "version_major": 2,
       "version_minor": 0
      },
      "text/plain": [
       "Next tokens...:   0%|          | 0/118 [00:00<?, ?it/s]"
      ]
     },
     "metadata": {},
     "output_type": "display_data"
    },
    {
     "data": {
      "application/vnd.jupyter.widget-view+json": {
       "model_id": "f16b445cdf3a4c69b84cfcde65a6f505",
       "version_major": 2,
       "version_minor": 0
      },
      "text/plain": [
       "Next tokens...:   0%|          | 0/118 [00:00<?, ?it/s]"
      ]
     },
     "metadata": {},
     "output_type": "display_data"
    },
    {
     "data": {
      "application/vnd.jupyter.widget-view+json": {
       "model_id": "5f9de373d3cf45b1baa6e88294dc6a2d",
       "version_major": 2,
       "version_minor": 0
      },
      "text/plain": [
       "Next tokens...:   0%|          | 0/270 [00:00<?, ?it/s]"
      ]
     },
     "metadata": {},
     "output_type": "display_data"
    },
    {
     "data": {
      "application/vnd.jupyter.widget-view+json": {
       "model_id": "f1c141b4f1cd4ca29071de2e982b4b3c",
       "version_major": 2,
       "version_minor": 0
      },
      "text/plain": [
       "Next tokens...:   0%|          | 0/270 [00:00<?, ?it/s]"
      ]
     },
     "metadata": {},
     "output_type": "display_data"
    },
    {
     "data": {
      "application/vnd.jupyter.widget-view+json": {
       "model_id": "dbba3a19dd1a46bea145f8261c35ecfe",
       "version_major": 2,
       "version_minor": 0
      },
      "text/plain": [
       "Next tokens...:   0%|          | 0/441 [00:00<?, ?it/s]"
      ]
     },
     "metadata": {},
     "output_type": "display_data"
    },
    {
     "data": {
      "application/vnd.jupyter.widget-view+json": {
       "model_id": "a2019f659c48459a995610018a945fc6",
       "version_major": 2,
       "version_minor": 0
      },
      "text/plain": [
       "Next tokens...:   0%|          | 0/441 [00:00<?, ?it/s]"
      ]
     },
     "metadata": {},
     "output_type": "display_data"
    },
    {
     "data": {
      "application/vnd.jupyter.widget-view+json": {
       "model_id": "d04be767ec724258861f5cf3ad84667f",
       "version_major": 2,
       "version_minor": 0
      },
      "text/plain": [
       "Next tokens...:   0%|          | 0/113 [00:00<?, ?it/s]"
      ]
     },
     "metadata": {},
     "output_type": "display_data"
    },
    {
     "data": {
      "application/vnd.jupyter.widget-view+json": {
       "model_id": "8a4c02b54c87475c94e121c40cd28e0e",
       "version_major": 2,
       "version_minor": 0
      },
      "text/plain": [
       "Next tokens...:   0%|          | 0/113 [00:00<?, ?it/s]"
      ]
     },
     "metadata": {},
     "output_type": "display_data"
    },
    {
     "data": {
      "application/vnd.jupyter.widget-view+json": {
       "model_id": "486f5315d8eb401c9805f0418dff6188",
       "version_major": 2,
       "version_minor": 0
      },
      "text/plain": [
       "Next tokens...:   0%|          | 0/121 [00:00<?, ?it/s]"
      ]
     },
     "metadata": {},
     "output_type": "display_data"
    },
    {
     "data": {
      "application/vnd.jupyter.widget-view+json": {
       "model_id": "79e151c9b835406fa0674a30bf4f0b52",
       "version_major": 2,
       "version_minor": 0
      },
      "text/plain": [
       "Next tokens...:   0%|          | 0/121 [00:00<?, ?it/s]"
      ]
     },
     "metadata": {},
     "output_type": "display_data"
    },
    {
     "data": {
      "application/vnd.jupyter.widget-view+json": {
       "model_id": "8b16e622b6bb4f59a2abd64b2c4ea746",
       "version_major": 2,
       "version_minor": 0
      },
      "text/plain": [
       "Next tokens...:   0%|          | 0/243 [00:00<?, ?it/s]"
      ]
     },
     "metadata": {},
     "output_type": "display_data"
    },
    {
     "data": {
      "application/vnd.jupyter.widget-view+json": {
       "model_id": "edf5e0d373e44538b6fafc7c0ad11152",
       "version_major": 2,
       "version_minor": 0
      },
      "text/plain": [
       "Next tokens...:   0%|          | 0/243 [00:00<?, ?it/s]"
      ]
     },
     "metadata": {},
     "output_type": "display_data"
    },
    {
     "data": {
      "application/vnd.jupyter.widget-view+json": {
       "model_id": "d1e330dcdadd48dda0fee508fea35ee6",
       "version_major": 2,
       "version_minor": 0
      },
      "text/plain": [
       "Next tokens...:   0%|          | 0/72 [00:00<?, ?it/s]"
      ]
     },
     "metadata": {},
     "output_type": "display_data"
    },
    {
     "data": {
      "application/vnd.jupyter.widget-view+json": {
       "model_id": "7269454321254c35947f7b58acb55606",
       "version_major": 2,
       "version_minor": 0
      },
      "text/plain": [
       "Next tokens...:   0%|          | 0/72 [00:00<?, ?it/s]"
      ]
     },
     "metadata": {},
     "output_type": "display_data"
    },
    {
     "data": {
      "application/vnd.jupyter.widget-view+json": {
       "model_id": "815029e8a8c64b26a97e5c8941fd0eec",
       "version_major": 2,
       "version_minor": 0
      },
      "text/plain": [
       "Next tokens...:   0%|          | 0/241 [00:00<?, ?it/s]"
      ]
     },
     "metadata": {},
     "output_type": "display_data"
    },
    {
     "data": {
      "application/vnd.jupyter.widget-view+json": {
       "model_id": "18290af1c1f4418294c667965ec22592",
       "version_major": 2,
       "version_minor": 0
      },
      "text/plain": [
       "Next tokens...:   0%|          | 0/241 [00:00<?, ?it/s]"
      ]
     },
     "metadata": {},
     "output_type": "display_data"
    },
    {
     "data": {
      "application/vnd.jupyter.widget-view+json": {
       "model_id": "9d8d3955bcbc45a1a17e1fa66e5d364e",
       "version_major": 2,
       "version_minor": 0
      },
      "text/plain": [
       "Next tokens...:   0%|          | 0/92 [00:00<?, ?it/s]"
      ]
     },
     "metadata": {},
     "output_type": "display_data"
    },
    {
     "data": {
      "application/vnd.jupyter.widget-view+json": {
       "model_id": "fce5f445a3954a4c927e72e0521f4049",
       "version_major": 2,
       "version_minor": 0
      },
      "text/plain": [
       "Next tokens...:   0%|          | 0/92 [00:00<?, ?it/s]"
      ]
     },
     "metadata": {},
     "output_type": "display_data"
    },
    {
     "data": {
      "application/vnd.jupyter.widget-view+json": {
       "model_id": "8ba1d5908c4840c0954c81c7cf5b0977",
       "version_major": 2,
       "version_minor": 0
      },
      "text/plain": [
       "Next tokens...:   0%|          | 0/110 [00:00<?, ?it/s]"
      ]
     },
     "metadata": {},
     "output_type": "display_data"
    },
    {
     "data": {
      "application/vnd.jupyter.widget-view+json": {
       "model_id": "9afc0631e2894387b9d0ad335f6b90a5",
       "version_major": 2,
       "version_minor": 0
      },
      "text/plain": [
       "Next tokens...:   0%|          | 0/110 [00:00<?, ?it/s]"
      ]
     },
     "metadata": {},
     "output_type": "display_data"
    },
    {
     "data": {
      "application/vnd.jupyter.widget-view+json": {
       "model_id": "1224e3ce2dd24a38b9494537d1391ec2",
       "version_major": 2,
       "version_minor": 0
      },
      "text/plain": [
       "Next tokens...:   0%|          | 0/54 [00:00<?, ?it/s]"
      ]
     },
     "metadata": {},
     "output_type": "display_data"
    },
    {
     "data": {
      "application/vnd.jupyter.widget-view+json": {
       "model_id": "a64fb2576ae04ef593486275be161452",
       "version_major": 2,
       "version_minor": 0
      },
      "text/plain": [
       "Next tokens...:   0%|          | 0/54 [00:00<?, ?it/s]"
      ]
     },
     "metadata": {},
     "output_type": "display_data"
    },
    {
     "data": {
      "application/vnd.jupyter.widget-view+json": {
       "model_id": "ee982873f59c45f39f4768537dd9a03f",
       "version_major": 2,
       "version_minor": 0
      },
      "text/plain": [
       "Next tokens...:   0%|          | 0/138 [00:00<?, ?it/s]"
      ]
     },
     "metadata": {},
     "output_type": "display_data"
    },
    {
     "data": {
      "application/vnd.jupyter.widget-view+json": {
       "model_id": "5929e609154e4263bd2b11de6e2a61d1",
       "version_major": 2,
       "version_minor": 0
      },
      "text/plain": [
       "Next tokens...:   0%|          | 0/138 [00:00<?, ?it/s]"
      ]
     },
     "metadata": {},
     "output_type": "display_data"
    },
    {
     "data": {
      "application/vnd.jupyter.widget-view+json": {
       "model_id": "792adba9021340d58f4ff1ccc933c50a",
       "version_major": 2,
       "version_minor": 0
      },
      "text/plain": [
       "Next tokens...:   0%|          | 0/78 [00:00<?, ?it/s]"
      ]
     },
     "metadata": {},
     "output_type": "display_data"
    },
    {
     "data": {
      "application/vnd.jupyter.widget-view+json": {
       "model_id": "f7eb9fbf385548fd9db114a9e0bae7e2",
       "version_major": 2,
       "version_minor": 0
      },
      "text/plain": [
       "Next tokens...:   0%|          | 0/78 [00:00<?, ?it/s]"
      ]
     },
     "metadata": {},
     "output_type": "display_data"
    },
    {
     "data": {
      "application/vnd.jupyter.widget-view+json": {
       "model_id": "4ca4e17ba59b400dbb52a9639e7a5787",
       "version_major": 2,
       "version_minor": 0
      },
      "text/plain": [
       "Next tokens...:   0%|          | 0/173 [00:00<?, ?it/s]"
      ]
     },
     "metadata": {},
     "output_type": "display_data"
    },
    {
     "data": {
      "application/vnd.jupyter.widget-view+json": {
       "model_id": "e3c5946767bb4e93863dc0dd2db215d1",
       "version_major": 2,
       "version_minor": 0
      },
      "text/plain": [
       "Next tokens...:   0%|          | 0/173 [00:00<?, ?it/s]"
      ]
     },
     "metadata": {},
     "output_type": "display_data"
    },
    {
     "data": {
      "application/vnd.jupyter.widget-view+json": {
       "model_id": "31554058847c4c1ab2d2970922ca98df",
       "version_major": 2,
       "version_minor": 0
      },
      "text/plain": [
       "Next tokens...:   0%|          | 0/92 [00:00<?, ?it/s]"
      ]
     },
     "metadata": {},
     "output_type": "display_data"
    },
    {
     "data": {
      "application/vnd.jupyter.widget-view+json": {
       "model_id": "db583a35fbc14a1eabb8e2740108e809",
       "version_major": 2,
       "version_minor": 0
      },
      "text/plain": [
       "Next tokens...:   0%|          | 0/92 [00:00<?, ?it/s]"
      ]
     },
     "metadata": {},
     "output_type": "display_data"
    },
    {
     "data": {
      "application/vnd.jupyter.widget-view+json": {
       "model_id": "8bd1bd5c07634fd8b0f960665497d561",
       "version_major": 2,
       "version_minor": 0
      },
      "text/plain": [
       "Next tokens...:   0%|          | 0/180 [00:00<?, ?it/s]"
      ]
     },
     "metadata": {},
     "output_type": "display_data"
    },
    {
     "data": {
      "application/vnd.jupyter.widget-view+json": {
       "model_id": "816b5db240794d939c98f2f12f283eb6",
       "version_major": 2,
       "version_minor": 0
      },
      "text/plain": [
       "Next tokens...:   0%|          | 0/180 [00:00<?, ?it/s]"
      ]
     },
     "metadata": {},
     "output_type": "display_data"
    },
    {
     "data": {
      "application/vnd.jupyter.widget-view+json": {
       "model_id": "1a79bc75733c40fca43e620b1ec23051",
       "version_major": 2,
       "version_minor": 0
      },
      "text/plain": [
       "Next tokens...:   0%|          | 0/238 [00:00<?, ?it/s]"
      ]
     },
     "metadata": {},
     "output_type": "display_data"
    },
    {
     "data": {
      "application/vnd.jupyter.widget-view+json": {
       "model_id": "809abbf43a6b44dbb21d04d6134c1a46",
       "version_major": 2,
       "version_minor": 0
      },
      "text/plain": [
       "Next tokens...:   0%|          | 0/238 [00:00<?, ?it/s]"
      ]
     },
     "metadata": {},
     "output_type": "display_data"
    },
    {
     "data": {
      "application/vnd.jupyter.widget-view+json": {
       "model_id": "72121c907585411f931b7e1e4594db4b",
       "version_major": 2,
       "version_minor": 0
      },
      "text/plain": [
       "Next tokens...:   0%|          | 0/635 [00:00<?, ?it/s]"
      ]
     },
     "metadata": {},
     "output_type": "display_data"
    },
    {
     "data": {
      "application/vnd.jupyter.widget-view+json": {
       "model_id": "3b2cdb37a43649bb909caa498061fbe4",
       "version_major": 2,
       "version_minor": 0
      },
      "text/plain": [
       "Next tokens...:   0%|          | 0/635 [00:00<?, ?it/s]"
      ]
     },
     "metadata": {},
     "output_type": "display_data"
    },
    {
     "data": {
      "application/vnd.jupyter.widget-view+json": {
       "model_id": "01a99868c6ce46a3b010b8d3e07c4af6",
       "version_major": 2,
       "version_minor": 0
      },
      "text/plain": [
       "Next tokens...:   0%|          | 0/83 [00:00<?, ?it/s]"
      ]
     },
     "metadata": {},
     "output_type": "display_data"
    },
    {
     "data": {
      "application/vnd.jupyter.widget-view+json": {
       "model_id": "390288be3f8f47e195e8d681cab97da2",
       "version_major": 2,
       "version_minor": 0
      },
      "text/plain": [
       "Next tokens...:   0%|          | 0/83 [00:00<?, ?it/s]"
      ]
     },
     "metadata": {},
     "output_type": "display_data"
    },
    {
     "data": {
      "application/vnd.jupyter.widget-view+json": {
       "model_id": "cc5cc786ce864a32863b4ac3a44e25b2",
       "version_major": 2,
       "version_minor": 0
      },
      "text/plain": [
       "Next tokens...:   0%|          | 0/241 [00:00<?, ?it/s]"
      ]
     },
     "metadata": {},
     "output_type": "display_data"
    },
    {
     "data": {
      "application/vnd.jupyter.widget-view+json": {
       "model_id": "c17bef7c1fe8433d96f64a2bb10aaeb0",
       "version_major": 2,
       "version_minor": 0
      },
      "text/plain": [
       "Next tokens...:   0%|          | 0/241 [00:00<?, ?it/s]"
      ]
     },
     "metadata": {},
     "output_type": "display_data"
    },
    {
     "data": {
      "application/vnd.jupyter.widget-view+json": {
       "model_id": "94a4990cf3ac47f5af7463cafb60a870",
       "version_major": 2,
       "version_minor": 0
      },
      "text/plain": [
       "Next tokens...:   0%|          | 0/371 [00:00<?, ?it/s]"
      ]
     },
     "metadata": {},
     "output_type": "display_data"
    },
    {
     "data": {
      "application/vnd.jupyter.widget-view+json": {
       "model_id": "da0a5f4b036b4e6ba6e3f3063d19b1da",
       "version_major": 2,
       "version_minor": 0
      },
      "text/plain": [
       "Next tokens...:   0%|          | 0/371 [00:00<?, ?it/s]"
      ]
     },
     "metadata": {},
     "output_type": "display_data"
    },
    {
     "data": {
      "application/vnd.jupyter.widget-view+json": {
       "model_id": "cedd412fe0c14d2f9a9f753418c5d772",
       "version_major": 2,
       "version_minor": 0
      },
      "text/plain": [
       "Next tokens...:   0%|          | 0/255 [00:00<?, ?it/s]"
      ]
     },
     "metadata": {},
     "output_type": "display_data"
    },
    {
     "data": {
      "application/vnd.jupyter.widget-view+json": {
       "model_id": "4452da2734d045cbaa3fce0e2042bc17",
       "version_major": 2,
       "version_minor": 0
      },
      "text/plain": [
       "Next tokens...:   0%|          | 0/255 [00:00<?, ?it/s]"
      ]
     },
     "metadata": {},
     "output_type": "display_data"
    },
    {
     "data": {
      "application/vnd.jupyter.widget-view+json": {
       "model_id": "2b45d13ca0664507b23c2ce8f6ed9f37",
       "version_major": 2,
       "version_minor": 0
      },
      "text/plain": [
       "Next tokens...:   0%|          | 0/278 [00:00<?, ?it/s]"
      ]
     },
     "metadata": {},
     "output_type": "display_data"
    },
    {
     "data": {
      "application/vnd.jupyter.widget-view+json": {
       "model_id": "5a0bdb4cc6e346328e233e8974d2fc82",
       "version_major": 2,
       "version_minor": 0
      },
      "text/plain": [
       "Next tokens...:   0%|          | 0/278 [00:00<?, ?it/s]"
      ]
     },
     "metadata": {},
     "output_type": "display_data"
    },
    {
     "data": {
      "application/vnd.jupyter.widget-view+json": {
       "model_id": "de8655be8a1848d7b3eff7b328d7f902",
       "version_major": 2,
       "version_minor": 0
      },
      "text/plain": [
       "Next tokens...:   0%|          | 0/190 [00:00<?, ?it/s]"
      ]
     },
     "metadata": {},
     "output_type": "display_data"
    },
    {
     "data": {
      "application/vnd.jupyter.widget-view+json": {
       "model_id": "dfa3e999c6d24b33a6f27fb1b18973e3",
       "version_major": 2,
       "version_minor": 0
      },
      "text/plain": [
       "Next tokens...:   0%|          | 0/190 [00:00<?, ?it/s]"
      ]
     },
     "metadata": {},
     "output_type": "display_data"
    },
    {
     "data": {
      "application/vnd.jupyter.widget-view+json": {
       "model_id": "dcb93f4fcaec487983c155dae737ec6d",
       "version_major": 2,
       "version_minor": 0
      },
      "text/plain": [
       "Next tokens...:   0%|          | 0/94 [00:00<?, ?it/s]"
      ]
     },
     "metadata": {},
     "output_type": "display_data"
    },
    {
     "data": {
      "application/vnd.jupyter.widget-view+json": {
       "model_id": "65b3580c7f61468a815858d15580cdd1",
       "version_major": 2,
       "version_minor": 0
      },
      "text/plain": [
       "Next tokens...:   0%|          | 0/94 [00:00<?, ?it/s]"
      ]
     },
     "metadata": {},
     "output_type": "display_data"
    },
    {
     "data": {
      "application/vnd.jupyter.widget-view+json": {
       "model_id": "6255eb9b057e470dbe1ac6bc189d2612",
       "version_major": 2,
       "version_minor": 0
      },
      "text/plain": [
       "Next tokens...:   0%|          | 0/364 [00:00<?, ?it/s]"
      ]
     },
     "metadata": {},
     "output_type": "display_data"
    },
    {
     "data": {
      "application/vnd.jupyter.widget-view+json": {
       "model_id": "4da06abd5a7e42c3ae08eda95711ac6b",
       "version_major": 2,
       "version_minor": 0
      },
      "text/plain": [
       "Next tokens...:   0%|          | 0/364 [00:00<?, ?it/s]"
      ]
     },
     "metadata": {},
     "output_type": "display_data"
    },
    {
     "data": {
      "application/vnd.jupyter.widget-view+json": {
       "model_id": "2f3d69665d5042a98d69efa711a31947",
       "version_major": 2,
       "version_minor": 0
      },
      "text/plain": [
       "Next tokens...:   0%|          | 0/202 [00:00<?, ?it/s]"
      ]
     },
     "metadata": {},
     "output_type": "display_data"
    },
    {
     "data": {
      "application/vnd.jupyter.widget-view+json": {
       "model_id": "af54e0be69ce4919a4e8c19f4f33f548",
       "version_major": 2,
       "version_minor": 0
      },
      "text/plain": [
       "Next tokens...:   0%|          | 0/202 [00:00<?, ?it/s]"
      ]
     },
     "metadata": {},
     "output_type": "display_data"
    },
    {
     "data": {
      "application/vnd.jupyter.widget-view+json": {
       "model_id": "737967c982f249ffbf323ac263688751",
       "version_major": 2,
       "version_minor": 0
      },
      "text/plain": [
       "Next tokens...:   0%|          | 0/146 [00:00<?, ?it/s]"
      ]
     },
     "metadata": {},
     "output_type": "display_data"
    },
    {
     "data": {
      "application/vnd.jupyter.widget-view+json": {
       "model_id": "4634892760b74809940f1220d4ca998a",
       "version_major": 2,
       "version_minor": 0
      },
      "text/plain": [
       "Next tokens...:   0%|          | 0/146 [00:00<?, ?it/s]"
      ]
     },
     "metadata": {},
     "output_type": "display_data"
    },
    {
     "data": {
      "application/vnd.jupyter.widget-view+json": {
       "model_id": "42fb8e75d54943bfb968f71f71339876",
       "version_major": 2,
       "version_minor": 0
      },
      "text/plain": [
       "Next tokens...:   0%|          | 0/171 [00:00<?, ?it/s]"
      ]
     },
     "metadata": {},
     "output_type": "display_data"
    },
    {
     "data": {
      "application/vnd.jupyter.widget-view+json": {
       "model_id": "33f4647ebc3f4f39a476b8f57476430f",
       "version_major": 2,
       "version_minor": 0
      },
      "text/plain": [
       "Next tokens...:   0%|          | 0/171 [00:00<?, ?it/s]"
      ]
     },
     "metadata": {},
     "output_type": "display_data"
    },
    {
     "data": {
      "application/vnd.jupyter.widget-view+json": {
       "model_id": "45a1b177b0dc4c499b35c1b26da6f7c7",
       "version_major": 2,
       "version_minor": 0
      },
      "text/plain": [
       "Next tokens...:   0%|          | 0/227 [00:00<?, ?it/s]"
      ]
     },
     "metadata": {},
     "output_type": "display_data"
    },
    {
     "data": {
      "application/vnd.jupyter.widget-view+json": {
       "model_id": "7b7de27833f34799a814594d13997940",
       "version_major": 2,
       "version_minor": 0
      },
      "text/plain": [
       "Next tokens...:   0%|          | 0/227 [00:00<?, ?it/s]"
      ]
     },
     "metadata": {},
     "output_type": "display_data"
    },
    {
     "data": {
      "application/vnd.jupyter.widget-view+json": {
       "model_id": "108f6779cc9742eba13d4c8aeca7904a",
       "version_major": 2,
       "version_minor": 0
      },
      "text/plain": [
       "Next tokens...:   0%|          | 0/287 [00:00<?, ?it/s]"
      ]
     },
     "metadata": {},
     "output_type": "display_data"
    },
    {
     "data": {
      "application/vnd.jupyter.widget-view+json": {
       "model_id": "ffd596c16d6a4b6ca91c8ce397197b4f",
       "version_major": 2,
       "version_minor": 0
      },
      "text/plain": [
       "Next tokens...:   0%|          | 0/287 [00:00<?, ?it/s]"
      ]
     },
     "metadata": {},
     "output_type": "display_data"
    },
    {
     "data": {
      "application/vnd.jupyter.widget-view+json": {
       "model_id": "90459ce0eaca4385aef407d7a3606567",
       "version_major": 2,
       "version_minor": 0
      },
      "text/plain": [
       "Next tokens...:   0%|          | 0/329 [00:00<?, ?it/s]"
      ]
     },
     "metadata": {},
     "output_type": "display_data"
    },
    {
     "data": {
      "application/vnd.jupyter.widget-view+json": {
       "model_id": "b55b1c57a337444b83102d461bf133f6",
       "version_major": 2,
       "version_minor": 0
      },
      "text/plain": [
       "Next tokens...:   0%|          | 0/329 [00:00<?, ?it/s]"
      ]
     },
     "metadata": {},
     "output_type": "display_data"
    },
    {
     "data": {
      "application/vnd.jupyter.widget-view+json": {
       "model_id": "438d3e8f9d7e40a596c10579d58c37d3",
       "version_major": 2,
       "version_minor": 0
      },
      "text/plain": [
       "Next tokens...:   0%|          | 0/317 [00:00<?, ?it/s]"
      ]
     },
     "metadata": {},
     "output_type": "display_data"
    },
    {
     "data": {
      "application/vnd.jupyter.widget-view+json": {
       "model_id": "9ba5d1e550af480d8235d8977788d5f9",
       "version_major": 2,
       "version_minor": 0
      },
      "text/plain": [
       "Next tokens...:   0%|          | 0/317 [00:00<?, ?it/s]"
      ]
     },
     "metadata": {},
     "output_type": "display_data"
    },
    {
     "data": {
      "application/vnd.jupyter.widget-view+json": {
       "model_id": "2931f9631e614b3aaca06bba493909eb",
       "version_major": 2,
       "version_minor": 0
      },
      "text/plain": [
       "Next tokens...:   0%|          | 0/215 [00:00<?, ?it/s]"
      ]
     },
     "metadata": {},
     "output_type": "display_data"
    },
    {
     "data": {
      "application/vnd.jupyter.widget-view+json": {
       "model_id": "02a53d519ce340b28acaad1d06fd69b5",
       "version_major": 2,
       "version_minor": 0
      },
      "text/plain": [
       "Next tokens...:   0%|          | 0/215 [00:00<?, ?it/s]"
      ]
     },
     "metadata": {},
     "output_type": "display_data"
    },
    {
     "data": {
      "application/vnd.jupyter.widget-view+json": {
       "model_id": "f3192a38b795472099a810937ca021f5",
       "version_major": 2,
       "version_minor": 0
      },
      "text/plain": [
       "Next tokens...:   0%|          | 0/288 [00:00<?, ?it/s]"
      ]
     },
     "metadata": {},
     "output_type": "display_data"
    },
    {
     "data": {
      "application/vnd.jupyter.widget-view+json": {
       "model_id": "574f0e9b35654c04b51a836dbf297d6f",
       "version_major": 2,
       "version_minor": 0
      },
      "text/plain": [
       "Next tokens...:   0%|          | 0/288 [00:00<?, ?it/s]"
      ]
     },
     "metadata": {},
     "output_type": "display_data"
    },
    {
     "data": {
      "application/vnd.jupyter.widget-view+json": {
       "model_id": "0bd4000779d5413ab950e817dfb1e07b",
       "version_major": 2,
       "version_minor": 0
      },
      "text/plain": [
       "Next tokens...:   0%|          | 0/172 [00:00<?, ?it/s]"
      ]
     },
     "metadata": {},
     "output_type": "display_data"
    },
    {
     "data": {
      "application/vnd.jupyter.widget-view+json": {
       "model_id": "ee508062ca3246e5ac90cf21c42849af",
       "version_major": 2,
       "version_minor": 0
      },
      "text/plain": [
       "Next tokens...:   0%|          | 0/172 [00:00<?, ?it/s]"
      ]
     },
     "metadata": {},
     "output_type": "display_data"
    },
    {
     "data": {
      "application/vnd.jupyter.widget-view+json": {
       "model_id": "d53603f3d1ad475cb38e22f4785797ba",
       "version_major": 2,
       "version_minor": 0
      },
      "text/plain": [
       "Next tokens...:   0%|          | 0/255 [00:00<?, ?it/s]"
      ]
     },
     "metadata": {},
     "output_type": "display_data"
    },
    {
     "data": {
      "application/vnd.jupyter.widget-view+json": {
       "model_id": "b385a043009240f5b3cc02fca99de0fd",
       "version_major": 2,
       "version_minor": 0
      },
      "text/plain": [
       "Next tokens...:   0%|          | 0/255 [00:00<?, ?it/s]"
      ]
     },
     "metadata": {},
     "output_type": "display_data"
    },
    {
     "data": {
      "application/vnd.jupyter.widget-view+json": {
       "model_id": "f38894edf8184d68b96c6cd8ea610f3d",
       "version_major": 2,
       "version_minor": 0
      },
      "text/plain": [
       "Next tokens...:   0%|          | 0/115 [00:00<?, ?it/s]"
      ]
     },
     "metadata": {},
     "output_type": "display_data"
    },
    {
     "data": {
      "application/vnd.jupyter.widget-view+json": {
       "model_id": "ed0f91ecccb54cf3a523120955b6fc57",
       "version_major": 2,
       "version_minor": 0
      },
      "text/plain": [
       "Next tokens...:   0%|          | 0/115 [00:00<?, ?it/s]"
      ]
     },
     "metadata": {},
     "output_type": "display_data"
    },
    {
     "data": {
      "application/vnd.jupyter.widget-view+json": {
       "model_id": "a1479d600d72492b990591aba9d08985",
       "version_major": 2,
       "version_minor": 0
      },
      "text/plain": [
       "Next tokens...:   0%|          | 0/84 [00:00<?, ?it/s]"
      ]
     },
     "metadata": {},
     "output_type": "display_data"
    },
    {
     "data": {
      "application/vnd.jupyter.widget-view+json": {
       "model_id": "286b3af3b16a4b21a458ebd867a883b0",
       "version_major": 2,
       "version_minor": 0
      },
      "text/plain": [
       "Next tokens...:   0%|          | 0/84 [00:00<?, ?it/s]"
      ]
     },
     "metadata": {},
     "output_type": "display_data"
    },
    {
     "data": {
      "application/vnd.jupyter.widget-view+json": {
       "model_id": "3ee7e0dde90744e29678a88447b9e387",
       "version_major": 2,
       "version_minor": 0
      },
      "text/plain": [
       "Next tokens...:   0%|          | 0/107 [00:00<?, ?it/s]"
      ]
     },
     "metadata": {},
     "output_type": "display_data"
    },
    {
     "data": {
      "application/vnd.jupyter.widget-view+json": {
       "model_id": "5fae11f8376f476eb634f109dafda205",
       "version_major": 2,
       "version_minor": 0
      },
      "text/plain": [
       "Next tokens...:   0%|          | 0/107 [00:00<?, ?it/s]"
      ]
     },
     "metadata": {},
     "output_type": "display_data"
    },
    {
     "data": {
      "application/vnd.jupyter.widget-view+json": {
       "model_id": "681a30b16c2c47e7a80e34dbefcd17b4",
       "version_major": 2,
       "version_minor": 0
      },
      "text/plain": [
       "Next tokens...:   0%|          | 0/236 [00:00<?, ?it/s]"
      ]
     },
     "metadata": {},
     "output_type": "display_data"
    },
    {
     "data": {
      "application/vnd.jupyter.widget-view+json": {
       "model_id": "4c65610559944d28846afb069cc945db",
       "version_major": 2,
       "version_minor": 0
      },
      "text/plain": [
       "Next tokens...:   0%|          | 0/236 [00:00<?, ?it/s]"
      ]
     },
     "metadata": {},
     "output_type": "display_data"
    },
    {
     "data": {
      "application/vnd.jupyter.widget-view+json": {
       "model_id": "4dcea705953d46998528b8e1ec31b45a",
       "version_major": 2,
       "version_minor": 0
      },
      "text/plain": [
       "Next tokens...:   0%|          | 0/81 [00:00<?, ?it/s]"
      ]
     },
     "metadata": {},
     "output_type": "display_data"
    },
    {
     "data": {
      "application/vnd.jupyter.widget-view+json": {
       "model_id": "4a1d8c1720a34bb6a0d9fe5e65e171fd",
       "version_major": 2,
       "version_minor": 0
      },
      "text/plain": [
       "Next tokens...:   0%|          | 0/81 [00:00<?, ?it/s]"
      ]
     },
     "metadata": {},
     "output_type": "display_data"
    },
    {
     "data": {
      "application/vnd.jupyter.widget-view+json": {
       "model_id": "69c2cca50f2840118dd817b3af8d02ea",
       "version_major": 2,
       "version_minor": 0
      },
      "text/plain": [
       "Next tokens...:   0%|          | 0/131 [00:00<?, ?it/s]"
      ]
     },
     "metadata": {},
     "output_type": "display_data"
    },
    {
     "data": {
      "application/vnd.jupyter.widget-view+json": {
       "model_id": "827b8fe95eac4493a6d14aafb5b3d5f4",
       "version_major": 2,
       "version_minor": 0
      },
      "text/plain": [
       "Next tokens...:   0%|          | 0/131 [00:00<?, ?it/s]"
      ]
     },
     "metadata": {},
     "output_type": "display_data"
    },
    {
     "data": {
      "application/vnd.jupyter.widget-view+json": {
       "model_id": "99106d1248564c2fa0c3a6082ac39298",
       "version_major": 2,
       "version_minor": 0
      },
      "text/plain": [
       "Next tokens...:   0%|          | 0/615 [00:00<?, ?it/s]"
      ]
     },
     "metadata": {},
     "output_type": "display_data"
    },
    {
     "data": {
      "application/vnd.jupyter.widget-view+json": {
       "model_id": "d33b5acd22684abf88413bcbdb48c1af",
       "version_major": 2,
       "version_minor": 0
      },
      "text/plain": [
       "Next tokens...:   0%|          | 0/615 [00:00<?, ?it/s]"
      ]
     },
     "metadata": {},
     "output_type": "display_data"
    },
    {
     "data": {
      "application/vnd.jupyter.widget-view+json": {
       "model_id": "9c871c052a354395b5bb38ed09b575e5",
       "version_major": 2,
       "version_minor": 0
      },
      "text/plain": [
       "Next tokens...:   0%|          | 0/254 [00:00<?, ?it/s]"
      ]
     },
     "metadata": {},
     "output_type": "display_data"
    },
    {
     "data": {
      "application/vnd.jupyter.widget-view+json": {
       "model_id": "8a72c5a2e9eb4ddf92a55d5ff1cd6083",
       "version_major": 2,
       "version_minor": 0
      },
      "text/plain": [
       "Next tokens...:   0%|          | 0/254 [00:00<?, ?it/s]"
      ]
     },
     "metadata": {},
     "output_type": "display_data"
    },
    {
     "data": {
      "application/vnd.jupyter.widget-view+json": {
       "model_id": "3cff628081784922805223526afad6fb",
       "version_major": 2,
       "version_minor": 0
      },
      "text/plain": [
       "Next tokens...:   0%|          | 0/389 [00:00<?, ?it/s]"
      ]
     },
     "metadata": {},
     "output_type": "display_data"
    },
    {
     "data": {
      "application/vnd.jupyter.widget-view+json": {
       "model_id": "13888600b5c0470fa478e92fbe1a2c7e",
       "version_major": 2,
       "version_minor": 0
      },
      "text/plain": [
       "Next tokens...:   0%|          | 0/389 [00:00<?, ?it/s]"
      ]
     },
     "metadata": {},
     "output_type": "display_data"
    },
    {
     "data": {
      "application/vnd.jupyter.widget-view+json": {
       "model_id": "08138a877ac34e698228e1ecd635419b",
       "version_major": 2,
       "version_minor": 0
      },
      "text/plain": [
       "Next tokens...:   0%|          | 0/206 [00:00<?, ?it/s]"
      ]
     },
     "metadata": {},
     "output_type": "display_data"
    },
    {
     "data": {
      "application/vnd.jupyter.widget-view+json": {
       "model_id": "d7ed3a900f2f46299d597df274886bd6",
       "version_major": 2,
       "version_minor": 0
      },
      "text/plain": [
       "Next tokens...:   0%|          | 0/206 [00:00<?, ?it/s]"
      ]
     },
     "metadata": {},
     "output_type": "display_data"
    },
    {
     "data": {
      "application/vnd.jupyter.widget-view+json": {
       "model_id": "232b57d8ce844b4bbd0ac301c0c3f22e",
       "version_major": 2,
       "version_minor": 0
      },
      "text/plain": [
       "Next tokens...:   0%|          | 0/206 [00:00<?, ?it/s]"
      ]
     },
     "metadata": {},
     "output_type": "display_data"
    },
    {
     "data": {
      "application/vnd.jupyter.widget-view+json": {
       "model_id": "461df80db63f4ac482919df6d9a8f51d",
       "version_major": 2,
       "version_minor": 0
      },
      "text/plain": [
       "Next tokens...:   0%|          | 0/206 [00:00<?, ?it/s]"
      ]
     },
     "metadata": {},
     "output_type": "display_data"
    },
    {
     "data": {
      "application/vnd.jupyter.widget-view+json": {
       "model_id": "ec3aa1e08d484604a0085ed6d60b044e",
       "version_major": 2,
       "version_minor": 0
      },
      "text/plain": [
       "Next tokens...:   0%|          | 0/98 [00:00<?, ?it/s]"
      ]
     },
     "metadata": {},
     "output_type": "display_data"
    },
    {
     "data": {
      "application/vnd.jupyter.widget-view+json": {
       "model_id": "27f5c149bbf54b3a82a4c61b6a667fc4",
       "version_major": 2,
       "version_minor": 0
      },
      "text/plain": [
       "Next tokens...:   0%|          | 0/98 [00:00<?, ?it/s]"
      ]
     },
     "metadata": {},
     "output_type": "display_data"
    },
    {
     "data": {
      "application/vnd.jupyter.widget-view+json": {
       "model_id": "eb925379e863427da2eedeb7fbfbae92",
       "version_major": 2,
       "version_minor": 0
      },
      "text/plain": [
       "Next tokens...:   0%|          | 0/99 [00:00<?, ?it/s]"
      ]
     },
     "metadata": {},
     "output_type": "display_data"
    },
    {
     "data": {
      "application/vnd.jupyter.widget-view+json": {
       "model_id": "cf058dcae00842c594d4aca29af7ce2b",
       "version_major": 2,
       "version_minor": 0
      },
      "text/plain": [
       "Next tokens...:   0%|          | 0/99 [00:00<?, ?it/s]"
      ]
     },
     "metadata": {},
     "output_type": "display_data"
    },
    {
     "data": {
      "application/vnd.jupyter.widget-view+json": {
       "model_id": "39d4effe64dc48ea81bae6188969cfca",
       "version_major": 2,
       "version_minor": 0
      },
      "text/plain": [
       "Next tokens...:   0%|          | 0/193 [00:00<?, ?it/s]"
      ]
     },
     "metadata": {},
     "output_type": "display_data"
    },
    {
     "data": {
      "application/vnd.jupyter.widget-view+json": {
       "model_id": "7ec201941c0647c29b1657ce3dc3e1db",
       "version_major": 2,
       "version_minor": 0
      },
      "text/plain": [
       "Next tokens...:   0%|          | 0/193 [00:00<?, ?it/s]"
      ]
     },
     "metadata": {},
     "output_type": "display_data"
    },
    {
     "data": {
      "application/vnd.jupyter.widget-view+json": {
       "model_id": "6e706ae51e1f4afaa7b3e0228040627a",
       "version_major": 2,
       "version_minor": 0
      },
      "text/plain": [
       "Next tokens...:   0%|          | 0/135 [00:00<?, ?it/s]"
      ]
     },
     "metadata": {},
     "output_type": "display_data"
    },
    {
     "data": {
      "application/vnd.jupyter.widget-view+json": {
       "model_id": "c9e0664858d1461298fd0e2666c353eb",
       "version_major": 2,
       "version_minor": 0
      },
      "text/plain": [
       "Next tokens...:   0%|          | 0/135 [00:00<?, ?it/s]"
      ]
     },
     "metadata": {},
     "output_type": "display_data"
    },
    {
     "data": {
      "application/vnd.jupyter.widget-view+json": {
       "model_id": "3760c13bed824cb7a96765af5bdec79e",
       "version_major": 2,
       "version_minor": 0
      },
      "text/plain": [
       "Next tokens...:   0%|          | 0/190 [00:00<?, ?it/s]"
      ]
     },
     "metadata": {},
     "output_type": "display_data"
    },
    {
     "data": {
      "application/vnd.jupyter.widget-view+json": {
       "model_id": "7f6001d5510b407cba52297e4610e13f",
       "version_major": 2,
       "version_minor": 0
      },
      "text/plain": [
       "Next tokens...:   0%|          | 0/190 [00:00<?, ?it/s]"
      ]
     },
     "metadata": {},
     "output_type": "display_data"
    },
    {
     "data": {
      "application/vnd.jupyter.widget-view+json": {
       "model_id": "ea0007622210422f872f63586685836f",
       "version_major": 2,
       "version_minor": 0
      },
      "text/plain": [
       "Next tokens...:   0%|          | 0/145 [00:00<?, ?it/s]"
      ]
     },
     "metadata": {},
     "output_type": "display_data"
    },
    {
     "data": {
      "application/vnd.jupyter.widget-view+json": {
       "model_id": "44e067d513e041cfb7ae4a447281f4a1",
       "version_major": 2,
       "version_minor": 0
      },
      "text/plain": [
       "Next tokens...:   0%|          | 0/145 [00:00<?, ?it/s]"
      ]
     },
     "metadata": {},
     "output_type": "display_data"
    },
    {
     "data": {
      "application/vnd.jupyter.widget-view+json": {
       "model_id": "f5c531db759c4de48633448e1558be9a",
       "version_major": 2,
       "version_minor": 0
      },
      "text/plain": [
       "Next tokens...:   0%|          | 0/99 [00:00<?, ?it/s]"
      ]
     },
     "metadata": {},
     "output_type": "display_data"
    },
    {
     "data": {
      "application/vnd.jupyter.widget-view+json": {
       "model_id": "4a83380146fb477ba044c4ea3e77feaf",
       "version_major": 2,
       "version_minor": 0
      },
      "text/plain": [
       "Next tokens...:   0%|          | 0/99 [00:00<?, ?it/s]"
      ]
     },
     "metadata": {},
     "output_type": "display_data"
    },
    {
     "data": {
      "application/vnd.jupyter.widget-view+json": {
       "model_id": "12f258815c0444a18780322125748ffa",
       "version_major": 2,
       "version_minor": 0
      },
      "text/plain": [
       "Next tokens...:   0%|          | 0/108 [00:00<?, ?it/s]"
      ]
     },
     "metadata": {},
     "output_type": "display_data"
    },
    {
     "data": {
      "application/vnd.jupyter.widget-view+json": {
       "model_id": "fdf433606f1e4e9d926fff5567373ba9",
       "version_major": 2,
       "version_minor": 0
      },
      "text/plain": [
       "Next tokens...:   0%|          | 0/108 [00:00<?, ?it/s]"
      ]
     },
     "metadata": {},
     "output_type": "display_data"
    },
    {
     "data": {
      "application/vnd.jupyter.widget-view+json": {
       "model_id": "b7d3a78cd17c4ea880c44a3f46d67f10",
       "version_major": 2,
       "version_minor": 0
      },
      "text/plain": [
       "Next tokens...:   0%|          | 0/463 [00:00<?, ?it/s]"
      ]
     },
     "metadata": {},
     "output_type": "display_data"
    },
    {
     "data": {
      "application/vnd.jupyter.widget-view+json": {
       "model_id": "4db3146b55b04fa3bcc79853fb91b643",
       "version_major": 2,
       "version_minor": 0
      },
      "text/plain": [
       "Next tokens...:   0%|          | 0/463 [00:00<?, ?it/s]"
      ]
     },
     "metadata": {},
     "output_type": "display_data"
    },
    {
     "data": {
      "application/vnd.jupyter.widget-view+json": {
       "model_id": "94f16eebb4f34953bfac1ca07e464593",
       "version_major": 2,
       "version_minor": 0
      },
      "text/plain": [
       "Next tokens...:   0%|          | 0/40 [00:00<?, ?it/s]"
      ]
     },
     "metadata": {},
     "output_type": "display_data"
    },
    {
     "data": {
      "application/vnd.jupyter.widget-view+json": {
       "model_id": "00d0b5a25a144b0a802885a64d0ac53a",
       "version_major": 2,
       "version_minor": 0
      },
      "text/plain": [
       "Next tokens...:   0%|          | 0/40 [00:00<?, ?it/s]"
      ]
     },
     "metadata": {},
     "output_type": "display_data"
    },
    {
     "data": {
      "application/vnd.jupyter.widget-view+json": {
       "model_id": "e9ae5a1c6afd4c959eb2676715b7764f",
       "version_major": 2,
       "version_minor": 0
      },
      "text/plain": [
       "Next tokens...:   0%|          | 0/115 [00:00<?, ?it/s]"
      ]
     },
     "metadata": {},
     "output_type": "display_data"
    },
    {
     "data": {
      "application/vnd.jupyter.widget-view+json": {
       "model_id": "d0524e4be70a495e98073f6c4d08dc97",
       "version_major": 2,
       "version_minor": 0
      },
      "text/plain": [
       "Next tokens...:   0%|          | 0/115 [00:00<?, ?it/s]"
      ]
     },
     "metadata": {},
     "output_type": "display_data"
    },
    {
     "data": {
      "application/vnd.jupyter.widget-view+json": {
       "model_id": "aef35f305f1c4fff96889e87378f095a",
       "version_major": 2,
       "version_minor": 0
      },
      "text/plain": [
       "Next tokens...:   0%|          | 0/44 [00:00<?, ?it/s]"
      ]
     },
     "metadata": {},
     "output_type": "display_data"
    },
    {
     "data": {
      "application/vnd.jupyter.widget-view+json": {
       "model_id": "308232b0bfeb4a7ab10d61ab000723a5",
       "version_major": 2,
       "version_minor": 0
      },
      "text/plain": [
       "Next tokens...:   0%|          | 0/44 [00:00<?, ?it/s]"
      ]
     },
     "metadata": {},
     "output_type": "display_data"
    },
    {
     "data": {
      "application/vnd.jupyter.widget-view+json": {
       "model_id": "4265cf133fe04bd2a04e6d91037bb83c",
       "version_major": 2,
       "version_minor": 0
      },
      "text/plain": [
       "Next tokens...:   0%|          | 0/144 [00:00<?, ?it/s]"
      ]
     },
     "metadata": {},
     "output_type": "display_data"
    },
    {
     "data": {
      "application/vnd.jupyter.widget-view+json": {
       "model_id": "8ae8909627c640098dc1c26eedc543eb",
       "version_major": 2,
       "version_minor": 0
      },
      "text/plain": [
       "Next tokens...:   0%|          | 0/144 [00:00<?, ?it/s]"
      ]
     },
     "metadata": {},
     "output_type": "display_data"
    },
    {
     "data": {
      "application/vnd.jupyter.widget-view+json": {
       "model_id": "5caf5a61775141939b1a63f9046bf436",
       "version_major": 2,
       "version_minor": 0
      },
      "text/plain": [
       "Next tokens...:   0%|          | 0/204 [00:00<?, ?it/s]"
      ]
     },
     "metadata": {},
     "output_type": "display_data"
    },
    {
     "data": {
      "application/vnd.jupyter.widget-view+json": {
       "model_id": "528dc8c0043e41f395fdab6e99e00174",
       "version_major": 2,
       "version_minor": 0
      },
      "text/plain": [
       "Next tokens...:   0%|          | 0/204 [00:00<?, ?it/s]"
      ]
     },
     "metadata": {},
     "output_type": "display_data"
    },
    {
     "data": {
      "application/vnd.jupyter.widget-view+json": {
       "model_id": "d6897a0e4c644450bfecf4ada034f2bc",
       "version_major": 2,
       "version_minor": 0
      },
      "text/plain": [
       "Next tokens...:   0%|          | 0/266 [00:00<?, ?it/s]"
      ]
     },
     "metadata": {},
     "output_type": "display_data"
    },
    {
     "data": {
      "application/vnd.jupyter.widget-view+json": {
       "model_id": "7108cdd9292649858914cd10b640018c",
       "version_major": 2,
       "version_minor": 0
      },
      "text/plain": [
       "Next tokens...:   0%|          | 0/266 [00:00<?, ?it/s]"
      ]
     },
     "metadata": {},
     "output_type": "display_data"
    },
    {
     "data": {
      "application/vnd.jupyter.widget-view+json": {
       "model_id": "247bfe48b2d645dc85f5975b47ab0cae",
       "version_major": 2,
       "version_minor": 0
      },
      "text/plain": [
       "Next tokens...:   0%|          | 0/169 [00:00<?, ?it/s]"
      ]
     },
     "metadata": {},
     "output_type": "display_data"
    },
    {
     "data": {
      "application/vnd.jupyter.widget-view+json": {
       "model_id": "a4937b5eb24842bcb78f789210c384ce",
       "version_major": 2,
       "version_minor": 0
      },
      "text/plain": [
       "Next tokens...:   0%|          | 0/169 [00:00<?, ?it/s]"
      ]
     },
     "metadata": {},
     "output_type": "display_data"
    },
    {
     "data": {
      "application/vnd.jupyter.widget-view+json": {
       "model_id": "5fe63e23638d4b5091ebc04b63b47f8c",
       "version_major": 2,
       "version_minor": 0
      },
      "text/plain": [
       "Next tokens...:   0%|          | 0/220 [00:00<?, ?it/s]"
      ]
     },
     "metadata": {},
     "output_type": "display_data"
    },
    {
     "data": {
      "application/vnd.jupyter.widget-view+json": {
       "model_id": "f2d49899edb44153b8d9ca2b561435ef",
       "version_major": 2,
       "version_minor": 0
      },
      "text/plain": [
       "Next tokens...:   0%|          | 0/220 [00:00<?, ?it/s]"
      ]
     },
     "metadata": {},
     "output_type": "display_data"
    },
    {
     "data": {
      "application/vnd.jupyter.widget-view+json": {
       "model_id": "0093eeeab7974bc09d071eee5b69d227",
       "version_major": 2,
       "version_minor": 0
      },
      "text/plain": [
       "Next tokens...:   0%|          | 0/271 [00:00<?, ?it/s]"
      ]
     },
     "metadata": {},
     "output_type": "display_data"
    },
    {
     "data": {
      "application/vnd.jupyter.widget-view+json": {
       "model_id": "84dd7a8d3e394ca59a12ac07c9a3fe50",
       "version_major": 2,
       "version_minor": 0
      },
      "text/plain": [
       "Next tokens...:   0%|          | 0/271 [00:00<?, ?it/s]"
      ]
     },
     "metadata": {},
     "output_type": "display_data"
    },
    {
     "data": {
      "application/vnd.jupyter.widget-view+json": {
       "model_id": "07dd0e0b44934819bed339d9282acb84",
       "version_major": 2,
       "version_minor": 0
      },
      "text/plain": [
       "Next tokens...:   0%|          | 0/301 [00:00<?, ?it/s]"
      ]
     },
     "metadata": {},
     "output_type": "display_data"
    },
    {
     "data": {
      "application/vnd.jupyter.widget-view+json": {
       "model_id": "25bc43cf14fe467d811b193089547626",
       "version_major": 2,
       "version_minor": 0
      },
      "text/plain": [
       "Next tokens...:   0%|          | 0/301 [00:00<?, ?it/s]"
      ]
     },
     "metadata": {},
     "output_type": "display_data"
    },
    {
     "data": {
      "application/vnd.jupyter.widget-view+json": {
       "model_id": "6968f1d3b1224a4eb51700cd625fa193",
       "version_major": 2,
       "version_minor": 0
      },
      "text/plain": [
       "Next tokens...:   0%|          | 0/354 [00:00<?, ?it/s]"
      ]
     },
     "metadata": {},
     "output_type": "display_data"
    },
    {
     "data": {
      "application/vnd.jupyter.widget-view+json": {
       "model_id": "8d1022da6ee64526bf7b4d3ac4884807",
       "version_major": 2,
       "version_minor": 0
      },
      "text/plain": [
       "Next tokens...:   0%|          | 0/354 [00:00<?, ?it/s]"
      ]
     },
     "metadata": {},
     "output_type": "display_data"
    },
    {
     "data": {
      "application/vnd.jupyter.widget-view+json": {
       "model_id": "90fce9b54add49b089721440930bed5f",
       "version_major": 2,
       "version_minor": 0
      },
      "text/plain": [
       "Next tokens...:   0%|          | 0/138 [00:00<?, ?it/s]"
      ]
     },
     "metadata": {},
     "output_type": "display_data"
    },
    {
     "data": {
      "application/vnd.jupyter.widget-view+json": {
       "model_id": "05eef44704814ec2a7d4db7be617cd44",
       "version_major": 2,
       "version_minor": 0
      },
      "text/plain": [
       "Next tokens...:   0%|          | 0/138 [00:00<?, ?it/s]"
      ]
     },
     "metadata": {},
     "output_type": "display_data"
    },
    {
     "data": {
      "application/vnd.jupyter.widget-view+json": {
       "model_id": "b23dcf850bd94118b72f780e08cfcf8d",
       "version_major": 2,
       "version_minor": 0
      },
      "text/plain": [
       "Next tokens...:   0%|          | 0/148 [00:00<?, ?it/s]"
      ]
     },
     "metadata": {},
     "output_type": "display_data"
    },
    {
     "data": {
      "application/vnd.jupyter.widget-view+json": {
       "model_id": "ebd9bb6daa534fdea4d47b208bb872ee",
       "version_major": 2,
       "version_minor": 0
      },
      "text/plain": [
       "Next tokens...:   0%|          | 0/148 [00:00<?, ?it/s]"
      ]
     },
     "metadata": {},
     "output_type": "display_data"
    }
   ],
   "source": [
    "res_model = []\n",
    "res_peft_model = []\n",
    "for _, row in tqdm(mcs_test_df.iterrows(), total=len(mcs_test_df), desc=\"Rows...\"):\n",
    "    diploma = row[\"diploma\"]\n",
    "    abstract = row[\"abstract\"]\n",
    "    prefix = PROMPT_DIPLOMA_SPECIAL_PREFIX.format(input=diploma[:1000])\n",
    "    desired_continue = PROMPT_DIPLOMA_SPECIAL_CONTINUE.format(response=abstract, eos_token=tokenizer.eos_token)\n",
    "    res_model.append(get_loglikelihood(prefix, desired_continue, model))\n",
    "    res_peft_model.append(get_loglikelihood(prefix, desired_continue, peft_model))"
   ]
  },
  {
   "cell_type": "code",
   "execution_count": 86,
   "id": "ccedc74c-16a2-46cf-a95e-6d6be3a90a2c",
   "metadata": {
    "execution": {
     "iopub.execute_input": "2024-05-14T01:47:25.699751Z",
     "iopub.status.busy": "2024-05-14T01:47:25.699372Z",
     "iopub.status.idle": "2024-05-14T01:47:25.715485Z",
     "shell.execute_reply": "2024-05-14T01:47:25.714689Z",
     "shell.execute_reply.started": "2024-05-14T01:47:25.699732Z"
    },
    "tags": []
   },
   "outputs": [
    {
     "data": {
      "text/plain": [
       "False"
      ]
     },
     "execution_count": 86,
     "metadata": {},
     "output_type": "execute_result"
    }
   ],
   "source": [
    "(np.array(res_model) == 0).any()"
   ]
  },
  {
   "cell_type": "code",
   "execution_count": 87,
   "id": "fa1a3796-62d1-4720-b03a-8d3cea206a0e",
   "metadata": {
    "execution": {
     "iopub.execute_input": "2024-05-14T01:47:33.326065Z",
     "iopub.status.busy": "2024-05-14T01:47:33.325687Z",
     "iopub.status.idle": "2024-05-14T01:47:33.347098Z",
     "shell.execute_reply": "2024-05-14T01:47:33.345893Z",
     "shell.execute_reply.started": "2024-05-14T01:47:33.326046Z"
    }
   },
   "outputs": [
    {
     "data": {
      "text/plain": [
       "False"
      ]
     },
     "execution_count": 87,
     "metadata": {},
     "output_type": "execute_result"
    }
   ],
   "source": [
    "(np.array(res_peft_model) == 0).any()"
   ]
  },
  {
   "cell_type": "code",
   "execution_count": 89,
   "id": "2b09ac72-b017-401b-959f-22be5e6bcf56",
   "metadata": {
    "execution": {
     "iopub.execute_input": "2024-05-14T01:48:16.982388Z",
     "iopub.status.busy": "2024-05-14T01:48:16.981880Z",
     "iopub.status.idle": "2024-05-14T01:48:17.065129Z",
     "shell.execute_reply": "2024-05-14T01:48:17.064567Z",
     "shell.execute_reply.started": "2024-05-14T01:48:16.982367Z"
    },
    "tags": []
   },
   "outputs": [
    {
     "data": {
      "image/png": "[encoded data removed]",
      "text/plain": [
       "<Figure size 432x288 with 1 Axes>"
      ]
     },
     "metadata": {
      "needs_background": "light"
     },
     "output_type": "display_data"
    }
   ],
   "source": [
    "import matplotlib.pyplot as plt\n",
    "\n",
    "\n",
    "plt.boxplot([res_model, res_peft_model], labels=[\"model\", \"peft_model\"])\n",
    "plt.show()"
   ]
  },
  {
   "cell_type": "code",
   "execution_count": 88,
   "id": "9ae48e54-6cd9-4918-bd29-9f8130b219ca",
   "metadata": {
    "execution": {
     "iopub.execute_input": "2024-05-14T01:47:52.771534Z",
     "iopub.status.busy": "2024-05-14T01:47:52.771106Z",
     "iopub.status.idle": "2024-05-14T01:47:52.787566Z",
     "shell.execute_reply": "2024-05-14T01:47:52.787059Z",
     "shell.execute_reply.started": "2024-05-14T01:47:52.771515Z"
    }
   },
   "outputs": [
    {
     "data": {
      "text/plain": [
       "(-319.70116870198876, -293.63291209164737)"
      ]
     },
     "execution_count": 88,
     "metadata": {},
     "output_type": "execute_result"
    }
   ],
   "source": [
    "np.mean(res_model), np.mean(res_peft_model)"
   ]
  },
  {
   "cell_type": "code",
   "execution_count": 91,
   "id": "55acdb07-62e5-4b6a-8057-60e4915dfb01",
   "metadata": {
    "execution": {
     "iopub.execute_input": "2024-05-14T01:49:45.740631Z",
     "iopub.status.busy": "2024-05-14T01:49:45.740222Z",
     "iopub.status.idle": "2024-05-14T01:49:45.758415Z",
     "shell.execute_reply": "2024-05-14T01:49:45.757872Z",
     "shell.execute_reply.started": "2024-05-14T01:49:45.740611Z"
    },
    "tags": []
   },
   "outputs": [],
   "source": [
    "import json\n",
    "\n",
    "\n",
    "res = {\n",
    "    \"model\": res_model,\n",
    "    \"peft_model\": res_peft_model,\n",
    "}\n",
    "with open(\"mcs_result_baseline_vs_v1.json\", \"w\") as f:\n",
    "    json.dump(res, f, ensure_ascii=False, indent=2)"
   ]
  },
  {
   "cell_type": "code",
   "execution_count": null,
   "id": "c239f17f-d57c-4033-a48b-527b555923cc",
   "metadata": {},
   "outputs": [],
   "source": []
  }
 ],
 "metadata": {
  "kernelspec": {
   "display_name": "DataSphere Kernel",
   "language": "python",
   "name": "python3"
  },
  "language_info": {
   "codemirror_mode": {
    "name": "ipython",
    "version": 3
   },
   "file_extension": ".py",
   "mimetype": "text/x-python",
   "name": "python",
   "nbconvert_exporter": "python",
   "pygments_lexer": "ipython3",
   "version": "3.10.12"
  }
 },
 "nbformat": 4,
 "nbformat_minor": 5
}
